{
  "cells": [
    {
      "cell_type": "code",
      "execution_count": 1,
      "metadata": {
        "colab": {
          "base_uri": "https://localhost:8080/"
        },
        "id": "xpYVPHnrF2Z2",
        "outputId": "5896934a-e5fd-4c6d-a534-42d25a619501"
      },
      "outputs": [
        {
          "output_type": "stream",
          "name": "stdout",
          "text": [
            "2.12.0\n"
          ]
        }
      ],
      "source": [
        "import tensorflow as tf\n",
        "print(tf.__version__)"
      ]
    },
    {
      "cell_type": "code",
      "execution_count": 2,
      "metadata": {
        "colab": {
          "base_uri": "https://localhost:8080/"
        },
        "id": "O4hKrNSvF23y",
        "outputId": "accab7be-5826-40b8-86b7-edfed897faa5"
      },
      "outputs": [
        {
          "output_type": "stream",
          "name": "stdout",
          "text": [
            "Mounted at /content/drive\n"
          ]
        }
      ],
      "source": [
        "from google.colab import drive\n",
        "drive.mount('/content/drive')"
      ]
    },
    {
      "cell_type": "code",
      "execution_count": 3,
      "metadata": {
        "colab": {
          "base_uri": "https://localhost:8080/"
        },
        "id": "RmTeqCG9F6V4",
        "outputId": "7194c78b-a04b-49fd-cff7-5f2251b292b8"
      },
      "outputs": [
        {
          "output_type": "stream",
          "name": "stdout",
          "text": [
            "Looking in indexes: https://pypi.org/simple, https://us-python.pkg.dev/colab-wheels/public/simple/\n",
            "Collecting tensorflow-addons\n",
            "  Downloading tensorflow_addons-0.20.0-cp310-cp310-manylinux_2_17_x86_64.manylinux2014_x86_64.whl (591 kB)\n",
            "\u001b[2K     \u001b[90m━━━━━━━━━━━━━━━━━━━━━━━━━━━━━━━━━━━━━━\u001b[0m \u001b[32m591.0/591.0 kB\u001b[0m \u001b[31m40.0 MB/s\u001b[0m eta \u001b[36m0:00:00\u001b[0m\n",
            "\u001b[?25hRequirement already satisfied: packaging in /usr/local/lib/python3.10/dist-packages (from tensorflow-addons) (23.1)\n",
            "Collecting typeguard<3.0.0,>=2.7 (from tensorflow-addons)\n",
            "  Downloading typeguard-2.13.3-py3-none-any.whl (17 kB)\n",
            "Installing collected packages: typeguard, tensorflow-addons\n",
            "Successfully installed tensorflow-addons-0.20.0 typeguard-2.13.3\n"
          ]
        }
      ],
      "source": [
        "pip install tensorflow-addons"
      ]
    },
    {
      "cell_type": "code",
      "execution_count": 4,
      "metadata": {
        "id": "UgD0aR8SHPHT"
      },
      "outputs": [],
      "source": [
        "save_path = '/content/drive/MyDrive/'\n",
        "save_path1 = '/content/drive/MyDrive/'"
      ]
    },
    {
      "cell_type": "code",
      "execution_count": 5,
      "metadata": {
        "colab": {
          "base_uri": "https://localhost:8080/"
        },
        "id": "W22hw1WAF650",
        "outputId": "fef162bd-ee7f-44a4-b7b1-c687d3a715c0"
      },
      "outputs": [
        {
          "output_type": "stream",
          "name": "stderr",
          "text": [
            "/usr/local/lib/python3.10/dist-packages/tensorflow_addons/utils/tfa_eol_msg.py:23: UserWarning: \n",
            "\n",
            "TensorFlow Addons (TFA) has ended development and introduction of new features.\n",
            "TFA has entered a minimal maintenance and release mode until a planned end of life in May 2024.\n",
            "Please modify downstream libraries to take dependencies from other repositories in our TensorFlow community (e.g. Keras, Keras-CV, and Keras-NLP). \n",
            "\n",
            "For more information see: https://github.com/tensorflow/addons/issues/2807 \n",
            "\n",
            "  warnings.warn(\n"
          ]
        }
      ],
      "source": [
        "from tensorflow.keras.layers import *\n",
        "from tensorflow.keras.models import *\n",
        "import tensorflow_datasets as tfds\n",
        "import matplotlib.pyplot as plt\n",
        "import numpy as np\n",
        "import time\n",
        "import cv2\n",
        "from tqdm.notebook import tqdm\n",
        "from zipfile import ZipFile\n",
        "from imutils import paths\n",
        "tf.random.set_seed(666)\n",
        "np.random.seed(666)\n",
        "\n",
        "tfds.disable_progress_bar()\n",
        "import tensorflow as tf\n",
        "import tensorflow_addons as tfa\n",
        "import numpy as np\n",
        "from tensorflow import keras\n",
        "from tensorflow.keras import layers"
      ]
    },
    {
      "cell_type": "code",
      "execution_count": 6,
      "metadata": {
        "id": "w-S0jnxsFqfV"
      },
      "outputs": [],
      "source": [
        "import tensorflow as tf\n",
        "#import tensorflow_addons as tfa\n",
        "import pandas as pd\n",
        "import numpy as np\n",
        "import matplotlib.pyplot as plt\n",
        "import seaborn as sns\n",
        "%matplotlib inline\n",
        "import os\n",
        "import glob\n",
        "import shutil\n",
        "import pathlib\n",
        "import random\n",
        "\n",
        "#model selection\n",
        "from sklearn.model_selection import train_test_split\n",
        "\n",
        "#data augumentation\n",
        "import  cv2\n",
        "import imgaug\n",
        "import imageio\n",
        "from imgaug import augmenters as iaa\n",
        "\n",
        "##\n",
        "from keras.preprocessing.image import ImageDataGenerator\n",
        "from sklearn.metrics import accuracy_score, confusion_matrix, classification_report\n",
        "\n",
        "from keras.applications import vgg16\n",
        "from keras.layers import Dense, GlobalMaxPool2D, BatchNormalization, Dropout\n",
        "from keras.models import Model, Sequential\n",
        "from keras.optimizers import Adam\n",
        "\n",
        "from keras.callbacks import ModelCheckpoint\n",
        "from keras.callbacks import ReduceLROnPlateau\n",
        "from keras.callbacks import EarlyStopping\n",
        "\n",
        "from tensorflow.keras import layers"
      ]
    },
    {
      "cell_type": "code",
      "execution_count": 7,
      "metadata": {
        "id": "DiGw53eZFqfW"
      },
      "outputs": [],
      "source": [
        "from tensorflow.keras.layers import *\n",
        "from tensorflow.keras.models import *\n",
        "import tensorflow_datasets as tfds\n",
        "import matplotlib.pyplot as plt\n",
        "import numpy as np\n",
        "import time\n",
        "import cv2\n",
        "from tqdm.notebook import tqdm\n",
        "from zipfile import ZipFile\n",
        "from imutils import paths\n",
        "tf.random.set_seed(666)\n",
        "np.random.seed(666)\n",
        "\n",
        "tfds.disable_progress_bar()\n",
        "import tensorflow as tf\n",
        "import tensorflow_addons as tfa\n",
        "import numpy as np\n",
        "from tensorflow import keras\n",
        "from tensorflow.keras import layers\n",
        "from tensorflow.keras.layers import *\n",
        "from tensorflow.keras.models import *\n",
        "import tensorflow_datasets as tfds\n",
        "import matplotlib.pyplot as plt\n",
        "import numpy as np\n",
        "import time\n",
        "import cv2\n",
        "from tqdm.notebook import tqdm\n",
        "from zipfile import ZipFile\n",
        "from imutils import paths\n",
        "tf.random.set_seed(666)\n",
        "np.random.seed(666)\n",
        "\n",
        "tfds.disable_progress_bar()\n",
        "import tensorflow as tf\n",
        "import tensorflow_addons as tfa\n",
        "import numpy as np\n",
        "from tensorflow import keras\n",
        "from tensorflow.keras import layers"
      ]
    },
    {
      "cell_type": "code",
      "execution_count": 9,
      "metadata": {
        "id": "EvaeK3xyDfHq",
        "colab": {
          "base_uri": "https://localhost:8080/"
        },
        "outputId": "f9ee259a-017b-4dc0-c201-3d9eed8c416c"
      },
      "outputs": [
        {
          "output_type": "stream",
          "name": "stdout",
          "text": [
            "Archive:  /content/drive/MyDrive/NewDataset.zip\n",
            "  inflating: NewData/TestLabels.npy  \n",
            "  inflating: NewData/ValLabels.npy   \n",
            "  inflating: NewData/TrainLabels.npy  \n",
            "  inflating: NewData/ValData.npy     \n",
            "  inflating: NewData/TestData.npy    \n",
            "  inflating: NewData/TrainData.npy   \n"
          ]
        }
      ],
      "source": [
        "!unzip /content/drive/MyDrive/NewDataset.zip"
      ]
    },
    {
      "cell_type": "code",
      "execution_count": 10,
      "metadata": {
        "colab": {
          "base_uri": "https://localhost:8080/"
        },
        "id": "A_QkjxyxbF1S",
        "outputId": "b32d2776-4144-47d7-89a7-e39643042069"
      },
      "outputs": [
        {
          "output_type": "stream",
          "name": "stdout",
          "text": [
            "x_train shape: (18123, 110, 110, 3) - y_train shape: (18123,)\n",
            "x_val shape: (648, 110, 110, 3) - y_val shape: (648,)\n",
            "x_test shape: (812, 110, 110, 3) - y_test shape: (812,)\n"
          ]
        }
      ],
      "source": [
        "#Run from here\n",
        "import os\n",
        "x_train = []\n",
        "y_train = []\n",
        "x_train = np.load(\"/content/NewData/TrainData.npy\")\n",
        "y_train = np.load(\"/content/NewData/TrainLabels.npy\")\n",
        "\n",
        "x_val = []\n",
        "y_val = []\n",
        "x_val = np.load(\"/content/NewData/ValData.npy\")\n",
        "y_val = np.load(\"/content/NewData/ValLabels.npy\")\n",
        "\n",
        "x_test = []\n",
        "y_test = []\n",
        "x_test = np.load(\"/content/NewData/TestData.npy\")\n",
        "y_test = np.load(\"/content/NewData/TestLabels.npy\")\n",
        "\n",
        "print(f\"x_train shape: {x_train .shape} - y_train shape: {y_train .shape}\")\n",
        "print(f\"x_val shape: {x_val.shape} - y_val shape: {y_val.shape}\")\n",
        "print(f\"x_test shape: {x_test.shape} - y_test shape: {y_test .shape}\")"
      ]
    },
    {
      "cell_type": "code",
      "execution_count": 11,
      "metadata": {
        "id": "pPXr2_ahFqfY"
      },
      "outputs": [],
      "source": [
        "data_augmentation = keras.Sequential(\n",
        "    [\n",
        "        layers.Normalization(),\n",
        "        layers.RandomFlip(\"horizontal\"),\n",
        "        layers.RandomRotation(0.02),\n",
        "        layers.RandomWidth(0.2),\n",
        "        layers.RandomHeight(0.2),\n",
        "    ]\n",
        ")\n",
        "\n",
        "data_augmentation.layers[0].adapt(x_train)"
      ]
    },
    {
      "cell_type": "code",
      "execution_count": 12,
      "metadata": {
        "id": "-oE2B6QXFqfZ"
      },
      "outputs": [],
      "source": [
        "img_heigth, img_width = 110,110\n",
        "input_shape = (img_heigth, img_width, 3)\n",
        "num_classes = 5"
      ]
    },
    {
      "cell_type": "code",
      "execution_count": 13,
      "metadata": {
        "colab": {
          "base_uri": "https://localhost:8080/"
        },
        "id": "1bSsfFTMFqfZ",
        "outputId": "301448ef-8363-444b-e914-b970966f1d3b"
      },
      "outputs": [
        {
          "output_type": "stream",
          "name": "stdout",
          "text": [
            "Model: \"vgg19-encoder\"\n",
            "_________________________________________________________________\n",
            " Layer (type)                Output Shape              Param #   \n",
            "=================================================================\n",
            " input_2 (InputLayer)        [(None, 110, 110, 3)]     0         \n",
            "                                                                 \n",
            " sequential (Sequential)     (None, None, None, 3)     7         \n",
            "                                                                 \n",
            " vgg19 (Functional)          (None, 512)               20024384  \n",
            "                                                                 \n",
            "=================================================================\n",
            "Total params: 20,024,391\n",
            "Trainable params: 20,024,384\n",
            "Non-trainable params: 7\n",
            "_________________________________________________________________\n"
          ]
        }
      ],
      "source": [
        "def create_encoder():\n",
        "    vgg16 = keras.applications.VGG19(\n",
        "        include_top=False, weights=None, input_shape=input_shape, pooling=\"avg\"\n",
        "    )\n",
        "\n",
        "    inputs = keras.Input(shape=input_shape)\n",
        "    augmented = data_augmentation(inputs)\n",
        "    outputs = vgg16(augmented)\n",
        "    model = keras.Model(inputs=inputs, outputs=outputs, name=\"vgg19-encoder\")\n",
        "    return model\n",
        "\n",
        "\n",
        "encoder = create_encoder()\n",
        "encoder.summary()\n",
        "\n",
        "learning_rate = 0.0001\n",
        "batch_size = 32\n",
        "hidden_units = 512\n",
        "projection_units = 128\n",
        "num_epochs = 50\n",
        "dropout_rate = 0.5\n",
        "temperature = 0.05"
      ]
    },
    {
      "cell_type": "code",
      "execution_count": 14,
      "metadata": {
        "id": "Szcz8uMcFqfZ"
      },
      "outputs": [],
      "source": [
        "def create_classifier(encoder, trainable=True):\n",
        "\n",
        "    for layer in encoder.layers:\n",
        "        layer.trainable = trainable\n",
        "\n",
        "    inputs = keras.Input(shape=input_shape)\n",
        "    features = encoder(inputs)\n",
        "    features = layers.Dropout(dropout_rate)(features)\n",
        "    features = layers.Dense(hidden_units, activation=\"relu\")(features)\n",
        "    features = layers.Dropout(dropout_rate)(features)\n",
        "    outputs = layers.Dense(num_classes, activation=\"softmax\")(features)\n",
        "\n",
        "    model = keras.Model(inputs=inputs, outputs=outputs, name=\"vgg19-classifier\")\n",
        "    model.compile(\n",
        "        optimizer=keras.optimizers.Adam(learning_rate),\n",
        "        loss=keras.losses.SparseCategoricalCrossentropy(),\n",
        "        metrics=[keras.metrics.SparseCategoricalAccuracy()],\n",
        "    )\n",
        "    return model"
      ]
    },
    {
      "cell_type": "code",
      "execution_count": 15,
      "metadata": {
        "id": "jOuGXUszFqfZ"
      },
      "outputs": [],
      "source": [
        "checkpointer = ModelCheckpoint(filepath='saved_models/baseline_model_vgg19.hdf5', \n",
        "                               monitor='sparse_categorical_accuracy', mode='max',\n",
        "                               verbose=1, save_best_only=True)\n",
        "early_stopping = EarlyStopping(monitor='loss', mode='min', verbose=1, patience=3)\n",
        "reduce_lr = ReduceLROnPlateau(monitor='loss', factor=0.2,patience=2, min_lr=1e-5)\n",
        "callbacks=[early_stopping, reduce_lr, checkpointer]"
      ]
    },
    {
      "cell_type": "code",
      "execution_count": null,
      "metadata": {
        "colab": {
          "base_uri": "https://localhost:8080/"
        },
        "id": "05Q7ghwTFqfZ",
        "outputId": "ec636924-b59e-4cb9-b28a-0caa0293d772"
      },
      "outputs": [
        {
          "output_type": "stream",
          "name": "stdout",
          "text": [
            "Model: \"vgg19-classifier\"\n",
            "_________________________________________________________________\n",
            " Layer (type)                Output Shape              Param #   \n",
            "=================================================================\n",
            " input_5 (InputLayer)        [(None, 110, 110, 3)]     0         \n",
            "                                                                 \n",
            " vgg19-encoder (Functional)  (None, 512)               20024391  \n",
            "                                                                 \n",
            " dropout (Dropout)           (None, 512)               0         \n",
            "                                                                 \n",
            " dense (Dense)               (None, 512)               262656    \n",
            "                                                                 \n",
            " dropout_1 (Dropout)         (None, 512)               0         \n",
            "                                                                 \n",
            " dense_1 (Dense)             (None, 5)                 2565      \n",
            "                                                                 \n",
            "=================================================================\n",
            "Total params: 20,289,612\n",
            "Trainable params: 20,289,605\n",
            "Non-trainable params: 7\n",
            "_________________________________________________________________\n",
            "Epoch 1/50\n",
            "567/567 [==============================] - ETA: 0s - loss: 1.4186 - sparse_categorical_accuracy: 0.3606\n",
            "Epoch 1: sparse_categorical_accuracy improved from -inf to 0.36065, saving model to saved_models/baseline_model_vgg19.hdf5\n",
            "567/567 [==============================] - 996s 2s/step - loss: 1.4186 - sparse_categorical_accuracy: 0.3606 - lr: 1.0000e-04\n",
            "Epoch 2/50\n",
            "567/567 [==============================] - ETA: 0s - loss: 1.2196 - sparse_categorical_accuracy: 0.5038\n",
            "Epoch 2: sparse_categorical_accuracy improved from 0.36065 to 0.50378, saving model to saved_models/baseline_model_vgg19.hdf5\n",
            "567/567 [==============================] - 557s 981ms/step - loss: 1.2196 - sparse_categorical_accuracy: 0.5038 - lr: 1.0000e-04\n",
            "Epoch 3/50\n",
            "567/567 [==============================] - ETA: 0s - loss: 1.1013 - sparse_categorical_accuracy: 0.5803\n",
            "Epoch 3: sparse_categorical_accuracy improved from 0.50378 to 0.58026, saving model to saved_models/baseline_model_vgg19.hdf5\n",
            "567/567 [==============================] - 363s 639ms/step - loss: 1.1013 - sparse_categorical_accuracy: 0.5803 - lr: 1.0000e-04\n",
            "Epoch 4/50\n",
            "567/567 [==============================] - ETA: 0s - loss: 0.9910 - sparse_categorical_accuracy: 0.6301\n",
            "Epoch 4: sparse_categorical_accuracy improved from 0.58026 to 0.63014, saving model to saved_models/baseline_model_vgg19.hdf5\n",
            "567/567 [==============================] - 322s 566ms/step - loss: 0.9910 - sparse_categorical_accuracy: 0.6301 - lr: 1.0000e-04\n",
            "Epoch 5/50\n",
            "567/567 [==============================] - ETA: 0s - loss: 0.8662 - sparse_categorical_accuracy: 0.6853\n",
            "Epoch 5: sparse_categorical_accuracy improved from 0.63014 to 0.68532, saving model to saved_models/baseline_model_vgg19.hdf5\n",
            "567/567 [==============================] - 235s 413ms/step - loss: 0.8662 - sparse_categorical_accuracy: 0.6853 - lr: 1.0000e-04\n",
            "Epoch 6/50\n",
            "567/567 [==============================] - ETA: 0s - loss: 0.7412 - sparse_categorical_accuracy: 0.7300\n",
            "Epoch 6: sparse_categorical_accuracy improved from 0.68532 to 0.73001, saving model to saved_models/baseline_model_vgg19.hdf5\n",
            "567/567 [==============================] - 182s 322ms/step - loss: 0.7412 - sparse_categorical_accuracy: 0.7300 - lr: 1.0000e-04\n",
            "Epoch 7/50\n",
            "567/567 [==============================] - ETA: 0s - loss: 0.6557 - sparse_categorical_accuracy: 0.7623\n",
            "Epoch 7: sparse_categorical_accuracy improved from 0.73001 to 0.76229, saving model to saved_models/baseline_model_vgg19.hdf5\n",
            "567/567 [==============================] - 153s 270ms/step - loss: 0.6557 - sparse_categorical_accuracy: 0.7623 - lr: 1.0000e-04\n",
            "Epoch 8/50\n",
            "567/567 [==============================] - ETA: 0s - loss: 0.5818 - sparse_categorical_accuracy: 0.7856\n",
            "Epoch 8: sparse_categorical_accuracy improved from 0.76229 to 0.78563, saving model to saved_models/baseline_model_vgg19.hdf5\n",
            "567/567 [==============================] - 140s 246ms/step - loss: 0.5818 - sparse_categorical_accuracy: 0.7856 - lr: 1.0000e-04\n",
            "Epoch 9/50\n",
            "567/567 [==============================] - ETA: 0s - loss: 0.5446 - sparse_categorical_accuracy: 0.8042\n",
            "Epoch 9: sparse_categorical_accuracy improved from 0.78563 to 0.80417, saving model to saved_models/baseline_model_vgg19.hdf5\n",
            "567/567 [==============================] - 130s 230ms/step - loss: 0.5446 - sparse_categorical_accuracy: 0.8042 - lr: 1.0000e-04\n",
            "Epoch 10/50\n",
            "567/567 [==============================] - ETA: 0s - loss: 0.4887 - sparse_categorical_accuracy: 0.8229\n",
            "Epoch 10: sparse_categorical_accuracy improved from 0.80417 to 0.82293, saving model to saved_models/baseline_model_vgg19.hdf5\n",
            "567/567 [==============================] - 126s 222ms/step - loss: 0.4887 - sparse_categorical_accuracy: 0.8229 - lr: 1.0000e-04\n",
            "Epoch 11/50\n",
            "567/567 [==============================] - ETA: 0s - loss: 0.4568 - sparse_categorical_accuracy: 0.8356\n",
            "Epoch 11: sparse_categorical_accuracy improved from 0.82293 to 0.83562, saving model to saved_models/baseline_model_vgg19.hdf5\n",
            "567/567 [==============================] - 108s 191ms/step - loss: 0.4568 - sparse_categorical_accuracy: 0.8356 - lr: 1.0000e-04\n",
            "Epoch 12/50\n",
            "567/567 [==============================] - ETA: 0s - loss: 0.4169 - sparse_categorical_accuracy: 0.8518\n",
            "Epoch 12: sparse_categorical_accuracy improved from 0.83562 to 0.85179, saving model to saved_models/baseline_model_vgg19.hdf5\n",
            "567/567 [==============================] - 100s 177ms/step - loss: 0.4169 - sparse_categorical_accuracy: 0.8518 - lr: 1.0000e-04\n",
            "Epoch 13/50\n",
            "567/567 [==============================] - ETA: 0s - loss: 0.3916 - sparse_categorical_accuracy: 0.8548\n",
            "Epoch 13: sparse_categorical_accuracy improved from 0.85179 to 0.85477, saving model to saved_models/baseline_model_vgg19.hdf5\n",
            "567/567 [==============================] - 97s 172ms/step - loss: 0.3916 - sparse_categorical_accuracy: 0.8548 - lr: 1.0000e-04\n",
            "Epoch 14/50\n",
            "567/567 [==============================] - ETA: 0s - loss: 0.3709 - sparse_categorical_accuracy: 0.8666\n",
            "Epoch 14: sparse_categorical_accuracy improved from 0.85477 to 0.86658, saving model to saved_models/baseline_model_vgg19.hdf5\n",
            "567/567 [==============================] - 98s 172ms/step - loss: 0.3709 - sparse_categorical_accuracy: 0.8666 - lr: 1.0000e-04\n",
            "Epoch 15/50\n",
            "567/567 [==============================] - ETA: 0s - loss: 0.3469 - sparse_categorical_accuracy: 0.8741\n",
            "Epoch 15: sparse_categorical_accuracy improved from 0.86658 to 0.87414, saving model to saved_models/baseline_model_vgg19.hdf5\n",
            "567/567 [==============================] - 92s 163ms/step - loss: 0.3469 - sparse_categorical_accuracy: 0.8741 - lr: 1.0000e-04\n",
            "Epoch 16/50\n",
            "567/567 [==============================] - ETA: 0s - loss: 0.3281 - sparse_categorical_accuracy: 0.8822\n",
            "Epoch 16: sparse_categorical_accuracy improved from 0.87414 to 0.88225, saving model to saved_models/baseline_model_vgg19.hdf5\n",
            "567/567 [==============================] - 86s 152ms/step - loss: 0.3281 - sparse_categorical_accuracy: 0.8822 - lr: 1.0000e-04\n",
            "Epoch 17/50\n",
            "567/567 [==============================] - ETA: 0s - loss: 0.3085 - sparse_categorical_accuracy: 0.8875\n",
            "Epoch 17: sparse_categorical_accuracy improved from 0.88225 to 0.88749, saving model to saved_models/baseline_model_vgg19.hdf5\n",
            "567/567 [==============================] - 89s 158ms/step - loss: 0.3085 - sparse_categorical_accuracy: 0.8875 - lr: 1.0000e-04\n",
            "Epoch 18/50\n",
            "567/567 [==============================] - ETA: 0s - loss: 0.2908 - sparse_categorical_accuracy: 0.8968\n",
            "Epoch 18: sparse_categorical_accuracy improved from 0.88749 to 0.89682, saving model to saved_models/baseline_model_vgg19.hdf5\n",
            "567/567 [==============================] - 84s 148ms/step - loss: 0.2908 - sparse_categorical_accuracy: 0.8968 - lr: 1.0000e-04\n",
            "Epoch 19/50\n",
            "567/567 [==============================] - ETA: 0s - loss: 0.2708 - sparse_categorical_accuracy: 0.9024\n",
            "Epoch 19: sparse_categorical_accuracy improved from 0.89682 to 0.90239, saving model to saved_models/baseline_model_vgg19.hdf5\n",
            "567/567 [==============================] - 84s 149ms/step - loss: 0.2708 - sparse_categorical_accuracy: 0.9024 - lr: 1.0000e-04\n",
            "Epoch 20/50\n",
            "567/567 [==============================] - ETA: 0s - loss: 0.2534 - sparse_categorical_accuracy: 0.9089\n",
            "Epoch 20: sparse_categorical_accuracy improved from 0.90239 to 0.90890, saving model to saved_models/baseline_model_vgg19.hdf5\n",
            "567/567 [==============================] - 85s 151ms/step - loss: 0.2534 - sparse_categorical_accuracy: 0.9089 - lr: 1.0000e-04\n",
            "Epoch 21/50\n",
            "567/567 [==============================] - ETA: 0s - loss: 0.2487 - sparse_categorical_accuracy: 0.9115\n",
            "Epoch 21: sparse_categorical_accuracy improved from 0.90890 to 0.91155, saving model to saved_models/baseline_model_vgg19.hdf5\n",
            "567/567 [==============================] - 82s 144ms/step - loss: 0.2487 - sparse_categorical_accuracy: 0.9115 - lr: 1.0000e-04\n",
            "Epoch 22/50\n",
            "567/567 [==============================] - ETA: 0s - loss: 0.2360 - sparse_categorical_accuracy: 0.9160\n",
            "Epoch 22: sparse_categorical_accuracy improved from 0.91155 to 0.91602, saving model to saved_models/baseline_model_vgg19.hdf5\n",
            "567/567 [==============================] - 85s 150ms/step - loss: 0.2360 - sparse_categorical_accuracy: 0.9160 - lr: 1.0000e-04\n",
            "Epoch 23/50\n",
            "567/567 [==============================] - ETA: 0s - loss: 0.2197 - sparse_categorical_accuracy: 0.9220\n",
            "Epoch 23: sparse_categorical_accuracy improved from 0.91602 to 0.92198, saving model to saved_models/baseline_model_vgg19.hdf5\n",
            "567/567 [==============================] - 84s 148ms/step - loss: 0.2197 - sparse_categorical_accuracy: 0.9220 - lr: 1.0000e-04\n",
            "Epoch 24/50\n",
            "567/567 [==============================] - ETA: 0s - loss: 0.2026 - sparse_categorical_accuracy: 0.9282\n",
            "Epoch 24: sparse_categorical_accuracy improved from 0.92198 to 0.92816, saving model to saved_models/baseline_model_vgg19.hdf5\n",
            "567/567 [==============================] - 82s 144ms/step - loss: 0.2026 - sparse_categorical_accuracy: 0.9282 - lr: 1.0000e-04\n",
            "Epoch 25/50\n",
            "567/567 [==============================] - ETA: 0s - loss: 0.1948 - sparse_categorical_accuracy: 0.9317\n",
            "Epoch 25: sparse_categorical_accuracy improved from 0.92816 to 0.93169, saving model to saved_models/baseline_model_vgg19.hdf5\n",
            "567/567 [==============================] - 82s 145ms/step - loss: 0.1948 - sparse_categorical_accuracy: 0.9317 - lr: 1.0000e-04\n",
            "Epoch 26/50\n",
            "567/567 [==============================] - ETA: 0s - loss: 0.1853 - sparse_categorical_accuracy: 0.9340\n",
            "Epoch 26: sparse_categorical_accuracy improved from 0.93169 to 0.93395, saving model to saved_models/baseline_model_vgg19.hdf5\n",
            "567/567 [==============================] - 82s 145ms/step - loss: 0.1853 - sparse_categorical_accuracy: 0.9340 - lr: 1.0000e-04\n",
            "Epoch 27/50\n",
            "567/567 [==============================] - ETA: 0s - loss: 0.1747 - sparse_categorical_accuracy: 0.9362\n",
            "Epoch 27: sparse_categorical_accuracy improved from 0.93395 to 0.93621, saving model to saved_models/baseline_model_vgg19.hdf5\n",
            "567/567 [==============================] - 82s 145ms/step - loss: 0.1747 - sparse_categorical_accuracy: 0.9362 - lr: 1.0000e-04\n",
            "Epoch 28/50\n",
            "567/567 [==============================] - ETA: 0s - loss: 0.1738 - sparse_categorical_accuracy: 0.9380\n",
            "Epoch 28: sparse_categorical_accuracy improved from 0.93621 to 0.93798, saving model to saved_models/baseline_model_vgg19.hdf5\n",
            "567/567 [==============================] - 82s 144ms/step - loss: 0.1738 - sparse_categorical_accuracy: 0.9380 - lr: 1.0000e-04\n",
            "Epoch 29/50\n",
            "567/567 [==============================] - ETA: 0s - loss: 0.1629 - sparse_categorical_accuracy: 0.9416\n",
            "Epoch 29: sparse_categorical_accuracy improved from 0.93798 to 0.94162, saving model to saved_models/baseline_model_vgg19.hdf5\n",
            "567/567 [==============================] - 82s 145ms/step - loss: 0.1629 - sparse_categorical_accuracy: 0.9416 - lr: 1.0000e-04\n",
            "Epoch 30/50\n",
            "567/567 [==============================] - ETA: 0s - loss: 0.1584 - sparse_categorical_accuracy: 0.9440\n",
            "Epoch 30: sparse_categorical_accuracy improved from 0.94162 to 0.94399, saving model to saved_models/baseline_model_vgg19.hdf5\n",
            "567/567 [==============================] - 82s 145ms/step - loss: 0.1584 - sparse_categorical_accuracy: 0.9440 - lr: 1.0000e-04\n",
            "Epoch 31/50\n",
            "567/567 [==============================] - ETA: 0s - loss: 0.1522 - sparse_categorical_accuracy: 0.9474\n",
            "Epoch 31: sparse_categorical_accuracy improved from 0.94399 to 0.94736, saving model to saved_models/baseline_model_vgg19.hdf5\n",
            "567/567 [==============================] - 88s 156ms/step - loss: 0.1522 - sparse_categorical_accuracy: 0.9474 - lr: 1.0000e-04\n",
            "Epoch 32/50\n",
            "567/567 [==============================] - ETA: 0s - loss: 0.1455 - sparse_categorical_accuracy: 0.9479\n",
            "Epoch 32: sparse_categorical_accuracy improved from 0.94736 to 0.94791, saving model to saved_models/baseline_model_vgg19.hdf5\n",
            "567/567 [==============================] - 82s 145ms/step - loss: 0.1455 - sparse_categorical_accuracy: 0.9479 - lr: 1.0000e-04\n",
            "Epoch 33/50\n",
            "567/567 [==============================] - ETA: 0s - loss: 0.1355 - sparse_categorical_accuracy: 0.9523\n",
            "Epoch 33: sparse_categorical_accuracy improved from 0.94791 to 0.95233, saving model to saved_models/baseline_model_vgg19.hdf5\n",
            "567/567 [==============================] - 82s 145ms/step - loss: 0.1355 - sparse_categorical_accuracy: 0.9523 - lr: 1.0000e-04\n",
            "Epoch 34/50\n",
            "567/567 [==============================] - ETA: 0s - loss: 0.1339 - sparse_categorical_accuracy: 0.9523\n",
            "Epoch 34: sparse_categorical_accuracy did not improve from 0.95233\n",
            "567/567 [==============================] - 82s 144ms/step - loss: 0.1339 - sparse_categorical_accuracy: 0.9523 - lr: 1.0000e-04\n",
            "Epoch 35/50\n",
            "567/567 [==============================] - ETA: 0s - loss: 0.1227 - sparse_categorical_accuracy: 0.9560\n",
            "Epoch 35: sparse_categorical_accuracy improved from 0.95233 to 0.95597, saving model to saved_models/baseline_model_vgg19.hdf5\n",
            "567/567 [==============================] - 84s 148ms/step - loss: 0.1227 - sparse_categorical_accuracy: 0.9560 - lr: 1.0000e-04\n",
            "Epoch 36/50\n",
            "567/567 [==============================] - ETA: 0s - loss: 0.1298 - sparse_categorical_accuracy: 0.9542\n",
            "Epoch 36: sparse_categorical_accuracy did not improve from 0.95597\n",
            "567/567 [==============================] - 81s 143ms/step - loss: 0.1298 - sparse_categorical_accuracy: 0.9542 - lr: 1.0000e-04\n",
            "Epoch 37/50\n",
            "567/567 [==============================] - ETA: 0s - loss: 0.1225 - sparse_categorical_accuracy: 0.9562\n",
            "Epoch 37: sparse_categorical_accuracy improved from 0.95597 to 0.95624, saving model to saved_models/baseline_model_vgg19.hdf5\n",
            "567/567 [==============================] - 83s 146ms/step - loss: 0.1225 - sparse_categorical_accuracy: 0.9562 - lr: 1.0000e-04\n",
            "Epoch 38/50\n",
            "567/567 [==============================] - ETA: 0s - loss: 0.1121 - sparse_categorical_accuracy: 0.9614\n",
            "Epoch 38: sparse_categorical_accuracy improved from 0.95624 to 0.96143, saving model to saved_models/baseline_model_vgg19.hdf5\n",
            "567/567 [==============================] - 83s 146ms/step - loss: 0.1121 - sparse_categorical_accuracy: 0.9614 - lr: 1.0000e-04\n",
            "Epoch 39/50\n",
            "567/567 [==============================] - ETA: 0s - loss: 0.1196 - sparse_categorical_accuracy: 0.9591\n",
            "Epoch 39: sparse_categorical_accuracy did not improve from 0.96143\n",
            "567/567 [==============================] - 83s 146ms/step - loss: 0.1196 - sparse_categorical_accuracy: 0.9591 - lr: 1.0000e-04\n",
            "Epoch 40/50\n",
            "567/567 [==============================] - ETA: 0s - loss: 0.1091 - sparse_categorical_accuracy: 0.9625\n",
            "Epoch 40: sparse_categorical_accuracy improved from 0.96143 to 0.96248, saving model to saved_models/baseline_model_vgg19.hdf5\n",
            "567/567 [==============================] - 89s 156ms/step - loss: 0.1091 - sparse_categorical_accuracy: 0.9625 - lr: 1.0000e-04\n",
            "Epoch 41/50\n",
            "567/567 [==============================] - ETA: 0s - loss: 0.1074 - sparse_categorical_accuracy: 0.9641\n",
            "Epoch 41: sparse_categorical_accuracy improved from 0.96248 to 0.96413, saving model to saved_models/baseline_model_vgg19.hdf5\n",
            "567/567 [==============================] - 82s 144ms/step - loss: 0.1074 - sparse_categorical_accuracy: 0.9641 - lr: 1.0000e-04\n",
            "Epoch 42/50\n",
            "567/567 [==============================] - ETA: 0s - loss: 0.1079 - sparse_categorical_accuracy: 0.9624\n",
            "Epoch 42: sparse_categorical_accuracy did not improve from 0.96413\n",
            "567/567 [==============================] - 82s 144ms/step - loss: 0.1079 - sparse_categorical_accuracy: 0.9624 - lr: 1.0000e-04\n",
            "Epoch 43/50\n",
            "567/567 [==============================] - ETA: 0s - loss: 0.0987 - sparse_categorical_accuracy: 0.9661\n",
            "Epoch 43: sparse_categorical_accuracy improved from 0.96413 to 0.96612, saving model to saved_models/baseline_model_vgg19.hdf5\n",
            "567/567 [==============================] - 84s 148ms/step - loss: 0.0987 - sparse_categorical_accuracy: 0.9661 - lr: 1.0000e-04\n",
            "Epoch 44/50\n",
            "567/567 [==============================] - ETA: 0s - loss: 0.0995 - sparse_categorical_accuracy: 0.9652\n",
            "Epoch 44: sparse_categorical_accuracy did not improve from 0.96612\n",
            "567/567 [==============================] - 82s 144ms/step - loss: 0.0995 - sparse_categorical_accuracy: 0.9652 - lr: 1.0000e-04\n",
            "Epoch 45/50\n",
            "567/567 [==============================] - ETA: 0s - loss: 0.0964 - sparse_categorical_accuracy: 0.9675\n",
            "Epoch 45: sparse_categorical_accuracy improved from 0.96612 to 0.96750, saving model to saved_models/baseline_model_vgg19.hdf5\n",
            "567/567 [==============================] - 82s 144ms/step - loss: 0.0964 - sparse_categorical_accuracy: 0.9675 - lr: 1.0000e-04\n",
            "Epoch 46/50\n",
            "567/567 [==============================] - ETA: 0s - loss: 0.0916 - sparse_categorical_accuracy: 0.9687\n",
            "Epoch 46: sparse_categorical_accuracy improved from 0.96750 to 0.96866, saving model to saved_models/baseline_model_vgg19.hdf5\n",
            "567/567 [==============================] - 82s 144ms/step - loss: 0.0916 - sparse_categorical_accuracy: 0.9687 - lr: 1.0000e-04\n",
            "Epoch 47/50\n",
            "567/567 [==============================] - ETA: 0s - loss: 0.0898 - sparse_categorical_accuracy: 0.9684\n",
            "Epoch 47: sparse_categorical_accuracy did not improve from 0.96866\n",
            "567/567 [==============================] - 81s 143ms/step - loss: 0.0898 - sparse_categorical_accuracy: 0.9684 - lr: 1.0000e-04\n",
            "Epoch 48/50\n",
            "567/567 [==============================] - ETA: 0s - loss: 0.0822 - sparse_categorical_accuracy: 0.9707\n",
            "Epoch 48: sparse_categorical_accuracy improved from 0.96866 to 0.97070, saving model to saved_models/baseline_model_vgg19.hdf5\n",
            "567/567 [==============================] - 88s 155ms/step - loss: 0.0822 - sparse_categorical_accuracy: 0.9707 - lr: 1.0000e-04\n",
            "Epoch 49/50\n",
            "567/567 [==============================] - ETA: 0s - loss: 0.0912 - sparse_categorical_accuracy: 0.9676\n",
            "Epoch 49: sparse_categorical_accuracy did not improve from 0.97070\n",
            "567/567 [==============================] - 82s 145ms/step - loss: 0.0912 - sparse_categorical_accuracy: 0.9676 - lr: 1.0000e-04\n",
            "Epoch 50/50\n",
            "567/567 [==============================] - ETA: 0s - loss: 0.0809 - sparse_categorical_accuracy: 0.9719\n",
            "Epoch 50: sparse_categorical_accuracy improved from 0.97070 to 0.97186, saving model to saved_models/baseline_model_vgg19.hdf5\n",
            "567/567 [==============================] - 86s 151ms/step - loss: 0.0809 - sparse_categorical_accuracy: 0.9719 - lr: 1.0000e-04\n"
          ]
        }
      ],
      "source": [
        "encoder = create_encoder()\n",
        "classifier = create_classifier(encoder)\n",
        "classifier.summary()\n",
        "\n",
        "history = classifier.fit(x=x_train, y=y_train, batch_size=batch_size, epochs=num_epochs,callbacks=callbacks)"
      ]
    },
    {
      "cell_type": "code",
      "execution_count": null,
      "metadata": {
        "id": "_u5jXeM5GVSS"
      },
      "outputs": [],
      "source": [
        "classifier.save(save_path + 'Contrastive_Baseline_vgg19.h5')\n",
        "classifier.save_weights(save_path1 + \"Weights_Contrastive_Baseline_vgg19.h5\")"
      ]
    },
    {
      "cell_type": "code",
      "execution_count": null,
      "metadata": {
        "id": "KncxXdG5HAGa"
      },
      "outputs": [],
      "source": [
        "vgg19_base_trainloss_dict = {}\n",
        "vgg19_base_valloss_dict = {}"
      ]
    },
    {
      "cell_type": "code",
      "execution_count": null,
      "metadata": {
        "id": "FjiP0b-AHAkg"
      },
      "outputs": [],
      "source": [
        "import pickle\n",
        "\n",
        "with open('/content/drive/MyDrive/vgg19_base_train_loss.pkl', 'wb') as file:\n",
        "    pickle.dump(vgg19_base_trainloss_dict, file)\n",
        "\n",
        "with open('/content/drive/MyDrive/vgg19_base_val_loss.pkl', 'wb') as file:\n",
        "    pickle.dump(vgg19_base_valloss_dict, file)"
      ]
    },
    {
      "cell_type": "code",
      "execution_count": null,
      "metadata": {
        "colab": {
          "base_uri": "https://localhost:8080/",
          "height": 1000
        },
        "id": "xi37cr-JILjA",
        "outputId": "f7ca563c-45bc-4e47-cc80-b989420642b4"
      },
      "outputs": [
        {
          "output_type": "stream",
          "name": "stdout",
          "text": [
            "26/26 [==============================] - 2s 70ms/step\n"
          ]
        },
        {
          "output_type": "display_data",
          "data": {
            "text/plain": [
              "<Figure size 1200x1200 with 2 Axes>"
            ],
            "image/png": "[encoded data removed]"
          },
          "metadata": {}
        }
      ],
      "source": [
        "pred = classifier.predict(x_test)\n",
        "\n",
        "y_pred = np.argmax(pred, axis=1)\n",
        "confusion_mtx = confusion_matrix(y_pred, y_test)\n",
        "f,ax = plt.subplots(figsize=(12, 12))\n",
        "sns.heatmap(confusion_mtx, annot=True, \n",
        "            linewidths=0.01,\n",
        "            linecolor=\"white\", \n",
        "            fmt= '.1f',ax=ax,)\n",
        "sns.color_palette(\"rocket\", as_cmap=True)\n",
        "\n",
        "plt.xlabel(\"Predicted Label\")\n",
        "plt.ylabel(\"True Label\")\n",
        "#ax.xaxis.set_ticklabels(x_test.class_indices)\n",
        "#ax.yaxis.set_ticklabels(y_test)\n",
        "plt.title(\"Confusion Matrix\")\n",
        "plt.show()"
      ]
    },
    {
      "cell_type": "code",
      "execution_count": null,
      "metadata": {
        "colab": {
          "base_uri": "https://localhost:8080/",
          "height": 300
        },
        "id": "gl0nwfHPITNr",
        "outputId": "078ef8a5-494e-488f-b97b-ba39ef20399d"
      },
      "outputs": [
        {
          "output_type": "execute_result",
          "data": {
            "text/plain": [
              "              precision    recall  f1-score     support\n",
              "0              0.946429  0.975460  0.960725  163.000000\n",
              "1              0.949686  0.915152  0.932099  165.000000\n",
              "2              0.950311  0.962264  0.956250  159.000000\n",
              "3              0.993590  0.981013  0.987261  158.000000\n",
              "4              0.982143  0.988024  0.985075  167.000000\n",
              "accuracy       0.964286  0.964286  0.964286    0.964286\n",
              "macro avg      0.964431  0.964382  0.964282  812.000000\n",
              "weighted avg   0.964372  0.964286  0.964203  812.000000"
            ],
            "text/html": [
              "\n",
              "  <div id=\"df-f65eee96-9644-4916-9a55-48de10c2711b\">\n",
              "    <div class=\"colab-df-container\">\n",
              "      <div>\n",
              "<style scoped>\n",
              "    .dataframe tbody tr th:only-of-type {\n",
              "        vertical-align: middle;\n",
              "    }\n",
              "\n",
              "    .dataframe tbody tr th {\n",
              "        vertical-align: top;\n",
              "    }\n",
              "\n",
              "    .dataframe thead th {\n",
              "        text-align: right;\n",
              "    }\n",
              "</style>\n",
              "<table border=\"1\" class=\"dataframe\">\n",
              "  <thead>\n",
              "    <tr style=\"text-align: right;\">\n",
              "      <th></th>\n",
              "      <th>precision</th>\n",
              "      <th>recall</th>\n",
              "      <th>f1-score</th>\n",
              "      <th>support</th>\n",
              "    </tr>\n",
              "  </thead>\n",
              "  <tbody>\n",
              "    <tr>\n",
              "      <th>0</th>\n",
              "      <td>0.946429</td>\n",
              "      <td>0.975460</td>\n",
              "      <td>0.960725</td>\n",
              "      <td>163.000000</td>\n",
              "    </tr>\n",
              "    <tr>\n",
              "      <th>1</th>\n",
              "      <td>0.949686</td>\n",
              "      <td>0.915152</td>\n",
              "      <td>0.932099</td>\n",
              "      <td>165.000000</td>\n",
              "    </tr>\n",
              "    <tr>\n",
              "      <th>2</th>\n",
              "      <td>0.950311</td>\n",
              "      <td>0.962264</td>\n",
              "      <td>0.956250</td>\n",
              "      <td>159.000000</td>\n",
              "    </tr>\n",
              "    <tr>\n",
              "      <th>3</th>\n",
              "      <td>0.993590</td>\n",
              "      <td>0.981013</td>\n",
              "      <td>0.987261</td>\n",
              "      <td>158.000000</td>\n",
              "    </tr>\n",
              "    <tr>\n",
              "      <th>4</th>\n",
              "      <td>0.982143</td>\n",
              "      <td>0.988024</td>\n",
              "      <td>0.985075</td>\n",
              "      <td>167.000000</td>\n",
              "    </tr>\n",
              "    <tr>\n",
              "      <th>accuracy</th>\n",
              "      <td>0.964286</td>\n",
              "      <td>0.964286</td>\n",
              "      <td>0.964286</td>\n",
              "      <td>0.964286</td>\n",
              "    </tr>\n",
              "    <tr>\n",
              "      <th>macro avg</th>\n",
              "      <td>0.964431</td>\n",
              "      <td>0.964382</td>\n",
              "      <td>0.964282</td>\n",
              "      <td>812.000000</td>\n",
              "    </tr>\n",
              "    <tr>\n",
              "      <th>weighted avg</th>\n",
              "      <td>0.964372</td>\n",
              "      <td>0.964286</td>\n",
              "      <td>0.964203</td>\n",
              "      <td>812.000000</td>\n",
              "    </tr>\n",
              "  </tbody>\n",
              "</table>\n",
              "</div>\n",
              "      <button class=\"colab-df-convert\" onclick=\"convertToInteractive('df-f65eee96-9644-4916-9a55-48de10c2711b')\"\n",
              "              title=\"Convert this dataframe to an interactive table.\"\n",
              "              style=\"display:none;\">\n",
              "        \n",
              "  <svg xmlns=\"http://www.w3.org/2000/svg\" height=\"24px\"viewBox=\"0 0 24 24\"\n",
              "       width=\"24px\">\n",
              "    <path d=\"M0 0h24v24H0V0z\" fill=\"none\"/>\n",
              "    <path d=\"M18.56 5.44l.94 2.06.94-2.06 2.06-.94-2.06-.94-.94-2.06-.94 2.06-2.06.94zm-11 1L8.5 8.5l.94-2.06 2.06-.94-2.06-.94L8.5 2.5l-.94 2.06-2.06.94zm10 10l.94 2.06.94-2.06 2.06-.94-2.06-.94-.94-2.06-.94 2.06-2.06.94z\"/><path d=\"M17.41 7.96l-1.37-1.37c-.4-.4-.92-.59-1.43-.59-.52 0-1.04.2-1.43.59L10.3 9.45l-7.72 7.72c-.78.78-.78 2.05 0 2.83L4 21.41c.39.39.9.59 1.41.59.51 0 1.02-.2 1.41-.59l7.78-7.78 2.81-2.81c.8-.78.8-2.07 0-2.86zM5.41 20L4 18.59l7.72-7.72 1.47 1.35L5.41 20z\"/>\n",
              "  </svg>\n",
              "      </button>\n",
              "      \n",
              "  <style>\n",
              "    .colab-df-container {\n",
              "      display:flex;\n",
              "      flex-wrap:wrap;\n",
              "      gap: 12px;\n",
              "    }\n",
              "\n",
              "    .colab-df-convert {\n",
              "      background-color: #E8F0FE;\n",
              "      border: none;\n",
              "      border-radius: 50%;\n",
              "      cursor: pointer;\n",
              "      display: none;\n",
              "      fill: #1967D2;\n",
              "      height: 32px;\n",
              "      padding: 0 0 0 0;\n",
              "      width: 32px;\n",
              "    }\n",
              "\n",
              "    .colab-df-convert:hover {\n",
              "      background-color: #E2EBFA;\n",
              "      box-shadow: 0px 1px 2px rgba(60, 64, 67, 0.3), 0px 1px 3px 1px rgba(60, 64, 67, 0.15);\n",
              "      fill: #174EA6;\n",
              "    }\n",
              "\n",
              "    [theme=dark] .colab-df-convert {\n",
              "      background-color: #3B4455;\n",
              "      fill: #D2E3FC;\n",
              "    }\n",
              "\n",
              "    [theme=dark] .colab-df-convert:hover {\n",
              "      background-color: #434B5C;\n",
              "      box-shadow: 0px 1px 3px 1px rgba(0, 0, 0, 0.15);\n",
              "      filter: drop-shadow(0px 1px 2px rgba(0, 0, 0, 0.3));\n",
              "      fill: #FFFFFF;\n",
              "    }\n",
              "  </style>\n",
              "\n",
              "      <script>\n",
              "        const buttonEl =\n",
              "          document.querySelector('#df-f65eee96-9644-4916-9a55-48de10c2711b button.colab-df-convert');\n",
              "        buttonEl.style.display =\n",
              "          google.colab.kernel.accessAllowed ? 'block' : 'none';\n",
              "\n",
              "        async function convertToInteractive(key) {\n",
              "          const element = document.querySelector('#df-f65eee96-9644-4916-9a55-48de10c2711b');\n",
              "          const dataTable =\n",
              "            await google.colab.kernel.invokeFunction('convertToInteractive',\n",
              "                                                     [key], {});\n",
              "          if (!dataTable) return;\n",
              "\n",
              "          const docLinkHtml = 'Like what you see? Visit the ' +\n",
              "            '<a target=\"_blank\" href=https://colab.research.google.com/notebooks/data_table.ipynb>data table notebook</a>'\n",
              "            + ' to learn more about interactive tables.';\n",
              "          element.innerHTML = '';\n",
              "          dataTable['output_type'] = 'display_data';\n",
              "          await google.colab.output.renderOutput(dataTable, element);\n",
              "          const docLink = document.createElement('div');\n",
              "          docLink.innerHTML = docLinkHtml;\n",
              "          element.appendChild(docLink);\n",
              "        }\n",
              "      </script>\n",
              "    </div>\n",
              "  </div>\n",
              "  "
            ]
          },
          "metadata": {},
          "execution_count": 21
        }
      ],
      "source": [
        "report_base = classification_report(y_test, y_pred, output_dict=True)\n",
        "df12 = pd.DataFrame(report_base).transpose()\n",
        "df12"
      ]
    },
    {
      "cell_type": "code",
      "execution_count": null,
      "metadata": {
        "id": "7Pxwd2MPHeNN"
      },
      "outputs": [],
      "source": [
        "from tensorflow.keras.models import load_model\n",
        "baseline_VGG16=load_model(save_path + 'Contrastive_Baseline_vgg19.h5')\n"
      ]
    },
    {
      "cell_type": "code",
      "execution_count": null,
      "metadata": {
        "colab": {
          "base_uri": "https://localhost:8080/"
        },
        "id": "I8uBVJBeFqfa",
        "outputId": "24f64152-b72e-4393-e3c0-dc1089d8bb04"
      },
      "outputs": [
        {
          "output_type": "stream",
          "name": "stdout",
          "text": [
            "26/26 [==============================] - 2s 45ms/step - loss: 0.1689 - sparse_categorical_accuracy: 0.9643\n",
            "Test accuracy: 96.43%\n"
          ]
        }
      ],
      "source": [
        "accuracy = baseline_VGG16.evaluate(x_test, y_test)[1]\n",
        "print(f\"Test accuracy: {round(accuracy * 100, 2)}%\")"
      ]
    },
    {
      "cell_type": "code",
      "execution_count": null,
      "metadata": {
        "colab": {
          "base_uri": "https://localhost:8080/"
        },
        "id": "G-IqQYMDFqfa",
        "outputId": "87590053-8f6a-4ef7-81a3-8be1523f18b4"
      },
      "outputs": [
        {
          "output_type": "stream",
          "name": "stdout",
          "text": [
            "26/26 [==============================] - 1s 43ms/step\n"
          ]
        }
      ],
      "source": [
        "classifier=baseline_VGG16\n",
        "y_predict = np.argmax(classifier.predict(x_test), axis=-1)"
      ]
    },
    {
      "cell_type": "code",
      "execution_count": null,
      "metadata": {
        "colab": {
          "base_uri": "https://localhost:8080/",
          "height": 1000
        },
        "id": "pIlcljo-H8hE",
        "outputId": "6e48eb30-2bac-4e51-c716-a7739c8e08a4"
      },
      "outputs": [
        {
          "output_type": "stream",
          "name": "stdout",
          "text": [
            "26/26 [==============================] - 1s 43ms/step\n"
          ]
        },
        {
          "output_type": "display_data",
          "data": {
            "text/plain": [
              "<Figure size 1200x1200 with 2 Axes>"
            ],
            "image/png": "[encoded data removed]"
          },
          "metadata": {}
        }
      ],
      "source": [
        "cancer_classes=np.unique(y_test)\n",
        "\n",
        "pred = baseline_VGG16.predict(x_test)\n",
        "\n",
        "y_pred = np.argmax(pred, axis=1)\n",
        "confusion_mtx = confusion_matrix(y_pred, y_test)\n",
        "f,ax = plt.subplots(figsize=(12, 12))\n",
        "sns.heatmap(confusion_mtx, annot=True, \n",
        "            linewidths=0.01,\n",
        "            linecolor=\"white\", \n",
        "            fmt= '.1f',ax=ax,)\n",
        "sns.color_palette(\"rocket\", as_cmap=True)\n",
        "\n",
        "plt.xlabel(\"Predicted Label\")\n",
        "plt.ylabel(\"True Label\")\n",
        "ax.xaxis.set_ticklabels(cancer_classes)\n",
        "ax.yaxis.set_ticklabels(cancer_classes)\n",
        "plt.title(\"Confusion Matrix\")\n",
        "plt.show()"
      ]
    },
    {
      "cell_type": "code",
      "execution_count": null,
      "metadata": {
        "colab": {
          "base_uri": "https://localhost:8080/",
          "height": 300
        },
        "id": "7KpWM0riH9XJ",
        "outputId": "3b0a60f3-2b5c-40d8-c5c7-ebc949a95691"
      },
      "outputs": [
        {
          "output_type": "execute_result",
          "data": {
            "text/plain": [
              "              precision    recall  f1-score     support\n",
              "0              0.946429  0.975460  0.960725  163.000000\n",
              "1              0.949686  0.915152  0.932099  165.000000\n",
              "2              0.950311  0.962264  0.956250  159.000000\n",
              "3              0.993590  0.981013  0.987261  158.000000\n",
              "4              0.982143  0.988024  0.985075  167.000000\n",
              "accuracy       0.964286  0.964286  0.964286    0.964286\n",
              "macro avg      0.964431  0.964382  0.964282  812.000000\n",
              "weighted avg   0.964372  0.964286  0.964203  812.000000"
            ],
            "text/html": [
              "\n",
              "  <div id=\"df-5d146020-778b-4fba-ac31-ab4d469585eb\">\n",
              "    <div class=\"colab-df-container\">\n",
              "      <div>\n",
              "<style scoped>\n",
              "    .dataframe tbody tr th:only-of-type {\n",
              "        vertical-align: middle;\n",
              "    }\n",
              "\n",
              "    .dataframe tbody tr th {\n",
              "        vertical-align: top;\n",
              "    }\n",
              "\n",
              "    .dataframe thead th {\n",
              "        text-align: right;\n",
              "    }\n",
              "</style>\n",
              "<table border=\"1\" class=\"dataframe\">\n",
              "  <thead>\n",
              "    <tr style=\"text-align: right;\">\n",
              "      <th></th>\n",
              "      <th>precision</th>\n",
              "      <th>recall</th>\n",
              "      <th>f1-score</th>\n",
              "      <th>support</th>\n",
              "    </tr>\n",
              "  </thead>\n",
              "  <tbody>\n",
              "    <tr>\n",
              "      <th>0</th>\n",
              "      <td>0.946429</td>\n",
              "      <td>0.975460</td>\n",
              "      <td>0.960725</td>\n",
              "      <td>163.000000</td>\n",
              "    </tr>\n",
              "    <tr>\n",
              "      <th>1</th>\n",
              "      <td>0.949686</td>\n",
              "      <td>0.915152</td>\n",
              "      <td>0.932099</td>\n",
              "      <td>165.000000</td>\n",
              "    </tr>\n",
              "    <tr>\n",
              "      <th>2</th>\n",
              "      <td>0.950311</td>\n",
              "      <td>0.962264</td>\n",
              "      <td>0.956250</td>\n",
              "      <td>159.000000</td>\n",
              "    </tr>\n",
              "    <tr>\n",
              "      <th>3</th>\n",
              "      <td>0.993590</td>\n",
              "      <td>0.981013</td>\n",
              "      <td>0.987261</td>\n",
              "      <td>158.000000</td>\n",
              "    </tr>\n",
              "    <tr>\n",
              "      <th>4</th>\n",
              "      <td>0.982143</td>\n",
              "      <td>0.988024</td>\n",
              "      <td>0.985075</td>\n",
              "      <td>167.000000</td>\n",
              "    </tr>\n",
              "    <tr>\n",
              "      <th>accuracy</th>\n",
              "      <td>0.964286</td>\n",
              "      <td>0.964286</td>\n",
              "      <td>0.964286</td>\n",
              "      <td>0.964286</td>\n",
              "    </tr>\n",
              "    <tr>\n",
              "      <th>macro avg</th>\n",
              "      <td>0.964431</td>\n",
              "      <td>0.964382</td>\n",
              "      <td>0.964282</td>\n",
              "      <td>812.000000</td>\n",
              "    </tr>\n",
              "    <tr>\n",
              "      <th>weighted avg</th>\n",
              "      <td>0.964372</td>\n",
              "      <td>0.964286</td>\n",
              "      <td>0.964203</td>\n",
              "      <td>812.000000</td>\n",
              "    </tr>\n",
              "  </tbody>\n",
              "</table>\n",
              "</div>\n",
              "      <button class=\"colab-df-convert\" onclick=\"convertToInteractive('df-5d146020-778b-4fba-ac31-ab4d469585eb')\"\n",
              "              title=\"Convert this dataframe to an interactive table.\"\n",
              "              style=\"display:none;\">\n",
              "        \n",
              "  <svg xmlns=\"http://www.w3.org/2000/svg\" height=\"24px\"viewBox=\"0 0 24 24\"\n",
              "       width=\"24px\">\n",
              "    <path d=\"M0 0h24v24H0V0z\" fill=\"none\"/>\n",
              "    <path d=\"M18.56 5.44l.94 2.06.94-2.06 2.06-.94-2.06-.94-.94-2.06-.94 2.06-2.06.94zm-11 1L8.5 8.5l.94-2.06 2.06-.94-2.06-.94L8.5 2.5l-.94 2.06-2.06.94zm10 10l.94 2.06.94-2.06 2.06-.94-2.06-.94-.94-2.06-.94 2.06-2.06.94z\"/><path d=\"M17.41 7.96l-1.37-1.37c-.4-.4-.92-.59-1.43-.59-.52 0-1.04.2-1.43.59L10.3 9.45l-7.72 7.72c-.78.78-.78 2.05 0 2.83L4 21.41c.39.39.9.59 1.41.59.51 0 1.02-.2 1.41-.59l7.78-7.78 2.81-2.81c.8-.78.8-2.07 0-2.86zM5.41 20L4 18.59l7.72-7.72 1.47 1.35L5.41 20z\"/>\n",
              "  </svg>\n",
              "      </button>\n",
              "      \n",
              "  <style>\n",
              "    .colab-df-container {\n",
              "      display:flex;\n",
              "      flex-wrap:wrap;\n",
              "      gap: 12px;\n",
              "    }\n",
              "\n",
              "    .colab-df-convert {\n",
              "      background-color: #E8F0FE;\n",
              "      border: none;\n",
              "      border-radius: 50%;\n",
              "      cursor: pointer;\n",
              "      display: none;\n",
              "      fill: #1967D2;\n",
              "      height: 32px;\n",
              "      padding: 0 0 0 0;\n",
              "      width: 32px;\n",
              "    }\n",
              "\n",
              "    .colab-df-convert:hover {\n",
              "      background-color: #E2EBFA;\n",
              "      box-shadow: 0px 1px 2px rgba(60, 64, 67, 0.3), 0px 1px 3px 1px rgba(60, 64, 67, 0.15);\n",
              "      fill: #174EA6;\n",
              "    }\n",
              "\n",
              "    [theme=dark] .colab-df-convert {\n",
              "      background-color: #3B4455;\n",
              "      fill: #D2E3FC;\n",
              "    }\n",
              "\n",
              "    [theme=dark] .colab-df-convert:hover {\n",
              "      background-color: #434B5C;\n",
              "      box-shadow: 0px 1px 3px 1px rgba(0, 0, 0, 0.15);\n",
              "      filter: drop-shadow(0px 1px 2px rgba(0, 0, 0, 0.3));\n",
              "      fill: #FFFFFF;\n",
              "    }\n",
              "  </style>\n",
              "\n",
              "      <script>\n",
              "        const buttonEl =\n",
              "          document.querySelector('#df-5d146020-778b-4fba-ac31-ab4d469585eb button.colab-df-convert');\n",
              "        buttonEl.style.display =\n",
              "          google.colab.kernel.accessAllowed ? 'block' : 'none';\n",
              "\n",
              "        async function convertToInteractive(key) {\n",
              "          const element = document.querySelector('#df-5d146020-778b-4fba-ac31-ab4d469585eb');\n",
              "          const dataTable =\n",
              "            await google.colab.kernel.invokeFunction('convertToInteractive',\n",
              "                                                     [key], {});\n",
              "          if (!dataTable) return;\n",
              "\n",
              "          const docLinkHtml = 'Like what you see? Visit the ' +\n",
              "            '<a target=\"_blank\" href=https://colab.research.google.com/notebooks/data_table.ipynb>data table notebook</a>'\n",
              "            + ' to learn more about interactive tables.';\n",
              "          element.innerHTML = '';\n",
              "          dataTable['output_type'] = 'display_data';\n",
              "          await google.colab.output.renderOutput(dataTable, element);\n",
              "          const docLink = document.createElement('div');\n",
              "          docLink.innerHTML = docLinkHtml;\n",
              "          element.appendChild(docLink);\n",
              "        }\n",
              "      </script>\n",
              "    </div>\n",
              "  </div>\n",
              "  "
            ]
          },
          "metadata": {},
          "execution_count": 26
        }
      ],
      "source": [
        "report_base = classification_report(y_test, y_pred, target_names=cancer_classes, output_dict=True)\n",
        "df12 = pd.DataFrame(report_base).transpose()\n",
        "df12"
      ]
    },
    {
      "cell_type": "markdown",
      "metadata": {
        "id": "MOjZ5lGpIZoq"
      },
      "source": [
        "# N-pair loss"
      ]
    },
    {
      "cell_type": "code",
      "execution_count": 16,
      "metadata": {
        "id": "RWkaIH5vFqfb"
      },
      "outputs": [],
      "source": [
        "class SupervisedContrastiveLoss(keras.losses.Loss):\n",
        "    def __init__(self, temperature=1, name=None):\n",
        "        super().__init__(name=name)\n",
        "        self.temperature = temperature\n",
        "\n",
        "    def __call__(self, labels, feature_vectors, sample_weight=None):\n",
        "        # Normalize feature vectors\n",
        "        feature_vectors_normalized = tf.math.l2_normalize(feature_vectors, axis=1)\n",
        "        # Compute logits\n",
        "        logits = tf.divide(\n",
        "            tf.matmul(\n",
        "                feature_vectors_normalized, tf.transpose(feature_vectors_normalized)\n",
        "            ),\n",
        "            self.temperature,\n",
        "        )\n",
        "        return tfa.losses.npairs_loss(tf.squeeze(labels), logits)\n",
        "\n",
        "\n",
        "def add_projection_head(encoder):\n",
        "    inputs = keras.Input(shape=input_shape)\n",
        "    features = encoder(inputs)\n",
        "    outputs = layers.Dense(projection_units, activation=\"relu\")(features)\n",
        "    model = keras.Model(\n",
        "        inputs=inputs, outputs=outputs, name=\"vgg19-encoder_with_projection-head\"\n",
        "    )\n",
        "    return model"
      ]
    },
    {
      "cell_type": "code",
      "execution_count": 17,
      "metadata": {
        "colab": {
          "base_uri": "https://localhost:8080/"
        },
        "id": "DRrZdo_OFqfc",
        "outputId": "425f18b1-915d-4783-d346-7ce80b883318"
      },
      "outputs": [
        {
          "output_type": "stream",
          "name": "stdout",
          "text": [
            "Model: \"vgg19-encoder_with_projection-head\"\n",
            "_________________________________________________________________\n",
            " Layer (type)                Output Shape              Param #   \n",
            "=================================================================\n",
            " input_5 (InputLayer)        [(None, 110, 110, 3)]     0         \n",
            "                                                                 \n",
            " vgg19-encoder (Functional)  (None, 512)               20024391  \n",
            "                                                                 \n",
            " dense (Dense)               (None, 128)               65664     \n",
            "                                                                 \n",
            "=================================================================\n",
            "Total params: 20,090,055\n",
            "Trainable params: 20,090,048\n",
            "Non-trainable params: 7\n",
            "_________________________________________________________________\n",
            "Epoch 1/50\n",
            "567/567 [==============================] - 973s 2s/step - loss: 3.4329\n",
            "Epoch 2/50\n",
            "567/567 [==============================] - 529s 931ms/step - loss: 3.3140\n",
            "Epoch 3/50\n",
            "567/567 [==============================] - 339s 597ms/step - loss: 3.2629\n",
            "Epoch 4/50\n",
            "567/567 [==============================] - 266s 470ms/step - loss: 3.2286\n",
            "Epoch 5/50\n",
            "567/567 [==============================] - 230s 405ms/step - loss: 3.1882\n",
            "Epoch 6/50\n",
            "567/567 [==============================] - 168s 296ms/step - loss: 3.1427\n",
            "Epoch 7/50\n",
            "567/567 [==============================] - 151s 266ms/step - loss: 3.0925\n",
            "Epoch 8/50\n",
            "567/567 [==============================] - 128s 226ms/step - loss: 3.0508\n",
            "Epoch 9/50\n",
            "567/567 [==============================] - 123s 216ms/step - loss: 3.0102\n",
            "Epoch 10/50\n",
            "567/567 [==============================] - 110s 193ms/step - loss: 2.9555\n",
            "Epoch 11/50\n",
            "567/567 [==============================] - 107s 188ms/step - loss: 2.8828\n",
            "Epoch 12/50\n",
            "567/567 [==============================] - 91s 161ms/step - loss: 2.8035\n",
            "Epoch 13/50\n",
            "567/567 [==============================] - 90s 159ms/step - loss: 2.7651\n",
            "Epoch 14/50\n",
            "567/567 [==============================] - 84s 148ms/step - loss: 2.7177\n",
            "Epoch 15/50\n",
            "567/567 [==============================] - 85s 149ms/step - loss: 2.6931\n",
            "Epoch 16/50\n",
            "567/567 [==============================] - 87s 153ms/step - loss: 2.6568\n",
            "Epoch 17/50\n",
            "567/567 [==============================] - 82s 145ms/step - loss: 2.6285\n",
            "Epoch 18/50\n",
            "567/567 [==============================] - 80s 140ms/step - loss: 2.6018\n",
            "Epoch 19/50\n",
            "567/567 [==============================] - 82s 144ms/step - loss: 2.5765\n",
            "Epoch 20/50\n",
            "567/567 [==============================] - 80s 141ms/step - loss: 2.5581\n",
            "Epoch 21/50\n",
            "567/567 [==============================] - 77s 137ms/step - loss: 2.5294\n",
            "Epoch 22/50\n",
            "567/567 [==============================] - 78s 137ms/step - loss: 2.5117\n",
            "Epoch 23/50\n",
            "567/567 [==============================] - 78s 137ms/step - loss: 2.4943\n",
            "Epoch 24/50\n",
            "567/567 [==============================] - 79s 139ms/step - loss: 2.4763\n",
            "Epoch 25/50\n",
            "567/567 [==============================] - 78s 137ms/step - loss: 2.4579\n",
            "Epoch 26/50\n",
            "567/567 [==============================] - 77s 135ms/step - loss: 2.4325\n",
            "Epoch 27/50\n",
            "567/567 [==============================] - 77s 136ms/step - loss: 2.4344\n",
            "Epoch 28/50\n",
            "567/567 [==============================] - 78s 137ms/step - loss: 2.4207\n",
            "Epoch 29/50\n",
            "567/567 [==============================] - 77s 136ms/step - loss: 2.4013\n",
            "Epoch 30/50\n",
            "567/567 [==============================] - 77s 136ms/step - loss: 2.3836\n",
            "Epoch 31/50\n",
            "567/567 [==============================] - 77s 136ms/step - loss: 2.3742\n",
            "Epoch 32/50\n",
            "567/567 [==============================] - 77s 135ms/step - loss: 2.3571\n",
            "Epoch 33/50\n",
            "567/567 [==============================] - 76s 134ms/step - loss: 2.3498\n",
            "Epoch 34/50\n",
            "567/567 [==============================] - 76s 135ms/step - loss: 2.3317\n",
            "Epoch 35/50\n",
            "567/567 [==============================] - 76s 135ms/step - loss: 2.3234\n",
            "Epoch 36/50\n",
            "567/567 [==============================] - 76s 135ms/step - loss: 2.3070\n",
            "Epoch 37/50\n",
            "567/567 [==============================] - 76s 133ms/step - loss: 2.2990\n",
            "Epoch 38/50\n",
            "567/567 [==============================] - 76s 134ms/step - loss: 2.2876\n",
            "Epoch 39/50\n",
            "567/567 [==============================] - 77s 136ms/step - loss: 2.2712\n",
            "Epoch 40/50\n",
            "567/567 [==============================] - 77s 135ms/step - loss: 2.2735\n",
            "Epoch 41/50\n",
            "567/567 [==============================] - 76s 135ms/step - loss: 2.2508\n",
            "Epoch 42/50\n",
            "567/567 [==============================] - 78s 137ms/step - loss: 2.2535\n",
            "Epoch 43/50\n",
            "567/567 [==============================] - 77s 135ms/step - loss: 2.2396\n",
            "Epoch 44/50\n",
            "567/567 [==============================] - 76s 134ms/step - loss: 2.2268\n",
            "Epoch 45/50\n",
            "567/567 [==============================] - 77s 137ms/step - loss: 2.2257\n",
            "Epoch 46/50\n",
            "567/567 [==============================] - 76s 134ms/step - loss: 2.2072\n",
            "Epoch 47/50\n",
            "567/567 [==============================] - 77s 136ms/step - loss: 2.2018\n",
            "Epoch 48/50\n",
            "567/567 [==============================] - 77s 136ms/step - loss: 2.1920\n",
            "Epoch 49/50\n",
            "567/567 [==============================] - 77s 136ms/step - loss: 2.1923\n",
            "Epoch 50/50\n",
            "567/567 [==============================] - 77s 135ms/step - loss: 2.1713\n"
          ]
        }
      ],
      "source": [
        "encoder = create_encoder()\n",
        "\n",
        "encoder_with_projection_head = add_projection_head(encoder)\n",
        "encoder_with_projection_head.compile(\n",
        "    optimizer=keras.optimizers.Adam(learning_rate),\n",
        "    loss=SupervisedContrastiveLoss(temperature),\n",
        ")\n",
        "\n",
        "encoder_with_projection_head.summary()\n",
        "\n",
        "history = encoder_with_projection_head.fit(\n",
        "    x=x_train, y=y_train, batch_size=batch_size, epochs=num_epochs\n",
        ")"
      ]
    },
    {
      "cell_type": "code",
      "source": [
        "checkpointer = ModelCheckpoint(filepath='saved_models/Contrastive_npairloss_vgg19.h5', \n",
        "                               monitor='sparse_categorical_accuracy', mode='max',\n",
        "                               verbose=1, save_best_only=True)\n",
        "early_stopping = EarlyStopping(monitor='loss', mode='min', verbose=1, patience=3)\n",
        "reduce_lr = ReduceLROnPlateau(monitor='loss', factor=0.2,patience=2, min_lr=1e-5)\n",
        "callbacks=[early_stopping, reduce_lr, checkpointer]"
      ],
      "metadata": {
        "id": "wph-gfkWGbK5"
      },
      "execution_count": 18,
      "outputs": []
    },
    {
      "cell_type": "code",
      "execution_count": 19,
      "metadata": {
        "id": "FukUo3HE9lXC"
      },
      "outputs": [],
      "source": [
        "encoder_with_projection_head.save(save_path + 'Contrastive_npairloss_vgg19.h5')\n",
        "encoder_with_projection_head.save_weights(save_path1 + \"Weights_Contrastive_npairloss_vgg19.h5\")"
      ]
    },
    {
      "cell_type": "code",
      "execution_count": 20,
      "metadata": {
        "id": "cE7W29fHKzOm"
      },
      "outputs": [],
      "source": [
        "vgg19_npair_trainloss_dict = {}\n",
        "vgg19_npair_valloss_dict = {}"
      ]
    },
    {
      "cell_type": "code",
      "execution_count": 21,
      "metadata": {
        "id": "WyFGBuuV9LiY"
      },
      "outputs": [],
      "source": [
        "import pickle\n",
        "\n",
        "with open('/content/drive/MyDrive/vgg19_npair_trainloss_dict.pkl', 'wb') as file:\n",
        "    pickle.dump(vgg19_npair_trainloss_dict, file)\n",
        "\n",
        "with open('/content/drive/MyDrive/vgg19_npair_valloss_dict.pkl', 'wb') as file:\n",
        "    pickle.dump(vgg19_npair_valloss_dict, file)"
      ]
    },
    {
      "cell_type": "code",
      "execution_count": 22,
      "metadata": {
        "id": "XCErdBWYFqfc",
        "colab": {
          "base_uri": "https://localhost:8080/"
        },
        "outputId": "357af5ef-3a5b-4974-f19f-7dbb66529771"
      },
      "outputs": [
        {
          "output_type": "stream",
          "name": "stdout",
          "text": [
            "Epoch 1/50\n",
            "567/567 [==============================] - ETA: 0s - loss: 12.0099 - sparse_categorical_accuracy: 0.8525\n",
            "Epoch 1: sparse_categorical_accuracy improved from -inf to 0.85251, saving model to saved_models/Contrastive_npairloss_vgg19.h5\n",
            "567/567 [==============================] - 27s 43ms/step - loss: 12.0099 - sparse_categorical_accuracy: 0.8525 - lr: 1.0000e-04\n",
            "Epoch 2/50\n",
            "567/567 [==============================] - ETA: 0s - loss: 3.4187 - sparse_categorical_accuracy: 0.9372\n",
            "Epoch 2: sparse_categorical_accuracy improved from 0.85251 to 0.93715, saving model to saved_models/Contrastive_npairloss_vgg19.h5\n",
            "567/567 [==============================] - 25s 43ms/step - loss: 3.4187 - sparse_categorical_accuracy: 0.9372 - lr: 1.0000e-04\n",
            "Epoch 3/50\n",
            "567/567 [==============================] - ETA: 0s - loss: 3.0023 - sparse_categorical_accuracy: 0.9406\n",
            "Epoch 3: sparse_categorical_accuracy improved from 0.93715 to 0.94057, saving model to saved_models/Contrastive_npairloss_vgg19.h5\n",
            "567/567 [==============================] - 24s 43ms/step - loss: 3.0023 - sparse_categorical_accuracy: 0.9406 - lr: 1.0000e-04\n",
            "Epoch 4/50\n",
            "567/567 [==============================] - ETA: 0s - loss: 2.5051 - sparse_categorical_accuracy: 0.9420\n",
            "Epoch 4: sparse_categorical_accuracy improved from 0.94057 to 0.94195, saving model to saved_models/Contrastive_npairloss_vgg19.h5\n",
            "567/567 [==============================] - 25s 43ms/step - loss: 2.5051 - sparse_categorical_accuracy: 0.9420 - lr: 1.0000e-04\n",
            "Epoch 5/50\n",
            "567/567 [==============================] - ETA: 0s - loss: 2.1098 - sparse_categorical_accuracy: 0.9431\n",
            "Epoch 5: sparse_categorical_accuracy improved from 0.94195 to 0.94306, saving model to saved_models/Contrastive_npairloss_vgg19.h5\n",
            "567/567 [==============================] - 25s 43ms/step - loss: 2.1098 - sparse_categorical_accuracy: 0.9431 - lr: 1.0000e-04\n",
            "Epoch 6/50\n",
            "567/567 [==============================] - ETA: 0s - loss: 1.9427 - sparse_categorical_accuracy: 0.9400\n",
            "Epoch 6: sparse_categorical_accuracy did not improve from 0.94306\n",
            "567/567 [==============================] - 24s 43ms/step - loss: 1.9427 - sparse_categorical_accuracy: 0.9400 - lr: 1.0000e-04\n",
            "Epoch 7/50\n",
            "567/567 [==============================] - ETA: 0s - loss: 1.5570 - sparse_categorical_accuracy: 0.9430\n",
            "Epoch 7: sparse_categorical_accuracy did not improve from 0.94306\n",
            "567/567 [==============================] - 24s 43ms/step - loss: 1.5570 - sparse_categorical_accuracy: 0.9430 - lr: 1.0000e-04\n",
            "Epoch 8/50\n",
            "567/567 [==============================] - ETA: 0s - loss: 1.3586 - sparse_categorical_accuracy: 0.9416\n",
            "Epoch 8: sparse_categorical_accuracy did not improve from 0.94306\n",
            "567/567 [==============================] - 24s 43ms/step - loss: 1.3586 - sparse_categorical_accuracy: 0.9416 - lr: 1.0000e-04\n",
            "Epoch 9/50\n",
            "567/567 [==============================] - ETA: 0s - loss: 1.1603 - sparse_categorical_accuracy: 0.9401\n",
            "Epoch 9: sparse_categorical_accuracy did not improve from 0.94306\n",
            "567/567 [==============================] - 25s 43ms/step - loss: 1.1603 - sparse_categorical_accuracy: 0.9401 - lr: 1.0000e-04\n",
            "Epoch 10/50\n",
            "567/567 [==============================] - ETA: 0s - loss: 0.9698 - sparse_categorical_accuracy: 0.9389\n",
            "Epoch 10: sparse_categorical_accuracy did not improve from 0.94306\n",
            "567/567 [==============================] - 24s 43ms/step - loss: 0.9698 - sparse_categorical_accuracy: 0.9389 - lr: 1.0000e-04\n",
            "Epoch 11/50\n",
            "567/567 [==============================] - ETA: 0s - loss: 0.8270 - sparse_categorical_accuracy: 0.9395\n",
            "Epoch 11: sparse_categorical_accuracy did not improve from 0.94306\n",
            "567/567 [==============================] - 24s 43ms/step - loss: 0.8270 - sparse_categorical_accuracy: 0.9395 - lr: 1.0000e-04\n",
            "Epoch 12/50\n",
            "567/567 [==============================] - ETA: 0s - loss: 0.7191 - sparse_categorical_accuracy: 0.9376\n",
            "Epoch 12: sparse_categorical_accuracy did not improve from 0.94306\n",
            "567/567 [==============================] - 24s 43ms/step - loss: 0.7191 - sparse_categorical_accuracy: 0.9376 - lr: 1.0000e-04\n",
            "Epoch 13/50\n",
            "567/567 [==============================] - ETA: 0s - loss: 0.6323 - sparse_categorical_accuracy: 0.9412\n",
            "Epoch 13: sparse_categorical_accuracy did not improve from 0.94306\n",
            "567/567 [==============================] - 25s 44ms/step - loss: 0.6323 - sparse_categorical_accuracy: 0.9412 - lr: 1.0000e-04\n",
            "Epoch 14/50\n",
            "567/567 [==============================] - ETA: 0s - loss: 0.5024 - sparse_categorical_accuracy: 0.9360\n",
            "Epoch 14: sparse_categorical_accuracy did not improve from 0.94306\n",
            "567/567 [==============================] - 25s 43ms/step - loss: 0.5024 - sparse_categorical_accuracy: 0.9360 - lr: 1.0000e-04\n",
            "Epoch 15/50\n",
            "567/567 [==============================] - ETA: 0s - loss: 0.5229 - sparse_categorical_accuracy: 0.9354\n",
            "Epoch 15: sparse_categorical_accuracy did not improve from 0.94306\n",
            "567/567 [==============================] - 24s 43ms/step - loss: 0.5229 - sparse_categorical_accuracy: 0.9354 - lr: 1.0000e-04\n",
            "Epoch 16/50\n",
            "567/567 [==============================] - ETA: 0s - loss: 0.4429 - sparse_categorical_accuracy: 0.9386\n",
            "Epoch 16: sparse_categorical_accuracy did not improve from 0.94306\n",
            "567/567 [==============================] - 25s 44ms/step - loss: 0.4429 - sparse_categorical_accuracy: 0.9386 - lr: 1.0000e-04\n",
            "Epoch 17/50\n",
            "567/567 [==============================] - ETA: 0s - loss: 0.3693 - sparse_categorical_accuracy: 0.9392\n",
            "Epoch 17: sparse_categorical_accuracy did not improve from 0.94306\n",
            "567/567 [==============================] - 25s 44ms/step - loss: 0.3693 - sparse_categorical_accuracy: 0.9392 - lr: 1.0000e-04\n",
            "Epoch 18/50\n",
            "567/567 [==============================] - ETA: 0s - loss: 0.3739 - sparse_categorical_accuracy: 0.9379\n",
            "Epoch 18: sparse_categorical_accuracy did not improve from 0.94306\n",
            "567/567 [==============================] - 25s 44ms/step - loss: 0.3739 - sparse_categorical_accuracy: 0.9379 - lr: 1.0000e-04\n",
            "Epoch 19/50\n",
            "567/567 [==============================] - ETA: 0s - loss: 0.3200 - sparse_categorical_accuracy: 0.9373\n",
            "Epoch 19: sparse_categorical_accuracy did not improve from 0.94306\n",
            "567/567 [==============================] - 25s 44ms/step - loss: 0.3200 - sparse_categorical_accuracy: 0.9373 - lr: 1.0000e-04\n",
            "Epoch 20/50\n",
            "567/567 [==============================] - ETA: 0s - loss: 0.3187 - sparse_categorical_accuracy: 0.9407\n",
            "Epoch 20: sparse_categorical_accuracy did not improve from 0.94306\n",
            "567/567 [==============================] - 25s 44ms/step - loss: 0.3187 - sparse_categorical_accuracy: 0.9407 - lr: 1.0000e-04\n",
            "Epoch 21/50\n",
            "567/567 [==============================] - ETA: 0s - loss: 0.2984 - sparse_categorical_accuracy: 0.9420\n",
            "Epoch 21: sparse_categorical_accuracy did not improve from 0.94306\n",
            "567/567 [==============================] - 25s 44ms/step - loss: 0.2984 - sparse_categorical_accuracy: 0.9420 - lr: 1.0000e-04\n",
            "Epoch 22/50\n",
            "567/567 [==============================] - ETA: 0s - loss: 0.2820 - sparse_categorical_accuracy: 0.9406\n",
            "Epoch 22: sparse_categorical_accuracy did not improve from 0.94306\n",
            "567/567 [==============================] - 25s 44ms/step - loss: 0.2820 - sparse_categorical_accuracy: 0.9406 - lr: 1.0000e-04\n",
            "Epoch 23/50\n",
            "567/567 [==============================] - ETA: 0s - loss: 0.2748 - sparse_categorical_accuracy: 0.9412\n",
            "Epoch 23: sparse_categorical_accuracy did not improve from 0.94306\n",
            "567/567 [==============================] - 25s 44ms/step - loss: 0.2748 - sparse_categorical_accuracy: 0.9412 - lr: 1.0000e-04\n",
            "Epoch 24/50\n",
            "567/567 [==============================] - ETA: 0s - loss: 0.2442 - sparse_categorical_accuracy: 0.9440\n",
            "Epoch 24: sparse_categorical_accuracy improved from 0.94306 to 0.94399, saving model to saved_models/Contrastive_npairloss_vgg19.h5\n",
            "567/567 [==============================] - 25s 44ms/step - loss: 0.2442 - sparse_categorical_accuracy: 0.9440 - lr: 1.0000e-04\n",
            "Epoch 25/50\n",
            "567/567 [==============================] - ETA: 0s - loss: 0.2602 - sparse_categorical_accuracy: 0.9455\n",
            "Epoch 25: sparse_categorical_accuracy improved from 0.94399 to 0.94548, saving model to saved_models/Contrastive_npairloss_vgg19.h5\n",
            "567/567 [==============================] - 25s 43ms/step - loss: 0.2602 - sparse_categorical_accuracy: 0.9455 - lr: 1.0000e-04\n",
            "Epoch 26/50\n",
            "567/567 [==============================] - ETA: 0s - loss: 0.2430 - sparse_categorical_accuracy: 0.9435\n",
            "Epoch 26: sparse_categorical_accuracy did not improve from 0.94548\n",
            "567/567 [==============================] - 25s 44ms/step - loss: 0.2430 - sparse_categorical_accuracy: 0.9435 - lr: 1.0000e-04\n",
            "Epoch 27/50\n",
            "567/567 [==============================] - ETA: 0s - loss: 0.2478 - sparse_categorical_accuracy: 0.9444\n",
            "Epoch 27: sparse_categorical_accuracy did not improve from 0.94548\n",
            "567/567 [==============================] - 25s 44ms/step - loss: 0.2478 - sparse_categorical_accuracy: 0.9444 - lr: 1.0000e-04\n",
            "Epoch 28/50\n",
            "567/567 [==============================] - ETA: 0s - loss: 0.2287 - sparse_categorical_accuracy: 0.9448\n",
            "Epoch 28: sparse_categorical_accuracy did not improve from 0.94548\n",
            "567/567 [==============================] - 25s 45ms/step - loss: 0.2287 - sparse_categorical_accuracy: 0.9448 - lr: 1.0000e-04\n",
            "Epoch 29/50\n",
            "567/567 [==============================] - ETA: 0s - loss: 0.2292 - sparse_categorical_accuracy: 0.9472\n",
            "Epoch 29: sparse_categorical_accuracy improved from 0.94548 to 0.94725, saving model to saved_models/Contrastive_npairloss_vgg19.h5\n",
            "567/567 [==============================] - 25s 45ms/step - loss: 0.2292 - sparse_categorical_accuracy: 0.9472 - lr: 1.0000e-04\n",
            "Epoch 30/50\n",
            "567/567 [==============================] - ETA: 0s - loss: 0.2080 - sparse_categorical_accuracy: 0.9488\n",
            "Epoch 30: sparse_categorical_accuracy improved from 0.94725 to 0.94885, saving model to saved_models/Contrastive_npairloss_vgg19.h5\n",
            "567/567 [==============================] - 25s 45ms/step - loss: 0.2080 - sparse_categorical_accuracy: 0.9488 - lr: 1.0000e-04\n",
            "Epoch 31/50\n",
            "567/567 [==============================] - ETA: 0s - loss: 0.2236 - sparse_categorical_accuracy: 0.9467\n",
            "Epoch 31: sparse_categorical_accuracy did not improve from 0.94885\n",
            "567/567 [==============================] - 25s 43ms/step - loss: 0.2236 - sparse_categorical_accuracy: 0.9467 - lr: 1.0000e-04\n",
            "Epoch 32/50\n",
            "567/567 [==============================] - ETA: 0s - loss: 0.2178 - sparse_categorical_accuracy: 0.9474\n",
            "Epoch 32: sparse_categorical_accuracy did not improve from 0.94885\n",
            "567/567 [==============================] - 25s 44ms/step - loss: 0.2178 - sparse_categorical_accuracy: 0.9474 - lr: 1.0000e-04\n",
            "Epoch 33/50\n",
            "567/567 [==============================] - ETA: 0s - loss: 0.2175 - sparse_categorical_accuracy: 0.9501\n",
            "Epoch 33: sparse_categorical_accuracy improved from 0.94885 to 0.95012, saving model to saved_models/Contrastive_npairloss_vgg19.h5\n",
            "567/567 [==============================] - 25s 44ms/step - loss: 0.2175 - sparse_categorical_accuracy: 0.9501 - lr: 2.0000e-05\n",
            "Epoch 33: early stopping\n"
          ]
        }
      ],
      "source": [
        "classifier = create_classifier(encoder, trainable=False)\n",
        "\n",
        "history = classifier.fit(x=x_train, y=y_train, batch_size=batch_size, epochs=num_epochs,callbacks=callbacks)"
      ]
    },
    {
      "cell_type": "code",
      "execution_count": 23,
      "metadata": {
        "id": "wubug80UrsGF"
      },
      "outputs": [],
      "source": [
        "classifier.save(save_path + 'Contrastive_npair_vgg19.h5')\n",
        "classifier.save_weights(save_path1 + \"Weights_Contrastive_npair_vgg19.h5\")"
      ]
    },
    {
      "cell_type": "code",
      "execution_count": 24,
      "metadata": {
        "id": "SoaCLSY8Fqfc",
        "colab": {
          "base_uri": "https://localhost:8080/"
        },
        "outputId": "54d2b721-40e6-4da7-d1ea-e09343ae1797"
      },
      "outputs": [
        {
          "output_type": "stream",
          "name": "stdout",
          "text": [
            "26/26 [==============================] - 2s 64ms/step - loss: 0.1047 - sparse_categorical_accuracy: 0.9667\n",
            "Test accuracy: 96.67%\n"
          ]
        }
      ],
      "source": [
        "accuracy = classifier.evaluate(x_test, y_test)[1]\n",
        "print(f\"Test accuracy: {round(accuracy * 100, 2)}%\")"
      ]
    },
    {
      "cell_type": "code",
      "execution_count": 25,
      "metadata": {
        "id": "F3fPhCLAFqfc",
        "colab": {
          "base_uri": "https://localhost:8080/"
        },
        "outputId": "00678113-891a-4f25-a1e8-788ed27367b4"
      },
      "outputs": [
        {
          "output_type": "stream",
          "name": "stdout",
          "text": [
            "26/26 [==============================] - 1s 38ms/step\n"
          ]
        }
      ],
      "source": [
        "y_predict = np.argmax(classifier.predict(x_test), axis=-1)"
      ]
    },
    {
      "cell_type": "code",
      "execution_count": 26,
      "metadata": {
        "id": "fnd6VpCdFqfc",
        "colab": {
          "base_uri": "https://localhost:8080/"
        },
        "outputId": "f010da66-ecda-4edf-b49e-bf18a2766397"
      },
      "outputs": [
        {
          "output_type": "execute_result",
          "data": {
            "text/plain": [
              "array([[158,   4,   0,   1,   0],\n",
              "       [  1, 156,   7,   0,   1],\n",
              "       [  1,   3, 153,   1,   1],\n",
              "       [  2,   1,   1, 154,   0],\n",
              "       [  0,   1,   2,   0, 164]])"
            ]
          },
          "metadata": {},
          "execution_count": 26
        }
      ],
      "source": [
        "confusion_matrix(y_test, y_predict)"
      ]
    },
    {
      "cell_type": "code",
      "execution_count": 27,
      "metadata": {
        "id": "L7gIONaTFqfc",
        "colab": {
          "base_uri": "https://localhost:8080/",
          "height": 430
        },
        "outputId": "1580dfd2-80d3-4805-cd6e-1e6a77a72f8f"
      },
      "outputs": [
        {
          "output_type": "display_data",
          "data": {
            "text/plain": [
              "<Figure size 640x480 with 2 Axes>"
            ],
            "image/png": "[encoded data removed]"
          },
          "metadata": {}
        }
      ],
      "source": [
        "cm = confusion_matrix(y_test, y_predict)\n",
        "f = sns.heatmap(cm, annot=True)"
      ]
    },
    {
      "cell_type": "code",
      "execution_count": 28,
      "metadata": {
        "id": "jk1UplSXFqfd",
        "colab": {
          "base_uri": "https://localhost:8080/"
        },
        "outputId": "a0961fb8-35da-42b3-ba99-2feb76736dae"
      },
      "outputs": [
        {
          "output_type": "stream",
          "name": "stdout",
          "text": [
            "              precision    recall  f1-score   support\n",
            "\n",
            "           0       0.98      0.97      0.97       163\n",
            "           1       0.95      0.95      0.95       165\n",
            "           2       0.94      0.96      0.95       159\n",
            "           3       0.99      0.97      0.98       158\n",
            "           4       0.99      0.98      0.98       167\n",
            "\n",
            "    accuracy                           0.97       812\n",
            "   macro avg       0.97      0.97      0.97       812\n",
            "weighted avg       0.97      0.97      0.97       812\n",
            "\n"
          ]
        }
      ],
      "source": [
        "print(classification_report(y_test, y_predict))"
      ]
    },
    {
      "cell_type": "code",
      "execution_count": 29,
      "metadata": {
        "id": "_F51VeA5LOYO"
      },
      "outputs": [],
      "source": [
        "classifier.save(save_path + 'Contrastive_npair_vgg19.h5')\n",
        "classifier.save_weights(save_path1 + \"Weights_Contrastive_npair_vgg19.h5\")"
      ]
    },
    {
      "cell_type": "code",
      "execution_count": 30,
      "metadata": {
        "id": "hI2NnHiyLYLs"
      },
      "outputs": [],
      "source": [
        "npair_VGG16=load_model(save_path + 'Contrastive_npair_vgg19.h5')"
      ]
    },
    {
      "cell_type": "code",
      "execution_count": 31,
      "metadata": {
        "id": "RYzKptWRLekp",
        "colab": {
          "base_uri": "https://localhost:8080/"
        },
        "outputId": "57508d7e-cda2-4109-ae52-ba3c7963498a"
      },
      "outputs": [
        {
          "output_type": "stream",
          "name": "stdout",
          "text": [
            "26/26 [==============================] - 1s 43ms/step - loss: 0.1047 - sparse_categorical_accuracy: 0.9667\n",
            "Test accuracy: 96.67%\n"
          ]
        }
      ],
      "source": [
        "accuracy = npair_VGG16.evaluate(x_test, y_test)[1]\n",
        "print(f\"Test accuracy: {round(accuracy * 100, 2)}%\")"
      ]
    },
    {
      "cell_type": "code",
      "execution_count": 32,
      "metadata": {
        "id": "FcFHbLEALpLU",
        "colab": {
          "base_uri": "https://localhost:8080/",
          "height": 780
        },
        "outputId": "a1f54f37-3cd5-419d-eb7e-02254c7e0b24"
      },
      "outputs": [
        {
          "output_type": "stream",
          "name": "stdout",
          "text": [
            "26/26 [==============================] - 2s 45ms/step\n"
          ]
        },
        {
          "output_type": "display_data",
          "data": {
            "text/plain": [
              "<Figure size 1200x1200 with 2 Axes>"
            ],
            "image/png": "[encoded data removed]"
          },
          "metadata": {}
        }
      ],
      "source": [
        "pred = npair_VGG16.predict(x_test)\n",
        "cancer_classes=np.unique(y_test)\n",
        "y_pred = np.argmax(pred, axis=1)\n",
        "confusion_mtx = confusion_matrix(y_pred, y_test)\n",
        "f,ax = plt.subplots(figsize=(12, 12))\n",
        "sns.heatmap(confusion_mtx, annot=True, \n",
        "            linewidths=0.01,\n",
        "            linecolor=\"white\", \n",
        "            fmt= '.1f',ax=ax,)\n",
        "sns.color_palette(\"rocket\", as_cmap=True)\n",
        "\n",
        "plt.xlabel(\"Predicted Label\")\n",
        "plt.ylabel(\"True Label\")\n",
        "ax.xaxis.set_ticklabels(cancer_classes)\n",
        "ax.yaxis.set_ticklabels(cancer_classes)\n",
        "plt.title(\"Confusion Matrix\")\n",
        "plt.show()"
      ]
    },
    {
      "cell_type": "code",
      "execution_count": 33,
      "metadata": {
        "id": "EjiPrGDyLrO9",
        "colab": {
          "base_uri": "https://localhost:8080/",
          "height": 300
        },
        "outputId": "904f14d0-79c3-4103-af93-5699d0bffe09"
      },
      "outputs": [
        {
          "output_type": "execute_result",
          "data": {
            "text/plain": [
              "              precision    recall  f1-score     support\n",
              "0              0.975309  0.969325  0.972308  163.000000\n",
              "1              0.945455  0.945455  0.945455  165.000000\n",
              "2              0.938650  0.962264  0.950311  159.000000\n",
              "3              0.987179  0.974684  0.980892  158.000000\n",
              "4              0.987952  0.982036  0.984985  167.000000\n",
              "accuracy       0.966749  0.966749  0.966749    0.966749\n",
              "macro avg      0.966909  0.966753  0.966790  812.000000\n",
              "weighted avg   0.966974  0.966749  0.966821  812.000000"
            ],
            "text/html": [
              "\n",
              "  <div id=\"df-a3e67b48-3785-4e32-bb0b-f60638ab210e\">\n",
              "    <div class=\"colab-df-container\">\n",
              "      <div>\n",
              "<style scoped>\n",
              "    .dataframe tbody tr th:only-of-type {\n",
              "        vertical-align: middle;\n",
              "    }\n",
              "\n",
              "    .dataframe tbody tr th {\n",
              "        vertical-align: top;\n",
              "    }\n",
              "\n",
              "    .dataframe thead th {\n",
              "        text-align: right;\n",
              "    }\n",
              "</style>\n",
              "<table border=\"1\" class=\"dataframe\">\n",
              "  <thead>\n",
              "    <tr style=\"text-align: right;\">\n",
              "      <th></th>\n",
              "      <th>precision</th>\n",
              "      <th>recall</th>\n",
              "      <th>f1-score</th>\n",
              "      <th>support</th>\n",
              "    </tr>\n",
              "  </thead>\n",
              "  <tbody>\n",
              "    <tr>\n",
              "      <th>0</th>\n",
              "      <td>0.975309</td>\n",
              "      <td>0.969325</td>\n",
              "      <td>0.972308</td>\n",
              "      <td>163.000000</td>\n",
              "    </tr>\n",
              "    <tr>\n",
              "      <th>1</th>\n",
              "      <td>0.945455</td>\n",
              "      <td>0.945455</td>\n",
              "      <td>0.945455</td>\n",
              "      <td>165.000000</td>\n",
              "    </tr>\n",
              "    <tr>\n",
              "      <th>2</th>\n",
              "      <td>0.938650</td>\n",
              "      <td>0.962264</td>\n",
              "      <td>0.950311</td>\n",
              "      <td>159.000000</td>\n",
              "    </tr>\n",
              "    <tr>\n",
              "      <th>3</th>\n",
              "      <td>0.987179</td>\n",
              "      <td>0.974684</td>\n",
              "      <td>0.980892</td>\n",
              "      <td>158.000000</td>\n",
              "    </tr>\n",
              "    <tr>\n",
              "      <th>4</th>\n",
              "      <td>0.987952</td>\n",
              "      <td>0.982036</td>\n",
              "      <td>0.984985</td>\n",
              "      <td>167.000000</td>\n",
              "    </tr>\n",
              "    <tr>\n",
              "      <th>accuracy</th>\n",
              "      <td>0.966749</td>\n",
              "      <td>0.966749</td>\n",
              "      <td>0.966749</td>\n",
              "      <td>0.966749</td>\n",
              "    </tr>\n",
              "    <tr>\n",
              "      <th>macro avg</th>\n",
              "      <td>0.966909</td>\n",
              "      <td>0.966753</td>\n",
              "      <td>0.966790</td>\n",
              "      <td>812.000000</td>\n",
              "    </tr>\n",
              "    <tr>\n",
              "      <th>weighted avg</th>\n",
              "      <td>0.966974</td>\n",
              "      <td>0.966749</td>\n",
              "      <td>0.966821</td>\n",
              "      <td>812.000000</td>\n",
              "    </tr>\n",
              "  </tbody>\n",
              "</table>\n",
              "</div>\n",
              "      <button class=\"colab-df-convert\" onclick=\"convertToInteractive('df-a3e67b48-3785-4e32-bb0b-f60638ab210e')\"\n",
              "              title=\"Convert this dataframe to an interactive table.\"\n",
              "              style=\"display:none;\">\n",
              "        \n",
              "  <svg xmlns=\"http://www.w3.org/2000/svg\" height=\"24px\"viewBox=\"0 0 24 24\"\n",
              "       width=\"24px\">\n",
              "    <path d=\"M0 0h24v24H0V0z\" fill=\"none\"/>\n",
              "    <path d=\"M18.56 5.44l.94 2.06.94-2.06 2.06-.94-2.06-.94-.94-2.06-.94 2.06-2.06.94zm-11 1L8.5 8.5l.94-2.06 2.06-.94-2.06-.94L8.5 2.5l-.94 2.06-2.06.94zm10 10l.94 2.06.94-2.06 2.06-.94-2.06-.94-.94-2.06-.94 2.06-2.06.94z\"/><path d=\"M17.41 7.96l-1.37-1.37c-.4-.4-.92-.59-1.43-.59-.52 0-1.04.2-1.43.59L10.3 9.45l-7.72 7.72c-.78.78-.78 2.05 0 2.83L4 21.41c.39.39.9.59 1.41.59.51 0 1.02-.2 1.41-.59l7.78-7.78 2.81-2.81c.8-.78.8-2.07 0-2.86zM5.41 20L4 18.59l7.72-7.72 1.47 1.35L5.41 20z\"/>\n",
              "  </svg>\n",
              "      </button>\n",
              "      \n",
              "  <style>\n",
              "    .colab-df-container {\n",
              "      display:flex;\n",
              "      flex-wrap:wrap;\n",
              "      gap: 12px;\n",
              "    }\n",
              "\n",
              "    .colab-df-convert {\n",
              "      background-color: #E8F0FE;\n",
              "      border: none;\n",
              "      border-radius: 50%;\n",
              "      cursor: pointer;\n",
              "      display: none;\n",
              "      fill: #1967D2;\n",
              "      height: 32px;\n",
              "      padding: 0 0 0 0;\n",
              "      width: 32px;\n",
              "    }\n",
              "\n",
              "    .colab-df-convert:hover {\n",
              "      background-color: #E2EBFA;\n",
              "      box-shadow: 0px 1px 2px rgba(60, 64, 67, 0.3), 0px 1px 3px 1px rgba(60, 64, 67, 0.15);\n",
              "      fill: #174EA6;\n",
              "    }\n",
              "\n",
              "    [theme=dark] .colab-df-convert {\n",
              "      background-color: #3B4455;\n",
              "      fill: #D2E3FC;\n",
              "    }\n",
              "\n",
              "    [theme=dark] .colab-df-convert:hover {\n",
              "      background-color: #434B5C;\n",
              "      box-shadow: 0px 1px 3px 1px rgba(0, 0, 0, 0.15);\n",
              "      filter: drop-shadow(0px 1px 2px rgba(0, 0, 0, 0.3));\n",
              "      fill: #FFFFFF;\n",
              "    }\n",
              "  </style>\n",
              "\n",
              "      <script>\n",
              "        const buttonEl =\n",
              "          document.querySelector('#df-a3e67b48-3785-4e32-bb0b-f60638ab210e button.colab-df-convert');\n",
              "        buttonEl.style.display =\n",
              "          google.colab.kernel.accessAllowed ? 'block' : 'none';\n",
              "\n",
              "        async function convertToInteractive(key) {\n",
              "          const element = document.querySelector('#df-a3e67b48-3785-4e32-bb0b-f60638ab210e');\n",
              "          const dataTable =\n",
              "            await google.colab.kernel.invokeFunction('convertToInteractive',\n",
              "                                                     [key], {});\n",
              "          if (!dataTable) return;\n",
              "\n",
              "          const docLinkHtml = 'Like what you see? Visit the ' +\n",
              "            '<a target=\"_blank\" href=https://colab.research.google.com/notebooks/data_table.ipynb>data table notebook</a>'\n",
              "            + ' to learn more about interactive tables.';\n",
              "          element.innerHTML = '';\n",
              "          dataTable['output_type'] = 'display_data';\n",
              "          await google.colab.output.renderOutput(dataTable, element);\n",
              "          const docLink = document.createElement('div');\n",
              "          docLink.innerHTML = docLinkHtml;\n",
              "          element.appendChild(docLink);\n",
              "        }\n",
              "      </script>\n",
              "    </div>\n",
              "  </div>\n",
              "  "
            ]
          },
          "metadata": {},
          "execution_count": 33
        }
      ],
      "source": [
        "report_npair = classification_report(y_test, y_pred, target_names=cancer_classes, output_dict=True)\n",
        "df2 = pd.DataFrame(report_npair).transpose()\n",
        "df2"
      ]
    }
  ],
  "metadata": {
    "accelerator": "GPU",
    "colab": {
      "machine_shape": "hm",
      "provenance": []
    },
    "gpuClass": "standard",
    "kernelspec": {
      "display_name": "Python 3",
      "language": "python",
      "name": "python3"
    },
    "language_info": {
      "codemirror_mode": {
        "name": "ipython",
        "version": 3
      },
      "file_extension": ".py",
      "mimetype": "text/x-python",
      "name": "python",
      "nbconvert_exporter": "python",
      "pygments_lexer": "ipython3",
      "version": "3.10.10"
    }
  },
  "nbformat": 4,
  "nbformat_minor": 0
}