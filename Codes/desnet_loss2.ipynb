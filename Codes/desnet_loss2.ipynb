{
  "cells": [
    {
      "cell_type": "code",
      "execution_count": null,
      "metadata": {
        "colab": {
          "base_uri": "https://localhost:8080/"
        },
        "id": "xpYVPHnrF2Z2",
        "outputId": "f3dbc942-4385-4a8d-f5f2-c9d02d0d259c"
      },
      "outputs": [
        {
          "output_type": "stream",
          "name": "stdout",
          "text": [
            "2.12.0\n"
          ]
        }
      ],
      "source": [
        "import tensorflow as tf\n",
        "print(tf.__version__)"
      ]
    },
    {
      "cell_type": "code",
      "execution_count": null,
      "metadata": {
        "colab": {
          "base_uri": "https://localhost:8080/"
        },
        "id": "O4hKrNSvF23y",
        "outputId": "ac9710d3-4107-4d1f-fe36-61c9f374ff03"
      },
      "outputs": [
        {
          "output_type": "stream",
          "name": "stdout",
          "text": [
            "Mounted at /content/drive\n"
          ]
        }
      ],
      "source": [
        "from google.colab import drive\n",
        "drive.mount('/content/drive')"
      ]
    },
    {
      "cell_type": "code",
      "execution_count": null,
      "metadata": {
        "colab": {
          "base_uri": "https://localhost:8080/"
        },
        "id": "RmTeqCG9F6V4",
        "outputId": "167b0008-8300-4222-f3a3-37b65a628ed3"
      },
      "outputs": [
        {
          "output_type": "stream",
          "name": "stdout",
          "text": [
            "Looking in indexes: https://pypi.org/simple, https://us-python.pkg.dev/colab-wheels/public/simple/\n",
            "Collecting tensorflow-addons\n",
            "  Downloading tensorflow_addons-0.20.0-cp310-cp310-manylinux_2_17_x86_64.manylinux2014_x86_64.whl (591 kB)\n",
            "\u001b[2K     \u001b[90m━━━━━━━━━━━━━━━━━━━━━━━━━━━━━━━━━━━━━━\u001b[0m \u001b[32m591.0/591.0 kB\u001b[0m \u001b[31m12.6 MB/s\u001b[0m eta \u001b[36m0:00:00\u001b[0m\n",
            "\u001b[?25hRequirement already satisfied: packaging in /usr/local/lib/python3.10/dist-packages (from tensorflow-addons) (23.1)\n",
            "Collecting typeguard<3.0.0,>=2.7 (from tensorflow-addons)\n",
            "  Downloading typeguard-2.13.3-py3-none-any.whl (17 kB)\n",
            "Installing collected packages: typeguard, tensorflow-addons\n",
            "Successfully installed tensorflow-addons-0.20.0 typeguard-2.13.3\n"
          ]
        }
      ],
      "source": [
        "pip install tensorflow-addons"
      ]
    },
    {
      "cell_type": "code",
      "execution_count": null,
      "metadata": {
        "id": "UgD0aR8SHPHT"
      },
      "outputs": [],
      "source": [
        "save_path = '/content/drive/MyDrive/'\n",
        "save_path1 = '/content/drive/MyDrive/'"
      ]
    },
    {
      "cell_type": "code",
      "execution_count": null,
      "metadata": {
        "colab": {
          "base_uri": "https://localhost:8080/"
        },
        "id": "W22hw1WAF650",
        "outputId": "a1d4314c-a0e1-429f-f443-3a04b9d22cf0"
      },
      "outputs": [
        {
          "output_type": "stream",
          "name": "stderr",
          "text": [
            "/usr/local/lib/python3.10/dist-packages/tensorflow_addons/utils/tfa_eol_msg.py:23: UserWarning: \n",
            "\n",
            "TensorFlow Addons (TFA) has ended development and introduction of new features.\n",
            "TFA has entered a minimal maintenance and release mode until a planned end of life in May 2024.\n",
            "Please modify downstream libraries to take dependencies from other repositories in our TensorFlow community (e.g. Keras, Keras-CV, and Keras-NLP). \n",
            "\n",
            "For more information see: https://github.com/tensorflow/addons/issues/2807 \n",
            "\n",
            "  warnings.warn(\n"
          ]
        }
      ],
      "source": [
        "from tensorflow.keras.layers import *\n",
        "from tensorflow.keras.models import *\n",
        "import tensorflow_datasets as tfds\n",
        "import matplotlib.pyplot as plt\n",
        "import numpy as np\n",
        "import time\n",
        "import cv2\n",
        "from tqdm.notebook import tqdm\n",
        "from zipfile import ZipFile\n",
        "from imutils import paths\n",
        "tf.random.set_seed(666)\n",
        "np.random.seed(666)\n",
        "\n",
        "tfds.disable_progress_bar()\n",
        "import tensorflow as tf\n",
        "import tensorflow_addons as tfa\n",
        "import numpy as np\n",
        "from tensorflow import keras\n",
        "from tensorflow.keras import layers"
      ]
    },
    {
      "cell_type": "code",
      "execution_count": null,
      "metadata": {
        "id": "w-S0jnxsFqfV"
      },
      "outputs": [],
      "source": [
        "import tensorflow as tf\n",
        "#import tensorflow_addons as tfa\n",
        "import pandas as pd\n",
        "import numpy as np\n",
        "import matplotlib.pyplot as plt\n",
        "import seaborn as sns\n",
        "%matplotlib inline\n",
        "import os\n",
        "import glob\n",
        "import shutil\n",
        "import pathlib\n",
        "import random\n",
        "\n",
        "#model selection\n",
        "from sklearn.model_selection import train_test_split\n",
        "\n",
        "#data augumentation\n",
        "import  cv2\n",
        "import imgaug\n",
        "import imageio\n",
        "from imgaug import augmenters as iaa\n",
        "\n",
        "##\n",
        "from keras.preprocessing.image import ImageDataGenerator\n",
        "from sklearn.metrics import accuracy_score, confusion_matrix, classification_report\n",
        "\n",
        "from keras.applications import vgg16\n",
        "from keras.layers import Dense, GlobalMaxPool2D, BatchNormalization, Dropout\n",
        "from keras.models import Model, Sequential\n",
        "from keras.optimizers import Adam\n",
        "\n",
        "from keras.callbacks import ModelCheckpoint\n",
        "from keras.callbacks import ReduceLROnPlateau\n",
        "from keras.callbacks import EarlyStopping\n",
        "\n",
        "from tensorflow.keras import layers"
      ]
    },
    {
      "cell_type": "code",
      "execution_count": null,
      "metadata": {
        "id": "DiGw53eZFqfW"
      },
      "outputs": [],
      "source": [
        "from tensorflow.keras.layers import *\n",
        "from tensorflow.keras.models import *\n",
        "import tensorflow_datasets as tfds\n",
        "import matplotlib.pyplot as plt\n",
        "import numpy as np\n",
        "import time\n",
        "import cv2\n",
        "from tqdm.notebook import tqdm\n",
        "from zipfile import ZipFile\n",
        "from imutils import paths\n",
        "tf.random.set_seed(666)\n",
        "np.random.seed(666)\n",
        "\n",
        "tfds.disable_progress_bar()\n",
        "import tensorflow as tf\n",
        "import tensorflow_addons as tfa\n",
        "import numpy as np\n",
        "from tensorflow import keras\n",
        "from tensorflow.keras import layers\n",
        "from tensorflow.keras.layers import *\n",
        "from tensorflow.keras.models import *\n",
        "import tensorflow_datasets as tfds\n",
        "import matplotlib.pyplot as plt\n",
        "import numpy as np\n",
        "import time\n",
        "import cv2\n",
        "from tqdm.notebook import tqdm\n",
        "from zipfile import ZipFile\n",
        "from imutils import paths\n",
        "tf.random.set_seed(666)\n",
        "np.random.seed(666)\n",
        "\n",
        "tfds.disable_progress_bar()\n",
        "import tensorflow as tf\n",
        "import tensorflow_addons as tfa\n",
        "import numpy as np\n",
        "from tensorflow import keras\n",
        "from tensorflow.keras import layers"
      ]
    },
    {
      "cell_type": "code",
      "execution_count": null,
      "metadata": {
        "id": "EvaeK3xyDfHq",
        "colab": {
          "base_uri": "https://localhost:8080/"
        },
        "outputId": "b2942d6d-a645-4442-9465-5ef57a819737"
      },
      "outputs": [
        {
          "output_type": "stream",
          "name": "stdout",
          "text": [
            "Archive:  /content/drive/MyDrive/NewData.zip\n",
            "  inflating: newdata/TestLabels.npy  \n",
            "  inflating: newdata/ValLabels.npy   \n",
            "  inflating: newdata/TrainLabels.npy  \n",
            "  inflating: newdata/ValData.npy     \n",
            "  inflating: newdata/TestData.npy    \n",
            "  inflating: newdata/TrainData.npy   \n"
          ]
        }
      ],
      "source": [
        "!unzip /content/drive/MyDrive/NewData.zip"
      ]
    },
    {
      "cell_type": "code",
      "execution_count": null,
      "metadata": {
        "colab": {
          "base_uri": "https://localhost:8080/"
        },
        "id": "A_QkjxyxbF1S",
        "outputId": "f3af268f-272c-4124-aa10-5b0a8dccc501"
      },
      "outputs": [
        {
          "output_type": "stream",
          "name": "stdout",
          "text": [
            "x_train shape: (18123, 110, 110, 3) - y_train shape: (18123,)\n",
            "x_val shape: (648, 110, 110, 3) - y_val shape: (648,)\n",
            "x_test shape: (812, 110, 110, 3) - y_test shape: (812,)\n"
          ]
        }
      ],
      "source": [
        "#Run from here\n",
        "import os\n",
        "x_train = []\n",
        "y_train = []\n",
        "x_train = np.load(\"/content/newdata/TrainData.npy\")\n",
        "y_train = np.load(\"/content/newdata/TrainLabels.npy\")\n",
        "\n",
        "x_val = []\n",
        "y_val = []\n",
        "x_val = np.load(\"/content/newdata/ValData.npy\")\n",
        "y_val = np.load(\"/content/newdata/ValLabels.npy\")\n",
        "\n",
        "x_test = []\n",
        "y_test = []\n",
        "x_test = np.load(\"/content/newdata/TestData.npy\")\n",
        "y_test = np.load(\"/content/newdata/TestLabels.npy\")\n",
        "\n",
        "print(f\"x_train shape: {x_train .shape} - y_train shape: {y_train .shape}\")\n",
        "print(f\"x_val shape: {x_val.shape} - y_val shape: {y_val.shape}\")\n",
        "print(f\"x_test shape: {x_test.shape} - y_test shape: {y_test .shape}\")"
      ]
    },
    {
      "cell_type": "code",
      "execution_count": null,
      "metadata": {
        "id": "pPXr2_ahFqfY"
      },
      "outputs": [],
      "source": [
        "data_augmentation = keras.Sequential(\n",
        "    [\n",
        "        layers.Normalization(),\n",
        "        layers.RandomFlip(\"horizontal\"),\n",
        "        layers.RandomRotation(0.02),\n",
        "        layers.RandomWidth(0.2),\n",
        "        layers.RandomHeight(0.2),\n",
        "    ]\n",
        ")\n",
        "\n",
        "data_augmentation.layers[0].adapt(x_train)"
      ]
    },
    {
      "cell_type": "code",
      "execution_count": null,
      "metadata": {
        "id": "-oE2B6QXFqfZ"
      },
      "outputs": [],
      "source": [
        "img_heigth, img_width = 110,110\n",
        "input_shape = (img_heigth, img_width, 3)\n",
        "num_classes = 5"
      ]
    },
    {
      "cell_type": "code",
      "execution_count": null,
      "metadata": {
        "colab": {
          "base_uri": "https://localhost:8080/"
        },
        "id": "1bSsfFTMFqfZ",
        "outputId": "cbc774ae-20b0-4382-f511-6e01e11e9808"
      },
      "outputs": [
        {
          "output_type": "stream",
          "name": "stdout",
          "text": [
            "Model: \"DenseNet169-encoder\"\n",
            "_________________________________________________________________\n",
            " Layer (type)                Output Shape              Param #   \n",
            "=================================================================\n",
            " input_2 (InputLayer)        [(None, 110, 110, 3)]     0         \n",
            "                                                                 \n",
            " sequential (Sequential)     (None, None, None, 3)     7         \n",
            "                                                                 \n",
            " densenet169 (Functional)    (None, 1664)              12642880  \n",
            "                                                                 \n",
            "=================================================================\n",
            "Total params: 12,642,887\n",
            "Trainable params: 12,484,480\n",
            "Non-trainable params: 158,407\n",
            "_________________________________________________________________\n"
          ]
        }
      ],
      "source": [
        "def create_encoder():\n",
        "    dense = keras.applications.DenseNet169(\n",
        "        include_top=False, weights=None, input_shape=input_shape, pooling=\"avg\"\n",
        "    )\n",
        "\n",
        "    inputs = keras.Input(shape=input_shape)\n",
        "    augmented = data_augmentation(inputs)\n",
        "    outputs = dense(augmented)\n",
        "    model = keras.Model(inputs=inputs, outputs=outputs, name=\"DenseNet169-encoder\")\n",
        "    return model\n",
        "\n",
        "\n",
        "encoder = create_encoder()\n",
        "encoder.summary()\n",
        "\n",
        "learning_rate = 0.0001\n",
        "batch_size = 32\n",
        "hidden_units = 512\n",
        "projection_units = 128\n",
        "num_epochs = 50\n",
        "dropout_rate = 0.5\n",
        "temperature = 0.05"
      ]
    },
    {
      "cell_type": "code",
      "execution_count": null,
      "metadata": {
        "id": "Szcz8uMcFqfZ"
      },
      "outputs": [],
      "source": [
        "def create_classifier(encoder, trainable=True):\n",
        "\n",
        "    for layer in encoder.layers:\n",
        "        layer.trainable = trainable\n",
        "\n",
        "    inputs = keras.Input(shape=input_shape)\n",
        "    features = encoder(inputs)\n",
        "    features = layers.Dropout(dropout_rate)(features)\n",
        "    features = layers.Dense(hidden_units, activation=\"relu\")(features)\n",
        "    features = layers.Dropout(dropout_rate)(features)\n",
        "    outputs = layers.Dense(num_classes, activation=\"softmax\")(features)\n",
        "\n",
        "    model = keras.Model(inputs=inputs, outputs=outputs, name=\"DenseNet169-classifier\")\n",
        "    model.compile(\n",
        "        optimizer=keras.optimizers.Adam(learning_rate),\n",
        "        loss=keras.losses.SparseCategoricalCrossentropy(),\n",
        "        metrics=[keras.metrics.SparseCategoricalAccuracy()],\n",
        "    )\n",
        "    return model"
      ]
    },
    {
      "cell_type": "code",
      "execution_count": null,
      "metadata": {
        "id": "05Q7ghwTFqfZ"
      },
      "outputs": [],
      "source": []
    },
    {
      "cell_type": "code",
      "execution_count": null,
      "metadata": {
        "id": "_u5jXeM5GVSS"
      },
      "outputs": [],
      "source": []
    },
    {
      "cell_type": "code",
      "source": [],
      "metadata": {
        "id": "H23QIBjs4N6H"
      },
      "execution_count": null,
      "outputs": []
    },
    {
      "cell_type": "markdown",
      "metadata": {
        "id": "MOjZ5lGpIZoq"
      },
      "source": [
        "# N-pair loss"
      ]
    },
    {
      "cell_type": "code",
      "execution_count": null,
      "metadata": {
        "id": "RWkaIH5vFqfb"
      },
      "outputs": [],
      "source": [
        "class SupervisedContrastiveLoss(keras.losses.Loss):\n",
        "    def __init__(self, temperature=1, name=None):\n",
        "        super().__init__(name=name)\n",
        "        self.temperature = temperature\n",
        "\n",
        "    def __call__(self, labels, feature_vectors, sample_weight=None):\n",
        "        # Normalize feature vectors\n",
        "        feature_vectors_normalized = tf.math.l2_normalize(feature_vectors, axis=1)\n",
        "        # Compute logits\n",
        "        logits = tf.divide(\n",
        "            tf.matmul(\n",
        "                feature_vectors_normalized, tf.transpose(feature_vectors_normalized)\n",
        "            ),\n",
        "            self.temperature,\n",
        "        )\n",
        "        return tfa.losses.npairs_loss(tf.squeeze(labels), logits)\n",
        "\n",
        "\n",
        "def add_projection_head(encoder):\n",
        "    inputs = keras.Input(shape=input_shape)\n",
        "    features = encoder(inputs)\n",
        "    outputs = layers.Dense(projection_units, activation=\"relu\")(features)\n",
        "    model = keras.Model(\n",
        "        inputs=inputs, outputs=outputs, name=\"DenseNet169_-encoder_with_projection-head\"\n",
        "    )\n",
        "    return model"
      ]
    },
    {
      "cell_type": "code",
      "execution_count": null,
      "metadata": {
        "colab": {
          "base_uri": "https://localhost:8080/"
        },
        "id": "DRrZdo_OFqfc",
        "outputId": "21f78b98-a913-46af-a459-89ca7a2a165b"
      },
      "outputs": [
        {
          "output_type": "stream",
          "name": "stdout",
          "text": [
            "Model: \"DenseNet169_-encoder_with_projection-head\"\n",
            "_________________________________________________________________\n",
            " Layer (type)                Output Shape              Param #   \n",
            "=================================================================\n",
            " input_5 (InputLayer)        [(None, 110, 110, 3)]     0         \n",
            "                                                                 \n",
            " DenseNet169-encoder (Functi  (None, 1664)             12642887  \n",
            " onal)                                                           \n",
            "                                                                 \n",
            " dense (Dense)               (None, 128)               213120    \n",
            "                                                                 \n",
            "=================================================================\n",
            "Total params: 12,856,007\n",
            "Trainable params: 12,697,600\n",
            "Non-trainable params: 158,407\n",
            "_________________________________________________________________\n",
            "Epoch 1/50\n",
            "567/567 [==============================] - 402s 489ms/step - loss: 3.1922\n",
            "Epoch 2/50\n",
            "567/567 [==============================] - 114s 201ms/step - loss: 3.1103\n",
            "Epoch 3/50\n",
            "567/567 [==============================] - 106s 187ms/step - loss: 3.0426\n",
            "Epoch 4/50\n",
            "567/567 [==============================] - 98s 173ms/step - loss: 2.9755\n",
            "Epoch 5/50\n",
            "567/567 [==============================] - 95s 167ms/step - loss: 2.8937\n",
            "Epoch 6/50\n",
            "567/567 [==============================] - 91s 161ms/step - loss: 2.8314\n",
            "Epoch 7/50\n",
            "567/567 [==============================] - 91s 161ms/step - loss: 2.7635\n",
            "Epoch 8/50\n",
            "567/567 [==============================] - 88s 154ms/step - loss: 2.7145\n",
            "Epoch 9/50\n",
            "567/567 [==============================] - 87s 153ms/step - loss: 2.6726\n",
            "Epoch 10/50\n",
            "567/567 [==============================] - 85s 150ms/step - loss: 2.6434\n",
            "Epoch 11/50\n",
            "567/567 [==============================] - 86s 152ms/step - loss: 2.6048\n",
            "Epoch 12/50\n",
            "567/567 [==============================] - 85s 150ms/step - loss: 2.5653\n",
            "Epoch 13/50\n",
            "567/567 [==============================] - 83s 147ms/step - loss: 2.5472\n",
            "Epoch 14/50\n",
            "567/567 [==============================] - 85s 149ms/step - loss: 2.5183\n",
            "Epoch 15/50\n",
            "567/567 [==============================] - 88s 155ms/step - loss: 2.4844\n",
            "Epoch 16/50\n",
            "567/567 [==============================] - 84s 149ms/step - loss: 2.4676\n",
            "Epoch 17/50\n",
            "567/567 [==============================] - 88s 154ms/step - loss: 2.4382\n",
            "Epoch 18/50\n",
            "567/567 [==============================] - 84s 149ms/step - loss: 2.4202\n",
            "Epoch 19/50\n",
            "567/567 [==============================] - 84s 149ms/step - loss: 2.4058\n",
            "Epoch 20/50\n",
            "567/567 [==============================] - 83s 147ms/step - loss: 2.3750\n",
            "Epoch 21/50\n",
            "567/567 [==============================] - 86s 151ms/step - loss: 2.3675\n",
            "Epoch 22/50\n",
            "567/567 [==============================] - 83s 147ms/step - loss: 2.3477\n",
            "Epoch 23/50\n",
            "567/567 [==============================] - 83s 147ms/step - loss: 2.3236\n",
            "Epoch 24/50\n",
            "567/567 [==============================] - 83s 147ms/step - loss: 2.3092\n",
            "Epoch 25/50\n",
            "567/567 [==============================] - 83s 146ms/step - loss: 2.3068\n",
            "Epoch 26/50\n",
            "567/567 [==============================] - 83s 146ms/step - loss: 2.2767\n",
            "Epoch 27/50\n",
            "567/567 [==============================] - 83s 147ms/step - loss: 2.2675\n",
            "Epoch 28/50\n",
            "567/567 [==============================] - 83s 146ms/step - loss: 2.2464\n",
            "Epoch 29/50\n",
            "567/567 [==============================] - 87s 153ms/step - loss: 2.2396\n",
            "Epoch 30/50\n",
            "567/567 [==============================] - 85s 150ms/step - loss: 2.2419\n",
            "Epoch 31/50\n",
            "567/567 [==============================] - 82s 144ms/step - loss: 2.2242\n",
            "Epoch 32/50\n",
            "567/567 [==============================] - 86s 151ms/step - loss: 2.2123\n",
            "Epoch 33/50\n",
            "567/567 [==============================] - 82s 145ms/step - loss: 2.1970\n",
            "Epoch 34/50\n",
            "567/567 [==============================] - 86s 152ms/step - loss: 2.1875\n",
            "Epoch 35/50\n",
            "567/567 [==============================] - 84s 148ms/step - loss: 2.1826\n",
            "Epoch 36/50\n",
            "567/567 [==============================] - 84s 148ms/step - loss: 2.1740\n",
            "Epoch 37/50\n",
            "567/567 [==============================] - 84s 148ms/step - loss: 2.1602\n",
            "Epoch 38/50\n",
            "567/567 [==============================] - 83s 146ms/step - loss: 2.1559\n",
            "Epoch 39/50\n",
            "567/567 [==============================] - 83s 147ms/step - loss: 2.1474\n",
            "Epoch 40/50\n",
            "567/567 [==============================] - 83s 146ms/step - loss: 2.1486\n",
            "Epoch 41/50\n",
            "567/567 [==============================] - 83s 147ms/step - loss: 2.1379\n",
            "Epoch 42/50\n",
            "567/567 [==============================] - 85s 150ms/step - loss: 2.1296\n",
            "Epoch 43/50\n",
            "567/567 [==============================] - 83s 147ms/step - loss: 2.1181\n",
            "Epoch 44/50\n",
            "567/567 [==============================] - 84s 148ms/step - loss: 2.1267\n",
            "Epoch 45/50\n",
            "567/567 [==============================] - 83s 147ms/step - loss: 2.1144\n",
            "Epoch 46/50\n",
            "567/567 [==============================] - 87s 154ms/step - loss: 2.1138\n",
            "Epoch 47/50\n",
            "567/567 [==============================] - 83s 147ms/step - loss: 2.0902\n",
            "Epoch 48/50\n",
            "567/567 [==============================] - 84s 148ms/step - loss: 2.1005\n",
            "Epoch 49/50\n",
            "567/567 [==============================] - 83s 147ms/step - loss: 2.0978\n",
            "Epoch 50/50\n",
            "567/567 [==============================] - 84s 148ms/step - loss: 2.0919\n"
          ]
        }
      ],
      "source": [
        "encoder = create_encoder()\n",
        "\n",
        "encoder_with_projection_head = add_projection_head(encoder)\n",
        "encoder_with_projection_head.compile(\n",
        "    optimizer=keras.optimizers.Adam(learning_rate),\n",
        "    loss=SupervisedContrastiveLoss(temperature),\n",
        ")\n",
        "\n",
        "encoder_with_projection_head.summary()\n",
        "\n",
        "history = encoder_with_projection_head.fit(\n",
        "    x=x_train, y=y_train, batch_size=batch_size, epochs=num_epochs\n",
        ")\n"
      ]
    },
    {
      "cell_type": "code",
      "source": [
        "import matplotlib.pyplot as plt\n",
        "\n",
        "loss_values = history.history['loss']\n",
        "epochs = range(1, len(loss_values) + 1)\n",
        "\n",
        "plt.plot(epochs, loss_values, label='Training Loss')\n",
        "plt.xlabel('Epochs')\n",
        "plt.ylabel('Loss')\n",
        "plt.title('Training Loss Curve')\n",
        "plt.legend()\n",
        "plt.show()"
      ],
      "metadata": {
        "colab": {
          "base_uri": "https://localhost:8080/",
          "height": 472
        },
        "id": "lmR7P6Xdmkgj",
        "outputId": "d972b4fb-075f-462b-b92b-6cd473763435"
      },
      "execution_count": null,
      "outputs": [
        {
          "output_type": "display_data",
          "data": {
            "text/plain": [
              "<Figure size 640x480 with 1 Axes>"
            ],
            "image/png": "[encoded data removed]"
          },
          "metadata": {}
        }
      ]
    }
  ],
  "metadata": {
    "accelerator": "GPU",
    "colab": {
      "machine_shape": "hm",
      "provenance": [],
      "gpuType": "T4"
    },
    "gpuClass": "standard",
    "kernelspec": {
      "display_name": "Python 3",
      "language": "python",
      "name": "python3"
    },
    "language_info": {
      "codemirror_mode": {
        "name": "ipython",
        "version": 3
      },
      "file_extension": ".py",
      "mimetype": "text/x-python",
      "name": "python",
      "nbconvert_exporter": "python",
      "pygments_lexer": "ipython3",
      "version": "3.10.10"
    }
  },
  "nbformat": 4,
  "nbformat_minor": 0
}