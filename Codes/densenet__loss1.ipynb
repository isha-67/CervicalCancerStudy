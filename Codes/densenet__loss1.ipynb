{
  "cells": [
    {
      "cell_type": "code",
      "execution_count": null,
      "metadata": {
        "colab": {
          "base_uri": "https://localhost:8080/"
        },
        "id": "xpYVPHnrF2Z2",
        "outputId": "1f3e1e53-9937-48bd-858d-6e47b7f537cb"
      },
      "outputs": [
        {
          "output_type": "stream",
          "name": "stdout",
          "text": [
            "2.12.0\n"
          ]
        }
      ],
      "source": [
        "import tensorflow as tf\n",
        "print(tf.__version__)"
      ]
    },
    {
      "cell_type": "code",
      "execution_count": null,
      "metadata": {
        "colab": {
          "base_uri": "https://localhost:8080/"
        },
        "id": "O4hKrNSvF23y",
        "outputId": "2abbc424-6297-4b3c-cfbd-78dc95612e6b"
      },
      "outputs": [
        {
          "output_type": "stream",
          "name": "stdout",
          "text": [
            "Mounted at /content/drive\n"
          ]
        }
      ],
      "source": [
        "from google.colab import drive\n",
        "drive.mount('/content/drive')"
      ]
    },
    {
      "cell_type": "code",
      "execution_count": null,
      "metadata": {
        "colab": {
          "base_uri": "https://localhost:8080/"
        },
        "id": "RmTeqCG9F6V4",
        "outputId": "dfeb553a-ad56-4ca9-8bba-bb4617bdefc2"
      },
      "outputs": [
        {
          "output_type": "stream",
          "name": "stdout",
          "text": [
            "Looking in indexes: https://pypi.org/simple, https://us-python.pkg.dev/colab-wheels/public/simple/\n",
            "Collecting tensorflow-addons\n",
            "  Downloading tensorflow_addons-0.20.0-cp310-cp310-manylinux_2_17_x86_64.manylinux2014_x86_64.whl (591 kB)\n",
            "\u001b[2K     \u001b[90m━━━━━━━━━━━━━━━━━━━━━━━━━━━━━━━━━━━━━━\u001b[0m \u001b[32m591.0/591.0 kB\u001b[0m \u001b[31m39.8 MB/s\u001b[0m eta \u001b[36m0:00:00\u001b[0m\n",
            "\u001b[?25hRequirement already satisfied: packaging in /usr/local/lib/python3.10/dist-packages (from tensorflow-addons) (23.1)\n",
            "Collecting typeguard<3.0.0,>=2.7 (from tensorflow-addons)\n",
            "  Downloading typeguard-2.13.3-py3-none-any.whl (17 kB)\n",
            "Installing collected packages: typeguard, tensorflow-addons\n",
            "Successfully installed tensorflow-addons-0.20.0 typeguard-2.13.3\n"
          ]
        }
      ],
      "source": [
        "pip install tensorflow-addons"
      ]
    },
    {
      "cell_type": "code",
      "execution_count": null,
      "metadata": {
        "id": "UgD0aR8SHPHT"
      },
      "outputs": [],
      "source": [
        "save_path = '/content/drive/MyDrive/'\n",
        "save_path1 = '/content/drive/MyDrive/'"
      ]
    },
    {
      "cell_type": "code",
      "execution_count": null,
      "metadata": {
        "colab": {
          "base_uri": "https://localhost:8080/"
        },
        "id": "W22hw1WAF650",
        "outputId": "c6c13223-62c8-41cd-a84f-183a144c8b7c"
      },
      "outputs": [
        {
          "output_type": "stream",
          "name": "stderr",
          "text": [
            "/usr/local/lib/python3.10/dist-packages/tensorflow_addons/utils/tfa_eol_msg.py:23: UserWarning: \n",
            "\n",
            "TensorFlow Addons (TFA) has ended development and introduction of new features.\n",
            "TFA has entered a minimal maintenance and release mode until a planned end of life in May 2024.\n",
            "Please modify downstream libraries to take dependencies from other repositories in our TensorFlow community (e.g. Keras, Keras-CV, and Keras-NLP). \n",
            "\n",
            "For more information see: https://github.com/tensorflow/addons/issues/2807 \n",
            "\n",
            "  warnings.warn(\n"
          ]
        }
      ],
      "source": [
        "from tensorflow.keras.layers import *\n",
        "from tensorflow.keras.models import *\n",
        "import tensorflow_datasets as tfds\n",
        "import matplotlib.pyplot as plt\n",
        "import numpy as np\n",
        "import time\n",
        "import cv2\n",
        "from tqdm.notebook import tqdm\n",
        "from zipfile import ZipFile\n",
        "from imutils import paths\n",
        "tf.random.set_seed(666)\n",
        "np.random.seed(666)\n",
        "\n",
        "tfds.disable_progress_bar()\n",
        "import tensorflow as tf\n",
        "import tensorflow_addons as tfa\n",
        "import numpy as np\n",
        "from tensorflow import keras\n",
        "from tensorflow.keras import layers"
      ]
    },
    {
      "cell_type": "code",
      "execution_count": null,
      "metadata": {
        "id": "w-S0jnxsFqfV"
      },
      "outputs": [],
      "source": [
        "import tensorflow as tf\n",
        "#import tensorflow_addons as tfa\n",
        "import pandas as pd\n",
        "import numpy as np\n",
        "import matplotlib.pyplot as plt\n",
        "import seaborn as sns\n",
        "%matplotlib inline\n",
        "import os\n",
        "import glob\n",
        "import shutil\n",
        "import pathlib\n",
        "import random\n",
        "\n",
        "#model selection\n",
        "from sklearn.model_selection import train_test_split\n",
        "\n",
        "#data augumentation\n",
        "import  cv2\n",
        "import imgaug\n",
        "import imageio\n",
        "from imgaug import augmenters as iaa\n",
        "\n",
        "##\n",
        "from keras.preprocessing.image import ImageDataGenerator\n",
        "from sklearn.metrics import accuracy_score, confusion_matrix, classification_report\n",
        "\n",
        "from keras.applications import vgg16\n",
        "from keras.layers import Dense, GlobalMaxPool2D, BatchNormalization, Dropout\n",
        "from keras.models import Model, Sequential\n",
        "from keras.optimizers import Adam\n",
        "\n",
        "from keras.callbacks import ModelCheckpoint\n",
        "from keras.callbacks import ReduceLROnPlateau\n",
        "from keras.callbacks import EarlyStopping\n",
        "\n",
        "from tensorflow.keras import layers"
      ]
    },
    {
      "cell_type": "code",
      "execution_count": null,
      "metadata": {
        "id": "DiGw53eZFqfW"
      },
      "outputs": [],
      "source": [
        "from tensorflow.keras.layers import *\n",
        "from tensorflow.keras.models import *\n",
        "import tensorflow_datasets as tfds\n",
        "import matplotlib.pyplot as plt\n",
        "import numpy as np\n",
        "import time\n",
        "import cv2\n",
        "from tqdm.notebook import tqdm\n",
        "from zipfile import ZipFile\n",
        "from imutils import paths\n",
        "tf.random.set_seed(666)\n",
        "np.random.seed(666)\n",
        "\n",
        "tfds.disable_progress_bar()\n",
        "import tensorflow as tf\n",
        "import tensorflow_addons as tfa\n",
        "import numpy as np\n",
        "from tensorflow import keras\n",
        "from tensorflow.keras import layers\n",
        "from tensorflow.keras.layers import *\n",
        "from tensorflow.keras.models import *\n",
        "import tensorflow_datasets as tfds\n",
        "import matplotlib.pyplot as plt\n",
        "import numpy as np\n",
        "import time\n",
        "import cv2\n",
        "from tqdm.notebook import tqdm\n",
        "from zipfile import ZipFile\n",
        "from imutils import paths\n",
        "tf.random.set_seed(666)\n",
        "np.random.seed(666)\n",
        "\n",
        "tfds.disable_progress_bar()\n",
        "import tensorflow as tf\n",
        "import tensorflow_addons as tfa\n",
        "import numpy as np\n",
        "from tensorflow import keras\n",
        "from tensorflow.keras import layers"
      ]
    },
    {
      "cell_type": "code",
      "execution_count": null,
      "metadata": {
        "id": "EvaeK3xyDfHq",
        "colab": {
          "base_uri": "https://localhost:8080/"
        },
        "outputId": "9ebfa7e2-3434-4ca6-e582-ee762321103c"
      },
      "outputs": [
        {
          "output_type": "stream",
          "name": "stdout",
          "text": [
            "Archive:  /content/drive/MyDrive/NewData.zip\n",
            "  inflating: newdata/TestLabels.npy  \n",
            "  inflating: newdata/ValLabels.npy   \n",
            "  inflating: newdata/TrainLabels.npy  \n",
            "  inflating: newdata/ValData.npy     \n",
            "  inflating: newdata/TestData.npy    \n",
            "  inflating: newdata/TrainData.npy   \n"
          ]
        }
      ],
      "source": [
        "!unzip /content/drive/MyDrive/NewData.zip"
      ]
    },
    {
      "cell_type": "code",
      "execution_count": null,
      "metadata": {
        "colab": {
          "base_uri": "https://localhost:8080/"
        },
        "id": "A_QkjxyxbF1S",
        "outputId": "4b715c94-125b-406b-ca70-73ec8e2512e2"
      },
      "outputs": [
        {
          "output_type": "stream",
          "name": "stdout",
          "text": [
            "x_train shape: (18123, 110, 110, 3) - y_train shape: (18123,)\n",
            "x_val shape: (648, 110, 110, 3) - y_val shape: (648,)\n",
            "x_test shape: (812, 110, 110, 3) - y_test shape: (812,)\n"
          ]
        }
      ],
      "source": [
        "#Run from here\n",
        "import os\n",
        "x_train = []\n",
        "y_train = []\n",
        "x_train = np.load(\"/content/newdata/TrainData.npy\")\n",
        "y_train = np.load(\"/content/newdata/TrainLabels.npy\")\n",
        "\n",
        "x_val = []\n",
        "y_val = []\n",
        "x_val = np.load(\"/content/newdata/ValData.npy\")\n",
        "y_val = np.load(\"/content/newdata/ValLabels.npy\")\n",
        "\n",
        "x_test = []\n",
        "y_test = []\n",
        "x_test = np.load(\"/content/newdata/TestData.npy\")\n",
        "y_test = np.load(\"/content/newdata/TestLabels.npy\")\n",
        "\n",
        "print(f\"x_train shape: {x_train .shape} - y_train shape: {y_train .shape}\")\n",
        "print(f\"x_val shape: {x_val.shape} - y_val shape: {y_val.shape}\")\n",
        "print(f\"x_test shape: {x_test.shape} - y_test shape: {y_test .shape}\")"
      ]
    },
    {
      "cell_type": "code",
      "execution_count": null,
      "metadata": {
        "id": "pPXr2_ahFqfY"
      },
      "outputs": [],
      "source": [
        "data_augmentation = keras.Sequential(\n",
        "    [\n",
        "        layers.Normalization(),\n",
        "        layers.RandomFlip(\"horizontal\"),\n",
        "        layers.RandomRotation(0.02),\n",
        "        layers.RandomWidth(0.2),\n",
        "        layers.RandomHeight(0.2),\n",
        "    ]\n",
        ")\n",
        "\n",
        "data_augmentation.layers[0].adapt(x_train)"
      ]
    },
    {
      "cell_type": "code",
      "execution_count": null,
      "metadata": {
        "id": "-oE2B6QXFqfZ"
      },
      "outputs": [],
      "source": [
        "img_heigth, img_width = 110,110\n",
        "input_shape = (img_heigth, img_width, 3)\n",
        "num_classes = 5"
      ]
    },
    {
      "cell_type": "code",
      "execution_count": null,
      "metadata": {
        "colab": {
          "base_uri": "https://localhost:8080/"
        },
        "id": "1bSsfFTMFqfZ",
        "outputId": "81d31535-87a9-4842-f2b8-ac8c7e54f790"
      },
      "outputs": [
        {
          "output_type": "stream",
          "name": "stdout",
          "text": [
            "Model: \"DenseNet169-encoder\"\n",
            "_________________________________________________________________\n",
            " Layer (type)                Output Shape              Param #   \n",
            "=================================================================\n",
            " input_2 (InputLayer)        [(None, 110, 110, 3)]     0         \n",
            "                                                                 \n",
            " sequential (Sequential)     (None, None, None, 3)     7         \n",
            "                                                                 \n",
            " densenet169 (Functional)    (None, 1664)              12642880  \n",
            "                                                                 \n",
            "=================================================================\n",
            "Total params: 12,642,887\n",
            "Trainable params: 12,484,480\n",
            "Non-trainable params: 158,407\n",
            "_________________________________________________________________\n"
          ]
        }
      ],
      "source": [
        "def create_encoder():\n",
        "    densenet= keras.applications.DenseNet169(\n",
        "        include_top=False, weights=None, input_shape=input_shape, pooling=\"avg\"\n",
        "    )\n",
        "\n",
        "    inputs = keras.Input(shape=input_shape)\n",
        "    augmented = data_augmentation(inputs)\n",
        "    outputs = densenet(augmented)\n",
        "    model = keras.Model(inputs=inputs, outputs=outputs, name=\"DenseNet169-encoder\")\n",
        "    return model\n",
        "\n",
        "\n",
        "encoder = create_encoder()\n",
        "encoder.summary()\n",
        "\n",
        "learning_rate = 0.0001\n",
        "batch_size = 32\n",
        "hidden_units = 512\n",
        "projection_units = 128\n",
        "num_epochs = 50\n",
        "dropout_rate = 0.5\n",
        "temperature = 0.05"
      ]
    },
    {
      "cell_type": "code",
      "execution_count": null,
      "metadata": {
        "id": "Szcz8uMcFqfZ"
      },
      "outputs": [],
      "source": [
        "def create_classifier(encoder, trainable=True):\n",
        "\n",
        "    for layer in encoder.layers:\n",
        "        layer.trainable = trainable\n",
        "\n",
        "    inputs = keras.Input(shape=input_shape)\n",
        "    features = encoder(inputs)\n",
        "    features = layers.Dropout(dropout_rate)(features)\n",
        "    features = layers.Dense(hidden_units, activation=\"relu\")(features)\n",
        "    features = layers.Dropout(dropout_rate)(features)\n",
        "    outputs = layers.Dense(num_classes, activation=\"softmax\")(features)\n",
        "\n",
        "    model = keras.Model(inputs=inputs, outputs=outputs, name=\"DenseNet169-classifier\")\n",
        "    model.compile(\n",
        "        optimizer=keras.optimizers.Adam(learning_rate),\n",
        "        loss=keras.losses.SparseCategoricalCrossentropy(),\n",
        "        metrics=[keras.metrics.SparseCategoricalAccuracy()],\n",
        "    )\n",
        "    return model"
      ]
    },
    {
      "cell_type": "code",
      "execution_count": null,
      "metadata": {
        "id": "jOuGXUszFqfZ"
      },
      "outputs": [],
      "source": []
    },
    {
      "cell_type": "markdown",
      "metadata": {
        "id": "MOjZ5lGpIZoq"
      },
      "source": [
        "#XT_nt Loss"
      ]
    },
    {
      "cell_type": "code",
      "source": [
        "class LossHistory(keras.callbacks.Callback):\n",
        "    def on_train_begin(self, logs={}):\n",
        "        self.losses = []\n",
        "\n",
        "    def on_epoch_end(self, epoch, logs={}):\n",
        "        self.losses.append(logs.get('loss'))\n",
        "\n",
        "loss_history = LossHistory()\n",
        "\n",
        "callbacks=[loss_history]"
      ],
      "metadata": {
        "id": "xZFKGkSPsGM-"
      },
      "execution_count": null,
      "outputs": []
    },
    {
      "cell_type": "code",
      "source": [
        "class SupervisedNTXentLoss(Layer):\n",
        "    def __init__(self, temperature=1.0, **kwargs):\n",
        "        super(SupervisedNTXentLoss, self).__init__(**kwargs)\n",
        "        self.temperature = temperature\n",
        "\n",
        "    def call(self, y_true, y_pred):\n",
        "        batch_size = tf.shape(y_pred)[0]\n",
        "        feature_size = tf.shape(y_pred)[1]\n",
        "        labels = tf.reshape(tf.range(batch_size), (batch_size, 1))\n",
        "        masks = tf.cast(tf.eye(batch_size), dtype=bool)\n",
        "        labels = tf.boolean_mask(labels, masks)\n",
        "        similarity_matrix = tf.matmul(y_pred, y_pred, transpose_b=True)\n",
        "        masks = tf.cast(tf.eye(batch_size), dtype=bool)\n",
        "        similarity_matrix = tf.boolean_mask(similarity_matrix, ~masks)\n",
        "        similarity_matrix = tf.reshape(similarity_matrix, (batch_size, batch_size - 1))\n",
        "        labels = tf.squeeze(labels)  # Squeeze labels to remove extra dimension\n",
        "        loss = tf.reduce_mean(\n",
        "            tf.nn.sparse_softmax_cross_entropy_with_logits(\n",
        "                labels=labels, logits=similarity_matrix / self.temperature\n",
        "            )\n",
        "        )\n",
        "        return loss"
      ],
      "metadata": {
        "id": "2mKFmUMhsKu0"
      },
      "execution_count": null,
      "outputs": []
    },
    {
      "cell_type": "code",
      "source": [
        "def add_projection_head(encoder):\n",
        "    inputs = keras.Input(shape=input_shape)\n",
        "    features = encoder(inputs)\n",
        "    outputs = layers.Dense(projection_units, activation=\"relu\")(features)\n",
        "    model = keras.Model(\n",
        "        inputs=inputs, outputs=outputs, name=\"densenet-encoder_with_projection-head\"\n",
        "    )\n",
        "    return model"
      ],
      "metadata": {
        "id": "pW1Ap-EzsQsG"
      },
      "execution_count": null,
      "outputs": []
    },
    {
      "cell_type": "code",
      "source": [
        "import tensorflow.keras.utils as ku\n",
        "\n",
        "y_train_onehot = ku.to_categorical(y_train)"
      ],
      "metadata": {
        "id": "xWPk_VXqsVe1"
      },
      "execution_count": null,
      "outputs": []
    },
    {
      "cell_type": "code",
      "source": [
        "densenet_xentloss_dict={}"
      ],
      "metadata": {
        "id": "2Juw64TosYk-"
      },
      "execution_count": null,
      "outputs": []
    },
    {
      "cell_type": "code",
      "source": [
        "encoder = create_encoder()\n",
        "encoder_with_projection_head = add_projection_head(encoder)\n",
        "encoder_with_projection_head.compile(\n",
        "    optimizer=keras.optimizers.Adam(learning_rate),\n",
        "    loss=SupervisedNTXentLoss(temperature),\n",
        ")\n",
        "encoder_with_projection_head.summary()\n",
        "\n",
        "history = encoder_with_projection_head.fit(\n",
        "    x=x_train, y=y_train_onehot, batch_size=batch_size, epochs=50\n",
        ")\n",
        "\n"
      ],
      "metadata": {
        "colab": {
          "base_uri": "https://localhost:8080/"
        },
        "id": "c5J9FQaxsfgt",
        "outputId": "74d88b18-7319-4d8a-f0f3-491667fb7e54"
      },
      "execution_count": null,
      "outputs": [
        {
          "output_type": "stream",
          "name": "stdout",
          "text": [
            "Model: \"densenet-encoder_with_projection-head\"\n",
            "_________________________________________________________________\n",
            " Layer (type)                Output Shape              Param #   \n",
            "=================================================================\n",
            " input_5 (InputLayer)        [(None, 110, 110, 3)]     0         \n",
            "                                                                 \n",
            " DenseNet169-encoder (Functi  (None, 1664)             12642887  \n",
            " onal)                                                           \n",
            "                                                                 \n",
            " dense (Dense)               (None, 128)               213120    \n",
            "                                                                 \n",
            " supervised_nt_xent_loss (Su  multiple                 0 (unused)\n",
            " pervisedNTXentLoss)                                             \n",
            "                                                                 \n",
            "=================================================================\n",
            "Total params: 12,856,007\n",
            "Trainable params: 12,697,600\n",
            "Non-trainable params: 158,407\n",
            "_________________________________________________________________\n",
            "Epoch 1/50\n",
            "567/567 [==============================] - 389s 480ms/step - loss: 9.1193\n",
            "Epoch 2/50\n",
            "567/567 [==============================] - 114s 201ms/step - loss: 3.4401\n",
            "Epoch 3/50\n",
            "567/567 [==============================] - 103s 182ms/step - loss: 3.4370\n",
            "Epoch 4/50\n",
            "567/567 [==============================] - 94s 165ms/step - loss: 3.4359\n",
            "Epoch 5/50\n",
            "567/567 [==============================] - 94s 166ms/step - loss: 3.4340\n",
            "Epoch 6/50\n",
            "567/567 [==============================] - 87s 154ms/step - loss: 3.4339\n",
            "Epoch 7/50\n",
            "567/567 [==============================] - 90s 158ms/step - loss: 3.4348\n",
            "Epoch 8/50\n",
            "567/567 [==============================] - 84s 148ms/step - loss: 3.4353\n",
            "Epoch 9/50\n",
            "567/567 [==============================] - 86s 151ms/step - loss: 3.4337\n",
            "Epoch 10/50\n",
            "567/567 [==============================] - 84s 149ms/step - loss: 3.4336\n",
            "Epoch 11/50\n",
            "567/567 [==============================] - 84s 148ms/step - loss: 3.4336\n",
            "Epoch 12/50\n",
            "567/567 [==============================] - 82s 145ms/step - loss: 3.4430\n",
            "Epoch 13/50\n",
            "567/567 [==============================] - 80s 141ms/step - loss: 3.4349\n",
            "Epoch 14/50\n",
            "567/567 [==============================] - 80s 141ms/step - loss: 3.4336\n",
            "Epoch 15/50\n",
            "567/567 [==============================] - 82s 144ms/step - loss: 3.4334\n",
            "Epoch 16/50\n",
            "567/567 [==============================] - 81s 142ms/step - loss: 3.4333\n",
            "Epoch 17/50\n",
            "567/567 [==============================] - 80s 141ms/step - loss: 3.4409\n",
            "Epoch 18/50\n",
            "567/567 [==============================] - 81s 143ms/step - loss: 3.4351\n",
            "Epoch 19/50\n",
            "567/567 [==============================] - 81s 143ms/step - loss: 3.4333\n",
            "Epoch 20/50\n",
            "567/567 [==============================] - 80s 140ms/step - loss: 3.4333\n",
            "Epoch 21/50\n",
            "567/567 [==============================] - 79s 139ms/step - loss: 3.4333\n",
            "Epoch 22/50\n",
            "567/567 [==============================] - 78s 138ms/step - loss: 3.4333\n",
            "Epoch 23/50\n",
            "567/567 [==============================] - 79s 139ms/step - loss: 3.4333\n",
            "Epoch 24/50\n",
            "567/567 [==============================] - 81s 143ms/step - loss: 3.4333\n",
            "Epoch 25/50\n",
            "567/567 [==============================] - 79s 140ms/step - loss: 3.4333\n",
            "Epoch 26/50\n",
            "567/567 [==============================] - 79s 139ms/step - loss: 3.4333\n",
            "Epoch 27/50\n",
            "567/567 [==============================] - 79s 139ms/step - loss: 3.4333\n",
            "Epoch 28/50\n",
            "567/567 [==============================] - 79s 139ms/step - loss: 3.4412\n",
            "Epoch 29/50\n",
            "567/567 [==============================] - 83s 147ms/step - loss: 3.4361\n",
            "Epoch 30/50\n",
            "567/567 [==============================] - 81s 143ms/step - loss: 3.4333\n",
            "Epoch 31/50\n",
            "567/567 [==============================] - 79s 140ms/step - loss: 3.4333\n",
            "Epoch 32/50\n",
            "567/567 [==============================] - 80s 140ms/step - loss: 3.4333\n",
            "Epoch 33/50\n",
            "567/567 [==============================] - 79s 140ms/step - loss: 3.4333\n",
            "Epoch 34/50\n",
            "567/567 [==============================] - 79s 140ms/step - loss: 3.4333\n",
            "Epoch 35/50\n",
            "567/567 [==============================] - 79s 139ms/step - loss: 3.4333\n",
            "Epoch 36/50\n",
            "567/567 [==============================] - 79s 140ms/step - loss: 3.4333\n",
            "Epoch 37/50\n",
            "567/567 [==============================] - 79s 139ms/step - loss: 3.4333\n",
            "Epoch 38/50\n",
            "567/567 [==============================] - 79s 139ms/step - loss: 3.4333\n",
            "Epoch 39/50\n",
            "567/567 [==============================] - 79s 139ms/step - loss: 3.4333\n",
            "Epoch 40/50\n",
            "567/567 [==============================] - 84s 148ms/step - loss: 3.4333\n",
            "Epoch 41/50\n",
            "567/567 [==============================] - 80s 140ms/step - loss: 3.4333\n",
            "Epoch 42/50\n",
            "567/567 [==============================] - 79s 140ms/step - loss: 3.4333\n",
            "Epoch 43/50\n",
            "567/567 [==============================] - 78s 138ms/step - loss: 3.4333\n",
            "Epoch 44/50\n",
            "567/567 [==============================] - 83s 146ms/step - loss: 3.4333\n",
            "Epoch 45/50\n",
            "567/567 [==============================] - 84s 149ms/step - loss: 3.4333\n",
            "Epoch 46/50\n",
            "567/567 [==============================] - 80s 141ms/step - loss: 3.4333\n",
            "Epoch 47/50\n",
            "567/567 [==============================] - 80s 141ms/step - loss: 3.4333\n",
            "Epoch 48/50\n",
            "567/567 [==============================] - 81s 142ms/step - loss: 3.4333\n",
            "Epoch 49/50\n",
            "567/567 [==============================] - 80s 141ms/step - loss: 3.4333\n",
            "Epoch 50/50\n",
            "567/567 [==============================] - 80s 141ms/step - loss: 3.4333\n"
          ]
        }
      ]
    },
    {
      "cell_type": "code",
      "source": [
        "import matplotlib.pyplot as plt\n",
        "\n",
        "loss_values = history.history['loss']\n",
        "epochs = range(1, len(loss_values) + 1)\n",
        "\n",
        "plt.plot(epochs, loss_values, label='Training Loss')\n",
        "plt.xlabel('Epochs')\n",
        "plt.ylabel('Loss')\n",
        "plt.title('Training Loss Curve')\n",
        "plt.legend()\n",
        "plt.show()\n"
      ],
      "metadata": {
        "id": "t3BrpMrFeZjr",
        "colab": {
          "base_uri": "https://localhost:8080/",
          "height": 472
        },
        "outputId": "3ba95e12-5d4d-429f-936e-80e00e80d030"
      },
      "execution_count": null,
      "outputs": [
        {
          "output_type": "display_data",
          "data": {
            "text/plain": [
              "<Figure size 640x480 with 1 Axes>"
            ],
            "image/png": "[encoded data removed]"
          },
          "metadata": {}
        }
      ]
    },
    {
      "cell_type": "code",
      "source": [
        "encoder_with_projection_head.save(save_path + 'lossxent_densenet.h5')"
      ],
      "metadata": {
        "id": "O-b9l4tjsooE"
      },
      "execution_count": null,
      "outputs": []
    },
    {
      "cell_type": "code",
      "source": [
        "checkpointer = ModelCheckpoint(filepath='saved_models/lossxent_densenet.h5', \n",
        "                               monitor='sparse_categorical_accuracy', mode='max',\n",
        "                               verbose=1, save_best_only=True)\n",
        "early_stopping = EarlyStopping(monitor='loss', mode='min', verbose=1, patience=3)\n",
        "reduce_lr = ReduceLROnPlateau(monitor='loss', factor=0.2,patience=2, min_lr=1e-5)\n",
        "callbacks=[early_stopping, reduce_lr, checkpointer]"
      ],
      "metadata": {
        "id": "OIr9VLiatIuk"
      },
      "execution_count": null,
      "outputs": []
    },
    {
      "cell_type": "code",
      "source": [
        "classifier.save(save_path + 'lossxent_resnet.h5')"
      ],
      "metadata": {
        "id": "vRT7N6g9tXT-"
      },
      "execution_count": null,
      "outputs": []
    },
    {
      "cell_type": "code",
      "source": [
        "xent_densenet=load_model(save_path + 'lossxent_resnet.h5')"
      ],
      "metadata": {
        "id": "jDpvj-PWtjGP"
      },
      "execution_count": null,
      "outputs": []
    },
    {
      "cell_type": "markdown",
      "source": [
        "#Triplet Loss"
      ],
      "metadata": {
        "id": "YyrVt7JM-ddM"
      }
    },
    {
      "cell_type": "code",
      "source": [
        "def triplet_loss(y_true, y_pred, alpha=0.2):     \n",
        "    anchors = y_pred[0]\n",
        "    positives = y_pred[1]\n",
        "    negatives = y_pred[2]\n",
        "    \n",
        "    pos_dist = tf.reduce_sum(tf.square(tf.subtract(anchors, positives)), axis=-1)\n",
        "    neg_dist = tf.reduce_sum(tf.square(tf.subtract(anchors, negatives)), axis=-1)\n",
        "\n",
        "    basic_loss = tf.add(tf.subtract(pos_dist, neg_dist), alpha)\n",
        "    loss = tf.reduce_sum(tf.maximum(basic_loss, 0))\n",
        "\n",
        "    return loss"
      ],
      "metadata": {
        "id": "kSaaqVmW9wQl"
      },
      "execution_count": null,
      "outputs": []
    },
    {
      "cell_type": "code",
      "source": [
        "def add_projection_head(encoder):\n",
        "    inputs = keras.Input(shape=input_shape)\n",
        "    features = encoder(inputs)\n",
        "    outputs = layers.Dense(projection_units, activation=\"relu\")(features)\n",
        "    model = keras.Model(\n",
        "        inputs=inputs, outputs=outputs, name=\"densenet-encoder_with_projection-head\"\n",
        "    )\n",
        "    return model"
      ],
      "metadata": {
        "id": "lf6zwQ6q91Q9"
      },
      "execution_count": null,
      "outputs": []
    },
    {
      "cell_type": "code",
      "source": [
        "densenet_tripletloss_dict={}"
      ],
      "metadata": {
        "id": "5FvQ5NcK97p8"
      },
      "execution_count": null,
      "outputs": []
    },
    {
      "cell_type": "code",
      "source": [
        "encoder = create_encoder()\n",
        "encoder_with_projection_head = add_projection_head(encoder)\n",
        "encoder_with_projection_head.compile(\n",
        "    optimizer=keras.optimizers.Adam(learning_rate),\n",
        "    loss=triplet_loss,\n",
        ")\n",
        "encoder_with_projection_head.summary()\n",
        "\n",
        "history = encoder_with_projection_head.fit(\n",
        "    x=x_train, y=y_train_onehot, batch_size=batch_size, epochs=50\n",
        ")\n"
      ],
      "metadata": {
        "colab": {
          "base_uri": "https://localhost:8080/"
        },
        "id": "qxaTWF8w94GX",
        "outputId": "06f3317f-d961-49fd-9dd4-f614cf86a792"
      },
      "execution_count": null,
      "outputs": [
        {
          "output_type": "stream",
          "name": "stdout",
          "text": [
            "Model: \"densenet-encoder_with_projection-head\"\n",
            "_________________________________________________________________\n",
            " Layer (type)                Output Shape              Param #   \n",
            "=================================================================\n",
            " input_8 (InputLayer)        [(None, 110, 110, 3)]     0         \n",
            "                                                                 \n",
            " DenseNet169-encoder (Functi  (None, 1664)             12642887  \n",
            " onal)                                                           \n",
            "                                                                 \n",
            " dense_1 (Dense)             (None, 128)               213120    \n",
            "                                                                 \n",
            "=================================================================\n",
            "Total params: 12,856,007\n",
            "Trainable params: 12,697,600\n",
            "Non-trainable params: 158,407\n",
            "_________________________________________________________________\n",
            "Epoch 1/50\n",
            "567/567 [==============================] - 184s 150ms/step - loss: 1.7440\n",
            "Epoch 2/50\n",
            "567/567 [==============================] - 83s 146ms/step - loss: 0.2530\n",
            "Epoch 3/50\n",
            "567/567 [==============================] - 82s 145ms/step - loss: 0.2311\n",
            "Epoch 4/50\n",
            "567/567 [==============================] - 80s 141ms/step - loss: 0.2152\n",
            "Epoch 5/50\n",
            "567/567 [==============================] - 81s 143ms/step - loss: 0.2678\n",
            "Epoch 6/50\n",
            "567/567 [==============================] - 81s 142ms/step - loss: 0.2349\n",
            "Epoch 7/50\n",
            "567/567 [==============================] - 80s 141ms/step - loss: 0.2014\n",
            "Epoch 8/50\n",
            "567/567 [==============================] - 80s 142ms/step - loss: 0.2794\n",
            "Epoch 9/50\n",
            "567/567 [==============================] - 81s 143ms/step - loss: 0.2059\n",
            "Epoch 10/50\n",
            "567/567 [==============================] - 81s 142ms/step - loss: 0.4702\n",
            "Epoch 11/50\n",
            "567/567 [==============================] - 80s 142ms/step - loss: 0.2240\n",
            "Epoch 12/50\n",
            "567/567 [==============================] - 81s 143ms/step - loss: 0.2046\n",
            "Epoch 13/50\n",
            "567/567 [==============================] - 80s 140ms/step - loss: 0.2000\n",
            "Epoch 14/50\n",
            "567/567 [==============================] - 79s 140ms/step - loss: 0.2001\n",
            "Epoch 15/50\n",
            "567/567 [==============================] - 79s 140ms/step - loss: 0.2000\n",
            "Epoch 16/50\n",
            "567/567 [==============================] - 79s 140ms/step - loss: 0.2008\n",
            "Epoch 17/50\n",
            "567/567 [==============================] - 79s 140ms/step - loss: 0.4196\n",
            "Epoch 18/50\n",
            "567/567 [==============================] - 79s 139ms/step - loss: 0.2222\n",
            "Epoch 19/50\n",
            "567/567 [==============================] - 79s 140ms/step - loss: 0.2000\n",
            "Epoch 20/50\n",
            "567/567 [==============================] - 79s 139ms/step - loss: 0.2000\n",
            "Epoch 21/50\n",
            "567/567 [==============================] - 79s 140ms/step - loss: 0.2000\n",
            "Epoch 22/50\n",
            "567/567 [==============================] - 79s 139ms/step - loss: 0.2002\n",
            "Epoch 23/50\n",
            "567/567 [==============================] - 80s 141ms/step - loss: 0.2000\n",
            "Epoch 24/50\n",
            "567/567 [==============================] - 79s 139ms/step - loss: 0.2000\n",
            "Epoch 25/50\n",
            "567/567 [==============================] - 78s 138ms/step - loss: 0.2000\n",
            "Epoch 26/50\n",
            "567/567 [==============================] - 79s 139ms/step - loss: 0.7514\n",
            "Epoch 27/50\n",
            "567/567 [==============================] - 78s 138ms/step - loss: 0.2069\n",
            "Epoch 28/50\n",
            "567/567 [==============================] - 79s 139ms/step - loss: 0.2271\n",
            "Epoch 29/50\n",
            "567/567 [==============================] - 77s 137ms/step - loss: 0.2015\n",
            "Epoch 30/50\n",
            "567/567 [==============================] - 77s 136ms/step - loss: 0.2002\n",
            "Epoch 31/50\n",
            "567/567 [==============================] - 77s 136ms/step - loss: 0.2000\n",
            "Epoch 32/50\n",
            "567/567 [==============================] - 79s 139ms/step - loss: 0.2232\n",
            "Epoch 33/50\n",
            "567/567 [==============================] - 78s 138ms/step - loss: 0.2000\n",
            "Epoch 34/50\n",
            "567/567 [==============================] - 78s 137ms/step - loss: 0.2000\n",
            "Epoch 35/50\n",
            "567/567 [==============================] - 77s 137ms/step - loss: 0.2000\n",
            "Epoch 36/50\n",
            "567/567 [==============================] - 77s 136ms/step - loss: 0.2000\n",
            "Epoch 37/50\n",
            "567/567 [==============================] - 77s 137ms/step - loss: 0.2000\n",
            "Epoch 38/50\n",
            "567/567 [==============================] - 78s 138ms/step - loss: 0.2000\n",
            "Epoch 39/50\n",
            "567/567 [==============================] - 77s 136ms/step - loss: 0.2000\n",
            "Epoch 40/50\n",
            "567/567 [==============================] - 78s 137ms/step - loss: 0.2000\n",
            "Epoch 41/50\n",
            "567/567 [==============================] - 81s 142ms/step - loss: 0.2000\n",
            "Epoch 42/50\n",
            "567/567 [==============================] - 77s 136ms/step - loss: 0.2000\n",
            "Epoch 43/50\n",
            "567/567 [==============================] - 77s 136ms/step - loss: 0.2000\n",
            "Epoch 44/50\n",
            "567/567 [==============================] - 77s 137ms/step - loss: 0.2000\n",
            "Epoch 45/50\n",
            "567/567 [==============================] - 77s 136ms/step - loss: 0.2000\n",
            "Epoch 46/50\n",
            "567/567 [==============================] - 77s 137ms/step - loss: 0.2000\n",
            "Epoch 47/50\n",
            "567/567 [==============================] - 77s 136ms/step - loss: 0.2367\n",
            "Epoch 48/50\n",
            "567/567 [==============================] - 78s 138ms/step - loss: 0.2106\n",
            "Epoch 49/50\n",
            "567/567 [==============================] - 78s 137ms/step - loss: 0.2000\n",
            "Epoch 50/50\n",
            "567/567 [==============================] - 78s 138ms/step - loss: 0.2000\n"
          ]
        }
      ]
    },
    {
      "cell_type": "code",
      "source": [
        "import matplotlib.pyplot as plt\n",
        "\n",
        "loss_values = history.history['loss']\n",
        "epochs = range(1, len(loss_values) + 1)\n",
        "\n",
        "plt.plot(epochs, loss_values, label='Training Loss')\n",
        "plt.xlabel('Epochs')\n",
        "plt.ylabel('Loss')\n",
        "plt.title('Training Loss Curve')\n",
        "plt.legend()\n",
        "plt.show()"
      ],
      "metadata": {
        "colab": {
          "base_uri": "https://localhost:8080/",
          "height": 472
        },
        "id": "H32oKnyorETl",
        "outputId": "e61927b2-7268-42df-ccfb-3aea8ee3c5ba"
      },
      "execution_count": null,
      "outputs": [
        {
          "output_type": "display_data",
          "data": {
            "text/plain": [
              "<Figure size 640x480 with 1 Axes>"
            ],
            "image/png": "[encoded data removed]"
          },
          "metadata": {}
        }
      ]
    }
  ],
  "metadata": {
    "accelerator": "GPU",
    "colab": {
      "machine_shape": "hm",
      "provenance": [],
      "toc_visible": true
    },
    "gpuClass": "standard",
    "kernelspec": {
      "display_name": "Python 3",
      "language": "python",
      "name": "python3"
    },
    "language_info": {
      "codemirror_mode": {
        "name": "ipython",
        "version": 3
      },
      "file_extension": ".py",
      "mimetype": "text/x-python",
      "name": "python",
      "nbconvert_exporter": "python",
      "pygments_lexer": "ipython3",
      "version": "3.10.10"
    }
  },
  "nbformat": 4,
  "nbformat_minor": 0
}