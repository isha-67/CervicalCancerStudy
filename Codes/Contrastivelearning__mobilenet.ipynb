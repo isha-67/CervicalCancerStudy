{
  "cells": [
    {
      "cell_type": "code",
      "execution_count": null,
      "metadata": {
        "colab": {
          "base_uri": "https://localhost:8080/"
        },
        "id": "xpYVPHnrF2Z2",
        "outputId": "741845c2-b0ef-4efc-a726-f79bb7da7f0b"
      },
      "outputs": [
        {
          "output_type": "stream",
          "name": "stdout",
          "text": [
            "2.12.0\n"
          ]
        }
      ],
      "source": [
        "import tensorflow as tf\n",
        "print(tf.__version__)"
      ]
    },
    {
      "cell_type": "code",
      "execution_count": null,
      "metadata": {
        "colab": {
          "base_uri": "https://localhost:8080/"
        },
        "id": "O4hKrNSvF23y",
        "outputId": "6f6fb3ac-24b6-4807-d391-b48e7bffa2cd"
      },
      "outputs": [
        {
          "output_type": "stream",
          "name": "stdout",
          "text": [
            "Mounted at /content/drive\n"
          ]
        }
      ],
      "source": [
        "from google.colab import drive\n",
        "drive.mount('/content/drive')"
      ]
    },
    {
      "cell_type": "code",
      "execution_count": null,
      "metadata": {
        "colab": {
          "base_uri": "https://localhost:8080/"
        },
        "id": "RmTeqCG9F6V4",
        "outputId": "3dd864fa-20b7-452b-f987-7cd5cbb6ea1a"
      },
      "outputs": [
        {
          "output_type": "stream",
          "name": "stdout",
          "text": [
            "Looking in indexes: https://pypi.org/simple, https://us-python.pkg.dev/colab-wheels/public/simple/\n",
            "Collecting tensorflow-addons\n",
            "  Downloading tensorflow_addons-0.20.0-cp310-cp310-manylinux_2_17_x86_64.manylinux2014_x86_64.whl (591 kB)\n",
            "\u001b[2K     \u001b[90m━━━━━━━━━━━━━━━━━━━━━━━━━━━━━━━━━━━━━━\u001b[0m \u001b[32m591.0/591.0 kB\u001b[0m \u001b[31m19.4 MB/s\u001b[0m eta \u001b[36m0:00:00\u001b[0m\n",
            "\u001b[?25hRequirement already satisfied: packaging in /usr/local/lib/python3.10/dist-packages (from tensorflow-addons) (23.1)\n",
            "Collecting typeguard<3.0.0,>=2.7 (from tensorflow-addons)\n",
            "  Downloading typeguard-2.13.3-py3-none-any.whl (17 kB)\n",
            "Installing collected packages: typeguard, tensorflow-addons\n",
            "Successfully installed tensorflow-addons-0.20.0 typeguard-2.13.3\n"
          ]
        }
      ],
      "source": [
        "pip install tensorflow-addons"
      ]
    },
    {
      "cell_type": "code",
      "execution_count": null,
      "metadata": {
        "id": "UgD0aR8SHPHT"
      },
      "outputs": [],
      "source": [
        "save_path = '/content/drive/MyDrive/ThesisNewApproach/Saved/highepoch/Model/'\n",
        "save_path1 = '/content/drive/MyDrive/ThesisNewApproach/Saved/highepoch/Weight/'\n",
        "save_path2 = '/content/drive/MyDrive/ThesisNewApproach/Saved/highepoch/Loss/'"
      ]
    },
    {
      "cell_type": "code",
      "execution_count": null,
      "metadata": {
        "colab": {
          "base_uri": "https://localhost:8080/"
        },
        "id": "W22hw1WAF650",
        "outputId": "8aff2b8f-2392-4ea0-d21b-6c7d6ab7c64f"
      },
      "outputs": [
        {
          "output_type": "stream",
          "name": "stderr",
          "text": [
            "/usr/local/lib/python3.10/dist-packages/tensorflow_addons/utils/tfa_eol_msg.py:23: UserWarning: \n",
            "\n",
            "TensorFlow Addons (TFA) has ended development and introduction of new features.\n",
            "TFA has entered a minimal maintenance and release mode until a planned end of life in May 2024.\n",
            "Please modify downstream libraries to take dependencies from other repositories in our TensorFlow community (e.g. Keras, Keras-CV, and Keras-NLP). \n",
            "\n",
            "For more information see: https://github.com/tensorflow/addons/issues/2807 \n",
            "\n",
            "  warnings.warn(\n"
          ]
        }
      ],
      "source": [
        "from tensorflow.keras.layers import *\n",
        "from tensorflow.keras.models import *\n",
        "import tensorflow_datasets as tfds\n",
        "import matplotlib.pyplot as plt\n",
        "import numpy as np\n",
        "import time\n",
        "import cv2\n",
        "from tqdm.notebook import tqdm\n",
        "from zipfile import ZipFile\n",
        "from imutils import paths\n",
        "tf.random.set_seed(666)\n",
        "np.random.seed(666)\n",
        "\n",
        "tfds.disable_progress_bar()\n",
        "import tensorflow as tf\n",
        "import tensorflow_addons as tfa\n",
        "import numpy as np\n",
        "from tensorflow import keras\n",
        "from tensorflow.keras import layers"
      ]
    },
    {
      "cell_type": "code",
      "execution_count": null,
      "metadata": {
        "id": "w-S0jnxsFqfV"
      },
      "outputs": [],
      "source": [
        "import tensorflow as tf\n",
        "#import tensorflow_addons as tfa\n",
        "import pandas as pd\n",
        "import numpy as np\n",
        "import matplotlib.pyplot as plt\n",
        "import seaborn as sns\n",
        "%matplotlib inline\n",
        "import os\n",
        "import glob\n",
        "import shutil\n",
        "import pathlib\n",
        "import random\n",
        "\n",
        "#model selection\n",
        "from sklearn.model_selection import train_test_split\n",
        "\n",
        "#data augumentation\n",
        "import  cv2\n",
        "import imgaug\n",
        "import imageio\n",
        "from imgaug import augmenters as iaa\n",
        "\n",
        "##\n",
        "from keras.preprocessing.image import ImageDataGenerator\n",
        "from sklearn.metrics import accuracy_score, confusion_matrix, classification_report\n",
        "\n",
        "from keras.applications import vgg16\n",
        "from keras.layers import Dense, GlobalMaxPool2D, BatchNormalization, Dropout\n",
        "from keras.models import Model, Sequential\n",
        "from keras.optimizers import Adam\n",
        "\n",
        "from keras.callbacks import ModelCheckpoint\n",
        "from keras.callbacks import ReduceLROnPlateau\n",
        "from keras.callbacks import EarlyStopping\n",
        "\n",
        "from tensorflow.keras import layers"
      ]
    },
    {
      "cell_type": "code",
      "execution_count": null,
      "metadata": {
        "id": "DiGw53eZFqfW"
      },
      "outputs": [],
      "source": [
        "from tensorflow.keras.layers import *\n",
        "from tensorflow.keras.models import *\n",
        "import tensorflow_datasets as tfds\n",
        "import matplotlib.pyplot as plt\n",
        "import numpy as np\n",
        "import time\n",
        "import cv2\n",
        "from tqdm.notebook import tqdm\n",
        "from zipfile import ZipFile\n",
        "from imutils import paths\n",
        "tf.random.set_seed(666)\n",
        "np.random.seed(666)\n",
        "\n",
        "tfds.disable_progress_bar()\n",
        "import tensorflow as tf\n",
        "import tensorflow_addons as tfa\n",
        "import numpy as np\n",
        "from tensorflow import keras\n",
        "from tensorflow.keras import layers\n",
        "from tensorflow.keras.layers import *\n",
        "from tensorflow.keras.models import *\n",
        "import tensorflow_datasets as tfds\n",
        "import matplotlib.pyplot as plt\n",
        "import numpy as np\n",
        "import time\n",
        "import cv2\n",
        "from tqdm.notebook import tqdm\n",
        "from zipfile import ZipFile\n",
        "from imutils import paths\n",
        "tf.random.set_seed(666)\n",
        "np.random.seed(666)\n",
        "\n",
        "tfds.disable_progress_bar()\n",
        "import tensorflow as tf\n",
        "import tensorflow_addons as tfa\n",
        "import numpy as np\n",
        "from tensorflow import keras\n",
        "from tensorflow.keras import layers"
      ]
    },
    {
      "cell_type": "code",
      "execution_count": null,
      "metadata": {
        "colab": {
          "base_uri": "https://localhost:8080/"
        },
        "id": "A_QkjxyxbF1S",
        "outputId": "f1e143c6-5169-4082-8794-1aa88ae4a452"
      },
      "outputs": [
        {
          "output_type": "stream",
          "name": "stdout",
          "text": [
            "x_train shape: (18123, 110, 110, 3) - y_train shape: (18123,)\n",
            "x_val shape: (648, 110, 110, 3) - y_val shape: (648,)\n",
            "x_test shape: (812, 110, 110, 3) - y_test shape: (812,)\n"
          ]
        }
      ],
      "source": [
        "#Run from here\n",
        "import os\n",
        "x_train = []\n",
        "y_train = []\n",
        "x_train = np.load(\"/content/drive/MyDrive/ThesisNewApproach/Dataset/NewData/TrainData.npy\")\n",
        "y_train = np.load(\"/content/drive/MyDrive/ThesisNewApproach/Dataset/NewData/TrainLabels.npy\")\n",
        "\n",
        "x_val = []\n",
        "y_val = []\n",
        "x_val = np.load(\"/content/drive/MyDrive/ThesisNewApproach/Dataset/NewData/ValData.npy\")\n",
        "y_val = np.load(\"/content/drive/MyDrive/ThesisNewApproach/Dataset/NewData/ValLabels.npy\")\n",
        "\n",
        "x_test = []\n",
        "y_test = []\n",
        "x_test = np.load(\"/content/drive/MyDrive/ThesisNewApproach/Dataset/NewData/TestData.npy\")\n",
        "y_test = np.load(\"/content/drive/MyDrive/ThesisNewApproach/Dataset/NewData/TestLabels.npy\")\n",
        "\n",
        "print(f\"x_train shape: {x_train .shape} - y_train shape: {y_train .shape}\")\n",
        "print(f\"x_val shape: {x_val.shape} - y_val shape: {y_val.shape}\")\n",
        "print(f\"x_test shape: {x_test.shape} - y_test shape: {y_test .shape}\")"
      ]
    },
    {
      "cell_type": "code",
      "execution_count": null,
      "metadata": {
        "id": "pPXr2_ahFqfY"
      },
      "outputs": [],
      "source": [
        "data_augmentation = keras.Sequential(\n",
        "    [\n",
        "        layers.Normalization(),\n",
        "        layers.RandomFlip(\"horizontal\"),\n",
        "        layers.RandomRotation(0.02),\n",
        "        layers.RandomWidth(0.2),\n",
        "        layers.RandomHeight(0.2),\n",
        "    ]\n",
        ")\n",
        "\n",
        "data_augmentation.layers[0].adapt(x_train)"
      ]
    },
    {
      "cell_type": "code",
      "execution_count": null,
      "metadata": {
        "id": "-oE2B6QXFqfZ"
      },
      "outputs": [],
      "source": [
        "img_heigth, img_width = 110,110\n",
        "input_shape = (img_heigth, img_width, 3)\n",
        "num_classes = 5"
      ]
    },
    {
      "cell_type": "code",
      "execution_count": null,
      "metadata": {
        "colab": {
          "base_uri": "https://localhost:8080/"
        },
        "id": "1bSsfFTMFqfZ",
        "outputId": "5433a929-9167-477a-9ef7-5983608fdd30"
      },
      "outputs": [
        {
          "output_type": "stream",
          "name": "stdout",
          "text": [
            "Model: \"mobilenet-encoder\"\n",
            "_________________________________________________________________\n",
            " Layer (type)                Output Shape              Param #   \n",
            "=================================================================\n",
            " input_2 (InputLayer)        [(None, 110, 110, 3)]     0         \n",
            "                                                                 \n",
            " sequential (Sequential)     (None, None, None, 3)     7         \n",
            "                                                                 \n",
            " mobilenetv2_1.00_110 (Funct  (None, 1280)             2257984   \n",
            " ional)                                                          \n",
            "                                                                 \n",
            "=================================================================\n",
            "Total params: 2,257,991\n",
            "Trainable params: 2,223,872\n",
            "Non-trainable params: 34,119\n",
            "_________________________________________________________________\n"
          ]
        }
      ],
      "source": [
        "def create_encoder():\n",
        "    vgg16 = keras.applications.mobilenet_v2.MobileNetV2(\n",
        "        include_top=False, weights=None, input_shape=input_shape, pooling=\"avg\"\n",
        "    )\n",
        "\n",
        "    inputs = keras.Input(shape=input_shape)\n",
        "    augmented = data_augmentation(inputs)\n",
        "    outputs = vgg16(augmented)\n",
        "    model = keras.Model(inputs=inputs, outputs=outputs, name=\"mobilenet-encoder\")\n",
        "    return model\n",
        "\n",
        "\n",
        "encoder = create_encoder()\n",
        "encoder.summary()\n",
        "\n",
        "learning_rate = 0.0001\n",
        "batch_size = 32\n",
        "hidden_units = 512\n",
        "projection_units = 128\n",
        "num_epochs = 50\n",
        "dropout_rate = 0.5\n",
        "temperature = 0.05"
      ]
    },
    {
      "cell_type": "code",
      "execution_count": null,
      "metadata": {
        "id": "Szcz8uMcFqfZ"
      },
      "outputs": [],
      "source": [
        "def create_classifier(encoder, trainable=True):\n",
        "\n",
        "    for layer in encoder.layers:\n",
        "        layer.trainable = trainable\n",
        "\n",
        "    inputs = keras.Input(shape=input_shape)\n",
        "    features = encoder(inputs)\n",
        "    features = layers.Dropout(dropout_rate)(features)\n",
        "    features = layers.Dense(hidden_units, activation=\"relu\")(features)\n",
        "    features = layers.Dropout(dropout_rate)(features)\n",
        "    outputs = layers.Dense(num_classes, activation=\"softmax\")(features)\n",
        "\n",
        "    model = keras.Model(inputs=inputs, outputs=outputs, name=\"mobilenet-classifier\")\n",
        "    model.compile(\n",
        "        optimizer=keras.optimizers.Adam(learning_rate),\n",
        "        loss=keras.losses.SparseCategoricalCrossentropy(),\n",
        "        metrics=[keras.metrics.SparseCategoricalAccuracy()],\n",
        "    )\n",
        "    return model"
      ]
    },
    {
      "cell_type": "code",
      "execution_count": null,
      "metadata": {
        "id": "jOuGXUszFqfZ"
      },
      "outputs": [],
      "source": [
        "checkpointer = ModelCheckpoint(filepath='saved_models/baseline_model_mobilenet.hdf5', \n",
        "                               monitor='sparse_categorical_accuracy', mode='max',\n",
        "                               verbose=1, save_best_only=True)\n",
        "early_stopping = EarlyStopping(monitor='loss', mode='min', verbose=1, patience=3)\n",
        "reduce_lr = ReduceLROnPlateau(monitor='loss', factor=0.2,patience=2, min_lr=1e-5)\n",
        "callbacks=[early_stopping, reduce_lr, checkpointer]"
      ]
    },
    {
      "cell_type": "markdown",
      "source": [
        "# Baseline"
      ],
      "metadata": {
        "id": "ov4KCbyY5cBs"
      }
    },
    {
      "cell_type": "code",
      "execution_count": null,
      "metadata": {
        "colab": {
          "base_uri": "https://localhost:8080/"
        },
        "id": "05Q7ghwTFqfZ",
        "outputId": "39fb0e19-2c2a-47d3-a45f-4a5d22a46e46"
      },
      "outputs": [
        {
          "output_type": "stream",
          "name": "stdout",
          "text": [
            "Model: \"mobilenet-classifier\"\n",
            "_________________________________________________________________\n",
            " Layer (type)                Output Shape              Param #   \n",
            "=================================================================\n",
            " input_5 (InputLayer)        [(None, 110, 110, 3)]     0         \n",
            "                                                                 \n",
            " mobilenet-encoder (Function  (None, 1280)             2257991   \n",
            " al)                                                             \n",
            "                                                                 \n",
            " dropout (Dropout)           (None, 1280)              0         \n",
            "                                                                 \n",
            " dense (Dense)               (None, 512)               655872    \n",
            "                                                                 \n",
            " dropout_1 (Dropout)         (None, 512)               0         \n",
            "                                                                 \n",
            " dense_1 (Dense)             (None, 5)                 2565      \n",
            "                                                                 \n",
            "=================================================================\n",
            "Total params: 2,916,428\n",
            "Trainable params: 2,882,309\n",
            "Non-trainable params: 34,119\n",
            "_________________________________________________________________\n",
            "Epoch 1/50\n",
            "567/567 [==============================] - ETA: 0s - loss: 1.5061 - sparse_categorical_accuracy: 0.3768\n",
            "Epoch 1: sparse_categorical_accuracy improved from -inf to 0.37681, saving model to saved_models/baseline_model_mobilenet.hdf5\n",
            "567/567 [==============================] - 169s 223ms/step - loss: 1.5061 - sparse_categorical_accuracy: 0.3768 - lr: 1.0000e-04\n",
            "Epoch 2/50\n",
            "567/567 [==============================] - ETA: 0s - loss: 1.2424 - sparse_categorical_accuracy: 0.5138\n",
            "Epoch 2: sparse_categorical_accuracy improved from 0.37681 to 0.51377, saving model to saved_models/baseline_model_mobilenet.hdf5\n",
            "567/567 [==============================] - 61s 107ms/step - loss: 1.2424 - sparse_categorical_accuracy: 0.5138 - lr: 1.0000e-04\n",
            "Epoch 3/50\n",
            "567/567 [==============================] - ETA: 0s - loss: 1.1691 - sparse_categorical_accuracy: 0.5562\n",
            "Epoch 3: sparse_categorical_accuracy improved from 0.51377 to 0.55620, saving model to saved_models/baseline_model_mobilenet.hdf5\n",
            "567/567 [==============================] - 45s 80ms/step - loss: 1.1691 - sparse_categorical_accuracy: 0.5562 - lr: 1.0000e-04\n",
            "Epoch 4/50\n",
            "567/567 [==============================] - ETA: 0s - loss: 1.1235 - sparse_categorical_accuracy: 0.5684\n",
            "Epoch 4: sparse_categorical_accuracy improved from 0.55620 to 0.56839, saving model to saved_models/baseline_model_mobilenet.hdf5\n",
            "567/567 [==============================] - 36s 63ms/step - loss: 1.1235 - sparse_categorical_accuracy: 0.5684 - lr: 1.0000e-04\n",
            "Epoch 5/50\n",
            "567/567 [==============================] - ETA: 0s - loss: 1.0903 - sparse_categorical_accuracy: 0.5795\n",
            "Epoch 5: sparse_categorical_accuracy improved from 0.56839 to 0.57954, saving model to saved_models/baseline_model_mobilenet.hdf5\n",
            "567/567 [==============================] - 33s 59ms/step - loss: 1.0903 - sparse_categorical_accuracy: 0.5795 - lr: 1.0000e-04\n",
            "Epoch 6/50\n",
            "567/567 [==============================] - ETA: 0s - loss: 1.0499 - sparse_categorical_accuracy: 0.5946\n",
            "Epoch 6: sparse_categorical_accuracy improved from 0.57954 to 0.59460, saving model to saved_models/baseline_model_mobilenet.hdf5\n",
            "567/567 [==============================] - 32s 56ms/step - loss: 1.0499 - sparse_categorical_accuracy: 0.5946 - lr: 1.0000e-04\n",
            "Epoch 7/50\n",
            "567/567 [==============================] - ETA: 0s - loss: 0.9907 - sparse_categorical_accuracy: 0.6256\n",
            "Epoch 7: sparse_categorical_accuracy improved from 0.59460 to 0.62556, saving model to saved_models/baseline_model_mobilenet.hdf5\n",
            "567/567 [==============================] - 30s 53ms/step - loss: 0.9907 - sparse_categorical_accuracy: 0.6256 - lr: 1.0000e-04\n",
            "Epoch 8/50\n",
            "567/567 [==============================] - ETA: 0s - loss: 0.9347 - sparse_categorical_accuracy: 0.6459\n",
            "Epoch 8: sparse_categorical_accuracy improved from 0.62556 to 0.64592, saving model to saved_models/baseline_model_mobilenet.hdf5\n",
            "567/567 [==============================] - 29s 52ms/step - loss: 0.9347 - sparse_categorical_accuracy: 0.6459 - lr: 1.0000e-04\n",
            "Epoch 9/50\n",
            "567/567 [==============================] - ETA: 0s - loss: 0.8880 - sparse_categorical_accuracy: 0.6610\n",
            "Epoch 9: sparse_categorical_accuracy improved from 0.64592 to 0.66104, saving model to saved_models/baseline_model_mobilenet.hdf5\n",
            "567/567 [==============================] - 29s 52ms/step - loss: 0.8880 - sparse_categorical_accuracy: 0.6610 - lr: 1.0000e-04\n",
            "Epoch 10/50\n",
            "567/567 [==============================] - ETA: 0s - loss: 0.8554 - sparse_categorical_accuracy: 0.6805\n",
            "Epoch 10: sparse_categorical_accuracy improved from 0.66104 to 0.68052, saving model to saved_models/baseline_model_mobilenet.hdf5\n",
            "567/567 [==============================] - 29s 51ms/step - loss: 0.8554 - sparse_categorical_accuracy: 0.6805 - lr: 1.0000e-04\n",
            "Epoch 11/50\n",
            "567/567 [==============================] - ETA: 0s - loss: 0.8066 - sparse_categorical_accuracy: 0.6955\n",
            "Epoch 11: sparse_categorical_accuracy improved from 0.68052 to 0.69553, saving model to saved_models/baseline_model_mobilenet.hdf5\n",
            "567/567 [==============================] - 28s 50ms/step - loss: 0.8066 - sparse_categorical_accuracy: 0.6955 - lr: 1.0000e-04\n",
            "Epoch 12/50\n",
            "567/567 [==============================] - ETA: 0s - loss: 0.7666 - sparse_categorical_accuracy: 0.7088\n",
            "Epoch 12: sparse_categorical_accuracy improved from 0.69553 to 0.70877, saving model to saved_models/baseline_model_mobilenet.hdf5\n",
            "567/567 [==============================] - 28s 49ms/step - loss: 0.7666 - sparse_categorical_accuracy: 0.7088 - lr: 1.0000e-04\n",
            "Epoch 13/50\n",
            "567/567 [==============================] - ETA: 0s - loss: 0.7410 - sparse_categorical_accuracy: 0.7228\n",
            "Epoch 13: sparse_categorical_accuracy improved from 0.70877 to 0.72278, saving model to saved_models/baseline_model_mobilenet.hdf5\n",
            "567/567 [==============================] - 27s 47ms/step - loss: 0.7410 - sparse_categorical_accuracy: 0.7228 - lr: 1.0000e-04\n",
            "Epoch 14/50\n",
            "567/567 [==============================] - ETA: 0s - loss: 0.7091 - sparse_categorical_accuracy: 0.7332\n",
            "Epoch 14: sparse_categorical_accuracy improved from 0.72278 to 0.73321, saving model to saved_models/baseline_model_mobilenet.hdf5\n",
            "567/567 [==============================] - 27s 47ms/step - loss: 0.7091 - sparse_categorical_accuracy: 0.7332 - lr: 1.0000e-04\n",
            "Epoch 15/50\n",
            "567/567 [==============================] - ETA: 0s - loss: 0.6793 - sparse_categorical_accuracy: 0.7446\n",
            "Epoch 15: sparse_categorical_accuracy improved from 0.73321 to 0.74458, saving model to saved_models/baseline_model_mobilenet.hdf5\n",
            "567/567 [==============================] - 27s 48ms/step - loss: 0.6793 - sparse_categorical_accuracy: 0.7446 - lr: 1.0000e-04\n",
            "Epoch 16/50\n",
            "567/567 [==============================] - ETA: 0s - loss: 0.6480 - sparse_categorical_accuracy: 0.7579\n",
            "Epoch 16: sparse_categorical_accuracy improved from 0.74458 to 0.75793, saving model to saved_models/baseline_model_mobilenet.hdf5\n",
            "567/567 [==============================] - 27s 48ms/step - loss: 0.6480 - sparse_categorical_accuracy: 0.7579 - lr: 1.0000e-04\n",
            "Epoch 17/50\n",
            "567/567 [==============================] - ETA: 0s - loss: 0.6320 - sparse_categorical_accuracy: 0.7616\n",
            "Epoch 17: sparse_categorical_accuracy improved from 0.75793 to 0.76157, saving model to saved_models/baseline_model_mobilenet.hdf5\n",
            "567/567 [==============================] - 26s 47ms/step - loss: 0.6320 - sparse_categorical_accuracy: 0.7616 - lr: 1.0000e-04\n",
            "Epoch 18/50\n",
            "567/567 [==============================] - ETA: 0s - loss: 0.6070 - sparse_categorical_accuracy: 0.7705\n",
            "Epoch 18: sparse_categorical_accuracy improved from 0.76157 to 0.77046, saving model to saved_models/baseline_model_mobilenet.hdf5\n",
            "567/567 [==============================] - 27s 47ms/step - loss: 0.6070 - sparse_categorical_accuracy: 0.7705 - lr: 1.0000e-04\n",
            "Epoch 19/50\n",
            "567/567 [==============================] - ETA: 0s - loss: 0.5929 - sparse_categorical_accuracy: 0.7748\n",
            "Epoch 19: sparse_categorical_accuracy improved from 0.77046 to 0.77482, saving model to saved_models/baseline_model_mobilenet.hdf5\n",
            "567/567 [==============================] - 27s 48ms/step - loss: 0.5929 - sparse_categorical_accuracy: 0.7748 - lr: 1.0000e-04\n",
            "Epoch 20/50\n",
            "567/567 [==============================] - ETA: 0s - loss: 0.5734 - sparse_categorical_accuracy: 0.7814\n",
            "Epoch 20: sparse_categorical_accuracy improved from 0.77482 to 0.78138, saving model to saved_models/baseline_model_mobilenet.hdf5\n",
            "567/567 [==============================] - 27s 47ms/step - loss: 0.5734 - sparse_categorical_accuracy: 0.7814 - lr: 1.0000e-04\n",
            "Epoch 21/50\n",
            "567/567 [==============================] - ETA: 0s - loss: 0.5600 - sparse_categorical_accuracy: 0.7893\n",
            "Epoch 21: sparse_categorical_accuracy improved from 0.78138 to 0.78933, saving model to saved_models/baseline_model_mobilenet.hdf5\n",
            "567/567 [==============================] - 27s 47ms/step - loss: 0.5600 - sparse_categorical_accuracy: 0.7893 - lr: 1.0000e-04\n",
            "Epoch 22/50\n",
            "567/567 [==============================] - ETA: 0s - loss: 0.5408 - sparse_categorical_accuracy: 0.7955\n",
            "Epoch 22: sparse_categorical_accuracy improved from 0.78933 to 0.79551, saving model to saved_models/baseline_model_mobilenet.hdf5\n",
            "567/567 [==============================] - 26s 47ms/step - loss: 0.5408 - sparse_categorical_accuracy: 0.7955 - lr: 1.0000e-04\n",
            "Epoch 23/50\n",
            "567/567 [==============================] - ETA: 0s - loss: 0.5307 - sparse_categorical_accuracy: 0.8038\n",
            "Epoch 23: sparse_categorical_accuracy improved from 0.79551 to 0.80384, saving model to saved_models/baseline_model_mobilenet.hdf5\n",
            "567/567 [==============================] - 26s 47ms/step - loss: 0.5307 - sparse_categorical_accuracy: 0.8038 - lr: 1.0000e-04\n",
            "Epoch 24/50\n",
            "567/567 [==============================] - ETA: 0s - loss: 0.5192 - sparse_categorical_accuracy: 0.8033\n",
            "Epoch 24: sparse_categorical_accuracy did not improve from 0.80384\n",
            "567/567 [==============================] - 26s 46ms/step - loss: 0.5192 - sparse_categorical_accuracy: 0.8033 - lr: 1.0000e-04\n",
            "Epoch 25/50\n",
            "567/567 [==============================] - ETA: 0s - loss: 0.5054 - sparse_categorical_accuracy: 0.8121\n",
            "Epoch 25: sparse_categorical_accuracy improved from 0.80384 to 0.81206, saving model to saved_models/baseline_model_mobilenet.hdf5\n",
            "567/567 [==============================] - 26s 46ms/step - loss: 0.5054 - sparse_categorical_accuracy: 0.8121 - lr: 1.0000e-04\n",
            "Epoch 26/50\n",
            "567/567 [==============================] - ETA: 0s - loss: 0.4808 - sparse_categorical_accuracy: 0.8211\n",
            "Epoch 26: sparse_categorical_accuracy improved from 0.81206 to 0.82111, saving model to saved_models/baseline_model_mobilenet.hdf5\n",
            "567/567 [==============================] - 26s 46ms/step - loss: 0.4808 - sparse_categorical_accuracy: 0.8211 - lr: 1.0000e-04\n",
            "Epoch 27/50\n",
            "567/567 [==============================] - ETA: 0s - loss: 0.4682 - sparse_categorical_accuracy: 0.8252\n",
            "Epoch 27: sparse_categorical_accuracy improved from 0.82111 to 0.82519, saving model to saved_models/baseline_model_mobilenet.hdf5\n",
            "567/567 [==============================] - 26s 46ms/step - loss: 0.4682 - sparse_categorical_accuracy: 0.8252 - lr: 1.0000e-04\n",
            "Epoch 28/50\n",
            "567/567 [==============================] - ETA: 0s - loss: 0.4609 - sparse_categorical_accuracy: 0.8259\n",
            "Epoch 28: sparse_categorical_accuracy improved from 0.82519 to 0.82586, saving model to saved_models/baseline_model_mobilenet.hdf5\n",
            "567/567 [==============================] - 26s 47ms/step - loss: 0.4609 - sparse_categorical_accuracy: 0.8259 - lr: 1.0000e-04\n",
            "Epoch 29/50\n",
            "567/567 [==============================] - ETA: 0s - loss: 0.4449 - sparse_categorical_accuracy: 0.8321\n",
            "Epoch 29: sparse_categorical_accuracy improved from 0.82586 to 0.83209, saving model to saved_models/baseline_model_mobilenet.hdf5\n",
            "567/567 [==============================] - 26s 46ms/step - loss: 0.4449 - sparse_categorical_accuracy: 0.8321 - lr: 1.0000e-04\n",
            "Epoch 30/50\n",
            "567/567 [==============================] - ETA: 0s - loss: 0.4463 - sparse_categorical_accuracy: 0.8314\n",
            "Epoch 30: sparse_categorical_accuracy did not improve from 0.83209\n",
            "567/567 [==============================] - 26s 46ms/step - loss: 0.4463 - sparse_categorical_accuracy: 0.8314 - lr: 1.0000e-04\n",
            "Epoch 31/50\n",
            "567/567 [==============================] - ETA: 0s - loss: 0.4276 - sparse_categorical_accuracy: 0.8400\n",
            "Epoch 31: sparse_categorical_accuracy improved from 0.83209 to 0.83998, saving model to saved_models/baseline_model_mobilenet.hdf5\n",
            "567/567 [==============================] - 26s 46ms/step - loss: 0.4276 - sparse_categorical_accuracy: 0.8400 - lr: 1.0000e-04\n",
            "Epoch 32/50\n",
            "567/567 [==============================] - ETA: 0s - loss: 0.4168 - sparse_categorical_accuracy: 0.8458\n",
            "Epoch 32: sparse_categorical_accuracy improved from 0.83998 to 0.84578, saving model to saved_models/baseline_model_mobilenet.hdf5\n",
            "567/567 [==============================] - 26s 46ms/step - loss: 0.4168 - sparse_categorical_accuracy: 0.8458 - lr: 1.0000e-04\n",
            "Epoch 33/50\n",
            "567/567 [==============================] - ETA: 0s - loss: 0.4029 - sparse_categorical_accuracy: 0.8477\n",
            "Epoch 33: sparse_categorical_accuracy improved from 0.84578 to 0.84771, saving model to saved_models/baseline_model_mobilenet.hdf5\n",
            "567/567 [==============================] - 27s 47ms/step - loss: 0.4029 - sparse_categorical_accuracy: 0.8477 - lr: 1.0000e-04\n",
            "Epoch 34/50\n",
            "567/567 [==============================] - ETA: 0s - loss: 0.4027 - sparse_categorical_accuracy: 0.8474\n",
            "Epoch 34: sparse_categorical_accuracy did not improve from 0.84771\n",
            "567/567 [==============================] - 26s 45ms/step - loss: 0.4027 - sparse_categorical_accuracy: 0.8474 - lr: 1.0000e-04\n",
            "Epoch 35/50\n",
            "567/567 [==============================] - ETA: 0s - loss: 0.3885 - sparse_categorical_accuracy: 0.8539\n",
            "Epoch 35: sparse_categorical_accuracy improved from 0.84771 to 0.85389, saving model to saved_models/baseline_model_mobilenet.hdf5\n",
            "567/567 [==============================] - 26s 46ms/step - loss: 0.3885 - sparse_categorical_accuracy: 0.8539 - lr: 1.0000e-04\n",
            "Epoch 36/50\n",
            "567/567 [==============================] - ETA: 0s - loss: 0.3748 - sparse_categorical_accuracy: 0.8612\n",
            "Epoch 36: sparse_categorical_accuracy improved from 0.85389 to 0.86117, saving model to saved_models/baseline_model_mobilenet.hdf5\n",
            "567/567 [==============================] - 26s 46ms/step - loss: 0.3748 - sparse_categorical_accuracy: 0.8612 - lr: 1.0000e-04\n",
            "Epoch 37/50\n",
            "567/567 [==============================] - ETA: 0s - loss: 0.3738 - sparse_categorical_accuracy: 0.8605\n",
            "Epoch 37: sparse_categorical_accuracy did not improve from 0.86117\n",
            "567/567 [==============================] - 26s 46ms/step - loss: 0.3738 - sparse_categorical_accuracy: 0.8605 - lr: 1.0000e-04\n",
            "Epoch 38/50\n",
            "567/567 [==============================] - ETA: 0s - loss: 0.3627 - sparse_categorical_accuracy: 0.8650\n",
            "Epoch 38: sparse_categorical_accuracy improved from 0.86117 to 0.86503, saving model to saved_models/baseline_model_mobilenet.hdf5\n",
            "567/567 [==============================] - 26s 46ms/step - loss: 0.3627 - sparse_categorical_accuracy: 0.8650 - lr: 1.0000e-04\n",
            "Epoch 39/50\n",
            "567/567 [==============================] - ETA: 0s - loss: 0.3588 - sparse_categorical_accuracy: 0.8662\n",
            "Epoch 39: sparse_categorical_accuracy improved from 0.86503 to 0.86625, saving model to saved_models/baseline_model_mobilenet.hdf5\n",
            "567/567 [==============================] - 27s 47ms/step - loss: 0.3588 - sparse_categorical_accuracy: 0.8662 - lr: 1.0000e-04\n",
            "Epoch 40/50\n",
            "567/567 [==============================] - ETA: 0s - loss: 0.3537 - sparse_categorical_accuracy: 0.8664\n",
            "Epoch 40: sparse_categorical_accuracy improved from 0.86625 to 0.86636, saving model to saved_models/baseline_model_mobilenet.hdf5\n",
            "567/567 [==============================] - 27s 47ms/step - loss: 0.3537 - sparse_categorical_accuracy: 0.8664 - lr: 1.0000e-04\n",
            "Epoch 41/50\n",
            "567/567 [==============================] - ETA: 0s - loss: 0.3437 - sparse_categorical_accuracy: 0.8710\n",
            "Epoch 41: sparse_categorical_accuracy improved from 0.86636 to 0.87099, saving model to saved_models/baseline_model_mobilenet.hdf5\n",
            "567/567 [==============================] - 27s 47ms/step - loss: 0.3437 - sparse_categorical_accuracy: 0.8710 - lr: 1.0000e-04\n",
            "Epoch 42/50\n",
            "567/567 [==============================] - ETA: 0s - loss: 0.3360 - sparse_categorical_accuracy: 0.8755\n",
            "Epoch 42: sparse_categorical_accuracy improved from 0.87099 to 0.87552, saving model to saved_models/baseline_model_mobilenet.hdf5\n",
            "567/567 [==============================] - 27s 47ms/step - loss: 0.3360 - sparse_categorical_accuracy: 0.8755 - lr: 1.0000e-04\n",
            "Epoch 43/50\n",
            "567/567 [==============================] - ETA: 0s - loss: 0.3216 - sparse_categorical_accuracy: 0.8794\n",
            "Epoch 43: sparse_categorical_accuracy improved from 0.87552 to 0.87938, saving model to saved_models/baseline_model_mobilenet.hdf5\n",
            "567/567 [==============================] - 27s 47ms/step - loss: 0.3216 - sparse_categorical_accuracy: 0.8794 - lr: 1.0000e-04\n",
            "Epoch 44/50\n",
            "567/567 [==============================] - ETA: 0s - loss: 0.3221 - sparse_categorical_accuracy: 0.8792\n",
            "Epoch 44: sparse_categorical_accuracy did not improve from 0.87938\n",
            "567/567 [==============================] - 26s 45ms/step - loss: 0.3221 - sparse_categorical_accuracy: 0.8792 - lr: 1.0000e-04\n",
            "Epoch 45/50\n",
            "567/567 [==============================] - ETA: 0s - loss: 0.3184 - sparse_categorical_accuracy: 0.8800\n",
            "Epoch 45: sparse_categorical_accuracy improved from 0.87938 to 0.87999, saving model to saved_models/baseline_model_mobilenet.hdf5\n",
            "567/567 [==============================] - 26s 46ms/step - loss: 0.3184 - sparse_categorical_accuracy: 0.8800 - lr: 1.0000e-04\n",
            "Epoch 46/50\n",
            "567/567 [==============================] - ETA: 0s - loss: 0.3147 - sparse_categorical_accuracy: 0.8824\n",
            "Epoch 46: sparse_categorical_accuracy improved from 0.87999 to 0.88236, saving model to saved_models/baseline_model_mobilenet.hdf5\n",
            "567/567 [==============================] - 27s 47ms/step - loss: 0.3147 - sparse_categorical_accuracy: 0.8824 - lr: 1.0000e-04\n",
            "Epoch 47/50\n",
            "566/567 [============================>.] - ETA: 0s - loss: 0.3022 - sparse_categorical_accuracy: 0.8851\n",
            "Epoch 47: sparse_categorical_accuracy improved from 0.88236 to 0.88512, saving model to saved_models/baseline_model_mobilenet.hdf5\n",
            "567/567 [==============================] - 26s 46ms/step - loss: 0.3021 - sparse_categorical_accuracy: 0.8851 - lr: 1.0000e-04\n",
            "Epoch 48/50\n",
            "567/567 [==============================] - ETA: 0s - loss: 0.2968 - sparse_categorical_accuracy: 0.8877\n",
            "Epoch 48: sparse_categorical_accuracy improved from 0.88512 to 0.88766, saving model to saved_models/baseline_model_mobilenet.hdf5\n",
            "567/567 [==============================] - 27s 47ms/step - loss: 0.2968 - sparse_categorical_accuracy: 0.8877 - lr: 1.0000e-04\n",
            "Epoch 49/50\n",
            "567/567 [==============================] - ETA: 0s - loss: 0.2945 - sparse_categorical_accuracy: 0.8902\n",
            "Epoch 49: sparse_categorical_accuracy improved from 0.88766 to 0.89025, saving model to saved_models/baseline_model_mobilenet.hdf5\n",
            "567/567 [==============================] - 27s 47ms/step - loss: 0.2945 - sparse_categorical_accuracy: 0.8902 - lr: 1.0000e-04\n",
            "Epoch 50/50\n",
            "567/567 [==============================] - ETA: 0s - loss: 0.2841 - sparse_categorical_accuracy: 0.8932\n",
            "Epoch 50: sparse_categorical_accuracy improved from 0.89025 to 0.89323, saving model to saved_models/baseline_model_mobilenet.hdf5\n",
            "567/567 [==============================] - 26s 46ms/step - loss: 0.2841 - sparse_categorical_accuracy: 0.8932 - lr: 1.0000e-04\n"
          ]
        }
      ],
      "source": [
        "encoder = create_encoder()\n",
        "classifier = create_classifier(encoder)\n",
        "classifier.summary()\n",
        "\n",
        "history = classifier.fit(x=x_train, y=y_train, batch_size=batch_size, epochs=num_epochs,callbacks=callbacks)"
      ]
    },
    {
      "cell_type": "code",
      "execution_count": null,
      "metadata": {
        "id": "_u5jXeM5GVSS"
      },
      "outputs": [],
      "source": [
        "classifier.save(save_path + 'Contrastive_Baseline_mobilenet.h5')\n",
        "#classifier.save_weights(save_path1 + \"Weights_Contrastive_Baseline_mobilenet.h5\")"
      ]
    },
    {
      "cell_type": "code",
      "execution_count": null,
      "metadata": {
        "id": "KncxXdG5HAGa"
      },
      "outputs": [],
      "source": [
        "vgg19_base_trainloss_dict = {}\n",
        "vgg19_base_valloss_dict = {}"
      ]
    },
    {
      "cell_type": "code",
      "execution_count": null,
      "metadata": {
        "colab": {
          "base_uri": "https://localhost:8080/",
          "height": 962
        },
        "id": "xi37cr-JILjA",
        "outputId": "3910cc26-cbd2-43a8-927b-d3994d840ddd"
      },
      "outputs": [
        {
          "output_type": "stream",
          "name": "stdout",
          "text": [
            "26/26 [==============================] - 1s 27ms/step\n"
          ]
        },
        {
          "output_type": "display_data",
          "data": {
            "text/plain": [
              "<Figure size 1200x1200 with 2 Axes>"
            ],
            "image/png": "[encoded data removed]"
          },
          "metadata": {}
        }
      ],
      "source": [
        "pred = classifier.predict(x_test)\n",
        "\n",
        "y_pred = np.argmax(pred, axis=1)\n",
        "confusion_mtx = confusion_matrix(y_pred, y_test)\n",
        "f,ax = plt.subplots(figsize=(12, 12))\n",
        "sns.heatmap(confusion_mtx, annot=True, \n",
        "            linewidths=0.01,\n",
        "            linecolor=\"white\", \n",
        "            fmt= '.1f',ax=ax,)\n",
        "sns.color_palette(\"rocket\", as_cmap=True)\n",
        "\n",
        "plt.xlabel(\"Predicted Label\")\n",
        "plt.ylabel(\"True Label\")\n",
        "#ax.xaxis.set_ticklabels(x_test.class_indices)\n",
        "#ax.yaxis.set_ticklabels(y_test)\n",
        "plt.title(\"Confusion Matrix\")\n",
        "plt.show()"
      ]
    },
    {
      "cell_type": "code",
      "execution_count": null,
      "metadata": {
        "colab": {
          "base_uri": "https://localhost:8080/",
          "height": 300
        },
        "id": "gl0nwfHPITNr",
        "outputId": "d5330637-7ff8-4088-ec66-c99453ff411e"
      },
      "outputs": [
        {
          "output_type": "execute_result",
          "data": {
            "text/plain": [
              "              precision    recall  f1-score     support\n",
              "0              0.931429  1.000000  0.964497  163.000000\n",
              "1              0.986577  0.890909  0.936306  165.000000\n",
              "2              0.950920  0.974843  0.962733  159.000000\n",
              "3              0.987261  0.981013  0.984127  158.000000\n",
              "4              0.976190  0.982036  0.979104  167.000000\n",
              "accuracy       0.965517  0.965517  0.965517    0.965517\n",
              "macro avg      0.966476  0.965760  0.965353  812.000000\n",
              "weighted avg   0.966522  0.965517  0.965247  812.000000"
            ],
            "text/html": [
              "\n",
              "  <div id=\"df-3c0c6930-01e5-4772-ba97-46c75858779d\">\n",
              "    <div class=\"colab-df-container\">\n",
              "      <div>\n",
              "<style scoped>\n",
              "    .dataframe tbody tr th:only-of-type {\n",
              "        vertical-align: middle;\n",
              "    }\n",
              "\n",
              "    .dataframe tbody tr th {\n",
              "        vertical-align: top;\n",
              "    }\n",
              "\n",
              "    .dataframe thead th {\n",
              "        text-align: right;\n",
              "    }\n",
              "</style>\n",
              "<table border=\"1\" class=\"dataframe\">\n",
              "  <thead>\n",
              "    <tr style=\"text-align: right;\">\n",
              "      <th></th>\n",
              "      <th>precision</th>\n",
              "      <th>recall</th>\n",
              "      <th>f1-score</th>\n",
              "      <th>support</th>\n",
              "    </tr>\n",
              "  </thead>\n",
              "  <tbody>\n",
              "    <tr>\n",
              "      <th>0</th>\n",
              "      <td>0.931429</td>\n",
              "      <td>1.000000</td>\n",
              "      <td>0.964497</td>\n",
              "      <td>163.000000</td>\n",
              "    </tr>\n",
              "    <tr>\n",
              "      <th>1</th>\n",
              "      <td>0.986577</td>\n",
              "      <td>0.890909</td>\n",
              "      <td>0.936306</td>\n",
              "      <td>165.000000</td>\n",
              "    </tr>\n",
              "    <tr>\n",
              "      <th>2</th>\n",
              "      <td>0.950920</td>\n",
              "      <td>0.974843</td>\n",
              "      <td>0.962733</td>\n",
              "      <td>159.000000</td>\n",
              "    </tr>\n",
              "    <tr>\n",
              "      <th>3</th>\n",
              "      <td>0.987261</td>\n",
              "      <td>0.981013</td>\n",
              "      <td>0.984127</td>\n",
              "      <td>158.000000</td>\n",
              "    </tr>\n",
              "    <tr>\n",
              "      <th>4</th>\n",
              "      <td>0.976190</td>\n",
              "      <td>0.982036</td>\n",
              "      <td>0.979104</td>\n",
              "      <td>167.000000</td>\n",
              "    </tr>\n",
              "    <tr>\n",
              "      <th>accuracy</th>\n",
              "      <td>0.965517</td>\n",
              "      <td>0.965517</td>\n",
              "      <td>0.965517</td>\n",
              "      <td>0.965517</td>\n",
              "    </tr>\n",
              "    <tr>\n",
              "      <th>macro avg</th>\n",
              "      <td>0.966476</td>\n",
              "      <td>0.965760</td>\n",
              "      <td>0.965353</td>\n",
              "      <td>812.000000</td>\n",
              "    </tr>\n",
              "    <tr>\n",
              "      <th>weighted avg</th>\n",
              "      <td>0.966522</td>\n",
              "      <td>0.965517</td>\n",
              "      <td>0.965247</td>\n",
              "      <td>812.000000</td>\n",
              "    </tr>\n",
              "  </tbody>\n",
              "</table>\n",
              "</div>\n",
              "      <button class=\"colab-df-convert\" onclick=\"convertToInteractive('df-3c0c6930-01e5-4772-ba97-46c75858779d')\"\n",
              "              title=\"Convert this dataframe to an interactive table.\"\n",
              "              style=\"display:none;\">\n",
              "        \n",
              "  <svg xmlns=\"http://www.w3.org/2000/svg\" height=\"24px\"viewBox=\"0 0 24 24\"\n",
              "       width=\"24px\">\n",
              "    <path d=\"M0 0h24v24H0V0z\" fill=\"none\"/>\n",
              "    <path d=\"M18.56 5.44l.94 2.06.94-2.06 2.06-.94-2.06-.94-.94-2.06-.94 2.06-2.06.94zm-11 1L8.5 8.5l.94-2.06 2.06-.94-2.06-.94L8.5 2.5l-.94 2.06-2.06.94zm10 10l.94 2.06.94-2.06 2.06-.94-2.06-.94-.94-2.06-.94 2.06-2.06.94z\"/><path d=\"M17.41 7.96l-1.37-1.37c-.4-.4-.92-.59-1.43-.59-.52 0-1.04.2-1.43.59L10.3 9.45l-7.72 7.72c-.78.78-.78 2.05 0 2.83L4 21.41c.39.39.9.59 1.41.59.51 0 1.02-.2 1.41-.59l7.78-7.78 2.81-2.81c.8-.78.8-2.07 0-2.86zM5.41 20L4 18.59l7.72-7.72 1.47 1.35L5.41 20z\"/>\n",
              "  </svg>\n",
              "      </button>\n",
              "      \n",
              "  <style>\n",
              "    .colab-df-container {\n",
              "      display:flex;\n",
              "      flex-wrap:wrap;\n",
              "      gap: 12px;\n",
              "    }\n",
              "\n",
              "    .colab-df-convert {\n",
              "      background-color: #E8F0FE;\n",
              "      border: none;\n",
              "      border-radius: 50%;\n",
              "      cursor: pointer;\n",
              "      display: none;\n",
              "      fill: #1967D2;\n",
              "      height: 32px;\n",
              "      padding: 0 0 0 0;\n",
              "      width: 32px;\n",
              "    }\n",
              "\n",
              "    .colab-df-convert:hover {\n",
              "      background-color: #E2EBFA;\n",
              "      box-shadow: 0px 1px 2px rgba(60, 64, 67, 0.3), 0px 1px 3px 1px rgba(60, 64, 67, 0.15);\n",
              "      fill: #174EA6;\n",
              "    }\n",
              "\n",
              "    [theme=dark] .colab-df-convert {\n",
              "      background-color: #3B4455;\n",
              "      fill: #D2E3FC;\n",
              "    }\n",
              "\n",
              "    [theme=dark] .colab-df-convert:hover {\n",
              "      background-color: #434B5C;\n",
              "      box-shadow: 0px 1px 3px 1px rgba(0, 0, 0, 0.15);\n",
              "      filter: drop-shadow(0px 1px 2px rgba(0, 0, 0, 0.3));\n",
              "      fill: #FFFFFF;\n",
              "    }\n",
              "  </style>\n",
              "\n",
              "      <script>\n",
              "        const buttonEl =\n",
              "          document.querySelector('#df-3c0c6930-01e5-4772-ba97-46c75858779d button.colab-df-convert');\n",
              "        buttonEl.style.display =\n",
              "          google.colab.kernel.accessAllowed ? 'block' : 'none';\n",
              "\n",
              "        async function convertToInteractive(key) {\n",
              "          const element = document.querySelector('#df-3c0c6930-01e5-4772-ba97-46c75858779d');\n",
              "          const dataTable =\n",
              "            await google.colab.kernel.invokeFunction('convertToInteractive',\n",
              "                                                     [key], {});\n",
              "          if (!dataTable) return;\n",
              "\n",
              "          const docLinkHtml = 'Like what you see? Visit the ' +\n",
              "            '<a target=\"_blank\" href=https://colab.research.google.com/notebooks/data_table.ipynb>data table notebook</a>'\n",
              "            + ' to learn more about interactive tables.';\n",
              "          element.innerHTML = '';\n",
              "          dataTable['output_type'] = 'display_data';\n",
              "          await google.colab.output.renderOutput(dataTable, element);\n",
              "          const docLink = document.createElement('div');\n",
              "          docLink.innerHTML = docLinkHtml;\n",
              "          element.appendChild(docLink);\n",
              "        }\n",
              "      </script>\n",
              "    </div>\n",
              "  </div>\n",
              "  "
            ]
          },
          "metadata": {},
          "execution_count": 20
        }
      ],
      "source": [
        "report_base = classification_report(y_test, y_pred, output_dict=True)\n",
        "df12 = pd.DataFrame(report_base).transpose()\n",
        "df12"
      ]
    },
    {
      "cell_type": "code",
      "execution_count": null,
      "metadata": {
        "id": "7Pxwd2MPHeNN"
      },
      "outputs": [],
      "source": [
        "from tensorflow.keras.models import load_model\n",
        "baseline_mobilenet=load_model(save_path + 'Contrastive_Baseline_mobilenet.h5')\n"
      ]
    },
    {
      "cell_type": "code",
      "execution_count": null,
      "metadata": {
        "colab": {
          "base_uri": "https://localhost:8080/"
        },
        "id": "I8uBVJBeFqfa",
        "outputId": "dc3aace1-c81e-481e-9681-75d82c793956"
      },
      "outputs": [
        {
          "output_type": "stream",
          "name": "stdout",
          "text": [
            "26/26 [==============================] - 2s 18ms/step - loss: 0.0982 - sparse_categorical_accuracy: 0.9655\n",
            "Test accuracy: 96.55%\n"
          ]
        }
      ],
      "source": [
        "accuracy = baseline_mobilenet.evaluate(x_test, y_test)[1]\n",
        "print(f\"Test accuracy: {round(accuracy * 100, 2)}%\")"
      ]
    },
    {
      "cell_type": "code",
      "execution_count": null,
      "metadata": {
        "colab": {
          "base_uri": "https://localhost:8080/"
        },
        "id": "G-IqQYMDFqfa",
        "outputId": "c5d73759-434d-463b-e73d-2c0d4d20318e"
      },
      "outputs": [
        {
          "output_type": "stream",
          "name": "stdout",
          "text": [
            "26/26 [==============================] - 1s 11ms/step\n"
          ]
        }
      ],
      "source": [
        "classifier=baseline_mobilenet\n",
        "y_predict = np.argmax(classifier.predict(x_test), axis=-1)"
      ]
    },
    {
      "cell_type": "code",
      "execution_count": null,
      "metadata": {
        "colab": {
          "base_uri": "https://localhost:8080/",
          "height": 962
        },
        "id": "pIlcljo-H8hE",
        "outputId": "9e9bddd6-4acd-4775-8ed8-7dea750ba27e"
      },
      "outputs": [
        {
          "output_type": "stream",
          "name": "stdout",
          "text": [
            "26/26 [==============================] - 0s 11ms/step\n"
          ]
        },
        {
          "output_type": "display_data",
          "data": {
            "text/plain": [
              "<Figure size 1200x1200 with 2 Axes>"
            ],
            "image/png": "[encoded data removed]"
          },
          "metadata": {}
        }
      ],
      "source": [
        "cancer_classes=np.unique(y_test)\n",
        "\n",
        "pred = baseline_mobilenet.predict(x_test)\n",
        "\n",
        "y_pred = np.argmax(pred, axis=1)\n",
        "confusion_mtx = confusion_matrix(y_pred, y_test)\n",
        "f,ax = plt.subplots(figsize=(12, 12))\n",
        "sns.heatmap(confusion_mtx, annot=True, \n",
        "            linewidths=0.01,\n",
        "            linecolor=\"white\", \n",
        "            fmt= '.1f',ax=ax,)\n",
        "sns.color_palette(\"rocket\", as_cmap=True)\n",
        "\n",
        "plt.xlabel(\"Predicted Label\")\n",
        "plt.ylabel(\"True Label\")\n",
        "ax.xaxis.set_ticklabels(cancer_classes)\n",
        "ax.yaxis.set_ticklabels(cancer_classes)\n",
        "plt.title(\"Confusion Matrix\")\n",
        "plt.show()"
      ]
    },
    {
      "cell_type": "code",
      "execution_count": null,
      "metadata": {
        "colab": {
          "base_uri": "https://localhost:8080/",
          "height": 300
        },
        "id": "7KpWM0riH9XJ",
        "outputId": "39811635-0555-4941-9b60-3237fa63d7b8"
      },
      "outputs": [
        {
          "output_type": "execute_result",
          "data": {
            "text/plain": [
              "              precision    recall  f1-score     support\n",
              "0              0.931429  1.000000  0.964497  163.000000\n",
              "1              0.986577  0.890909  0.936306  165.000000\n",
              "2              0.950920  0.974843  0.962733  159.000000\n",
              "3              0.987261  0.981013  0.984127  158.000000\n",
              "4              0.976190  0.982036  0.979104  167.000000\n",
              "accuracy       0.965517  0.965517  0.965517    0.965517\n",
              "macro avg      0.966476  0.965760  0.965353  812.000000\n",
              "weighted avg   0.966522  0.965517  0.965247  812.000000"
            ],
            "text/html": [
              "\n",
              "  <div id=\"df-fa33249c-d571-4256-85c7-1aefb6ef81ec\">\n",
              "    <div class=\"colab-df-container\">\n",
              "      <div>\n",
              "<style scoped>\n",
              "    .dataframe tbody tr th:only-of-type {\n",
              "        vertical-align: middle;\n",
              "    }\n",
              "\n",
              "    .dataframe tbody tr th {\n",
              "        vertical-align: top;\n",
              "    }\n",
              "\n",
              "    .dataframe thead th {\n",
              "        text-align: right;\n",
              "    }\n",
              "</style>\n",
              "<table border=\"1\" class=\"dataframe\">\n",
              "  <thead>\n",
              "    <tr style=\"text-align: right;\">\n",
              "      <th></th>\n",
              "      <th>precision</th>\n",
              "      <th>recall</th>\n",
              "      <th>f1-score</th>\n",
              "      <th>support</th>\n",
              "    </tr>\n",
              "  </thead>\n",
              "  <tbody>\n",
              "    <tr>\n",
              "      <th>0</th>\n",
              "      <td>0.931429</td>\n",
              "      <td>1.000000</td>\n",
              "      <td>0.964497</td>\n",
              "      <td>163.000000</td>\n",
              "    </tr>\n",
              "    <tr>\n",
              "      <th>1</th>\n",
              "      <td>0.986577</td>\n",
              "      <td>0.890909</td>\n",
              "      <td>0.936306</td>\n",
              "      <td>165.000000</td>\n",
              "    </tr>\n",
              "    <tr>\n",
              "      <th>2</th>\n",
              "      <td>0.950920</td>\n",
              "      <td>0.974843</td>\n",
              "      <td>0.962733</td>\n",
              "      <td>159.000000</td>\n",
              "    </tr>\n",
              "    <tr>\n",
              "      <th>3</th>\n",
              "      <td>0.987261</td>\n",
              "      <td>0.981013</td>\n",
              "      <td>0.984127</td>\n",
              "      <td>158.000000</td>\n",
              "    </tr>\n",
              "    <tr>\n",
              "      <th>4</th>\n",
              "      <td>0.976190</td>\n",
              "      <td>0.982036</td>\n",
              "      <td>0.979104</td>\n",
              "      <td>167.000000</td>\n",
              "    </tr>\n",
              "    <tr>\n",
              "      <th>accuracy</th>\n",
              "      <td>0.965517</td>\n",
              "      <td>0.965517</td>\n",
              "      <td>0.965517</td>\n",
              "      <td>0.965517</td>\n",
              "    </tr>\n",
              "    <tr>\n",
              "      <th>macro avg</th>\n",
              "      <td>0.966476</td>\n",
              "      <td>0.965760</td>\n",
              "      <td>0.965353</td>\n",
              "      <td>812.000000</td>\n",
              "    </tr>\n",
              "    <tr>\n",
              "      <th>weighted avg</th>\n",
              "      <td>0.966522</td>\n",
              "      <td>0.965517</td>\n",
              "      <td>0.965247</td>\n",
              "      <td>812.000000</td>\n",
              "    </tr>\n",
              "  </tbody>\n",
              "</table>\n",
              "</div>\n",
              "      <button class=\"colab-df-convert\" onclick=\"convertToInteractive('df-fa33249c-d571-4256-85c7-1aefb6ef81ec')\"\n",
              "              title=\"Convert this dataframe to an interactive table.\"\n",
              "              style=\"display:none;\">\n",
              "        \n",
              "  <svg xmlns=\"http://www.w3.org/2000/svg\" height=\"24px\"viewBox=\"0 0 24 24\"\n",
              "       width=\"24px\">\n",
              "    <path d=\"M0 0h24v24H0V0z\" fill=\"none\"/>\n",
              "    <path d=\"M18.56 5.44l.94 2.06.94-2.06 2.06-.94-2.06-.94-.94-2.06-.94 2.06-2.06.94zm-11 1L8.5 8.5l.94-2.06 2.06-.94-2.06-.94L8.5 2.5l-.94 2.06-2.06.94zm10 10l.94 2.06.94-2.06 2.06-.94-2.06-.94-.94-2.06-.94 2.06-2.06.94z\"/><path d=\"M17.41 7.96l-1.37-1.37c-.4-.4-.92-.59-1.43-.59-.52 0-1.04.2-1.43.59L10.3 9.45l-7.72 7.72c-.78.78-.78 2.05 0 2.83L4 21.41c.39.39.9.59 1.41.59.51 0 1.02-.2 1.41-.59l7.78-7.78 2.81-2.81c.8-.78.8-2.07 0-2.86zM5.41 20L4 18.59l7.72-7.72 1.47 1.35L5.41 20z\"/>\n",
              "  </svg>\n",
              "      </button>\n",
              "      \n",
              "  <style>\n",
              "    .colab-df-container {\n",
              "      display:flex;\n",
              "      flex-wrap:wrap;\n",
              "      gap: 12px;\n",
              "    }\n",
              "\n",
              "    .colab-df-convert {\n",
              "      background-color: #E8F0FE;\n",
              "      border: none;\n",
              "      border-radius: 50%;\n",
              "      cursor: pointer;\n",
              "      display: none;\n",
              "      fill: #1967D2;\n",
              "      height: 32px;\n",
              "      padding: 0 0 0 0;\n",
              "      width: 32px;\n",
              "    }\n",
              "\n",
              "    .colab-df-convert:hover {\n",
              "      background-color: #E2EBFA;\n",
              "      box-shadow: 0px 1px 2px rgba(60, 64, 67, 0.3), 0px 1px 3px 1px rgba(60, 64, 67, 0.15);\n",
              "      fill: #174EA6;\n",
              "    }\n",
              "\n",
              "    [theme=dark] .colab-df-convert {\n",
              "      background-color: #3B4455;\n",
              "      fill: #D2E3FC;\n",
              "    }\n",
              "\n",
              "    [theme=dark] .colab-df-convert:hover {\n",
              "      background-color: #434B5C;\n",
              "      box-shadow: 0px 1px 3px 1px rgba(0, 0, 0, 0.15);\n",
              "      filter: drop-shadow(0px 1px 2px rgba(0, 0, 0, 0.3));\n",
              "      fill: #FFFFFF;\n",
              "    }\n",
              "  </style>\n",
              "\n",
              "      <script>\n",
              "        const buttonEl =\n",
              "          document.querySelector('#df-fa33249c-d571-4256-85c7-1aefb6ef81ec button.colab-df-convert');\n",
              "        buttonEl.style.display =\n",
              "          google.colab.kernel.accessAllowed ? 'block' : 'none';\n",
              "\n",
              "        async function convertToInteractive(key) {\n",
              "          const element = document.querySelector('#df-fa33249c-d571-4256-85c7-1aefb6ef81ec');\n",
              "          const dataTable =\n",
              "            await google.colab.kernel.invokeFunction('convertToInteractive',\n",
              "                                                     [key], {});\n",
              "          if (!dataTable) return;\n",
              "\n",
              "          const docLinkHtml = 'Like what you see? Visit the ' +\n",
              "            '<a target=\"_blank\" href=https://colab.research.google.com/notebooks/data_table.ipynb>data table notebook</a>'\n",
              "            + ' to learn more about interactive tables.';\n",
              "          element.innerHTML = '';\n",
              "          dataTable['output_type'] = 'display_data';\n",
              "          await google.colab.output.renderOutput(dataTable, element);\n",
              "          const docLink = document.createElement('div');\n",
              "          docLink.innerHTML = docLinkHtml;\n",
              "          element.appendChild(docLink);\n",
              "        }\n",
              "      </script>\n",
              "    </div>\n",
              "  </div>\n",
              "  "
            ]
          },
          "metadata": {},
          "execution_count": 25
        }
      ],
      "source": [
        "report_base = classification_report(y_test, y_pred, target_names=cancer_classes, output_dict=True)\n",
        "df12 = pd.DataFrame(report_base).transpose()\n",
        "df12"
      ]
    },
    {
      "cell_type": "markdown",
      "metadata": {
        "id": "MOjZ5lGpIZoq"
      },
      "source": [
        "# N-pair loss"
      ]
    },
    {
      "cell_type": "code",
      "execution_count": null,
      "metadata": {
        "id": "RWkaIH5vFqfb"
      },
      "outputs": [],
      "source": [
        "class SupervisedContrastiveLoss(keras.losses.Loss):\n",
        "    def __init__(self, temperature=1, name=None):\n",
        "        super().__init__(name=name)\n",
        "        self.temperature = temperature\n",
        "\n",
        "    def __call__(self, labels, feature_vectors, sample_weight=None):\n",
        "        # Normalize feature vectors\n",
        "        feature_vectors_normalized = tf.math.l2_normalize(feature_vectors, axis=1)\n",
        "        # Compute logits\n",
        "        logits = tf.divide(\n",
        "            tf.matmul(\n",
        "                feature_vectors_normalized, tf.transpose(feature_vectors_normalized)\n",
        "            ),\n",
        "            self.temperature,\n",
        "        )\n",
        "        return tfa.losses.npairs_loss(tf.squeeze(labels), logits)\n",
        "\n",
        "\n",
        "def add_projection_head(encoder):\n",
        "    inputs = keras.Input(shape=input_shape)\n",
        "    features = encoder(inputs)\n",
        "    outputs = layers.Dense(projection_units, activation=\"relu\")(features)\n",
        "    model = keras.Model(\n",
        "        inputs=inputs, outputs=outputs, name=\"mobilenet-encoder_with_projection-head\"\n",
        "    )\n",
        "    return model"
      ]
    },
    {
      "cell_type": "code",
      "execution_count": null,
      "metadata": {
        "colab": {
          "base_uri": "https://localhost:8080/"
        },
        "id": "DRrZdo_OFqfc",
        "outputId": "47487133-4567-4126-a231-da015ade67aa"
      },
      "outputs": [
        {
          "output_type": "stream",
          "name": "stdout",
          "text": [
            "Model: \"mobilenet-encoder_with_projection-head\"\n",
            "_________________________________________________________________\n",
            " Layer (type)                Output Shape              Param #   \n",
            "=================================================================\n",
            " input_8 (InputLayer)        [(None, 110, 110, 3)]     0         \n",
            "                                                                 \n",
            " mobilenet-encoder (Function  (None, 1280)             2257991   \n",
            " al)                                                             \n",
            "                                                                 \n",
            " dense_2 (Dense)             (None, 128)               163968    \n",
            "                                                                 \n",
            "=================================================================\n",
            "Total params: 2,421,959\n",
            "Trainable params: 2,387,840\n",
            "Non-trainable params: 34,119\n",
            "_________________________________________________________________\n",
            "Epoch 1/50\n",
            "567/567 [==============================] - 54s 45ms/step - loss: 3.3203\n",
            "Epoch 2/50\n",
            "567/567 [==============================] - 26s 45ms/step - loss: 3.2307\n",
            "Epoch 3/50\n",
            "567/567 [==============================] - 25s 45ms/step - loss: 3.1939\n",
            "Epoch 4/50\n",
            "567/567 [==============================] - 25s 44ms/step - loss: 3.1595\n",
            "Epoch 5/50\n",
            "567/567 [==============================] - 25s 45ms/step - loss: 3.1288\n",
            "Epoch 6/50\n",
            "567/567 [==============================] - 25s 45ms/step - loss: 3.0994\n",
            "Epoch 7/50\n",
            "567/567 [==============================] - 26s 45ms/step - loss: 3.0592\n",
            "Epoch 8/50\n",
            "567/567 [==============================] - 25s 45ms/step - loss: 3.0248\n",
            "Epoch 9/50\n",
            "567/567 [==============================] - 25s 45ms/step - loss: 2.9975\n",
            "Epoch 10/50\n",
            "567/567 [==============================] - 25s 44ms/step - loss: 2.9715\n",
            "Epoch 11/50\n",
            "567/567 [==============================] - 25s 45ms/step - loss: 2.9318\n",
            "Epoch 12/50\n",
            "567/567 [==============================] - 25s 45ms/step - loss: 2.8951\n",
            "Epoch 13/50\n",
            "567/567 [==============================] - 26s 45ms/step - loss: 2.8617\n",
            "Epoch 14/50\n",
            "567/567 [==============================] - 25s 44ms/step - loss: 2.8347\n",
            "Epoch 15/50\n",
            "567/567 [==============================] - 26s 45ms/step - loss: 2.8028\n",
            "Epoch 16/50\n",
            "567/567 [==============================] - 25s 44ms/step - loss: 2.7809\n",
            "Epoch 17/50\n",
            "567/567 [==============================] - 25s 45ms/step - loss: 2.7508\n",
            "Epoch 18/50\n",
            "567/567 [==============================] - 25s 45ms/step - loss: 2.7349\n",
            "Epoch 19/50\n",
            "567/567 [==============================] - 25s 45ms/step - loss: 2.7205\n",
            "Epoch 20/50\n",
            "567/567 [==============================] - 25s 45ms/step - loss: 2.6974\n",
            "Epoch 21/50\n",
            "567/567 [==============================] - 25s 44ms/step - loss: 2.6758\n",
            "Epoch 22/50\n",
            "567/567 [==============================] - 25s 44ms/step - loss: 2.6593\n",
            "Epoch 23/50\n",
            "567/567 [==============================] - 25s 45ms/step - loss: 2.6409\n",
            "Epoch 24/50\n",
            "567/567 [==============================] - 25s 45ms/step - loss: 2.6299\n",
            "Epoch 25/50\n",
            "567/567 [==============================] - 26s 45ms/step - loss: 2.6231\n",
            "Epoch 26/50\n",
            "567/567 [==============================] - 25s 44ms/step - loss: 2.5886\n",
            "Epoch 27/50\n",
            "567/567 [==============================] - 26s 45ms/step - loss: 2.5846\n",
            "Epoch 28/50\n",
            "567/567 [==============================] - 25s 44ms/step - loss: 2.5645\n",
            "Epoch 29/50\n",
            "567/567 [==============================] - 25s 44ms/step - loss: 2.5603\n",
            "Epoch 30/50\n",
            "567/567 [==============================] - 25s 45ms/step - loss: 2.5418\n",
            "Epoch 31/50\n",
            "567/567 [==============================] - 26s 45ms/step - loss: 2.5330\n",
            "Epoch 32/50\n",
            "567/567 [==============================] - 26s 45ms/step - loss: 2.5202\n",
            "Epoch 33/50\n",
            "567/567 [==============================] - 26s 45ms/step - loss: 2.4976\n",
            "Epoch 34/50\n",
            "567/567 [==============================] - 25s 45ms/step - loss: 2.4955\n",
            "Epoch 35/50\n",
            "567/567 [==============================] - 25s 44ms/step - loss: 2.4853\n",
            "Epoch 36/50\n",
            "567/567 [==============================] - 25s 45ms/step - loss: 2.4726\n",
            "Epoch 37/50\n",
            "567/567 [==============================] - 26s 45ms/step - loss: 2.4625\n",
            "Epoch 38/50\n",
            "567/567 [==============================] - 26s 45ms/step - loss: 2.4559\n",
            "Epoch 39/50\n",
            "567/567 [==============================] - 25s 45ms/step - loss: 2.4382\n",
            "Epoch 40/50\n",
            "567/567 [==============================] - 25s 45ms/step - loss: 2.4431\n",
            "Epoch 41/50\n",
            "567/567 [==============================] - 25s 44ms/step - loss: 2.4192\n",
            "Epoch 42/50\n",
            "567/567 [==============================] - 25s 44ms/step - loss: 2.4162\n",
            "Epoch 43/50\n",
            "567/567 [==============================] - 25s 44ms/step - loss: 2.3968\n",
            "Epoch 44/50\n",
            "567/567 [==============================] - 25s 45ms/step - loss: 2.4021\n",
            "Epoch 45/50\n",
            "567/567 [==============================] - 25s 45ms/step - loss: 2.3896\n",
            "Epoch 46/50\n",
            "567/567 [==============================] - 25s 44ms/step - loss: 2.3827\n",
            "Epoch 47/50\n",
            "567/567 [==============================] - 25s 43ms/step - loss: 2.3741\n",
            "Epoch 48/50\n",
            "567/567 [==============================] - 25s 44ms/step - loss: 2.3602\n",
            "Epoch 49/50\n",
            "567/567 [==============================] - 25s 45ms/step - loss: 2.3631\n",
            "Epoch 50/50\n",
            "567/567 [==============================] - 25s 44ms/step - loss: 2.3539\n"
          ]
        }
      ],
      "source": [
        "encoder = create_encoder()\n",
        "\n",
        "encoder_with_projection_head = add_projection_head(encoder)\n",
        "encoder_with_projection_head.compile(\n",
        "    optimizer=keras.optimizers.Adam(learning_rate),\n",
        "    loss=SupervisedContrastiveLoss(temperature),\n",
        ")\n",
        "\n",
        "encoder_with_projection_head.summary()\n",
        "\n",
        "history = encoder_with_projection_head.fit(\n",
        "    x=x_train, y=y_train, batch_size=batch_size, epochs=num_epochs\n",
        ")"
      ]
    },
    {
      "cell_type": "code",
      "execution_count": null,
      "metadata": {
        "id": "FukUo3HE9lXC"
      },
      "outputs": [],
      "source": [
        "encoder_with_projection_head.save(save_path + 'Contrastive_npairloss_mobilenet.h5')\n",
        "#encoder_with_projection_head.save_weights(save_path1 + \"Weights_Contrastive_npairloss_mobilenet.h5\")"
      ]
    },
    {
      "cell_type": "code",
      "execution_count": null,
      "metadata": {
        "id": "cE7W29fHKzOm"
      },
      "outputs": [],
      "source": [
        "vgg19_npair_trainloss_dict = {}\n",
        "vgg19_npair_valloss_dict = {}"
      ]
    },
    {
      "cell_type": "code",
      "execution_count": null,
      "metadata": {
        "colab": {
          "base_uri": "https://localhost:8080/"
        },
        "id": "XCErdBWYFqfc",
        "outputId": "2161ce37-d5e0-4b3e-f44e-9fd4a3c08761"
      },
      "outputs": [
        {
          "output_type": "stream",
          "name": "stdout",
          "text": [
            "Epoch 1/50\n",
            "567/567 [==============================] - ETA: 0s - loss: 0.3612 - sparse_categorical_accuracy: 0.8789\n",
            "Epoch 1: sparse_categorical_accuracy did not improve from 0.89323\n",
            "567/567 [==============================] - 13s 16ms/step - loss: 0.3612 - sparse_categorical_accuracy: 0.8789 - lr: 1.0000e-04\n",
            "Epoch 2/50\n",
            "567/567 [==============================] - ETA: 0s - loss: 0.2843 - sparse_categorical_accuracy: 0.9091\n",
            "Epoch 2: sparse_categorical_accuracy improved from 0.89323 to 0.90912, saving model to saved_models/baseline_model_mobilenet.hdf5\n",
            "567/567 [==============================] - 9s 16ms/step - loss: 0.2843 - sparse_categorical_accuracy: 0.9091 - lr: 1.0000e-04\n",
            "Epoch 3/50\n",
            "567/567 [==============================] - ETA: 0s - loss: 0.2694 - sparse_categorical_accuracy: 0.9079\n",
            "Epoch 3: sparse_categorical_accuracy did not improve from 0.90912\n",
            "567/567 [==============================] - 8s 15ms/step - loss: 0.2694 - sparse_categorical_accuracy: 0.9079 - lr: 1.0000e-04\n",
            "Epoch 4/50\n",
            "567/567 [==============================] - ETA: 0s - loss: 0.2644 - sparse_categorical_accuracy: 0.9090\n",
            "Epoch 4: sparse_categorical_accuracy did not improve from 0.90912\n",
            "567/567 [==============================] - 9s 16ms/step - loss: 0.2644 - sparse_categorical_accuracy: 0.9090 - lr: 1.0000e-04\n",
            "Epoch 5/50\n",
            "564/567 [============================>.] - ETA: 0s - loss: 0.2640 - sparse_categorical_accuracy: 0.9090\n",
            "Epoch 5: sparse_categorical_accuracy did not improve from 0.90912\n",
            "567/567 [==============================] - 9s 15ms/step - loss: 0.2639 - sparse_categorical_accuracy: 0.9091 - lr: 1.0000e-04\n",
            "Epoch 6/50\n",
            "565/567 [============================>.] - ETA: 0s - loss: 0.2619 - sparse_categorical_accuracy: 0.9114\n",
            "Epoch 6: sparse_categorical_accuracy improved from 0.90912 to 0.91155, saving model to saved_models/baseline_model_mobilenet.hdf5\n",
            "567/567 [==============================] - 9s 15ms/step - loss: 0.2619 - sparse_categorical_accuracy: 0.9115 - lr: 1.0000e-04\n",
            "Epoch 7/50\n",
            "567/567 [==============================] - ETA: 0s - loss: 0.2476 - sparse_categorical_accuracy: 0.9128\n",
            "Epoch 7: sparse_categorical_accuracy improved from 0.91155 to 0.91276, saving model to saved_models/baseline_model_mobilenet.hdf5\n",
            "567/567 [==============================] - 9s 16ms/step - loss: 0.2476 - sparse_categorical_accuracy: 0.9128 - lr: 1.0000e-04\n",
            "Epoch 8/50\n",
            "567/567 [==============================] - ETA: 0s - loss: 0.2542 - sparse_categorical_accuracy: 0.9111\n",
            "Epoch 8: sparse_categorical_accuracy did not improve from 0.91276\n",
            "567/567 [==============================] - 8s 15ms/step - loss: 0.2542 - sparse_categorical_accuracy: 0.9111 - lr: 1.0000e-04\n",
            "Epoch 9/50\n",
            "567/567 [==============================] - ETA: 0s - loss: 0.2512 - sparse_categorical_accuracy: 0.9111\n",
            "Epoch 9: sparse_categorical_accuracy did not improve from 0.91276\n",
            "567/567 [==============================] - 9s 15ms/step - loss: 0.2512 - sparse_categorical_accuracy: 0.9111 - lr: 1.0000e-04\n",
            "Epoch 10/50\n",
            "567/567 [==============================] - ETA: 0s - loss: 0.2403 - sparse_categorical_accuracy: 0.9155\n",
            "Epoch 10: sparse_categorical_accuracy improved from 0.91276 to 0.91547, saving model to saved_models/baseline_model_mobilenet.hdf5\n",
            "567/567 [==============================] - 9s 16ms/step - loss: 0.2403 - sparse_categorical_accuracy: 0.9155 - lr: 2.0000e-05\n",
            "Epoch 11/50\n",
            "567/567 [==============================] - ETA: 0s - loss: 0.2398 - sparse_categorical_accuracy: 0.9143\n",
            "Epoch 11: sparse_categorical_accuracy did not improve from 0.91547\n",
            "567/567 [==============================] - 8s 14ms/step - loss: 0.2398 - sparse_categorical_accuracy: 0.9143 - lr: 2.0000e-05\n",
            "Epoch 12/50\n",
            "567/567 [==============================] - ETA: 0s - loss: 0.2432 - sparse_categorical_accuracy: 0.9146\n",
            "Epoch 12: sparse_categorical_accuracy did not improve from 0.91547\n",
            "567/567 [==============================] - 9s 16ms/step - loss: 0.2432 - sparse_categorical_accuracy: 0.9146 - lr: 2.0000e-05\n",
            "Epoch 13/50\n",
            "567/567 [==============================] - ETA: 0s - loss: 0.2384 - sparse_categorical_accuracy: 0.9154\n",
            "Epoch 13: sparse_categorical_accuracy did not improve from 0.91547\n",
            "567/567 [==============================] - 9s 15ms/step - loss: 0.2384 - sparse_categorical_accuracy: 0.9154 - lr: 2.0000e-05\n",
            "Epoch 14/50\n",
            "567/567 [==============================] - ETA: 0s - loss: 0.2430 - sparse_categorical_accuracy: 0.9153\n",
            "Epoch 14: sparse_categorical_accuracy did not improve from 0.91547\n",
            "567/567 [==============================] - 8s 15ms/step - loss: 0.2430 - sparse_categorical_accuracy: 0.9153 - lr: 2.0000e-05\n",
            "Epoch 15/50\n",
            "567/567 [==============================] - ETA: 0s - loss: 0.2487 - sparse_categorical_accuracy: 0.9128\n",
            "Epoch 15: sparse_categorical_accuracy did not improve from 0.91547\n",
            "567/567 [==============================] - 9s 15ms/step - loss: 0.2487 - sparse_categorical_accuracy: 0.9128 - lr: 2.0000e-05\n",
            "Epoch 16/50\n",
            "567/567 [==============================] - ETA: 0s - loss: 0.2361 - sparse_categorical_accuracy: 0.9163\n",
            "Epoch 16: sparse_categorical_accuracy improved from 0.91547 to 0.91629, saving model to saved_models/baseline_model_mobilenet.hdf5\n",
            "567/567 [==============================] - 9s 16ms/step - loss: 0.2361 - sparse_categorical_accuracy: 0.9163 - lr: 1.0000e-05\n",
            "Epoch 17/50\n",
            "567/567 [==============================] - ETA: 0s - loss: 0.2425 - sparse_categorical_accuracy: 0.9142\n",
            "Epoch 17: sparse_categorical_accuracy did not improve from 0.91629\n",
            "567/567 [==============================] - 9s 15ms/step - loss: 0.2425 - sparse_categorical_accuracy: 0.9142 - lr: 1.0000e-05\n",
            "Epoch 18/50\n",
            "567/567 [==============================] - ETA: 0s - loss: 0.2385 - sparse_categorical_accuracy: 0.9152\n",
            "Epoch 18: sparse_categorical_accuracy did not improve from 0.91629\n",
            "567/567 [==============================] - 9s 16ms/step - loss: 0.2385 - sparse_categorical_accuracy: 0.9152 - lr: 1.0000e-05\n",
            "Epoch 19/50\n",
            "567/567 [==============================] - ETA: 0s - loss: 0.2396 - sparse_categorical_accuracy: 0.9161\n",
            "Epoch 19: sparse_categorical_accuracy did not improve from 0.91629\n",
            "567/567 [==============================] - 8s 15ms/step - loss: 0.2396 - sparse_categorical_accuracy: 0.9161 - lr: 1.0000e-05\n",
            "Epoch 19: early stopping\n"
          ]
        }
      ],
      "source": [
        "classifier = create_classifier(encoder, trainable=False)\n",
        "\n",
        "history = classifier.fit(x=x_train, y=y_train, batch_size=batch_size, epochs=num_epochs,callbacks=callbacks)"
      ]
    },
    {
      "cell_type": "code",
      "execution_count": null,
      "metadata": {
        "id": "wubug80UrsGF"
      },
      "outputs": [],
      "source": [
        "classifier.save(save_path + 'Contrastive_npair_mobilenet.h5')\n",
        "#classifier.save_weights(save_path1 + \"Weights_Contrastive_npair_mobilenet.h5\")"
      ]
    },
    {
      "cell_type": "code",
      "execution_count": null,
      "metadata": {
        "colab": {
          "base_uri": "https://localhost:8080/"
        },
        "id": "SoaCLSY8Fqfc",
        "outputId": "34421d63-e595-497a-ad88-318815d24b6c"
      },
      "outputs": [
        {
          "output_type": "stream",
          "name": "stdout",
          "text": [
            "26/26 [==============================] - 3s 21ms/step - loss: 0.1296 - sparse_categorical_accuracy: 0.9581\n",
            "Test accuracy: 95.81%\n"
          ]
        }
      ],
      "source": [
        "accuracy = classifier.evaluate(x_test, y_test)[1]\n",
        "print(f\"Test accuracy: {round(accuracy * 100, 2)}%\")"
      ]
    },
    {
      "cell_type": "code",
      "execution_count": null,
      "metadata": {
        "colab": {
          "base_uri": "https://localhost:8080/"
        },
        "id": "F3fPhCLAFqfc",
        "outputId": "7a5d6195-f9ab-4cfb-cd8e-520ad24c1170"
      },
      "outputs": [
        {
          "output_type": "stream",
          "name": "stdout",
          "text": [
            "26/26 [==============================] - 2s 17ms/step\n"
          ]
        }
      ],
      "source": [
        "y_predict = np.argmax(classifier.predict(x_test), axis=-1)"
      ]
    },
    {
      "cell_type": "code",
      "execution_count": null,
      "metadata": {
        "colab": {
          "base_uri": "https://localhost:8080/"
        },
        "id": "fnd6VpCdFqfc",
        "outputId": "4e44acf2-078e-4f63-8207-3f81ba1d0a06"
      },
      "outputs": [
        {
          "output_type": "execute_result",
          "data": {
            "text/plain": [
              "array([[155,   4,   1,   1,   2],\n",
              "       [  6, 151,   5,   2,   1],\n",
              "       [  1,   2, 154,   1,   1],\n",
              "       [  1,   0,   0, 157,   0],\n",
              "       [  1,   1,   3,   1, 161]])"
            ]
          },
          "metadata": {},
          "execution_count": 35
        }
      ],
      "source": [
        "confusion_matrix(y_test, y_predict)"
      ]
    },
    {
      "cell_type": "code",
      "execution_count": null,
      "metadata": {
        "colab": {
          "base_uri": "https://localhost:8080/",
          "height": 433
        },
        "id": "L7gIONaTFqfc",
        "outputId": "f402776d-f38a-4bcb-9aad-26b9922be1b1"
      },
      "outputs": [
        {
          "output_type": "display_data",
          "data": {
            "text/plain": [
              "<Figure size 640x480 with 2 Axes>"
            ],
            "image/png": "[encoded data removed]"
          },
          "metadata": {}
        }
      ],
      "source": [
        "cm = confusion_matrix(y_test, y_predict)\n",
        "f = sns.heatmap(cm, annot=True)"
      ]
    },
    {
      "cell_type": "code",
      "execution_count": null,
      "metadata": {
        "colab": {
          "base_uri": "https://localhost:8080/"
        },
        "id": "jk1UplSXFqfd",
        "outputId": "9379c9ba-874c-4562-9d13-44356d11008c"
      },
      "outputs": [
        {
          "output_type": "stream",
          "name": "stdout",
          "text": [
            "              precision    recall  f1-score   support\n",
            "\n",
            "           0       0.95      0.95      0.95       163\n",
            "           1       0.96      0.92      0.93       165\n",
            "           2       0.94      0.97      0.96       159\n",
            "           3       0.97      0.99      0.98       158\n",
            "           4       0.98      0.96      0.97       167\n",
            "\n",
            "    accuracy                           0.96       812\n",
            "   macro avg       0.96      0.96      0.96       812\n",
            "weighted avg       0.96      0.96      0.96       812\n",
            "\n"
          ]
        }
      ],
      "source": [
        "print(classification_report(y_test, y_predict))"
      ]
    },
    {
      "cell_type": "code",
      "execution_count": null,
      "metadata": {
        "id": "hI2NnHiyLYLs"
      },
      "outputs": [],
      "source": [
        "npair_mobilenet=load_model(save_path + 'Contrastive_npair_mobilenet.h5')"
      ]
    },
    {
      "cell_type": "code",
      "execution_count": null,
      "metadata": {
        "colab": {
          "base_uri": "https://localhost:8080/"
        },
        "id": "RYzKptWRLekp",
        "outputId": "9249972a-663f-409c-b9e0-688abcd89a15"
      },
      "outputs": [
        {
          "output_type": "stream",
          "name": "stdout",
          "text": [
            "26/26 [==============================] - 1s 16ms/step - loss: 0.1296 - sparse_categorical_accuracy: 0.9581\n",
            "Test accuracy: 95.81%\n"
          ]
        }
      ],
      "source": [
        "accuracy = npair_mobilenet.evaluate(x_test, y_test)[1]\n",
        "print(f\"Test accuracy: {round(accuracy * 100, 2)}%\")"
      ]
    },
    {
      "cell_type": "code",
      "execution_count": null,
      "metadata": {
        "id": "FcFHbLEALpLU",
        "colab": {
          "base_uri": "https://localhost:8080/",
          "height": 962
        },
        "outputId": "f9a9a11e-a20d-45e1-a987-d58bf9152663"
      },
      "outputs": [
        {
          "output_type": "stream",
          "name": "stdout",
          "text": [
            "26/26 [==============================] - 1s 10ms/step\n"
          ]
        },
        {
          "output_type": "display_data",
          "data": {
            "text/plain": [
              "<Figure size 1200x1200 with 2 Axes>"
            ],
            "image/png": "[encoded data removed]"
          },
          "metadata": {}
        }
      ],
      "source": [
        "pred = npair_mobilenet.predict(x_test)\n",
        "cancer_classes=np.unique(y_test)\n",
        "y_pred = np.argmax(pred, axis=1)\n",
        "confusion_mtx = confusion_matrix(y_pred, y_test)\n",
        "f,ax = plt.subplots(figsize=(12, 12))\n",
        "sns.heatmap(confusion_mtx, annot=True, \n",
        "            linewidths=0.01,\n",
        "            linecolor=\"white\", \n",
        "            fmt= '.1f',ax=ax,)\n",
        "sns.color_palette(\"rocket\", as_cmap=True)\n",
        "\n",
        "plt.xlabel(\"Predicted Label\")\n",
        "plt.ylabel(\"True Label\")\n",
        "ax.xaxis.set_ticklabels(cancer_classes)\n",
        "ax.yaxis.set_ticklabels(cancer_classes)\n",
        "plt.title(\"Confusion Matrix\")\n",
        "plt.show()"
      ]
    },
    {
      "cell_type": "code",
      "execution_count": null,
      "metadata": {
        "colab": {
          "base_uri": "https://localhost:8080/",
          "height": 300
        },
        "id": "EjiPrGDyLrO9",
        "outputId": "6a6386df-fa76-4352-dd11-c19ec1c316a1"
      },
      "outputs": [
        {
          "output_type": "execute_result",
          "data": {
            "text/plain": [
              "              precision    recall  f1-score     support\n",
              "0              0.945122  0.950920  0.948012  163.000000\n",
              "1              0.955696  0.915152  0.934985  165.000000\n",
              "2              0.944785  0.968553  0.956522  159.000000\n",
              "3              0.969136  0.993671  0.981250  158.000000\n",
              "4              0.975758  0.964072  0.969880  167.000000\n",
              "accuracy       0.958128  0.958128  0.958128    0.958128\n",
              "macro avg      0.958099  0.958474  0.958130  812.000000\n",
              "weighted avg   0.958178  0.958128  0.957996  812.000000"
            ],
            "text/html": [
              "\n",
              "  <div id=\"df-12b3d3a1-3978-4070-8f7c-280d59665907\">\n",
              "    <div class=\"colab-df-container\">\n",
              "      <div>\n",
              "<style scoped>\n",
              "    .dataframe tbody tr th:only-of-type {\n",
              "        vertical-align: middle;\n",
              "    }\n",
              "\n",
              "    .dataframe tbody tr th {\n",
              "        vertical-align: top;\n",
              "    }\n",
              "\n",
              "    .dataframe thead th {\n",
              "        text-align: right;\n",
              "    }\n",
              "</style>\n",
              "<table border=\"1\" class=\"dataframe\">\n",
              "  <thead>\n",
              "    <tr style=\"text-align: right;\">\n",
              "      <th></th>\n",
              "      <th>precision</th>\n",
              "      <th>recall</th>\n",
              "      <th>f1-score</th>\n",
              "      <th>support</th>\n",
              "    </tr>\n",
              "  </thead>\n",
              "  <tbody>\n",
              "    <tr>\n",
              "      <th>0</th>\n",
              "      <td>0.945122</td>\n",
              "      <td>0.950920</td>\n",
              "      <td>0.948012</td>\n",
              "      <td>163.000000</td>\n",
              "    </tr>\n",
              "    <tr>\n",
              "      <th>1</th>\n",
              "      <td>0.955696</td>\n",
              "      <td>0.915152</td>\n",
              "      <td>0.934985</td>\n",
              "      <td>165.000000</td>\n",
              "    </tr>\n",
              "    <tr>\n",
              "      <th>2</th>\n",
              "      <td>0.944785</td>\n",
              "      <td>0.968553</td>\n",
              "      <td>0.956522</td>\n",
              "      <td>159.000000</td>\n",
              "    </tr>\n",
              "    <tr>\n",
              "      <th>3</th>\n",
              "      <td>0.969136</td>\n",
              "      <td>0.993671</td>\n",
              "      <td>0.981250</td>\n",
              "      <td>158.000000</td>\n",
              "    </tr>\n",
              "    <tr>\n",
              "      <th>4</th>\n",
              "      <td>0.975758</td>\n",
              "      <td>0.964072</td>\n",
              "      <td>0.969880</td>\n",
              "      <td>167.000000</td>\n",
              "    </tr>\n",
              "    <tr>\n",
              "      <th>accuracy</th>\n",
              "      <td>0.958128</td>\n",
              "      <td>0.958128</td>\n",
              "      <td>0.958128</td>\n",
              "      <td>0.958128</td>\n",
              "    </tr>\n",
              "    <tr>\n",
              "      <th>macro avg</th>\n",
              "      <td>0.958099</td>\n",
              "      <td>0.958474</td>\n",
              "      <td>0.958130</td>\n",
              "      <td>812.000000</td>\n",
              "    </tr>\n",
              "    <tr>\n",
              "      <th>weighted avg</th>\n",
              "      <td>0.958178</td>\n",
              "      <td>0.958128</td>\n",
              "      <td>0.957996</td>\n",
              "      <td>812.000000</td>\n",
              "    </tr>\n",
              "  </tbody>\n",
              "</table>\n",
              "</div>\n",
              "      <button class=\"colab-df-convert\" onclick=\"convertToInteractive('df-12b3d3a1-3978-4070-8f7c-280d59665907')\"\n",
              "              title=\"Convert this dataframe to an interactive table.\"\n",
              "              style=\"display:none;\">\n",
              "        \n",
              "  <svg xmlns=\"http://www.w3.org/2000/svg\" height=\"24px\"viewBox=\"0 0 24 24\"\n",
              "       width=\"24px\">\n",
              "    <path d=\"M0 0h24v24H0V0z\" fill=\"none\"/>\n",
              "    <path d=\"M18.56 5.44l.94 2.06.94-2.06 2.06-.94-2.06-.94-.94-2.06-.94 2.06-2.06.94zm-11 1L8.5 8.5l.94-2.06 2.06-.94-2.06-.94L8.5 2.5l-.94 2.06-2.06.94zm10 10l.94 2.06.94-2.06 2.06-.94-2.06-.94-.94-2.06-.94 2.06-2.06.94z\"/><path d=\"M17.41 7.96l-1.37-1.37c-.4-.4-.92-.59-1.43-.59-.52 0-1.04.2-1.43.59L10.3 9.45l-7.72 7.72c-.78.78-.78 2.05 0 2.83L4 21.41c.39.39.9.59 1.41.59.51 0 1.02-.2 1.41-.59l7.78-7.78 2.81-2.81c.8-.78.8-2.07 0-2.86zM5.41 20L4 18.59l7.72-7.72 1.47 1.35L5.41 20z\"/>\n",
              "  </svg>\n",
              "      </button>\n",
              "      \n",
              "  <style>\n",
              "    .colab-df-container {\n",
              "      display:flex;\n",
              "      flex-wrap:wrap;\n",
              "      gap: 12px;\n",
              "    }\n",
              "\n",
              "    .colab-df-convert {\n",
              "      background-color: #E8F0FE;\n",
              "      border: none;\n",
              "      border-radius: 50%;\n",
              "      cursor: pointer;\n",
              "      display: none;\n",
              "      fill: #1967D2;\n",
              "      height: 32px;\n",
              "      padding: 0 0 0 0;\n",
              "      width: 32px;\n",
              "    }\n",
              "\n",
              "    .colab-df-convert:hover {\n",
              "      background-color: #E2EBFA;\n",
              "      box-shadow: 0px 1px 2px rgba(60, 64, 67, 0.3), 0px 1px 3px 1px rgba(60, 64, 67, 0.15);\n",
              "      fill: #174EA6;\n",
              "    }\n",
              "\n",
              "    [theme=dark] .colab-df-convert {\n",
              "      background-color: #3B4455;\n",
              "      fill: #D2E3FC;\n",
              "    }\n",
              "\n",
              "    [theme=dark] .colab-df-convert:hover {\n",
              "      background-color: #434B5C;\n",
              "      box-shadow: 0px 1px 3px 1px rgba(0, 0, 0, 0.15);\n",
              "      filter: drop-shadow(0px 1px 2px rgba(0, 0, 0, 0.3));\n",
              "      fill: #FFFFFF;\n",
              "    }\n",
              "  </style>\n",
              "\n",
              "      <script>\n",
              "        const buttonEl =\n",
              "          document.querySelector('#df-12b3d3a1-3978-4070-8f7c-280d59665907 button.colab-df-convert');\n",
              "        buttonEl.style.display =\n",
              "          google.colab.kernel.accessAllowed ? 'block' : 'none';\n",
              "\n",
              "        async function convertToInteractive(key) {\n",
              "          const element = document.querySelector('#df-12b3d3a1-3978-4070-8f7c-280d59665907');\n",
              "          const dataTable =\n",
              "            await google.colab.kernel.invokeFunction('convertToInteractive',\n",
              "                                                     [key], {});\n",
              "          if (!dataTable) return;\n",
              "\n",
              "          const docLinkHtml = 'Like what you see? Visit the ' +\n",
              "            '<a target=\"_blank\" href=https://colab.research.google.com/notebooks/data_table.ipynb>data table notebook</a>'\n",
              "            + ' to learn more about interactive tables.';\n",
              "          element.innerHTML = '';\n",
              "          dataTable['output_type'] = 'display_data';\n",
              "          await google.colab.output.renderOutput(dataTable, element);\n",
              "          const docLink = document.createElement('div');\n",
              "          docLink.innerHTML = docLinkHtml;\n",
              "          element.appendChild(docLink);\n",
              "        }\n",
              "      </script>\n",
              "    </div>\n",
              "  </div>\n",
              "  "
            ]
          },
          "metadata": {},
          "execution_count": 42
        }
      ],
      "source": [
        "report_npair = classification_report(y_test, y_pred, target_names=cancer_classes, output_dict=True)\n",
        "df2 = pd.DataFrame(report_npair).transpose()\n",
        "df2"
      ]
    },
    {
      "cell_type": "markdown",
      "source": [
        "# Xent loss"
      ],
      "metadata": {
        "id": "MDLcHhd46P_K"
      }
    },
    {
      "cell_type": "code",
      "source": [
        "class LossHistory(keras.callbacks.Callback):\n",
        "    def on_train_begin(self, logs={}):\n",
        "        self.losses = []\n",
        "\n",
        "    def on_epoch_end(self, epoch, logs={}):\n",
        "        self.losses.append(logs.get('loss'))\n",
        "\n",
        "loss_history = LossHistory()\n",
        "\n",
        "callbacks=[loss_history]"
      ],
      "metadata": {
        "id": "4TMDHPhT8YsV"
      },
      "execution_count": null,
      "outputs": []
    },
    {
      "cell_type": "code",
      "source": [
        "class SupervisedNTXentLoss(Layer):\n",
        "    def __init__(self, temperature=1.0, **kwargs):\n",
        "        super(SupervisedNTXentLoss, self).__init__(**kwargs)\n",
        "        self.temperature = temperature\n",
        "\n",
        "    def call(self, y_true, y_pred):\n",
        "        batch_size = tf.shape(y_pred)[0]\n",
        "        feature_size = tf.shape(y_pred)[1]\n",
        "        labels = tf.reshape(tf.range(batch_size), (batch_size, 1))\n",
        "        masks = tf.cast(tf.eye(batch_size), dtype=bool)\n",
        "        labels = tf.boolean_mask(labels, masks)\n",
        "        similarity_matrix = tf.matmul(y_pred, y_pred, transpose_b=True)\n",
        "        masks = tf.cast(tf.eye(batch_size), dtype=bool)\n",
        "        similarity_matrix = tf.boolean_mask(similarity_matrix, ~masks)\n",
        "        similarity_matrix = tf.reshape(similarity_matrix, (batch_size, batch_size - 1))\n",
        "        labels = tf.squeeze(labels)  # Squeeze labels to remove extra dimension\n",
        "        loss = tf.reduce_mean(\n",
        "            tf.nn.sparse_softmax_cross_entropy_with_logits(\n",
        "                labels=labels, logits=similarity_matrix / self.temperature\n",
        "            )\n",
        "        )\n",
        "        return loss"
      ],
      "metadata": {
        "id": "ZZmwsnzV6Vf4"
      },
      "execution_count": null,
      "outputs": []
    },
    {
      "cell_type": "code",
      "source": [
        "def add_projection_head(encoder):\n",
        "    inputs = keras.Input(shape=input_shape)\n",
        "    features = encoder(inputs)\n",
        "    outputs = layers.Dense(projection_units, activation=\"relu\")(features)\n",
        "    model = keras.Model(\n",
        "        inputs=inputs, outputs=outputs, name=\"MobileNetV2-encoder_with_projection-head\"\n",
        "    )\n",
        "    return model"
      ],
      "metadata": {
        "id": "EHEan-x-7J0K"
      },
      "execution_count": null,
      "outputs": []
    },
    {
      "cell_type": "code",
      "source": [
        "import tensorflow.keras.utils as ku\n",
        "\n",
        "y_train_onehot = ku.to_categorical(y_train)"
      ],
      "metadata": {
        "id": "T9kxq2Gi7Mkc"
      },
      "execution_count": null,
      "outputs": []
    },
    {
      "cell_type": "code",
      "source": [
        "mobilenet_xentloss_dict={}"
      ],
      "metadata": {
        "id": "vlJZc9vL8oAw"
      },
      "execution_count": null,
      "outputs": []
    },
    {
      "cell_type": "code",
      "source": [
        "encoder = create_encoder()\n",
        "encoder_with_projection_head = add_projection_head(encoder)\n",
        "encoder_with_projection_head.compile(\n",
        "    optimizer=keras.optimizers.Adam(learning_rate),\n",
        "    loss=SupervisedNTXentLoss(temperature),\n",
        ")\n",
        "encoder_with_projection_head.summary()\n",
        "\n",
        "history = encoder_with_projection_head.fit(\n",
        "    x=x_train, y=y_train_onehot, batch_size=batch_size, epochs=50, callbacks=callbacks\n",
        ")\n",
        "\n",
        "loss_dict = {}\n",
        "for i, loss in enumerate(loss_history.losses):\n",
        "    mobilenet_xentloss_dict[i+1] = loss"
      ],
      "metadata": {
        "colab": {
          "base_uri": "https://localhost:8080/"
        },
        "id": "gP4-uh0K7Qhv",
        "outputId": "8336c897-6c13-43e9-91a5-cd5788a88822"
      },
      "execution_count": null,
      "outputs": [
        {
          "output_type": "stream",
          "name": "stdout",
          "text": [
            "Model: \"MobileNetV2-encoder_with_projection-head\"\n",
            "_________________________________________________________________\n",
            " Layer (type)                Output Shape              Param #   \n",
            "=================================================================\n",
            " input_5 (InputLayer)        [(None, 110, 110, 3)]     0         \n",
            "                                                                 \n",
            " mobilenet-encoder (Function  (None, 1280)             2257991   \n",
            " al)                                                             \n",
            "                                                                 \n",
            " dense (Dense)               (None, 128)               163968    \n",
            "                                                                 \n",
            " supervised_nt_xent_loss (Su  multiple                 0 (unused)\n",
            " pervisedNTXentLoss)                                             \n",
            "                                                                 \n",
            "=================================================================\n",
            "Total params: 2,421,959\n",
            "Trainable params: 2,387,840\n",
            "Non-trainable params: 34,119\n",
            "_________________________________________________________________\n",
            "Epoch 1/50\n",
            "567/567 [==============================] - 180s 225ms/step - loss: 8.5658\n",
            "Epoch 2/50\n",
            "567/567 [==============================] - 55s 98ms/step - loss: 3.4414\n",
            "Epoch 3/50\n",
            "567/567 [==============================] - 43s 76ms/step - loss: 3.4365\n",
            "Epoch 4/50\n",
            "567/567 [==============================] - 34s 61ms/step - loss: 3.4358\n",
            "Epoch 5/50\n",
            "567/567 [==============================] - 32s 56ms/step - loss: 3.4531\n",
            "Epoch 6/50\n",
            "567/567 [==============================] - 30s 54ms/step - loss: 3.4341\n",
            "Epoch 7/50\n",
            "567/567 [==============================] - 29s 51ms/step - loss: 3.4336\n",
            "Epoch 8/50\n",
            "567/567 [==============================] - 27s 48ms/step - loss: 3.4336\n",
            "Epoch 9/50\n",
            "567/567 [==============================] - 27s 47ms/step - loss: 3.4335\n",
            "Epoch 10/50\n",
            "567/567 [==============================] - 26s 46ms/step - loss: 3.4334\n",
            "Epoch 11/50\n",
            "567/567 [==============================] - 26s 46ms/step - loss: 3.4335\n",
            "Epoch 12/50\n",
            "567/567 [==============================] - 26s 46ms/step - loss: 3.4335\n",
            "Epoch 13/50\n",
            "567/567 [==============================] - 26s 47ms/step - loss: 3.4333\n",
            "Epoch 14/50\n",
            "567/567 [==============================] - 26s 46ms/step - loss: 3.4333\n",
            "Epoch 15/50\n",
            "567/567 [==============================] - 25s 45ms/step - loss: 3.4337\n",
            "Epoch 16/50\n",
            "567/567 [==============================] - 25s 45ms/step - loss: 3.4333\n",
            "Epoch 17/50\n",
            "567/567 [==============================] - 25s 43ms/step - loss: 3.4333\n",
            "Epoch 18/50\n",
            "567/567 [==============================] - 25s 45ms/step - loss: 3.4333\n",
            "Epoch 19/50\n",
            "567/567 [==============================] - 25s 44ms/step - loss: 3.4333\n",
            "Epoch 20/50\n",
            "567/567 [==============================] - 25s 44ms/step - loss: 3.4333\n",
            "Epoch 21/50\n",
            "567/567 [==============================] - 25s 44ms/step - loss: 3.4349\n",
            "Epoch 22/50\n",
            "567/567 [==============================] - 25s 44ms/step - loss: 3.4333\n",
            "Epoch 23/50\n",
            "567/567 [==============================] - 25s 44ms/step - loss: 3.4339\n",
            "Epoch 24/50\n",
            "567/567 [==============================] - 25s 45ms/step - loss: 3.4333\n",
            "Epoch 25/50\n",
            "567/567 [==============================] - 25s 44ms/step - loss: 3.4333\n",
            "Epoch 26/50\n",
            "567/567 [==============================] - 25s 44ms/step - loss: 3.4333\n",
            "Epoch 27/50\n",
            "567/567 [==============================] - 25s 44ms/step - loss: 3.4333\n",
            "Epoch 28/50\n",
            "567/567 [==============================] - 25s 44ms/step - loss: 3.4333\n",
            "Epoch 29/50\n",
            "567/567 [==============================] - 25s 44ms/step - loss: 3.4333\n",
            "Epoch 30/50\n",
            "567/567 [==============================] - 25s 44ms/step - loss: 3.4333\n",
            "Epoch 31/50\n",
            "567/567 [==============================] - 25s 44ms/step - loss: 3.4333\n",
            "Epoch 32/50\n",
            "567/567 [==============================] - 25s 44ms/step - loss: 3.4333\n",
            "Epoch 33/50\n",
            "567/567 [==============================] - 25s 44ms/step - loss: 3.4333\n",
            "Epoch 34/50\n",
            "567/567 [==============================] - 25s 43ms/step - loss: 3.4333\n",
            "Epoch 35/50\n",
            "567/567 [==============================] - 25s 44ms/step - loss: 3.4333\n",
            "Epoch 36/50\n",
            "567/567 [==============================] - 25s 43ms/step - loss: 3.4333\n",
            "Epoch 37/50\n",
            "567/567 [==============================] - 25s 44ms/step - loss: 3.4333\n",
            "Epoch 38/50\n",
            "567/567 [==============================] - 25s 44ms/step - loss: 3.5039\n",
            "Epoch 39/50\n",
            "567/567 [==============================] - 25s 45ms/step - loss: 3.4333\n",
            "Epoch 40/50\n",
            "567/567 [==============================] - 25s 44ms/step - loss: 3.4368\n",
            "Epoch 41/50\n",
            "567/567 [==============================] - 25s 44ms/step - loss: 3.4333\n",
            "Epoch 42/50\n",
            "567/567 [==============================] - 25s 44ms/step - loss: 3.4333\n",
            "Epoch 43/50\n",
            "567/567 [==============================] - 25s 44ms/step - loss: 3.4333\n",
            "Epoch 44/50\n",
            "567/567 [==============================] - 25s 44ms/step - loss: 3.4333\n",
            "Epoch 45/50\n",
            "567/567 [==============================] - 25s 44ms/step - loss: 3.4333\n",
            "Epoch 46/50\n",
            "567/567 [==============================] - 25s 44ms/step - loss: 3.4333\n",
            "Epoch 47/50\n",
            "567/567 [==============================] - 25s 44ms/step - loss: 3.4333\n",
            "Epoch 48/50\n",
            "567/567 [==============================] - 25s 44ms/step - loss: 3.4333\n",
            "Epoch 49/50\n",
            "567/567 [==============================] - 25s 44ms/step - loss: 3.4333\n",
            "Epoch 50/50\n",
            "567/567 [==============================] - 25s 44ms/step - loss: 3.4333\n"
          ]
        }
      ]
    },
    {
      "cell_type": "code",
      "source": [
        "encoder_with_projection_head.save(save_path + 'lossxent_mobilenet.h5')"
      ],
      "metadata": {
        "id": "gYoQlgNs7YcO"
      },
      "execution_count": null,
      "outputs": []
    },
    {
      "cell_type": "code",
      "source": [
        "import pickle\n",
        "\n",
        "with open('/content/drive/MyDrive/ThesisNewApproach/Saved/highepoch/Loss/mobilenet_xentloss_dict.pkl', 'wb') as f:\n",
        "    pickle.dump(mobilenet_xentloss_dict, f)\n"
      ],
      "metadata": {
        "id": "DEx-4qhq9_cw"
      },
      "execution_count": null,
      "outputs": []
    },
    {
      "cell_type": "code",
      "source": [
        "with open('/content/drive/MyDrive/ThesisNewApproach/Saved/highepoch/Loss/mobilenet_xentloss_dict.pkl', 'rb') as f:\n",
        "    mobilenet_xentloss_dict = pickle.load(f)\n",
        "\n",
        "print(\"Loss values:\")\n",
        "for epoch, loss in mobilenet_xentloss_dict.items():\n",
        "    print(f\"Epoch {epoch}: {loss}\")"
      ],
      "metadata": {
        "colab": {
          "base_uri": "https://localhost:8080/"
        },
        "id": "ehtR-3EX9FP3",
        "outputId": "a6617402-4994-47cf-bdc2-c102f5c62878"
      },
      "execution_count": null,
      "outputs": [
        {
          "output_type": "stream",
          "name": "stdout",
          "text": [
            "Loss values:\n",
            "Epoch 1: 8.565786361694336\n",
            "Epoch 2: 3.4413723945617676\n",
            "Epoch 3: 3.4365484714508057\n",
            "Epoch 4: 3.4358139038085938\n",
            "Epoch 5: 3.453132390975952\n",
            "Epoch 6: 3.4341137409210205\n",
            "Epoch 7: 3.433617353439331\n",
            "Epoch 8: 3.433586597442627\n",
            "Epoch 9: 3.43350887298584\n",
            "Epoch 10: 3.433441400527954\n",
            "Epoch 11: 3.4335477352142334\n",
            "Epoch 12: 3.433478832244873\n",
            "Epoch 13: 3.433349609375\n",
            "Epoch 14: 3.4333178997039795\n",
            "Epoch 15: 3.433744192123413\n",
            "Epoch 16: 3.433300733566284\n",
            "Epoch 17: 3.433302640914917\n",
            "Epoch 18: 3.4333016872406006\n",
            "Epoch 19: 3.433300256729126\n",
            "Epoch 20: 3.433307409286499\n",
            "Epoch 21: 3.4349074363708496\n",
            "Epoch 22: 3.4332869052886963\n",
            "Epoch 23: 3.4339094161987305\n",
            "Epoch 24: 3.4332821369171143\n",
            "Epoch 25: 3.433281183242798\n",
            "Epoch 26: 3.433281183242798\n",
            "Epoch 27: 3.433281421661377\n",
            "Epoch 28: 3.433281183242798\n",
            "Epoch 29: 3.433281183242798\n",
            "Epoch 30: 3.4332826137542725\n",
            "Epoch 31: 3.433281183242798\n",
            "Epoch 32: 3.433281183242798\n",
            "Epoch 33: 3.433281183242798\n",
            "Epoch 34: 3.433281183242798\n",
            "Epoch 35: 3.433281183242798\n",
            "Epoch 36: 3.433281421661377\n",
            "Epoch 37: 3.433281183242798\n",
            "Epoch 38: 3.503932476043701\n",
            "Epoch 39: 3.433286666870117\n",
            "Epoch 40: 3.436795711517334\n",
            "Epoch 41: 3.433286190032959\n",
            "Epoch 42: 3.4332950115203857\n",
            "Epoch 43: 3.433281183242798\n",
            "Epoch 44: 3.433281183242798\n",
            "Epoch 45: 3.433281183242798\n",
            "Epoch 46: 3.433281183242798\n",
            "Epoch 47: 3.433281183242798\n",
            "Epoch 48: 3.433281421661377\n",
            "Epoch 49: 3.433281183242798\n",
            "Epoch 50: 3.433281183242798\n"
          ]
        }
      ]
    },
    {
      "cell_type": "code",
      "source": [
        "checkpointer = ModelCheckpoint(filepath='saved_models/baseline_model_mobilenet.hdf5', \n",
        "                               monitor='sparse_categorical_accuracy', mode='max',\n",
        "                               verbose=1, save_best_only=True)\n",
        "early_stopping = EarlyStopping(monitor='loss', mode='min', verbose=1, patience=3)\n",
        "reduce_lr = ReduceLROnPlateau(monitor='loss', factor=0.2,patience=2, min_lr=1e-5)\n",
        "callbacks=[early_stopping, reduce_lr, checkpointer]"
      ],
      "metadata": {
        "id": "IZXeBAqb_jt2"
      },
      "execution_count": null,
      "outputs": []
    },
    {
      "cell_type": "code",
      "source": [
        "classifier = create_classifier(encoder, trainable=False)\n",
        "\n",
        "history = classifier.fit(x=x_train, y=y_train, batch_size=batch_size, epochs=num_epochs,callbacks=callbacks)"
      ],
      "metadata": {
        "colab": {
          "base_uri": "https://localhost:8080/"
        },
        "id": "NydheyKl7URl",
        "outputId": "be3f1b9d-185c-43c3-c740-1756534221bd"
      },
      "execution_count": null,
      "outputs": [
        {
          "output_type": "stream",
          "name": "stdout",
          "text": [
            "Epoch 1/50\n",
            "567/567 [==============================] - ETA: 0s - loss: 1.6801 - sparse_categorical_accuracy: 0.2416\n",
            "Epoch 1: sparse_categorical_accuracy improved from -inf to 0.24157, saving model to saved_models/baseline_model_mobilenet.hdf5\n",
            "567/567 [==============================] - 15s 19ms/step - loss: 1.6801 - sparse_categorical_accuracy: 0.2416 - lr: 1.0000e-04\n",
            "Epoch 2/50\n",
            "567/567 [==============================] - ETA: 0s - loss: 1.5886 - sparse_categorical_accuracy: 0.2690\n",
            "Epoch 2: sparse_categorical_accuracy improved from 0.24157 to 0.26900, saving model to saved_models/baseline_model_mobilenet.hdf5\n",
            "567/567 [==============================] - 13s 22ms/step - loss: 1.5886 - sparse_categorical_accuracy: 0.2690 - lr: 1.0000e-04\n",
            "Epoch 3/50\n",
            "567/567 [==============================] - ETA: 0s - loss: 1.5671 - sparse_categorical_accuracy: 0.2794\n",
            "Epoch 3: sparse_categorical_accuracy improved from 0.26900 to 0.27937, saving model to saved_models/baseline_model_mobilenet.hdf5\n",
            "567/567 [==============================] - 10s 18ms/step - loss: 1.5671 - sparse_categorical_accuracy: 0.2794 - lr: 1.0000e-04\n",
            "Epoch 4/50\n",
            "567/567 [==============================] - ETA: 0s - loss: 1.5553 - sparse_categorical_accuracy: 0.2940\n",
            "Epoch 4: sparse_categorical_accuracy improved from 0.27937 to 0.29399, saving model to saved_models/baseline_model_mobilenet.hdf5\n",
            "567/567 [==============================] - 9s 16ms/step - loss: 1.5553 - sparse_categorical_accuracy: 0.2940 - lr: 1.0000e-04\n",
            "Epoch 5/50\n",
            "567/567 [==============================] - ETA: 0s - loss: 1.5513 - sparse_categorical_accuracy: 0.2946\n",
            "Epoch 5: sparse_categorical_accuracy improved from 0.29399 to 0.29460, saving model to saved_models/baseline_model_mobilenet.hdf5\n",
            "567/567 [==============================] - 9s 16ms/step - loss: 1.5513 - sparse_categorical_accuracy: 0.2946 - lr: 1.0000e-04\n",
            "Epoch 6/50\n",
            "567/567 [==============================] - ETA: 0s - loss: 1.5472 - sparse_categorical_accuracy: 0.3029\n",
            "Epoch 6: sparse_categorical_accuracy improved from 0.29460 to 0.30293, saving model to saved_models/baseline_model_mobilenet.hdf5\n",
            "567/567 [==============================] - 8s 15ms/step - loss: 1.5472 - sparse_categorical_accuracy: 0.3029 - lr: 1.0000e-04\n",
            "Epoch 7/50\n",
            "567/567 [==============================] - ETA: 0s - loss: 1.5373 - sparse_categorical_accuracy: 0.3088\n",
            "Epoch 7: sparse_categorical_accuracy improved from 0.30293 to 0.30883, saving model to saved_models/baseline_model_mobilenet.hdf5\n",
            "567/567 [==============================] - 9s 16ms/step - loss: 1.5373 - sparse_categorical_accuracy: 0.3088 - lr: 1.0000e-04\n",
            "Epoch 8/50\n",
            "567/567 [==============================] - ETA: 0s - loss: 1.5290 - sparse_categorical_accuracy: 0.3145\n",
            "Epoch 8: sparse_categorical_accuracy improved from 0.30883 to 0.31446, saving model to saved_models/baseline_model_mobilenet.hdf5\n",
            "567/567 [==============================] - 9s 16ms/step - loss: 1.5290 - sparse_categorical_accuracy: 0.3145 - lr: 1.0000e-04\n",
            "Epoch 9/50\n",
            "567/567 [==============================] - ETA: 0s - loss: 1.5298 - sparse_categorical_accuracy: 0.3172\n",
            "Epoch 9: sparse_categorical_accuracy improved from 0.31446 to 0.31722, saving model to saved_models/baseline_model_mobilenet.hdf5\n",
            "567/567 [==============================] - 9s 15ms/step - loss: 1.5298 - sparse_categorical_accuracy: 0.3172 - lr: 1.0000e-04\n",
            "Epoch 10/50\n",
            "566/567 [============================>.] - ETA: 0s - loss: 1.5306 - sparse_categorical_accuracy: 0.3144\n",
            "Epoch 10: sparse_categorical_accuracy did not improve from 0.31722\n",
            "567/567 [==============================] - 9s 17ms/step - loss: 1.5307 - sparse_categorical_accuracy: 0.3144 - lr: 1.0000e-04\n",
            "Epoch 11/50\n",
            "567/567 [==============================] - ETA: 0s - loss: 1.5233 - sparse_categorical_accuracy: 0.3242\n",
            "Epoch 11: sparse_categorical_accuracy improved from 0.31722 to 0.32417, saving model to saved_models/baseline_model_mobilenet.hdf5\n",
            "567/567 [==============================] - 9s 16ms/step - loss: 1.5233 - sparse_categorical_accuracy: 0.3242 - lr: 2.0000e-05\n",
            "Epoch 12/50\n",
            "567/567 [==============================] - ETA: 0s - loss: 1.5243 - sparse_categorical_accuracy: 0.3196\n",
            "Epoch 12: sparse_categorical_accuracy did not improve from 0.32417\n",
            "567/567 [==============================] - 8s 15ms/step - loss: 1.5243 - sparse_categorical_accuracy: 0.3196 - lr: 2.0000e-05\n",
            "Epoch 13/50\n",
            "567/567 [==============================] - ETA: 0s - loss: 1.5199 - sparse_categorical_accuracy: 0.3225\n",
            "Epoch 13: sparse_categorical_accuracy did not improve from 0.32417\n",
            "567/567 [==============================] - 9s 15ms/step - loss: 1.5199 - sparse_categorical_accuracy: 0.3225 - lr: 2.0000e-05\n",
            "Epoch 14/50\n",
            "567/567 [==============================] - ETA: 0s - loss: 1.5162 - sparse_categorical_accuracy: 0.3251\n",
            "Epoch 14: sparse_categorical_accuracy improved from 0.32417 to 0.32511, saving model to saved_models/baseline_model_mobilenet.hdf5\n",
            "567/567 [==============================] - 9s 16ms/step - loss: 1.5162 - sparse_categorical_accuracy: 0.3251 - lr: 2.0000e-05\n",
            "Epoch 15/50\n",
            "567/567 [==============================] - ETA: 0s - loss: 1.5205 - sparse_categorical_accuracy: 0.3216\n",
            "Epoch 15: sparse_categorical_accuracy did not improve from 0.32511\n",
            "567/567 [==============================] - 8s 15ms/step - loss: 1.5205 - sparse_categorical_accuracy: 0.3216 - lr: 2.0000e-05\n",
            "Epoch 16/50\n",
            "567/567 [==============================] - ETA: 0s - loss: 1.5210 - sparse_categorical_accuracy: 0.3268\n",
            "Epoch 16: sparse_categorical_accuracy improved from 0.32511 to 0.32677, saving model to saved_models/baseline_model_mobilenet.hdf5\n",
            "567/567 [==============================] - 9s 16ms/step - loss: 1.5210 - sparse_categorical_accuracy: 0.3268 - lr: 2.0000e-05\n",
            "Epoch 17/50\n",
            "567/567 [==============================] - ETA: 0s - loss: 1.5213 - sparse_categorical_accuracy: 0.3232\n",
            "Epoch 17: sparse_categorical_accuracy did not improve from 0.32677\n",
            "567/567 [==============================] - 8s 14ms/step - loss: 1.5213 - sparse_categorical_accuracy: 0.3232 - lr: 1.0000e-05\n",
            "Epoch 17: early stopping\n"
          ]
        }
      ]
    },
    {
      "cell_type": "code",
      "source": [
        "classifier.save(save_path + 'Contrastive_xent_mobilenet.h5')"
      ],
      "metadata": {
        "id": "JrZ12dXP-wD_"
      },
      "execution_count": null,
      "outputs": []
    },
    {
      "cell_type": "code",
      "source": [
        "xent_mobilenet=load_model(save_path + 'Contrastive_xent_mobilenet.h5')"
      ],
      "metadata": {
        "id": "3pJ3dnYc-4Ob"
      },
      "execution_count": null,
      "outputs": []
    },
    {
      "cell_type": "code",
      "source": [
        "accuracy = xent_mobilenet.evaluate(x_test, y_test)[1]\n",
        "print(f\"Test accuracy: {round(accuracy * 100, 2)}%\")"
      ],
      "metadata": {
        "colab": {
          "base_uri": "https://localhost:8080/"
        },
        "id": "piII1gDE-_AY",
        "outputId": "7e5c4c1c-f310-4612-83c1-2076270278d2"
      },
      "execution_count": null,
      "outputs": [
        {
          "output_type": "stream",
          "name": "stdout",
          "text": [
            "26/26 [==============================] - 2s 33ms/step - loss: 1.4084 - sparse_categorical_accuracy: 0.4433\n",
            "Test accuracy: 44.33%\n"
          ]
        }
      ]
    },
    {
      "cell_type": "code",
      "source": [
        "pred = xent_mobilenet.predict(x_test)\n",
        "cancer_classes=np.unique(y_test)\n",
        "y_pred = np.argmax(pred, axis=1)\n",
        "confusion_mtx = confusion_matrix(y_pred, y_test)\n",
        "f,ax = plt.subplots(figsize=(12, 12))\n",
        "sns.heatmap(confusion_mtx, annot=True, \n",
        "            linewidths=0.01,\n",
        "            linecolor=\"white\", \n",
        "            fmt= '.1f',ax=ax,)\n",
        "sns.color_palette(\"rocket\", as_cmap=True)\n",
        "\n",
        "plt.xlabel(\"Predicted Label\")\n",
        "plt.ylabel(\"True Label\")\n",
        "ax.xaxis.set_ticklabels(cancer_classes)\n",
        "ax.yaxis.set_ticklabels(cancer_classes)\n",
        "plt.title(\"Confusion Matrix\")\n",
        "plt.show()"
      ],
      "metadata": {
        "colab": {
          "base_uri": "https://localhost:8080/",
          "height": 756
        },
        "id": "MHHVIBJZ_CPb",
        "outputId": "3a81e94b-7f22-4907-b089-4cc55a944071"
      },
      "execution_count": null,
      "outputs": [
        {
          "output_type": "stream",
          "name": "stdout",
          "text": [
            "26/26 [==============================] - 1s 12ms/step\n"
          ]
        },
        {
          "output_type": "display_data",
          "data": {
            "text/plain": [
              "<Figure size 1200x1200 with 2 Axes>"
            ],
            "image/png": "[encoded data removed]"
          },
          "metadata": {}
        }
      ]
    },
    {
      "cell_type": "code",
      "source": [
        "report_npair = classification_report(y_test, y_pred, target_names=cancer_classes, output_dict=True)\n",
        "df2 = pd.DataFrame(report_npair).transpose()\n",
        "df2"
      ],
      "metadata": {
        "colab": {
          "base_uri": "https://localhost:8080/",
          "height": 300
        },
        "id": "zoV0uj22_HMB",
        "outputId": "9100cf11-2155-45e6-dd2f-d20deb5411ea"
      },
      "execution_count": null,
      "outputs": [
        {
          "output_type": "execute_result",
          "data": {
            "text/plain": [
              "              precision    recall  f1-score    support\n",
              "0              0.437158  0.490798  0.462428  163.00000\n",
              "1              0.278810  0.454545  0.345622  165.00000\n",
              "2              0.547170  0.182390  0.273585  159.00000\n",
              "3              0.943089  0.734177  0.825623  158.00000\n",
              "4              0.326087  0.359281  0.341880  167.00000\n",
              "accuracy       0.443350  0.443350  0.443350    0.44335\n",
              "macro avg      0.506463  0.444238  0.449828  812.00000\n",
              "weighted avg   0.502125  0.443350  0.447593  812.00000"
            ],
            "text/html": [
              "\n",
              "  <div id=\"df-5f738009-c510-4a0f-9d41-df0cafb2e4a0\">\n",
              "    <div class=\"colab-df-container\">\n",
              "      <div>\n",
              "<style scoped>\n",
              "    .dataframe tbody tr th:only-of-type {\n",
              "        vertical-align: middle;\n",
              "    }\n",
              "\n",
              "    .dataframe tbody tr th {\n",
              "        vertical-align: top;\n",
              "    }\n",
              "\n",
              "    .dataframe thead th {\n",
              "        text-align: right;\n",
              "    }\n",
              "</style>\n",
              "<table border=\"1\" class=\"dataframe\">\n",
              "  <thead>\n",
              "    <tr style=\"text-align: right;\">\n",
              "      <th></th>\n",
              "      <th>precision</th>\n",
              "      <th>recall</th>\n",
              "      <th>f1-score</th>\n",
              "      <th>support</th>\n",
              "    </tr>\n",
              "  </thead>\n",
              "  <tbody>\n",
              "    <tr>\n",
              "      <th>0</th>\n",
              "      <td>0.437158</td>\n",
              "      <td>0.490798</td>\n",
              "      <td>0.462428</td>\n",
              "      <td>163.00000</td>\n",
              "    </tr>\n",
              "    <tr>\n",
              "      <th>1</th>\n",
              "      <td>0.278810</td>\n",
              "      <td>0.454545</td>\n",
              "      <td>0.345622</td>\n",
              "      <td>165.00000</td>\n",
              "    </tr>\n",
              "    <tr>\n",
              "      <th>2</th>\n",
              "      <td>0.547170</td>\n",
              "      <td>0.182390</td>\n",
              "      <td>0.273585</td>\n",
              "      <td>159.00000</td>\n",
              "    </tr>\n",
              "    <tr>\n",
              "      <th>3</th>\n",
              "      <td>0.943089</td>\n",
              "      <td>0.734177</td>\n",
              "      <td>0.825623</td>\n",
              "      <td>158.00000</td>\n",
              "    </tr>\n",
              "    <tr>\n",
              "      <th>4</th>\n",
              "      <td>0.326087</td>\n",
              "      <td>0.359281</td>\n",
              "      <td>0.341880</td>\n",
              "      <td>167.00000</td>\n",
              "    </tr>\n",
              "    <tr>\n",
              "      <th>accuracy</th>\n",
              "      <td>0.443350</td>\n",
              "      <td>0.443350</td>\n",
              "      <td>0.443350</td>\n",
              "      <td>0.44335</td>\n",
              "    </tr>\n",
              "    <tr>\n",
              "      <th>macro avg</th>\n",
              "      <td>0.506463</td>\n",
              "      <td>0.444238</td>\n",
              "      <td>0.449828</td>\n",
              "      <td>812.00000</td>\n",
              "    </tr>\n",
              "    <tr>\n",
              "      <th>weighted avg</th>\n",
              "      <td>0.502125</td>\n",
              "      <td>0.443350</td>\n",
              "      <td>0.447593</td>\n",
              "      <td>812.00000</td>\n",
              "    </tr>\n",
              "  </tbody>\n",
              "</table>\n",
              "</div>\n",
              "      <button class=\"colab-df-convert\" onclick=\"convertToInteractive('df-5f738009-c510-4a0f-9d41-df0cafb2e4a0')\"\n",
              "              title=\"Convert this dataframe to an interactive table.\"\n",
              "              style=\"display:none;\">\n",
              "        \n",
              "  <svg xmlns=\"http://www.w3.org/2000/svg\" height=\"24px\"viewBox=\"0 0 24 24\"\n",
              "       width=\"24px\">\n",
              "    <path d=\"M0 0h24v24H0V0z\" fill=\"none\"/>\n",
              "    <path d=\"M18.56 5.44l.94 2.06.94-2.06 2.06-.94-2.06-.94-.94-2.06-.94 2.06-2.06.94zm-11 1L8.5 8.5l.94-2.06 2.06-.94-2.06-.94L8.5 2.5l-.94 2.06-2.06.94zm10 10l.94 2.06.94-2.06 2.06-.94-2.06-.94-.94-2.06-.94 2.06-2.06.94z\"/><path d=\"M17.41 7.96l-1.37-1.37c-.4-.4-.92-.59-1.43-.59-.52 0-1.04.2-1.43.59L10.3 9.45l-7.72 7.72c-.78.78-.78 2.05 0 2.83L4 21.41c.39.39.9.59 1.41.59.51 0 1.02-.2 1.41-.59l7.78-7.78 2.81-2.81c.8-.78.8-2.07 0-2.86zM5.41 20L4 18.59l7.72-7.72 1.47 1.35L5.41 20z\"/>\n",
              "  </svg>\n",
              "      </button>\n",
              "      \n",
              "  <style>\n",
              "    .colab-df-container {\n",
              "      display:flex;\n",
              "      flex-wrap:wrap;\n",
              "      gap: 12px;\n",
              "    }\n",
              "\n",
              "    .colab-df-convert {\n",
              "      background-color: #E8F0FE;\n",
              "      border: none;\n",
              "      border-radius: 50%;\n",
              "      cursor: pointer;\n",
              "      display: none;\n",
              "      fill: #1967D2;\n",
              "      height: 32px;\n",
              "      padding: 0 0 0 0;\n",
              "      width: 32px;\n",
              "    }\n",
              "\n",
              "    .colab-df-convert:hover {\n",
              "      background-color: #E2EBFA;\n",
              "      box-shadow: 0px 1px 2px rgba(60, 64, 67, 0.3), 0px 1px 3px 1px rgba(60, 64, 67, 0.15);\n",
              "      fill: #174EA6;\n",
              "    }\n",
              "\n",
              "    [theme=dark] .colab-df-convert {\n",
              "      background-color: #3B4455;\n",
              "      fill: #D2E3FC;\n",
              "    }\n",
              "\n",
              "    [theme=dark] .colab-df-convert:hover {\n",
              "      background-color: #434B5C;\n",
              "      box-shadow: 0px 1px 3px 1px rgba(0, 0, 0, 0.15);\n",
              "      filter: drop-shadow(0px 1px 2px rgba(0, 0, 0, 0.3));\n",
              "      fill: #FFFFFF;\n",
              "    }\n",
              "  </style>\n",
              "\n",
              "      <script>\n",
              "        const buttonEl =\n",
              "          document.querySelector('#df-5f738009-c510-4a0f-9d41-df0cafb2e4a0 button.colab-df-convert');\n",
              "        buttonEl.style.display =\n",
              "          google.colab.kernel.accessAllowed ? 'block' : 'none';\n",
              "\n",
              "        async function convertToInteractive(key) {\n",
              "          const element = document.querySelector('#df-5f738009-c510-4a0f-9d41-df0cafb2e4a0');\n",
              "          const dataTable =\n",
              "            await google.colab.kernel.invokeFunction('convertToInteractive',\n",
              "                                                     [key], {});\n",
              "          if (!dataTable) return;\n",
              "\n",
              "          const docLinkHtml = 'Like what you see? Visit the ' +\n",
              "            '<a target=\"_blank\" href=https://colab.research.google.com/notebooks/data_table.ipynb>data table notebook</a>'\n",
              "            + ' to learn more about interactive tables.';\n",
              "          element.innerHTML = '';\n",
              "          dataTable['output_type'] = 'display_data';\n",
              "          await google.colab.output.renderOutput(dataTable, element);\n",
              "          const docLink = document.createElement('div');\n",
              "          docLink.innerHTML = docLinkHtml;\n",
              "          element.appendChild(docLink);\n",
              "        }\n",
              "      </script>\n",
              "    </div>\n",
              "  </div>\n",
              "  "
            ]
          },
          "metadata": {},
          "execution_count": 29
        }
      ]
    },
    {
      "cell_type": "markdown",
      "source": [
        "# Triplet Loss"
      ],
      "metadata": {
        "id": "_5GeVhPq_P29"
      }
    },
    {
      "cell_type": "code",
      "source": [
        "class LossHistory(keras.callbacks.Callback):\n",
        "    def on_train_begin(self, logs={}):\n",
        "        self.losses = []\n",
        "\n",
        "    def on_epoch_end(self, epoch, logs={}):\n",
        "        self.losses.append(logs.get('loss'))\n",
        "\n",
        "loss_history = LossHistory()\n",
        "\n",
        "callbacks1=[loss_history]"
      ],
      "metadata": {
        "id": "i5d9rMWHACNd"
      },
      "execution_count": null,
      "outputs": []
    },
    {
      "cell_type": "code",
      "source": [
        "def triplet_loss(y_true, y_pred, alpha=0.2):     \n",
        "    anchors = y_pred[0]\n",
        "    positives = y_pred[1]\n",
        "    negatives = y_pred[2]\n",
        "    \n",
        "    pos_dist = tf.reduce_sum(tf.square(tf.subtract(anchors, positives)), axis=-1)\n",
        "    neg_dist = tf.reduce_sum(tf.square(tf.subtract(anchors, negatives)), axis=-1)\n",
        "\n",
        "    basic_loss = tf.add(tf.subtract(pos_dist, neg_dist), alpha)\n",
        "    loss = tf.reduce_sum(tf.maximum(basic_loss, 0))\n",
        "\n",
        "    return loss"
      ],
      "metadata": {
        "id": "Es5-B_WC_R-9"
      },
      "execution_count": null,
      "outputs": []
    },
    {
      "cell_type": "code",
      "source": [
        "def add_projection_head(encoder):\n",
        "    inputs = keras.Input(shape=input_shape)\n",
        "    features = encoder(inputs)\n",
        "    outputs = layers.Dense(projection_units, activation=\"relu\")(features)\n",
        "    model = keras.Model(\n",
        "        inputs=inputs, outputs=outputs, name=\"MobileNetV2-encoder_with_projection-head\"\n",
        "    )\n",
        "    return model"
      ],
      "metadata": {
        "id": "bC34khYN_sgr"
      },
      "execution_count": null,
      "outputs": []
    },
    {
      "cell_type": "code",
      "source": [
        "import tensorflow.keras.utils as ku\n",
        "\n",
        "y_train_onehot = ku.to_categorical(y_train)"
      ],
      "metadata": {
        "id": "8nVQSeHs_3K2"
      },
      "execution_count": null,
      "outputs": []
    },
    {
      "cell_type": "code",
      "source": [
        "mobilenet_tripletloss_dict={}"
      ],
      "metadata": {
        "id": "NcawDNrQAJZX"
      },
      "execution_count": null,
      "outputs": []
    },
    {
      "cell_type": "code",
      "source": [
        "encoder = create_encoder()\n",
        "encoder_with_projection_head = add_projection_head(encoder)\n",
        "encoder_with_projection_head.compile(\n",
        "    optimizer=keras.optimizers.Adam(learning_rate),\n",
        "    loss=triplet_loss,\n",
        ")\n",
        "encoder_with_projection_head.summary()\n",
        "\n",
        "history = encoder_with_projection_head.fit(\n",
        "    x=x_train, y=y_train_onehot, batch_size=batch_size, epochs=50, callbacks=callbacks1\n",
        ")\n",
        "\n",
        "loss_dict = {}\n",
        "for i, loss in enumerate(loss_history.losses):\n",
        "    mobilenet_tripletloss_dict[i+1] = loss"
      ],
      "metadata": {
        "colab": {
          "base_uri": "https://localhost:8080/"
        },
        "id": "4kye9iq__vY2",
        "outputId": "a14649b8-6eb8-45b5-a4da-e6b2b54541bc"
      },
      "execution_count": null,
      "outputs": [
        {
          "output_type": "stream",
          "name": "stdout",
          "text": [
            "Model: \"MobileNetV2-encoder_with_projection-head\"\n",
            "_________________________________________________________________\n",
            " Layer (type)                Output Shape              Param #   \n",
            "=================================================================\n",
            " input_9 (InputLayer)        [(None, 110, 110, 3)]     0         \n",
            "                                                                 \n",
            " mobilenet-encoder (Function  (None, 1280)             2257991   \n",
            " al)                                                             \n",
            "                                                                 \n",
            " dense_3 (Dense)             (None, 128)               163968    \n",
            "                                                                 \n",
            "=================================================================\n",
            "Total params: 2,421,959\n",
            "Trainable params: 2,387,840\n",
            "Non-trainable params: 34,119\n",
            "_________________________________________________________________\n",
            "Epoch 1/50\n",
            "567/567 [==============================] - 55s 45ms/step - loss: 0.8180\n",
            "Epoch 2/50\n",
            "567/567 [==============================] - 25s 45ms/step - loss: 0.2820\n",
            "Epoch 3/50\n",
            "567/567 [==============================] - 25s 45ms/step - loss: 0.2467\n",
            "Epoch 4/50\n",
            "567/567 [==============================] - 29s 51ms/step - loss: 0.2289\n",
            "Epoch 5/50\n",
            "567/567 [==============================] - 26s 45ms/step - loss: 0.2040\n",
            "Epoch 6/50\n",
            "567/567 [==============================] - 25s 44ms/step - loss: 0.2008\n",
            "Epoch 7/50\n",
            "567/567 [==============================] - 26s 47ms/step - loss: 0.2075\n",
            "Epoch 8/50\n",
            "567/567 [==============================] - 25s 44ms/step - loss: 0.2903\n",
            "Epoch 9/50\n",
            "567/567 [==============================] - 25s 44ms/step - loss: 0.2002\n",
            "Epoch 10/50\n",
            "567/567 [==============================] - 24s 43ms/step - loss: 0.2449\n",
            "Epoch 11/50\n",
            "567/567 [==============================] - 24s 42ms/step - loss: 0.2002\n",
            "Epoch 12/50\n",
            "567/567 [==============================] - 24s 43ms/step - loss: 0.2045\n",
            "Epoch 13/50\n",
            "567/567 [==============================] - 25s 44ms/step - loss: 0.2000\n",
            "Epoch 14/50\n",
            "567/567 [==============================] - 25s 43ms/step - loss: 0.2005\n",
            "Epoch 15/50\n",
            "567/567 [==============================] - 24s 43ms/step - loss: 0.2013\n",
            "Epoch 16/50\n",
            "567/567 [==============================] - 24s 43ms/step - loss: 0.2000\n",
            "Epoch 17/50\n",
            "567/567 [==============================] - 24s 42ms/step - loss: 0.2000\n",
            "Epoch 18/50\n",
            "567/567 [==============================] - 25s 43ms/step - loss: 0.2000\n",
            "Epoch 19/50\n",
            "567/567 [==============================] - 25s 44ms/step - loss: 0.2000\n",
            "Epoch 20/50\n",
            "567/567 [==============================] - 24s 43ms/step - loss: 0.2000\n",
            "Epoch 21/50\n",
            "567/567 [==============================] - 25s 43ms/step - loss: 0.2771\n",
            "Epoch 22/50\n",
            "567/567 [==============================] - 24s 42ms/step - loss: 0.2506\n",
            "Epoch 23/50\n",
            "567/567 [==============================] - 24s 43ms/step - loss: 0.2000\n",
            "Epoch 24/50\n",
            "567/567 [==============================] - 25s 43ms/step - loss: 0.2000\n",
            "Epoch 25/50\n",
            "567/567 [==============================] - 24s 43ms/step - loss: 0.2000\n",
            "Epoch 26/50\n",
            "567/567 [==============================] - 25s 43ms/step - loss: 0.2000\n",
            "Epoch 27/50\n",
            "567/567 [==============================] - 24s 43ms/step - loss: 0.2000\n",
            "Epoch 28/50\n",
            "567/567 [==============================] - 24s 43ms/step - loss: 0.2000\n",
            "Epoch 29/50\n",
            "567/567 [==============================] - 25s 45ms/step - loss: 0.2000\n",
            "Epoch 30/50\n",
            "567/567 [==============================] - 25s 44ms/step - loss: 0.2000\n",
            "Epoch 31/50\n",
            "567/567 [==============================] - 25s 44ms/step - loss: 0.2000\n",
            "Epoch 32/50\n",
            "567/567 [==============================] - 25s 44ms/step - loss: 0.2000\n",
            "Epoch 33/50\n",
            "567/567 [==============================] - 25s 44ms/step - loss: 0.2000\n",
            "Epoch 34/50\n",
            "567/567 [==============================] - 26s 46ms/step - loss: 0.2000\n",
            "Epoch 35/50\n",
            "567/567 [==============================] - 24s 43ms/step - loss: 0.2000\n",
            "Epoch 36/50\n",
            "567/567 [==============================] - 26s 46ms/step - loss: 0.2000\n",
            "Epoch 37/50\n",
            "567/567 [==============================] - 26s 46ms/step - loss: 0.2000\n",
            "Epoch 38/50\n",
            "567/567 [==============================] - 27s 47ms/step - loss: 0.2000\n",
            "Epoch 39/50\n",
            "567/567 [==============================] - 27s 47ms/step - loss: 0.2000\n",
            "Epoch 40/50\n",
            "567/567 [==============================] - 26s 46ms/step - loss: 0.2000\n",
            "Epoch 41/50\n",
            "567/567 [==============================] - 26s 46ms/step - loss: 0.2000\n",
            "Epoch 42/50\n",
            "567/567 [==============================] - 25s 45ms/step - loss: 0.2000\n",
            "Epoch 43/50\n",
            "567/567 [==============================] - 25s 45ms/step - loss: 0.2012\n",
            "Epoch 44/50\n",
            "567/567 [==============================] - 25s 43ms/step - loss: 0.2000\n",
            "Epoch 45/50\n",
            "567/567 [==============================] - 24s 43ms/step - loss: 0.2000\n",
            "Epoch 46/50\n",
            "567/567 [==============================] - 25s 44ms/step - loss: 0.2000\n",
            "Epoch 47/50\n",
            "567/567 [==============================] - 25s 43ms/step - loss: 0.2000\n",
            "Epoch 48/50\n",
            "567/567 [==============================] - 26s 45ms/step - loss: 0.2000\n",
            "Epoch 49/50\n",
            "567/567 [==============================] - 25s 44ms/step - loss: 0.2000\n",
            "Epoch 50/50\n",
            "567/567 [==============================] - 25s 44ms/step - loss: 0.2000\n"
          ]
        }
      ]
    },
    {
      "cell_type": "code",
      "source": [
        "encoder_with_projection_head.save(save_path + 'losstriplet_mobilenet.h5')"
      ],
      "metadata": {
        "id": "H2xt0vxMAXng"
      },
      "execution_count": null,
      "outputs": []
    },
    {
      "cell_type": "code",
      "source": [
        "import pickle\n",
        "\n",
        "with open('/content/drive/MyDrive/ThesisNewApproach/Saved/highepoch/Loss/mobilenet_tripletloss_dict.pkl', 'wb') as f:\n",
        "    pickle.dump(mobilenet_tripletloss_dict, f)\n"
      ],
      "metadata": {
        "id": "BhwNIEYJAcDx"
      },
      "execution_count": null,
      "outputs": []
    },
    {
      "cell_type": "code",
      "source": [
        "with open('/content/drive/MyDrive/ThesisNewApproach/Saved/highepoch/Loss/mobilenet_tripletloss_dict.pkl', 'rb') as f:\n",
        "    mobilenet_tripletloss_dict = pickle.load(f)\n",
        "\n",
        "print(\"Loss values:\")\n",
        "for epoch, loss in mobilenet_tripletloss_dict.items():\n",
        "    print(f\"Epoch {epoch}: {loss}\")"
      ],
      "metadata": {
        "colab": {
          "base_uri": "https://localhost:8080/"
        },
        "id": "utzV8cCoAi3f",
        "outputId": "e3971477-e9ef-45ad-d126-b0834b03da1f"
      },
      "execution_count": null,
      "outputs": [
        {
          "output_type": "stream",
          "name": "stdout",
          "text": [
            "Loss values:\n",
            "Epoch 1: 0.8179699182510376\n",
            "Epoch 2: 0.2819502651691437\n",
            "Epoch 3: 0.24674129486083984\n",
            "Epoch 4: 0.22892218828201294\n",
            "Epoch 5: 0.20403681695461273\n",
            "Epoch 6: 0.20078954100608826\n",
            "Epoch 7: 0.20750834047794342\n",
            "Epoch 8: 0.2902531921863556\n",
            "Epoch 9: 0.20019471645355225\n",
            "Epoch 10: 0.24486026167869568\n",
            "Epoch 11: 0.20020058751106262\n",
            "Epoch 12: 0.2045135796070099\n",
            "Epoch 13: 0.2000134289264679\n",
            "Epoch 14: 0.20051968097686768\n",
            "Epoch 15: 0.2012549787759781\n",
            "Epoch 16: 0.19999916851520538\n",
            "Epoch 17: 0.19999948143959045\n",
            "Epoch 18: 0.19999316334724426\n",
            "Epoch 19: 0.19999897480010986\n",
            "Epoch 20: 0.20000159740447998\n",
            "Epoch 21: 0.2770814299583435\n",
            "Epoch 22: 0.25064972043037415\n",
            "Epoch 23: 0.19999897480010986\n",
            "Epoch 24: 0.19999897480010986\n",
            "Epoch 25: 0.19999265670776367\n",
            "Epoch 26: 0.19999897480010986\n",
            "Epoch 27: 0.19999855756759644\n",
            "Epoch 28: 0.20000098645687103\n",
            "Epoch 29: 0.20003007352352142\n",
            "Epoch 30: 0.19999897480010986\n",
            "Epoch 31: 0.19999897480010986\n",
            "Epoch 32: 0.19999897480010986\n",
            "Epoch 33: 0.19999897480010986\n",
            "Epoch 34: 0.19999897480010986\n",
            "Epoch 35: 0.19999897480010986\n",
            "Epoch 36: 0.19999897480010986\n",
            "Epoch 37: 0.19999897480010986\n",
            "Epoch 38: 0.19999897480010986\n",
            "Epoch 39: 0.19999897480010986\n",
            "Epoch 40: 0.19999897480010986\n",
            "Epoch 41: 0.19999897480010986\n",
            "Epoch 42: 0.19999897480010986\n",
            "Epoch 43: 0.20121176540851593\n",
            "Epoch 44: 0.19999897480010986\n",
            "Epoch 45: 0.19999897480010986\n",
            "Epoch 46: 0.19999897480010986\n",
            "Epoch 47: 0.19999897480010986\n",
            "Epoch 48: 0.19999897480010986\n",
            "Epoch 49: 0.19999897480010986\n",
            "Epoch 50: 0.19999897480010986\n"
          ]
        }
      ]
    },
    {
      "cell_type": "code",
      "source": [
        "classifier = create_classifier(encoder, trainable=False)\n",
        "\n",
        "history = classifier.fit(x=x_train, y=y_train, batch_size=batch_size, epochs=num_epochs,callbacks=callbacks)"
      ],
      "metadata": {
        "colab": {
          "base_uri": "https://localhost:8080/"
        },
        "id": "01iTiBfGAoQ2",
        "outputId": "e14bd21e-969a-4f62-f689-6c3ced2eca55"
      },
      "execution_count": null,
      "outputs": [
        {
          "output_type": "stream",
          "name": "stdout",
          "text": [
            "Epoch 1/50\n",
            "567/567 [==============================] - ETA: 0s - loss: 1.6944 - sparse_categorical_accuracy: 0.2306\n",
            "Epoch 1: sparse_categorical_accuracy did not improve from 0.32677\n",
            "567/567 [==============================] - 12s 16ms/step - loss: 1.6944 - sparse_categorical_accuracy: 0.2306 - lr: 1.0000e-04\n",
            "Epoch 2/50\n",
            "567/567 [==============================] - ETA: 0s - loss: 1.6063 - sparse_categorical_accuracy: 0.2507\n",
            "Epoch 2: sparse_categorical_accuracy did not improve from 0.32677\n",
            "567/567 [==============================] - 8s 14ms/step - loss: 1.6063 - sparse_categorical_accuracy: 0.2507 - lr: 1.0000e-04\n",
            "Epoch 3/50\n",
            "565/567 [============================>.] - ETA: 0s - loss: 1.5922 - sparse_categorical_accuracy: 0.2628\n",
            "Epoch 3: sparse_categorical_accuracy did not improve from 0.32677\n",
            "567/567 [==============================] - 9s 16ms/step - loss: 1.5924 - sparse_categorical_accuracy: 0.2627 - lr: 1.0000e-04\n",
            "Epoch 4/50\n",
            "566/567 [============================>.] - ETA: 0s - loss: 1.5798 - sparse_categorical_accuracy: 0.2725\n",
            "Epoch 4: sparse_categorical_accuracy did not improve from 0.32677\n",
            "567/567 [==============================] - 9s 15ms/step - loss: 1.5798 - sparse_categorical_accuracy: 0.2725 - lr: 1.0000e-04\n",
            "Epoch 5/50\n",
            "567/567 [==============================] - ETA: 0s - loss: 1.5754 - sparse_categorical_accuracy: 0.2775\n",
            "Epoch 5: sparse_categorical_accuracy did not improve from 0.32677\n",
            "567/567 [==============================] - 8s 14ms/step - loss: 1.5754 - sparse_categorical_accuracy: 0.2775 - lr: 1.0000e-04\n",
            "Epoch 6/50\n",
            "567/567 [==============================] - ETA: 0s - loss: 1.5664 - sparse_categorical_accuracy: 0.2867\n",
            "Epoch 6: sparse_categorical_accuracy did not improve from 0.32677\n",
            "567/567 [==============================] - 9s 16ms/step - loss: 1.5664 - sparse_categorical_accuracy: 0.2867 - lr: 1.0000e-04\n",
            "Epoch 7/50\n",
            "567/567 [==============================] - ETA: 0s - loss: 1.5616 - sparse_categorical_accuracy: 0.2945\n",
            "Epoch 7: sparse_categorical_accuracy did not improve from 0.32677\n",
            "567/567 [==============================] - 9s 15ms/step - loss: 1.5616 - sparse_categorical_accuracy: 0.2945 - lr: 1.0000e-04\n",
            "Epoch 8/50\n",
            "567/567 [==============================] - ETA: 0s - loss: 1.5594 - sparse_categorical_accuracy: 0.2924\n",
            "Epoch 8: sparse_categorical_accuracy did not improve from 0.32677\n",
            "567/567 [==============================] - 8s 15ms/step - loss: 1.5594 - sparse_categorical_accuracy: 0.2924 - lr: 1.0000e-04\n",
            "Epoch 9/50\n",
            "565/567 [============================>.] - ETA: 0s - loss: 1.5555 - sparse_categorical_accuracy: 0.2992\n",
            "Epoch 9: sparse_categorical_accuracy did not improve from 0.32677\n",
            "567/567 [==============================] - 9s 15ms/step - loss: 1.5555 - sparse_categorical_accuracy: 0.2990 - lr: 1.0000e-04\n",
            "Epoch 10/50\n",
            "567/567 [==============================] - ETA: 0s - loss: 1.5499 - sparse_categorical_accuracy: 0.3036\n",
            "Epoch 10: sparse_categorical_accuracy did not improve from 0.32677\n",
            "567/567 [==============================] - 8s 14ms/step - loss: 1.5499 - sparse_categorical_accuracy: 0.3036 - lr: 1.0000e-04\n",
            "Epoch 11/50\n",
            "567/567 [==============================] - ETA: 0s - loss: 1.5441 - sparse_categorical_accuracy: 0.3054\n",
            "Epoch 11: sparse_categorical_accuracy did not improve from 0.32677\n",
            "567/567 [==============================] - 9s 15ms/step - loss: 1.5441 - sparse_categorical_accuracy: 0.3054 - lr: 1.0000e-04\n",
            "Epoch 12/50\n",
            "567/567 [==============================] - ETA: 0s - loss: 1.5404 - sparse_categorical_accuracy: 0.3153\n",
            "Epoch 12: sparse_categorical_accuracy did not improve from 0.32677\n",
            "567/567 [==============================] - 9s 16ms/step - loss: 1.5404 - sparse_categorical_accuracy: 0.3153 - lr: 1.0000e-04\n",
            "Epoch 13/50\n",
            "567/567 [==============================] - ETA: 0s - loss: 1.5380 - sparse_categorical_accuracy: 0.3108\n",
            "Epoch 13: sparse_categorical_accuracy did not improve from 0.32677\n",
            "567/567 [==============================] - 8s 15ms/step - loss: 1.5380 - sparse_categorical_accuracy: 0.3108 - lr: 1.0000e-04\n",
            "Epoch 14/50\n",
            "567/567 [==============================] - ETA: 0s - loss: 1.5328 - sparse_categorical_accuracy: 0.3174\n",
            "Epoch 14: sparse_categorical_accuracy did not improve from 0.32677\n",
            "567/567 [==============================] - 9s 16ms/step - loss: 1.5328 - sparse_categorical_accuracy: 0.3174 - lr: 1.0000e-04\n",
            "Epoch 15/50\n",
            "567/567 [==============================] - ETA: 0s - loss: 1.5364 - sparse_categorical_accuracy: 0.3166\n",
            "Epoch 15: sparse_categorical_accuracy did not improve from 0.32677\n",
            "567/567 [==============================] - 9s 15ms/step - loss: 1.5364 - sparse_categorical_accuracy: 0.3166 - lr: 1.0000e-04\n",
            "Epoch 16/50\n",
            "567/567 [==============================] - ETA: 0s - loss: 1.5289 - sparse_categorical_accuracy: 0.3265\n",
            "Epoch 16: sparse_categorical_accuracy did not improve from 0.32677\n",
            "567/567 [==============================] - 8s 15ms/step - loss: 1.5289 - sparse_categorical_accuracy: 0.3265 - lr: 1.0000e-04\n",
            "Epoch 17/50\n",
            "567/567 [==============================] - ETA: 0s - loss: 1.5304 - sparse_categorical_accuracy: 0.3239\n",
            "Epoch 17: sparse_categorical_accuracy did not improve from 0.32677\n",
            "567/567 [==============================] - 9s 16ms/step - loss: 1.5304 - sparse_categorical_accuracy: 0.3239 - lr: 1.0000e-04\n",
            "Epoch 18/50\n",
            "567/567 [==============================] - ETA: 0s - loss: 1.5282 - sparse_categorical_accuracy: 0.3248\n",
            "Epoch 18: sparse_categorical_accuracy did not improve from 0.32677\n",
            "567/567 [==============================] - 9s 15ms/step - loss: 1.5282 - sparse_categorical_accuracy: 0.3248 - lr: 1.0000e-04\n",
            "Epoch 19/50\n",
            "567/567 [==============================] - ETA: 0s - loss: 1.5303 - sparse_categorical_accuracy: 0.3220\n",
            "Epoch 19: sparse_categorical_accuracy did not improve from 0.32677\n",
            "567/567 [==============================] - 8s 15ms/step - loss: 1.5303 - sparse_categorical_accuracy: 0.3220 - lr: 1.0000e-04\n",
            "Epoch 20/50\n",
            "567/567 [==============================] - ETA: 0s - loss: 1.5285 - sparse_categorical_accuracy: 0.3266\n",
            "Epoch 20: sparse_categorical_accuracy did not improve from 0.32677\n",
            "567/567 [==============================] - 9s 16ms/step - loss: 1.5285 - sparse_categorical_accuracy: 0.3266 - lr: 1.0000e-04\n",
            "Epoch 21/50\n",
            "567/567 [==============================] - ETA: 0s - loss: 1.5210 - sparse_categorical_accuracy: 0.3336\n",
            "Epoch 21: sparse_categorical_accuracy improved from 0.32677 to 0.33355, saving model to saved_models/baseline_model_mobilenet.hdf5\n",
            "567/567 [==============================] - 9s 16ms/step - loss: 1.5210 - sparse_categorical_accuracy: 0.3336 - lr: 2.0000e-05\n",
            "Epoch 22/50\n",
            "567/567 [==============================] - ETA: 0s - loss: 1.5196 - sparse_categorical_accuracy: 0.3311\n",
            "Epoch 22: sparse_categorical_accuracy did not improve from 0.33355\n",
            "567/567 [==============================] - 9s 16ms/step - loss: 1.5196 - sparse_categorical_accuracy: 0.3311 - lr: 2.0000e-05\n",
            "Epoch 23/50\n",
            "565/567 [============================>.] - ETA: 0s - loss: 1.5187 - sparse_categorical_accuracy: 0.3287\n",
            "Epoch 23: sparse_categorical_accuracy did not improve from 0.33355\n",
            "567/567 [==============================] - 9s 15ms/step - loss: 1.5187 - sparse_categorical_accuracy: 0.3286 - lr: 2.0000e-05\n",
            "Epoch 24/50\n",
            "567/567 [==============================] - ETA: 0s - loss: 1.5155 - sparse_categorical_accuracy: 0.3371\n",
            "Epoch 24: sparse_categorical_accuracy improved from 0.33355 to 0.33709, saving model to saved_models/baseline_model_mobilenet.hdf5\n",
            "567/567 [==============================] - 9s 15ms/step - loss: 1.5155 - sparse_categorical_accuracy: 0.3371 - lr: 2.0000e-05\n",
            "Epoch 25/50\n",
            "567/567 [==============================] - ETA: 0s - loss: 1.5175 - sparse_categorical_accuracy: 0.3345\n",
            "Epoch 25: sparse_categorical_accuracy did not improve from 0.33709\n",
            "567/567 [==============================] - 9s 15ms/step - loss: 1.5175 - sparse_categorical_accuracy: 0.3345 - lr: 2.0000e-05\n",
            "Epoch 26/50\n",
            "567/567 [==============================] - ETA: 0s - loss: 1.5208 - sparse_categorical_accuracy: 0.3297\n",
            "Epoch 26: sparse_categorical_accuracy did not improve from 0.33709\n",
            "567/567 [==============================] - 9s 16ms/step - loss: 1.5208 - sparse_categorical_accuracy: 0.3297 - lr: 2.0000e-05\n",
            "Epoch 27/50\n",
            "565/567 [============================>.] - ETA: 0s - loss: 1.5133 - sparse_categorical_accuracy: 0.3386\n",
            "Epoch 27: sparse_categorical_accuracy improved from 0.33709 to 0.33813, saving model to saved_models/baseline_model_mobilenet.hdf5\n",
            "567/567 [==============================] - 9s 15ms/step - loss: 1.5135 - sparse_categorical_accuracy: 0.3381 - lr: 1.0000e-05\n",
            "Epoch 28/50\n",
            "567/567 [==============================] - ETA: 0s - loss: 1.5129 - sparse_categorical_accuracy: 0.3374\n",
            "Epoch 28: sparse_categorical_accuracy did not improve from 0.33813\n",
            "567/567 [==============================] - 9s 16ms/step - loss: 1.5129 - sparse_categorical_accuracy: 0.3374 - lr: 1.0000e-05\n",
            "Epoch 29/50\n",
            "567/567 [==============================] - ETA: 0s - loss: 1.5106 - sparse_categorical_accuracy: 0.3344\n",
            "Epoch 29: sparse_categorical_accuracy did not improve from 0.33813\n",
            "567/567 [==============================] - 9s 16ms/step - loss: 1.5106 - sparse_categorical_accuracy: 0.3344 - lr: 1.0000e-05\n",
            "Epoch 30/50\n",
            "567/567 [==============================] - ETA: 0s - loss: 1.5146 - sparse_categorical_accuracy: 0.3363\n",
            "Epoch 30: sparse_categorical_accuracy did not improve from 0.33813\n",
            "567/567 [==============================] - 8s 15ms/step - loss: 1.5146 - sparse_categorical_accuracy: 0.3363 - lr: 1.0000e-05\n",
            "Epoch 31/50\n",
            "567/567 [==============================] - ETA: 0s - loss: 1.5189 - sparse_categorical_accuracy: 0.3318\n",
            "Epoch 31: sparse_categorical_accuracy did not improve from 0.33813\n",
            "567/567 [==============================] - 9s 16ms/step - loss: 1.5189 - sparse_categorical_accuracy: 0.3318 - lr: 1.0000e-05\n",
            "Epoch 32/50\n",
            "567/567 [==============================] - ETA: 0s - loss: 1.5125 - sparse_categorical_accuracy: 0.3407\n",
            "Epoch 32: sparse_categorical_accuracy improved from 0.33813 to 0.34067, saving model to saved_models/baseline_model_mobilenet.hdf5\n",
            "567/567 [==============================] - 9s 16ms/step - loss: 1.5125 - sparse_categorical_accuracy: 0.3407 - lr: 1.0000e-05\n",
            "Epoch 32: early stopping\n"
          ]
        }
      ]
    },
    {
      "cell_type": "code",
      "source": [
        "classifier.save(save_path + 'Contrastive_triplet_mobilenet.h5')"
      ],
      "metadata": {
        "id": "VxvSgbNjAr5U"
      },
      "execution_count": null,
      "outputs": []
    },
    {
      "cell_type": "code",
      "source": [
        "triplet_mobilenet=load_model(save_path + 'Contrastive_triplet_mobilenet.h5')"
      ],
      "metadata": {
        "id": "x3cSJCwWAtyN"
      },
      "execution_count": null,
      "outputs": []
    },
    {
      "cell_type": "code",
      "source": [
        "accuracy = triplet_mobilenet.evaluate(x_test, y_test)[1]\n",
        "print(f\"Test accuracy: {round(accuracy * 100, 2)}%\")"
      ],
      "metadata": {
        "colab": {
          "base_uri": "https://localhost:8080/"
        },
        "id": "1xlt1uYdAvx6",
        "outputId": "f5ffc26a-1526-4645-cd91-09151b6f8283"
      },
      "execution_count": null,
      "outputs": [
        {
          "output_type": "stream",
          "name": "stdout",
          "text": [
            "26/26 [==============================] - 2s 18ms/step - loss: 1.3654 - sparse_categorical_accuracy: 0.5616\n",
            "Test accuracy: 56.16%\n"
          ]
        }
      ]
    },
    {
      "cell_type": "code",
      "source": [
        "pred = triplet_mobilenet.predict(x_test)\n",
        "cancer_classes=np.unique(y_test)\n",
        "y_pred = np.argmax(pred, axis=1)\n",
        "confusion_mtx = confusion_matrix(y_pred, y_test)\n",
        "f,ax = plt.subplots(figsize=(12, 12))\n",
        "sns.heatmap(confusion_mtx, annot=True, \n",
        "            linewidths=0.01,\n",
        "            linecolor=\"white\", \n",
        "            fmt= '.1f',ax=ax,)\n",
        "sns.color_palette(\"rocket\", as_cmap=True)\n",
        "\n",
        "plt.xlabel(\"Predicted Label\")\n",
        "plt.ylabel(\"True Label\")\n",
        "ax.xaxis.set_ticklabels(cancer_classes)\n",
        "ax.yaxis.set_ticklabels(cancer_classes)\n",
        "plt.title(\"Confusion Matrix\")\n",
        "plt.show()"
      ],
      "metadata": {
        "colab": {
          "base_uri": "https://localhost:8080/",
          "height": 756
        },
        "id": "wIK-I7XeAxUs",
        "outputId": "a63b5501-69b0-4aa2-8a01-daf04e7683d2"
      },
      "execution_count": null,
      "outputs": [
        {
          "output_type": "stream",
          "name": "stdout",
          "text": [
            "26/26 [==============================] - 1s 15ms/step\n"
          ]
        },
        {
          "output_type": "display_data",
          "data": {
            "text/plain": [
              "<Figure size 1200x1200 with 2 Axes>"
            ],
            "image/png": "[encoded data removed]"
          },
          "metadata": {}
        }
      ]
    },
    {
      "cell_type": "code",
      "source": [
        "report_npair = classification_report(y_test, y_pred, target_names=cancer_classes, output_dict=True)\n",
        "df2 = pd.DataFrame(report_npair).transpose()\n",
        "df2"
      ],
      "metadata": {
        "colab": {
          "base_uri": "https://localhost:8080/",
          "height": 300
        },
        "id": "FKIPYWe1Ay3E",
        "outputId": "8bd0f26e-7bc8-4163-8746-f2909759dbe4"
      },
      "execution_count": null,
      "outputs": [
        {
          "output_type": "execute_result",
          "data": {
            "text/plain": [
              "              precision    recall  f1-score     support\n",
              "0              0.696970  0.705521  0.701220  163.000000\n",
              "1              0.403727  0.393939  0.398773  165.000000\n",
              "2              0.549708  0.591195  0.569697  159.000000\n",
              "3              0.775000  0.588608  0.669065  158.000000\n",
              "4              0.456410  0.532934  0.491713  167.000000\n",
              "accuracy       0.561576  0.561576  0.561576    0.561576\n",
              "macro avg      0.576363  0.562440  0.566093  812.000000\n",
              "weighted avg   0.574255  0.561576  0.564663  812.000000"
            ],
            "text/html": [
              "\n",
              "  <div id=\"df-d6e7ebb2-7315-4676-b9e5-f5b8dfa1cb66\">\n",
              "    <div class=\"colab-df-container\">\n",
              "      <div>\n",
              "<style scoped>\n",
              "    .dataframe tbody tr th:only-of-type {\n",
              "        vertical-align: middle;\n",
              "    }\n",
              "\n",
              "    .dataframe tbody tr th {\n",
              "        vertical-align: top;\n",
              "    }\n",
              "\n",
              "    .dataframe thead th {\n",
              "        text-align: right;\n",
              "    }\n",
              "</style>\n",
              "<table border=\"1\" class=\"dataframe\">\n",
              "  <thead>\n",
              "    <tr style=\"text-align: right;\">\n",
              "      <th></th>\n",
              "      <th>precision</th>\n",
              "      <th>recall</th>\n",
              "      <th>f1-score</th>\n",
              "      <th>support</th>\n",
              "    </tr>\n",
              "  </thead>\n",
              "  <tbody>\n",
              "    <tr>\n",
              "      <th>0</th>\n",
              "      <td>0.696970</td>\n",
              "      <td>0.705521</td>\n",
              "      <td>0.701220</td>\n",
              "      <td>163.000000</td>\n",
              "    </tr>\n",
              "    <tr>\n",
              "      <th>1</th>\n",
              "      <td>0.403727</td>\n",
              "      <td>0.393939</td>\n",
              "      <td>0.398773</td>\n",
              "      <td>165.000000</td>\n",
              "    </tr>\n",
              "    <tr>\n",
              "      <th>2</th>\n",
              "      <td>0.549708</td>\n",
              "      <td>0.591195</td>\n",
              "      <td>0.569697</td>\n",
              "      <td>159.000000</td>\n",
              "    </tr>\n",
              "    <tr>\n",
              "      <th>3</th>\n",
              "      <td>0.775000</td>\n",
              "      <td>0.588608</td>\n",
              "      <td>0.669065</td>\n",
              "      <td>158.000000</td>\n",
              "    </tr>\n",
              "    <tr>\n",
              "      <th>4</th>\n",
              "      <td>0.456410</td>\n",
              "      <td>0.532934</td>\n",
              "      <td>0.491713</td>\n",
              "      <td>167.000000</td>\n",
              "    </tr>\n",
              "    <tr>\n",
              "      <th>accuracy</th>\n",
              "      <td>0.561576</td>\n",
              "      <td>0.561576</td>\n",
              "      <td>0.561576</td>\n",
              "      <td>0.561576</td>\n",
              "    </tr>\n",
              "    <tr>\n",
              "      <th>macro avg</th>\n",
              "      <td>0.576363</td>\n",
              "      <td>0.562440</td>\n",
              "      <td>0.566093</td>\n",
              "      <td>812.000000</td>\n",
              "    </tr>\n",
              "    <tr>\n",
              "      <th>weighted avg</th>\n",
              "      <td>0.574255</td>\n",
              "      <td>0.561576</td>\n",
              "      <td>0.564663</td>\n",
              "      <td>812.000000</td>\n",
              "    </tr>\n",
              "  </tbody>\n",
              "</table>\n",
              "</div>\n",
              "      <button class=\"colab-df-convert\" onclick=\"convertToInteractive('df-d6e7ebb2-7315-4676-b9e5-f5b8dfa1cb66')\"\n",
              "              title=\"Convert this dataframe to an interactive table.\"\n",
              "              style=\"display:none;\">\n",
              "        \n",
              "  <svg xmlns=\"http://www.w3.org/2000/svg\" height=\"24px\"viewBox=\"0 0 24 24\"\n",
              "       width=\"24px\">\n",
              "    <path d=\"M0 0h24v24H0V0z\" fill=\"none\"/>\n",
              "    <path d=\"M18.56 5.44l.94 2.06.94-2.06 2.06-.94-2.06-.94-.94-2.06-.94 2.06-2.06.94zm-11 1L8.5 8.5l.94-2.06 2.06-.94-2.06-.94L8.5 2.5l-.94 2.06-2.06.94zm10 10l.94 2.06.94-2.06 2.06-.94-2.06-.94-.94-2.06-.94 2.06-2.06.94z\"/><path d=\"M17.41 7.96l-1.37-1.37c-.4-.4-.92-.59-1.43-.59-.52 0-1.04.2-1.43.59L10.3 9.45l-7.72 7.72c-.78.78-.78 2.05 0 2.83L4 21.41c.39.39.9.59 1.41.59.51 0 1.02-.2 1.41-.59l7.78-7.78 2.81-2.81c.8-.78.8-2.07 0-2.86zM5.41 20L4 18.59l7.72-7.72 1.47 1.35L5.41 20z\"/>\n",
              "  </svg>\n",
              "      </button>\n",
              "      \n",
              "  <style>\n",
              "    .colab-df-container {\n",
              "      display:flex;\n",
              "      flex-wrap:wrap;\n",
              "      gap: 12px;\n",
              "    }\n",
              "\n",
              "    .colab-df-convert {\n",
              "      background-color: #E8F0FE;\n",
              "      border: none;\n",
              "      border-radius: 50%;\n",
              "      cursor: pointer;\n",
              "      display: none;\n",
              "      fill: #1967D2;\n",
              "      height: 32px;\n",
              "      padding: 0 0 0 0;\n",
              "      width: 32px;\n",
              "    }\n",
              "\n",
              "    .colab-df-convert:hover {\n",
              "      background-color: #E2EBFA;\n",
              "      box-shadow: 0px 1px 2px rgba(60, 64, 67, 0.3), 0px 1px 3px 1px rgba(60, 64, 67, 0.15);\n",
              "      fill: #174EA6;\n",
              "    }\n",
              "\n",
              "    [theme=dark] .colab-df-convert {\n",
              "      background-color: #3B4455;\n",
              "      fill: #D2E3FC;\n",
              "    }\n",
              "\n",
              "    [theme=dark] .colab-df-convert:hover {\n",
              "      background-color: #434B5C;\n",
              "      box-shadow: 0px 1px 3px 1px rgba(0, 0, 0, 0.15);\n",
              "      filter: drop-shadow(0px 1px 2px rgba(0, 0, 0, 0.3));\n",
              "      fill: #FFFFFF;\n",
              "    }\n",
              "  </style>\n",
              "\n",
              "      <script>\n",
              "        const buttonEl =\n",
              "          document.querySelector('#df-d6e7ebb2-7315-4676-b9e5-f5b8dfa1cb66 button.colab-df-convert');\n",
              "        buttonEl.style.display =\n",
              "          google.colab.kernel.accessAllowed ? 'block' : 'none';\n",
              "\n",
              "        async function convertToInteractive(key) {\n",
              "          const element = document.querySelector('#df-d6e7ebb2-7315-4676-b9e5-f5b8dfa1cb66');\n",
              "          const dataTable =\n",
              "            await google.colab.kernel.invokeFunction('convertToInteractive',\n",
              "                                                     [key], {});\n",
              "          if (!dataTable) return;\n",
              "\n",
              "          const docLinkHtml = 'Like what you see? Visit the ' +\n",
              "            '<a target=\"_blank\" href=https://colab.research.google.com/notebooks/data_table.ipynb>data table notebook</a>'\n",
              "            + ' to learn more about interactive tables.';\n",
              "          element.innerHTML = '';\n",
              "          dataTable['output_type'] = 'display_data';\n",
              "          await google.colab.output.renderOutput(dataTable, element);\n",
              "          const docLink = document.createElement('div');\n",
              "          docLink.innerHTML = docLinkHtml;\n",
              "          element.appendChild(docLink);\n",
              "        }\n",
              "      </script>\n",
              "    </div>\n",
              "  </div>\n",
              "  "
            ]
          },
          "metadata": {},
          "execution_count": 44
        }
      ]
    }
  ],
  "metadata": {
    "accelerator": "GPU",
    "colab": {
      "machine_shape": "hm",
      "provenance": [],
      "toc_visible": true,
      "gpuType": "T4"
    },
    "gpuClass": "standard",
    "kernelspec": {
      "display_name": "Python 3",
      "language": "python",
      "name": "python3"
    },
    "language_info": {
      "codemirror_mode": {
        "name": "ipython",
        "version": 3
      },
      "file_extension": ".py",
      "mimetype": "text/x-python",
      "name": "python",
      "nbconvert_exporter": "python",
      "pygments_lexer": "ipython3",
      "version": "3.10.10"
    }
  },
  "nbformat": 4,
  "nbformat_minor": 0
}