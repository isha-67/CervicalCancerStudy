{
  "cells": [
    {
      "cell_type": "code",
      "execution_count": null,
      "metadata": {
        "colab": {
          "base_uri": "https://localhost:8080/"
        },
        "id": "xpYVPHnrF2Z2",
        "outputId": "ecad30b8-80af-48c0-c905-45599a1b918a"
      },
      "outputs": [
        {
          "output_type": "stream",
          "name": "stdout",
          "text": [
            "2.12.0\n"
          ]
        }
      ],
      "source": [
        "import tensorflow as tf\n",
        "print(tf.__version__)"
      ]
    },
    {
      "cell_type": "code",
      "execution_count": null,
      "metadata": {
        "colab": {
          "base_uri": "https://localhost:8080/"
        },
        "id": "O4hKrNSvF23y",
        "outputId": "b5d4cf8a-e656-4266-f6ad-e0843576fada"
      },
      "outputs": [
        {
          "output_type": "stream",
          "name": "stdout",
          "text": [
            "Mounted at /content/drive\n"
          ]
        }
      ],
      "source": [
        "from google.colab import drive\n",
        "drive.mount('/content/drive')"
      ]
    },
    {
      "cell_type": "code",
      "execution_count": null,
      "metadata": {
        "colab": {
          "base_uri": "https://localhost:8080/"
        },
        "id": "RmTeqCG9F6V4",
        "outputId": "ec6e3fb2-c139-4af0-c5d8-8db65c5469fc"
      },
      "outputs": [
        {
          "output_type": "stream",
          "name": "stdout",
          "text": [
            "Looking in indexes: https://pypi.org/simple, https://us-python.pkg.dev/colab-wheels/public/simple/\n",
            "Collecting tensorflow-addons\n",
            "  Downloading tensorflow_addons-0.20.0-cp310-cp310-manylinux_2_17_x86_64.manylinux2014_x86_64.whl (591 kB)\n",
            "\u001b[2K     \u001b[90m━━━━━━━━━━━━━━━━━━━━━━━━━━━━━━━━━━━━━━\u001b[0m \u001b[32m591.0/591.0 kB\u001b[0m \u001b[31m21.5 MB/s\u001b[0m eta \u001b[36m0:00:00\u001b[0m\n",
            "\u001b[?25hRequirement already satisfied: packaging in /usr/local/lib/python3.10/dist-packages (from tensorflow-addons) (23.1)\n",
            "Collecting typeguard<3.0.0,>=2.7 (from tensorflow-addons)\n",
            "  Downloading typeguard-2.13.3-py3-none-any.whl (17 kB)\n",
            "Installing collected packages: typeguard, tensorflow-addons\n",
            "Successfully installed tensorflow-addons-0.20.0 typeguard-2.13.3\n"
          ]
        }
      ],
      "source": [
        "pip install tensorflow-addons"
      ]
    },
    {
      "cell_type": "code",
      "execution_count": null,
      "metadata": {
        "id": "UgD0aR8SHPHT"
      },
      "outputs": [],
      "source": [
        "save_path = '/content/drive/MyDrive/ThesisExperimentsFinal/Contrastive/HighEpoch/Densenet/'\n",
        "save_path1 = '/content/drive/MyDrive/ThesisExperimentsFinal/Contrastive/HighEpoch/Densenet/'"
      ]
    },
    {
      "cell_type": "code",
      "execution_count": null,
      "metadata": {
        "colab": {
          "base_uri": "https://localhost:8080/"
        },
        "id": "W22hw1WAF650",
        "outputId": "9119c62a-9458-4448-ccd9-d1911a4af66e"
      },
      "outputs": [
        {
          "output_type": "stream",
          "name": "stderr",
          "text": [
            "/usr/local/lib/python3.10/dist-packages/tensorflow_addons/utils/tfa_eol_msg.py:23: UserWarning: \n",
            "\n",
            "TensorFlow Addons (TFA) has ended development and introduction of new features.\n",
            "TFA has entered a minimal maintenance and release mode until a planned end of life in May 2024.\n",
            "Please modify downstream libraries to take dependencies from other repositories in our TensorFlow community (e.g. Keras, Keras-CV, and Keras-NLP). \n",
            "\n",
            "For more information see: https://github.com/tensorflow/addons/issues/2807 \n",
            "\n",
            "  warnings.warn(\n"
          ]
        }
      ],
      "source": [
        "from tensorflow.keras.layers import *\n",
        "from tensorflow.keras.models import *\n",
        "import tensorflow_datasets as tfds\n",
        "import matplotlib.pyplot as plt\n",
        "import numpy as np\n",
        "import time\n",
        "import cv2\n",
        "from tqdm.notebook import tqdm\n",
        "from zipfile import ZipFile\n",
        "from imutils import paths\n",
        "tf.random.set_seed(666)\n",
        "np.random.seed(666)\n",
        "\n",
        "tfds.disable_progress_bar()\n",
        "import tensorflow as tf\n",
        "import tensorflow_addons as tfa\n",
        "import numpy as np\n",
        "from tensorflow import keras\n",
        "from tensorflow.keras import layers"
      ]
    },
    {
      "cell_type": "code",
      "execution_count": null,
      "metadata": {
        "id": "w-S0jnxsFqfV"
      },
      "outputs": [],
      "source": [
        "import tensorflow as tf\n",
        "#import tensorflow_addons as tfa\n",
        "import pandas as pd\n",
        "import numpy as np\n",
        "import matplotlib.pyplot as plt\n",
        "import seaborn as sns\n",
        "%matplotlib inline\n",
        "import os\n",
        "import glob\n",
        "import shutil\n",
        "import pathlib\n",
        "import random\n",
        "\n",
        "#model selection\n",
        "from sklearn.model_selection import train_test_split\n",
        "\n",
        "#data augumentation\n",
        "import  cv2\n",
        "import imgaug\n",
        "import imageio\n",
        "from imgaug import augmenters as iaa\n",
        "\n",
        "##\n",
        "from keras.preprocessing.image import ImageDataGenerator\n",
        "from sklearn.metrics import accuracy_score, confusion_matrix, classification_report\n",
        "\n",
        "from keras.applications import vgg16\n",
        "from keras.layers import Dense, GlobalMaxPool2D, BatchNormalization, Dropout\n",
        "from keras.models import Model, Sequential\n",
        "from keras.optimizers import Adam\n",
        "\n",
        "from keras.callbacks import ModelCheckpoint\n",
        "from keras.callbacks import ReduceLROnPlateau\n",
        "from keras.callbacks import EarlyStopping\n",
        "\n",
        "from tensorflow.keras import layers"
      ]
    },
    {
      "cell_type": "code",
      "execution_count": null,
      "metadata": {
        "id": "DiGw53eZFqfW"
      },
      "outputs": [],
      "source": [
        "from tensorflow.keras.layers import *\n",
        "from tensorflow.keras.models import *\n",
        "import tensorflow_datasets as tfds\n",
        "import matplotlib.pyplot as plt\n",
        "import numpy as np\n",
        "import time\n",
        "import cv2\n",
        "from tqdm.notebook import tqdm\n",
        "from zipfile import ZipFile\n",
        "from imutils import paths\n",
        "tf.random.set_seed(666)\n",
        "np.random.seed(666)\n",
        "\n",
        "tfds.disable_progress_bar()\n",
        "import tensorflow as tf\n",
        "import tensorflow_addons as tfa\n",
        "import numpy as np\n",
        "from tensorflow import keras\n",
        "from tensorflow.keras import layers\n",
        "from tensorflow.keras.layers import *\n",
        "from tensorflow.keras.models import *\n",
        "import tensorflow_datasets as tfds\n",
        "import matplotlib.pyplot as plt\n",
        "import numpy as np\n",
        "import time\n",
        "import cv2\n",
        "from tqdm.notebook import tqdm\n",
        "from zipfile import ZipFile\n",
        "from imutils import paths\n",
        "tf.random.set_seed(666)\n",
        "np.random.seed(666)\n",
        "\n",
        "tfds.disable_progress_bar()\n",
        "import tensorflow as tf\n",
        "import tensorflow_addons as tfa\n",
        "import numpy as np\n",
        "from tensorflow import keras\n",
        "from tensorflow.keras import layers"
      ]
    },
    {
      "cell_type": "code",
      "execution_count": null,
      "metadata": {
        "id": "EvaeK3xyDfHq",
        "colab": {
          "base_uri": "https://localhost:8080/"
        },
        "outputId": "560257f7-f59e-47fe-bf93-894f87f57cff"
      },
      "outputs": [
        {
          "output_type": "stream",
          "name": "stdout",
          "text": [
            "unzip:  cannot find or open /content/drive/MyDrive/newDataset.zip, /content/drive/MyDrive/newDataset.zip.zip or /content/drive/MyDrive/newDataset.zip.ZIP.\n"
          ]
        }
      ],
      "source": [
        "!unzip /content/drive/MyDrive/newDataset.zip"
      ]
    },
    {
      "cell_type": "code",
      "execution_count": null,
      "metadata": {
        "colab": {
          "base_uri": "https://localhost:8080/"
        },
        "id": "A_QkjxyxbF1S",
        "outputId": "7752b377-ad9c-4327-80de-29731f5f0ada"
      },
      "outputs": [
        {
          "output_type": "stream",
          "name": "stdout",
          "text": [
            "x_train shape: (18123, 110, 110, 3) - y_train shape: (18123,)\n",
            "x_val shape: (648, 110, 110, 3) - y_val shape: (648,)\n",
            "x_test shape: (812, 110, 110, 3) - y_test shape: (812,)\n"
          ]
        }
      ],
      "source": [
        "#Run from here\n",
        "import os\n",
        "x_train = []\n",
        "y_train = []\n",
        "x_train = np.load(\"/content/drive/MyDrive/ThesisExperimentsFinal/Dataset/FinalData/TrainData.npy\")\n",
        "y_train = np.load(\"/content/drive/MyDrive/ThesisExperimentsFinal/Dataset/FinalData/TrainLabels.npy\")\n",
        "\n",
        "x_val = []\n",
        "y_val = []\n",
        "x_val = np.load(\"/content/drive/MyDrive/ThesisExperimentsFinal/Dataset/FinalData/ValData.npy\")\n",
        "y_val = np.load(\"/content/drive/MyDrive/ThesisExperimentsFinal/Dataset/FinalData/ValLabels.npy\")\n",
        "\n",
        "x_test = []\n",
        "y_test = []\n",
        "x_test = np.load(\"/content/drive/MyDrive/ThesisExperimentsFinal/Dataset/FinalData/TestData.npy\")\n",
        "y_test = np.load(\"/content/drive/MyDrive/ThesisExperimentsFinal/Dataset/FinalData/TestLabels.npy\")\n",
        "\n",
        "print(f\"x_train shape: {x_train .shape} - y_train shape: {y_train .shape}\")\n",
        "print(f\"x_val shape: {x_val.shape} - y_val shape: {y_val.shape}\")\n",
        "print(f\"x_test shape: {x_test.shape} - y_test shape: {y_test .shape}\")"
      ]
    },
    {
      "cell_type": "code",
      "execution_count": null,
      "metadata": {
        "id": "pPXr2_ahFqfY"
      },
      "outputs": [],
      "source": [
        "data_augmentation = keras.Sequential(\n",
        "    [\n",
        "        layers.Normalization(),\n",
        "        layers.RandomFlip(\"horizontal\"),\n",
        "        layers.RandomRotation(0.02),\n",
        "        layers.RandomWidth(0.2),\n",
        "        layers.RandomHeight(0.2),\n",
        "    ]\n",
        ")\n",
        "\n",
        "data_augmentation.layers[0].adapt(x_train)"
      ]
    },
    {
      "cell_type": "code",
      "execution_count": null,
      "metadata": {
        "id": "-oE2B6QXFqfZ"
      },
      "outputs": [],
      "source": [
        "img_heigth, img_width = 110,110\n",
        "input_shape = (img_heigth, img_width, 3)\n",
        "num_classes = 5"
      ]
    },
    {
      "cell_type": "code",
      "execution_count": null,
      "metadata": {
        "colab": {
          "base_uri": "https://localhost:8080/"
        },
        "id": "1bSsfFTMFqfZ",
        "outputId": "c9ef95b9-b22b-49a5-d042-d117ee05e09b"
      },
      "outputs": [
        {
          "output_type": "stream",
          "name": "stdout",
          "text": [
            "Model: \"densenet-encoder\"\n",
            "_________________________________________________________________\n",
            " Layer (type)                Output Shape              Param #   \n",
            "=================================================================\n",
            " input_2 (InputLayer)        [(None, 110, 110, 3)]     0         \n",
            "                                                                 \n",
            " sequential (Sequential)     (None, None, None, 3)     7         \n",
            "                                                                 \n",
            " densenet169 (Functional)    (None, 1664)              12642880  \n",
            "                                                                 \n",
            "=================================================================\n",
            "Total params: 12,642,887\n",
            "Trainable params: 12,484,480\n",
            "Non-trainable params: 158,407\n",
            "_________________________________________________________________\n"
          ]
        }
      ],
      "source": [
        "def create_encoder():\n",
        "    vgg16 = keras.applications.densenet.DenseNet169(\n",
        "        include_top=False, weights=None, input_shape=input_shape, pooling=\"avg\"\n",
        "    )\n",
        "\n",
        "    inputs = keras.Input(shape=input_shape)\n",
        "    augmented = data_augmentation(inputs)\n",
        "    outputs = vgg16(augmented)\n",
        "    model = keras.Model(inputs=inputs, outputs=outputs, name=\"densenet-encoder\")\n",
        "    return model\n",
        "\n",
        "\n",
        "encoder = create_encoder()\n",
        "encoder.summary()\n",
        "\n",
        "learning_rate = 0.0001\n",
        "batch_size = 32\n",
        "hidden_units = 512\n",
        "projection_units = 128\n",
        "num_epochs = 50\n",
        "dropout_rate = 0.5\n",
        "temperature = 0.05"
      ]
    },
    {
      "cell_type": "code",
      "execution_count": null,
      "metadata": {
        "id": "Szcz8uMcFqfZ"
      },
      "outputs": [],
      "source": [
        "def create_classifier(encoder, trainable=True):\n",
        "\n",
        "    for layer in encoder.layers:\n",
        "        layer.trainable = trainable\n",
        "\n",
        "    inputs = keras.Input(shape=input_shape)\n",
        "    features = encoder(inputs)\n",
        "    features = layers.Dropout(dropout_rate)(features)\n",
        "    features = layers.Dense(hidden_units, activation=\"relu\")(features)\n",
        "    features = layers.Dropout(dropout_rate)(features)\n",
        "    outputs = layers.Dense(num_classes, activation=\"softmax\")(features)\n",
        "\n",
        "    model = keras.Model(inputs=inputs, outputs=outputs, name=\"densenet-classifier\")\n",
        "    model.compile(\n",
        "        optimizer=keras.optimizers.Adam(learning_rate),\n",
        "        loss=keras.losses.SparseCategoricalCrossentropy(),\n",
        "        metrics=[keras.metrics.SparseCategoricalAccuracy()],\n",
        "    )\n",
        "    return model"
      ]
    },
    {
      "cell_type": "code",
      "execution_count": null,
      "metadata": {
        "id": "jOuGXUszFqfZ"
      },
      "outputs": [],
      "source": [
        "checkpointer = ModelCheckpoint(filepath='saved_models/baseline_model_densenet.hdf5', \n",
        "                               monitor='sparse_categorical_accuracy', mode='max',\n",
        "                               verbose=1, save_best_only=True)\n",
        "early_stopping = EarlyStopping(monitor='loss', mode='min', verbose=1, patience=3)\n",
        "reduce_lr = ReduceLROnPlateau(monitor='loss', factor=0.2,patience=2, min_lr=1e-5)\n",
        "callbacks=[early_stopping, reduce_lr, checkpointer]"
      ]
    },
    {
      "cell_type": "code",
      "execution_count": null,
      "metadata": {
        "colab": {
          "base_uri": "https://localhost:8080/"
        },
        "id": "05Q7ghwTFqfZ",
        "outputId": "7cdde929-9794-455d-bfc8-2318648f9cfc"
      },
      "outputs": [
        {
          "output_type": "stream",
          "name": "stdout",
          "text": [
            "Model: \"densenet-classifier\"\n",
            "_________________________________________________________________\n",
            " Layer (type)                Output Shape              Param #   \n",
            "=================================================================\n",
            " input_5 (InputLayer)        [(None, 110, 110, 3)]     0         \n",
            "                                                                 \n",
            " densenet-encoder (Functiona  (None, 1664)             12642887  \n",
            " l)                                                              \n",
            "                                                                 \n",
            " dropout (Dropout)           (None, 1664)              0         \n",
            "                                                                 \n",
            " dense (Dense)               (None, 512)               852480    \n",
            "                                                                 \n",
            " dropout_1 (Dropout)         (None, 512)               0         \n",
            "                                                                 \n",
            " dense_1 (Dense)             (None, 5)                 2565      \n",
            "                                                                 \n",
            "=================================================================\n",
            "Total params: 13,497,932\n",
            "Trainable params: 13,339,525\n",
            "Non-trainable params: 158,407\n",
            "_________________________________________________________________\n",
            "Epoch 1/50\n",
            "567/567 [==============================] - ETA: 0s - loss: 1.3088 - sparse_categorical_accuracy: 0.4986\n",
            "Epoch 1: sparse_categorical_accuracy improved from -inf to 0.49865, saving model to saved_models/baseline_model_densenet.hdf5\n",
            "567/567 [==============================] - 422s 506ms/step - loss: 1.3088 - sparse_categorical_accuracy: 0.4986 - lr: 1.0000e-04\n",
            "Epoch 2/50\n",
            "567/567 [==============================] - ETA: 0s - loss: 1.1019 - sparse_categorical_accuracy: 0.5796\n",
            "Epoch 2: sparse_categorical_accuracy improved from 0.49865 to 0.57959, saving model to saved_models/baseline_model_densenet.hdf5\n",
            "567/567 [==============================] - 122s 214ms/step - loss: 1.1019 - sparse_categorical_accuracy: 0.5796 - lr: 1.0000e-04\n",
            "Epoch 3/50\n",
            "567/567 [==============================] - ETA: 0s - loss: 0.9964 - sparse_categorical_accuracy: 0.6229\n",
            "Epoch 3: sparse_categorical_accuracy improved from 0.57959 to 0.62291, saving model to saved_models/baseline_model_densenet.hdf5\n",
            "567/567 [==============================] - 113s 199ms/step - loss: 0.9964 - sparse_categorical_accuracy: 0.6229 - lr: 1.0000e-04\n",
            "Epoch 4/50\n",
            "567/567 [==============================] - ETA: 0s - loss: 0.9316 - sparse_categorical_accuracy: 0.6533\n",
            "Epoch 4: sparse_categorical_accuracy improved from 0.62291 to 0.65331, saving model to saved_models/baseline_model_densenet.hdf5\n",
            "567/567 [==============================] - 104s 184ms/step - loss: 0.9316 - sparse_categorical_accuracy: 0.6533 - lr: 1.0000e-04\n",
            "Epoch 5/50\n",
            "567/567 [==============================] - ETA: 0s - loss: 0.8530 - sparse_categorical_accuracy: 0.6855\n",
            "Epoch 5: sparse_categorical_accuracy improved from 0.65331 to 0.68548, saving model to saved_models/baseline_model_densenet.hdf5\n",
            "567/567 [==============================] - 101s 177ms/step - loss: 0.8530 - sparse_categorical_accuracy: 0.6855 - lr: 1.0000e-04\n",
            "Epoch 6/50\n",
            "567/567 [==============================] - ETA: 0s - loss: 0.7828 - sparse_categorical_accuracy: 0.7120\n",
            "Epoch 6: sparse_categorical_accuracy improved from 0.68548 to 0.71202, saving model to saved_models/baseline_model_densenet.hdf5\n",
            "567/567 [==============================] - 101s 178ms/step - loss: 0.7828 - sparse_categorical_accuracy: 0.7120 - lr: 1.0000e-04\n",
            "Epoch 7/50\n",
            "567/567 [==============================] - ETA: 0s - loss: 0.7135 - sparse_categorical_accuracy: 0.7356\n",
            "Epoch 7: sparse_categorical_accuracy improved from 0.71202 to 0.73564, saving model to saved_models/baseline_model_densenet.hdf5\n",
            "567/567 [==============================] - 97s 171ms/step - loss: 0.7135 - sparse_categorical_accuracy: 0.7356 - lr: 1.0000e-04\n",
            "Epoch 8/50\n",
            "567/567 [==============================] - ETA: 0s - loss: 0.6604 - sparse_categorical_accuracy: 0.7541\n",
            "Epoch 8: sparse_categorical_accuracy improved from 0.73564 to 0.75407, saving model to saved_models/baseline_model_densenet.hdf5\n",
            "567/567 [==============================] - 93s 165ms/step - loss: 0.6604 - sparse_categorical_accuracy: 0.7541 - lr: 1.0000e-04\n",
            "Epoch 9/50\n",
            "567/567 [==============================] - ETA: 0s - loss: 0.6254 - sparse_categorical_accuracy: 0.7687\n",
            "Epoch 9: sparse_categorical_accuracy improved from 0.75407 to 0.76875, saving model to saved_models/baseline_model_densenet.hdf5\n",
            "567/567 [==============================] - 96s 170ms/step - loss: 0.6254 - sparse_categorical_accuracy: 0.7687 - lr: 1.0000e-04\n",
            "Epoch 10/50\n",
            "567/567 [==============================] - ETA: 0s - loss: 0.5876 - sparse_categorical_accuracy: 0.7807\n",
            "Epoch 10: sparse_categorical_accuracy improved from 0.76875 to 0.78067, saving model to saved_models/baseline_model_densenet.hdf5\n",
            "567/567 [==============================] - 94s 166ms/step - loss: 0.5876 - sparse_categorical_accuracy: 0.7807 - lr: 1.0000e-04\n",
            "Epoch 11/50\n",
            "567/567 [==============================] - ETA: 0s - loss: 0.5561 - sparse_categorical_accuracy: 0.7934\n",
            "Epoch 11: sparse_categorical_accuracy improved from 0.78067 to 0.79336, saving model to saved_models/baseline_model_densenet.hdf5\n",
            "567/567 [==============================] - 92s 162ms/step - loss: 0.5561 - sparse_categorical_accuracy: 0.7934 - lr: 1.0000e-04\n",
            "Epoch 12/50\n",
            "567/567 [==============================] - ETA: 0s - loss: 0.5280 - sparse_categorical_accuracy: 0.8051\n",
            "Epoch 12: sparse_categorical_accuracy improved from 0.79336 to 0.80511, saving model to saved_models/baseline_model_densenet.hdf5\n",
            "567/567 [==============================] - 91s 161ms/step - loss: 0.5280 - sparse_categorical_accuracy: 0.8051 - lr: 1.0000e-04\n",
            "Epoch 13/50\n",
            "567/567 [==============================] - ETA: 0s - loss: 0.4980 - sparse_categorical_accuracy: 0.8133\n",
            "Epoch 13: sparse_categorical_accuracy improved from 0.80511 to 0.81333, saving model to saved_models/baseline_model_densenet.hdf5\n",
            "567/567 [==============================] - 91s 160ms/step - loss: 0.4980 - sparse_categorical_accuracy: 0.8133 - lr: 1.0000e-04\n",
            "Epoch 14/50\n",
            "567/567 [==============================] - ETA: 0s - loss: 0.4862 - sparse_categorical_accuracy: 0.8212\n",
            "Epoch 14: sparse_categorical_accuracy improved from 0.81333 to 0.82117, saving model to saved_models/baseline_model_densenet.hdf5\n",
            "567/567 [==============================] - 92s 162ms/step - loss: 0.4862 - sparse_categorical_accuracy: 0.8212 - lr: 1.0000e-04\n",
            "Epoch 15/50\n",
            "567/567 [==============================] - ETA: 0s - loss: 0.4512 - sparse_categorical_accuracy: 0.8304\n",
            "Epoch 15: sparse_categorical_accuracy improved from 0.82117 to 0.83044, saving model to saved_models/baseline_model_densenet.hdf5\n",
            "567/567 [==============================] - 93s 164ms/step - loss: 0.4512 - sparse_categorical_accuracy: 0.8304 - lr: 1.0000e-04\n",
            "Epoch 16/50\n",
            "567/567 [==============================] - ETA: 0s - loss: 0.4470 - sparse_categorical_accuracy: 0.8347\n",
            "Epoch 16: sparse_categorical_accuracy improved from 0.83044 to 0.83474, saving model to saved_models/baseline_model_densenet.hdf5\n",
            "567/567 [==============================] - 92s 162ms/step - loss: 0.4470 - sparse_categorical_accuracy: 0.8347 - lr: 1.0000e-04\n",
            "Epoch 17/50\n",
            "567/567 [==============================] - ETA: 0s - loss: 0.4170 - sparse_categorical_accuracy: 0.8448\n",
            "Epoch 17: sparse_categorical_accuracy improved from 0.83474 to 0.84478, saving model to saved_models/baseline_model_densenet.hdf5\n",
            "567/567 [==============================] - 93s 164ms/step - loss: 0.4170 - sparse_categorical_accuracy: 0.8448 - lr: 1.0000e-04\n",
            "Epoch 18/50\n",
            "567/567 [==============================] - ETA: 0s - loss: 0.3960 - sparse_categorical_accuracy: 0.8526\n",
            "Epoch 18: sparse_categorical_accuracy improved from 0.84478 to 0.85256, saving model to saved_models/baseline_model_densenet.hdf5\n",
            "567/567 [==============================] - 90s 159ms/step - loss: 0.3960 - sparse_categorical_accuracy: 0.8526 - lr: 1.0000e-04\n",
            "Epoch 19/50\n",
            "567/567 [==============================] - ETA: 0s - loss: 0.3838 - sparse_categorical_accuracy: 0.8594\n",
            "Epoch 19: sparse_categorical_accuracy improved from 0.85256 to 0.85935, saving model to saved_models/baseline_model_densenet.hdf5\n",
            "567/567 [==============================] - 90s 158ms/step - loss: 0.3838 - sparse_categorical_accuracy: 0.8594 - lr: 1.0000e-04\n",
            "Epoch 20/50\n",
            "567/567 [==============================] - ETA: 0s - loss: 0.3611 - sparse_categorical_accuracy: 0.8656\n",
            "Epoch 20: sparse_categorical_accuracy improved from 0.85935 to 0.86564, saving model to saved_models/baseline_model_densenet.hdf5\n",
            "567/567 [==============================] - 89s 158ms/step - loss: 0.3611 - sparse_categorical_accuracy: 0.8656 - lr: 1.0000e-04\n",
            "Epoch 21/50\n",
            "567/567 [==============================] - ETA: 0s - loss: 0.3507 - sparse_categorical_accuracy: 0.8728\n",
            "Epoch 21: sparse_categorical_accuracy improved from 0.86564 to 0.87281, saving model to saved_models/baseline_model_densenet.hdf5\n",
            "567/567 [==============================] - 92s 162ms/step - loss: 0.3507 - sparse_categorical_accuracy: 0.8728 - lr: 1.0000e-04\n",
            "Epoch 22/50\n",
            "567/567 [==============================] - ETA: 0s - loss: 0.3293 - sparse_categorical_accuracy: 0.8785\n",
            "Epoch 22: sparse_categorical_accuracy improved from 0.87281 to 0.87850, saving model to saved_models/baseline_model_densenet.hdf5\n",
            "567/567 [==============================] - 89s 158ms/step - loss: 0.3293 - sparse_categorical_accuracy: 0.8785 - lr: 1.0000e-04\n",
            "Epoch 23/50\n",
            "567/567 [==============================] - ETA: 0s - loss: 0.3140 - sparse_categorical_accuracy: 0.8802\n",
            "Epoch 23: sparse_categorical_accuracy improved from 0.87850 to 0.88015, saving model to saved_models/baseline_model_densenet.hdf5\n",
            "567/567 [==============================] - 92s 163ms/step - loss: 0.3140 - sparse_categorical_accuracy: 0.8802 - lr: 1.0000e-04\n",
            "Epoch 24/50\n",
            "567/567 [==============================] - ETA: 0s - loss: 0.3002 - sparse_categorical_accuracy: 0.8876\n",
            "Epoch 24: sparse_categorical_accuracy improved from 0.88015 to 0.88760, saving model to saved_models/baseline_model_densenet.hdf5\n",
            "567/567 [==============================] - 90s 158ms/step - loss: 0.3002 - sparse_categorical_accuracy: 0.8876 - lr: 1.0000e-04\n",
            "Epoch 25/50\n",
            "567/567 [==============================] - ETA: 0s - loss: 0.2936 - sparse_categorical_accuracy: 0.8915\n",
            "Epoch 25: sparse_categorical_accuracy improved from 0.88760 to 0.89146, saving model to saved_models/baseline_model_densenet.hdf5\n",
            "567/567 [==============================] - 92s 161ms/step - loss: 0.2936 - sparse_categorical_accuracy: 0.8915 - lr: 1.0000e-04\n",
            "Epoch 26/50\n",
            "567/567 [==============================] - ETA: 0s - loss: 0.2763 - sparse_categorical_accuracy: 0.8991\n",
            "Epoch 26: sparse_categorical_accuracy improved from 0.89146 to 0.89913, saving model to saved_models/baseline_model_densenet.hdf5\n",
            "567/567 [==============================] - 89s 157ms/step - loss: 0.2763 - sparse_categorical_accuracy: 0.8991 - lr: 1.0000e-04\n",
            "Epoch 27/50\n",
            "567/567 [==============================] - ETA: 0s - loss: 0.2656 - sparse_categorical_accuracy: 0.9036\n",
            "Epoch 27: sparse_categorical_accuracy improved from 0.89913 to 0.90360, saving model to saved_models/baseline_model_densenet.hdf5\n",
            "567/567 [==============================] - 92s 162ms/step - loss: 0.2656 - sparse_categorical_accuracy: 0.9036 - lr: 1.0000e-04\n",
            "Epoch 28/50\n",
            "567/567 [==============================] - ETA: 0s - loss: 0.2603 - sparse_categorical_accuracy: 0.9064\n",
            "Epoch 28: sparse_categorical_accuracy improved from 0.90360 to 0.90636, saving model to saved_models/baseline_model_densenet.hdf5\n",
            "567/567 [==============================] - 89s 158ms/step - loss: 0.2603 - sparse_categorical_accuracy: 0.9064 - lr: 1.0000e-04\n",
            "Epoch 29/50\n",
            "567/567 [==============================] - ETA: 0s - loss: 0.2509 - sparse_categorical_accuracy: 0.9064\n",
            "Epoch 29: sparse_categorical_accuracy did not improve from 0.90636\n",
            "567/567 [==============================] - 90s 159ms/step - loss: 0.2509 - sparse_categorical_accuracy: 0.9064 - lr: 1.0000e-04\n",
            "Epoch 30/50\n",
            "567/567 [==============================] - ETA: 0s - loss: 0.2396 - sparse_categorical_accuracy: 0.9120\n",
            "Epoch 30: sparse_categorical_accuracy improved from 0.90636 to 0.91199, saving model to saved_models/baseline_model_densenet.hdf5\n",
            "567/567 [==============================] - 90s 158ms/step - loss: 0.2396 - sparse_categorical_accuracy: 0.9120 - lr: 1.0000e-04\n",
            "Epoch 31/50\n",
            "567/567 [==============================] - ETA: 0s - loss: 0.2333 - sparse_categorical_accuracy: 0.9163\n",
            "Epoch 31: sparse_categorical_accuracy improved from 0.91199 to 0.91635, saving model to saved_models/baseline_model_densenet.hdf5\n",
            "567/567 [==============================] - 91s 160ms/step - loss: 0.2333 - sparse_categorical_accuracy: 0.9163 - lr: 1.0000e-04\n",
            "Epoch 32/50\n",
            "567/567 [==============================] - ETA: 0s - loss: 0.2240 - sparse_categorical_accuracy: 0.9174\n",
            "Epoch 32: sparse_categorical_accuracy improved from 0.91635 to 0.91740, saving model to saved_models/baseline_model_densenet.hdf5\n",
            "567/567 [==============================] - 90s 159ms/step - loss: 0.2240 - sparse_categorical_accuracy: 0.9174 - lr: 1.0000e-04\n",
            "Epoch 33/50\n",
            "567/567 [==============================] - ETA: 0s - loss: 0.2016 - sparse_categorical_accuracy: 0.9269\n",
            "Epoch 33: sparse_categorical_accuracy improved from 0.91740 to 0.92694, saving model to saved_models/baseline_model_densenet.hdf5\n",
            "567/567 [==============================] - 90s 159ms/step - loss: 0.2016 - sparse_categorical_accuracy: 0.9269 - lr: 1.0000e-04\n",
            "Epoch 34/50\n",
            "567/567 [==============================] - ETA: 0s - loss: 0.2048 - sparse_categorical_accuracy: 0.9241\n",
            "Epoch 34: sparse_categorical_accuracy did not improve from 0.92694\n",
            "567/567 [==============================] - 94s 166ms/step - loss: 0.2048 - sparse_categorical_accuracy: 0.9241 - lr: 1.0000e-04\n",
            "Epoch 35/50\n",
            "567/567 [==============================] - ETA: 0s - loss: 0.1971 - sparse_categorical_accuracy: 0.9274\n",
            "Epoch 35: sparse_categorical_accuracy improved from 0.92694 to 0.92744, saving model to saved_models/baseline_model_densenet.hdf5\n",
            "567/567 [==============================] - 89s 157ms/step - loss: 0.1971 - sparse_categorical_accuracy: 0.9274 - lr: 1.0000e-04\n",
            "Epoch 36/50\n",
            "567/567 [==============================] - ETA: 0s - loss: 0.1971 - sparse_categorical_accuracy: 0.9286\n",
            "Epoch 36: sparse_categorical_accuracy improved from 0.92744 to 0.92860, saving model to saved_models/baseline_model_densenet.hdf5\n",
            "567/567 [==============================] - 91s 160ms/step - loss: 0.1971 - sparse_categorical_accuracy: 0.9286 - lr: 1.0000e-04\n",
            "Epoch 37/50\n",
            "567/567 [==============================] - ETA: 0s - loss: 0.1840 - sparse_categorical_accuracy: 0.9322\n",
            "Epoch 37: sparse_categorical_accuracy improved from 0.92860 to 0.93224, saving model to saved_models/baseline_model_densenet.hdf5\n",
            "567/567 [==============================] - 91s 161ms/step - loss: 0.1840 - sparse_categorical_accuracy: 0.9322 - lr: 1.0000e-04\n",
            "Epoch 38/50\n",
            "567/567 [==============================] - ETA: 0s - loss: 0.1720 - sparse_categorical_accuracy: 0.9383\n",
            "Epoch 38: sparse_categorical_accuracy improved from 0.93224 to 0.93831, saving model to saved_models/baseline_model_densenet.hdf5\n",
            "567/567 [==============================] - 91s 160ms/step - loss: 0.1720 - sparse_categorical_accuracy: 0.9383 - lr: 1.0000e-04\n",
            "Epoch 39/50\n",
            "567/567 [==============================] - ETA: 0s - loss: 0.1718 - sparse_categorical_accuracy: 0.9367\n",
            "Epoch 39: sparse_categorical_accuracy did not improve from 0.93831\n",
            "567/567 [==============================] - 87s 153ms/step - loss: 0.1718 - sparse_categorical_accuracy: 0.9367 - lr: 1.0000e-04\n",
            "Epoch 40/50\n",
            "567/567 [==============================] - ETA: 0s - loss: 0.1662 - sparse_categorical_accuracy: 0.9400\n",
            "Epoch 40: sparse_categorical_accuracy improved from 0.93831 to 0.94002, saving model to saved_models/baseline_model_densenet.hdf5\n",
            "567/567 [==============================] - 90s 159ms/step - loss: 0.1662 - sparse_categorical_accuracy: 0.9400 - lr: 1.0000e-04\n",
            "Epoch 41/50\n",
            "567/567 [==============================] - ETA: 0s - loss: 0.1623 - sparse_categorical_accuracy: 0.9406\n",
            "Epoch 41: sparse_categorical_accuracy improved from 0.94002 to 0.94063, saving model to saved_models/baseline_model_densenet.hdf5\n",
            "567/567 [==============================] - 91s 160ms/step - loss: 0.1623 - sparse_categorical_accuracy: 0.9406 - lr: 1.0000e-04\n",
            "Epoch 42/50\n",
            "567/567 [==============================] - ETA: 0s - loss: 0.1569 - sparse_categorical_accuracy: 0.9430\n",
            "Epoch 42: sparse_categorical_accuracy improved from 0.94063 to 0.94300, saving model to saved_models/baseline_model_densenet.hdf5\n",
            "567/567 [==============================] - 90s 160ms/step - loss: 0.1569 - sparse_categorical_accuracy: 0.9430 - lr: 1.0000e-04\n",
            "Epoch 43/50\n",
            "567/567 [==============================] - ETA: 0s - loss: 0.1530 - sparse_categorical_accuracy: 0.9432\n",
            "Epoch 43: sparse_categorical_accuracy improved from 0.94300 to 0.94322, saving model to saved_models/baseline_model_densenet.hdf5\n",
            "567/567 [==============================] - 91s 160ms/step - loss: 0.1530 - sparse_categorical_accuracy: 0.9432 - lr: 1.0000e-04\n",
            "Epoch 44/50\n",
            "567/567 [==============================] - ETA: 0s - loss: 0.1462 - sparse_categorical_accuracy: 0.9479\n",
            "Epoch 44: sparse_categorical_accuracy improved from 0.94322 to 0.94786, saving model to saved_models/baseline_model_densenet.hdf5\n",
            "567/567 [==============================] - 89s 156ms/step - loss: 0.1462 - sparse_categorical_accuracy: 0.9479 - lr: 1.0000e-04\n",
            "Epoch 45/50\n",
            "567/567 [==============================] - ETA: 0s - loss: 0.1424 - sparse_categorical_accuracy: 0.9470\n",
            "Epoch 45: sparse_categorical_accuracy did not improve from 0.94786\n",
            "567/567 [==============================] - 89s 158ms/step - loss: 0.1424 - sparse_categorical_accuracy: 0.9470 - lr: 1.0000e-04\n",
            "Epoch 46/50\n",
            "567/567 [==============================] - ETA: 0s - loss: 0.1445 - sparse_categorical_accuracy: 0.9487\n",
            "Epoch 46: sparse_categorical_accuracy improved from 0.94786 to 0.94874, saving model to saved_models/baseline_model_densenet.hdf5\n",
            "567/567 [==============================] - 90s 159ms/step - loss: 0.1445 - sparse_categorical_accuracy: 0.9487 - lr: 1.0000e-04\n",
            "Epoch 47/50\n",
            "567/567 [==============================] - ETA: 0s - loss: 0.1356 - sparse_categorical_accuracy: 0.9508\n",
            "Epoch 47: sparse_categorical_accuracy improved from 0.94874 to 0.95078, saving model to saved_models/baseline_model_densenet.hdf5\n",
            "567/567 [==============================] - 91s 160ms/step - loss: 0.1356 - sparse_categorical_accuracy: 0.9508 - lr: 1.0000e-04\n",
            "Epoch 48/50\n",
            "567/567 [==============================] - ETA: 0s - loss: 0.1389 - sparse_categorical_accuracy: 0.9477\n",
            "Epoch 48: sparse_categorical_accuracy did not improve from 0.95078\n",
            "567/567 [==============================] - 89s 157ms/step - loss: 0.1389 - sparse_categorical_accuracy: 0.9477 - lr: 1.0000e-04\n",
            "Epoch 49/50\n",
            "567/567 [==============================] - ETA: 0s - loss: 0.1278 - sparse_categorical_accuracy: 0.9546\n",
            "Epoch 49: sparse_categorical_accuracy improved from 0.95078 to 0.95459, saving model to saved_models/baseline_model_densenet.hdf5\n",
            "567/567 [==============================] - 92s 162ms/step - loss: 0.1278 - sparse_categorical_accuracy: 0.9546 - lr: 1.0000e-04\n",
            "Epoch 50/50\n",
            "567/567 [==============================] - ETA: 0s - loss: 0.1226 - sparse_categorical_accuracy: 0.9566\n",
            "Epoch 50: sparse_categorical_accuracy improved from 0.95459 to 0.95663, saving model to saved_models/baseline_model_densenet.hdf5\n",
            "567/567 [==============================] - 89s 158ms/step - loss: 0.1226 - sparse_categorical_accuracy: 0.9566 - lr: 1.0000e-04\n"
          ]
        }
      ],
      "source": [
        "encoder = create_encoder()\n",
        "classifier = create_classifier(encoder)\n",
        "classifier.summary()\n",
        "\n",
        "history = classifier.fit(x=x_train, y=y_train, batch_size=batch_size, epochs=num_epochs,callbacks=callbacks)"
      ]
    },
    {
      "cell_type": "code",
      "execution_count": null,
      "metadata": {
        "id": "_u5jXeM5GVSS"
      },
      "outputs": [],
      "source": [
        "classifier.save(save_path + 'Contrastive_Baseline_densenet.h5')\n",
        "classifier.save_weights(save_path1 + \"Weights_Contrastive_Baseline_densenet.h5\")"
      ]
    },
    {
      "cell_type": "code",
      "execution_count": null,
      "metadata": {
        "colab": {
          "base_uri": "https://localhost:8080/",
          "height": 962
        },
        "id": "xi37cr-JILjA",
        "outputId": "13a656d9-87aa-4424-d43d-4128014a482b"
      },
      "outputs": [
        {
          "output_type": "stream",
          "name": "stdout",
          "text": [
            "26/26 [==============================] - 6s 109ms/step\n"
          ]
        },
        {
          "output_type": "display_data",
          "data": {
            "text/plain": [
              "<Figure size 1200x1200 with 2 Axes>"
            ],
            "image/png": "[encoded data removed]"
          },
          "metadata": {}
        }
      ],
      "source": [
        "pred = classifier.predict(x_test)\n",
        "\n",
        "y_pred = np.argmax(pred, axis=1)\n",
        "confusion_mtx = confusion_matrix(y_pred, y_test)\n",
        "f,ax = plt.subplots(figsize=(12, 12))\n",
        "sns.heatmap(confusion_mtx, annot=True, \n",
        "            linewidths=0.01,\n",
        "            linecolor=\"white\", \n",
        "            fmt= '.1f',ax=ax,)\n",
        "sns.color_palette(\"rocket\", as_cmap=True)\n",
        "\n",
        "plt.xlabel(\"Predicted Label\")\n",
        "plt.ylabel(\"True Label\")\n",
        "#ax.xaxis.set_ticklabels(x_test.class_indices)\n",
        "#ax.yaxis.set_ticklabels(y_test)\n",
        "plt.title(\"Confusion Matrix\")\n",
        "plt.show()"
      ]
    },
    {
      "cell_type": "code",
      "execution_count": null,
      "metadata": {
        "colab": {
          "base_uri": "https://localhost:8080/",
          "height": 300
        },
        "id": "gl0nwfHPITNr",
        "outputId": "b1b139e1-b595-4280-ff80-820d8429affe"
      },
      "outputs": [
        {
          "output_type": "execute_result",
          "data": {
            "text/plain": [
              "              precision    recall  f1-score     support\n",
              "0              0.950311  0.938650  0.944444  163.000000\n",
              "1              0.891304  0.745455  0.811881  165.000000\n",
              "2              0.888235  0.949686  0.917933  159.000000\n",
              "3              0.906433  0.981013  0.942249  158.000000\n",
              "4              0.953488  0.982036  0.967552  167.000000\n",
              "accuracy       0.918719  0.918719  0.918719    0.918719\n",
              "macro avg      0.917954  0.919368  0.916812  812.000000\n",
              "weighted avg   0.918281  0.918719  0.916641  812.000000"
            ],
            "text/html": [
              "\n",
              "  <div id=\"df-cfa4aa0c-32fe-43f3-abeb-142f4c1ea94c\">\n",
              "    <div class=\"colab-df-container\">\n",
              "      <div>\n",
              "<style scoped>\n",
              "    .dataframe tbody tr th:only-of-type {\n",
              "        vertical-align: middle;\n",
              "    }\n",
              "\n",
              "    .dataframe tbody tr th {\n",
              "        vertical-align: top;\n",
              "    }\n",
              "\n",
              "    .dataframe thead th {\n",
              "        text-align: right;\n",
              "    }\n",
              "</style>\n",
              "<table border=\"1\" class=\"dataframe\">\n",
              "  <thead>\n",
              "    <tr style=\"text-align: right;\">\n",
              "      <th></th>\n",
              "      <th>precision</th>\n",
              "      <th>recall</th>\n",
              "      <th>f1-score</th>\n",
              "      <th>support</th>\n",
              "    </tr>\n",
              "  </thead>\n",
              "  <tbody>\n",
              "    <tr>\n",
              "      <th>0</th>\n",
              "      <td>0.950311</td>\n",
              "      <td>0.938650</td>\n",
              "      <td>0.944444</td>\n",
              "      <td>163.000000</td>\n",
              "    </tr>\n",
              "    <tr>\n",
              "      <th>1</th>\n",
              "      <td>0.891304</td>\n",
              "      <td>0.745455</td>\n",
              "      <td>0.811881</td>\n",
              "      <td>165.000000</td>\n",
              "    </tr>\n",
              "    <tr>\n",
              "      <th>2</th>\n",
              "      <td>0.888235</td>\n",
              "      <td>0.949686</td>\n",
              "      <td>0.917933</td>\n",
              "      <td>159.000000</td>\n",
              "    </tr>\n",
              "    <tr>\n",
              "      <th>3</th>\n",
              "      <td>0.906433</td>\n",
              "      <td>0.981013</td>\n",
              "      <td>0.942249</td>\n",
              "      <td>158.000000</td>\n",
              "    </tr>\n",
              "    <tr>\n",
              "      <th>4</th>\n",
              "      <td>0.953488</td>\n",
              "      <td>0.982036</td>\n",
              "      <td>0.967552</td>\n",
              "      <td>167.000000</td>\n",
              "    </tr>\n",
              "    <tr>\n",
              "      <th>accuracy</th>\n",
              "      <td>0.918719</td>\n",
              "      <td>0.918719</td>\n",
              "      <td>0.918719</td>\n",
              "      <td>0.918719</td>\n",
              "    </tr>\n",
              "    <tr>\n",
              "      <th>macro avg</th>\n",
              "      <td>0.917954</td>\n",
              "      <td>0.919368</td>\n",
              "      <td>0.916812</td>\n",
              "      <td>812.000000</td>\n",
              "    </tr>\n",
              "    <tr>\n",
              "      <th>weighted avg</th>\n",
              "      <td>0.918281</td>\n",
              "      <td>0.918719</td>\n",
              "      <td>0.916641</td>\n",
              "      <td>812.000000</td>\n",
              "    </tr>\n",
              "  </tbody>\n",
              "</table>\n",
              "</div>\n",
              "      <button class=\"colab-df-convert\" onclick=\"convertToInteractive('df-cfa4aa0c-32fe-43f3-abeb-142f4c1ea94c')\"\n",
              "              title=\"Convert this dataframe to an interactive table.\"\n",
              "              style=\"display:none;\">\n",
              "        \n",
              "  <svg xmlns=\"http://www.w3.org/2000/svg\" height=\"24px\"viewBox=\"0 0 24 24\"\n",
              "       width=\"24px\">\n",
              "    <path d=\"M0 0h24v24H0V0z\" fill=\"none\"/>\n",
              "    <path d=\"M18.56 5.44l.94 2.06.94-2.06 2.06-.94-2.06-.94-.94-2.06-.94 2.06-2.06.94zm-11 1L8.5 8.5l.94-2.06 2.06-.94-2.06-.94L8.5 2.5l-.94 2.06-2.06.94zm10 10l.94 2.06.94-2.06 2.06-.94-2.06-.94-.94-2.06-.94 2.06-2.06.94z\"/><path d=\"M17.41 7.96l-1.37-1.37c-.4-.4-.92-.59-1.43-.59-.52 0-1.04.2-1.43.59L10.3 9.45l-7.72 7.72c-.78.78-.78 2.05 0 2.83L4 21.41c.39.39.9.59 1.41.59.51 0 1.02-.2 1.41-.59l7.78-7.78 2.81-2.81c.8-.78.8-2.07 0-2.86zM5.41 20L4 18.59l7.72-7.72 1.47 1.35L5.41 20z\"/>\n",
              "  </svg>\n",
              "      </button>\n",
              "      \n",
              "  <style>\n",
              "    .colab-df-container {\n",
              "      display:flex;\n",
              "      flex-wrap:wrap;\n",
              "      gap: 12px;\n",
              "    }\n",
              "\n",
              "    .colab-df-convert {\n",
              "      background-color: #E8F0FE;\n",
              "      border: none;\n",
              "      border-radius: 50%;\n",
              "      cursor: pointer;\n",
              "      display: none;\n",
              "      fill: #1967D2;\n",
              "      height: 32px;\n",
              "      padding: 0 0 0 0;\n",
              "      width: 32px;\n",
              "    }\n",
              "\n",
              "    .colab-df-convert:hover {\n",
              "      background-color: #E2EBFA;\n",
              "      box-shadow: 0px 1px 2px rgba(60, 64, 67, 0.3), 0px 1px 3px 1px rgba(60, 64, 67, 0.15);\n",
              "      fill: #174EA6;\n",
              "    }\n",
              "\n",
              "    [theme=dark] .colab-df-convert {\n",
              "      background-color: #3B4455;\n",
              "      fill: #D2E3FC;\n",
              "    }\n",
              "\n",
              "    [theme=dark] .colab-df-convert:hover {\n",
              "      background-color: #434B5C;\n",
              "      box-shadow: 0px 1px 3px 1px rgba(0, 0, 0, 0.15);\n",
              "      filter: drop-shadow(0px 1px 2px rgba(0, 0, 0, 0.3));\n",
              "      fill: #FFFFFF;\n",
              "    }\n",
              "  </style>\n",
              "\n",
              "      <script>\n",
              "        const buttonEl =\n",
              "          document.querySelector('#df-cfa4aa0c-32fe-43f3-abeb-142f4c1ea94c button.colab-df-convert');\n",
              "        buttonEl.style.display =\n",
              "          google.colab.kernel.accessAllowed ? 'block' : 'none';\n",
              "\n",
              "        async function convertToInteractive(key) {\n",
              "          const element = document.querySelector('#df-cfa4aa0c-32fe-43f3-abeb-142f4c1ea94c');\n",
              "          const dataTable =\n",
              "            await google.colab.kernel.invokeFunction('convertToInteractive',\n",
              "                                                     [key], {});\n",
              "          if (!dataTable) return;\n",
              "\n",
              "          const docLinkHtml = 'Like what you see? Visit the ' +\n",
              "            '<a target=\"_blank\" href=https://colab.research.google.com/notebooks/data_table.ipynb>data table notebook</a>'\n",
              "            + ' to learn more about interactive tables.';\n",
              "          element.innerHTML = '';\n",
              "          dataTable['output_type'] = 'display_data';\n",
              "          await google.colab.output.renderOutput(dataTable, element);\n",
              "          const docLink = document.createElement('div');\n",
              "          docLink.innerHTML = docLinkHtml;\n",
              "          element.appendChild(docLink);\n",
              "        }\n",
              "      </script>\n",
              "    </div>\n",
              "  </div>\n",
              "  "
            ]
          },
          "metadata": {},
          "execution_count": 18
        }
      ],
      "source": [
        "report_base = classification_report(y_test, y_pred, output_dict=True)\n",
        "df12 = pd.DataFrame(report_base).transpose()\n",
        "df12"
      ]
    },
    {
      "cell_type": "code",
      "execution_count": null,
      "metadata": {
        "id": "7Pxwd2MPHeNN"
      },
      "outputs": [],
      "source": [
        "from tensorflow.keras.models import load_model\n",
        "baseline_dense=load_model(save_path + 'Contrastive_Baseline_densenet.h5')\n"
      ]
    },
    {
      "cell_type": "code",
      "execution_count": null,
      "metadata": {
        "colab": {
          "base_uri": "https://localhost:8080/"
        },
        "id": "I8uBVJBeFqfa",
        "outputId": "3e4f8f22-f3de-4892-d7a9-a414a95651ec"
      },
      "outputs": [
        {
          "output_type": "stream",
          "name": "stdout",
          "text": [
            "26/26 [==============================] - 4s 49ms/step - loss: 0.3118 - sparse_categorical_accuracy: 0.9187\n",
            "Test accuracy: 91.87%\n"
          ]
        }
      ],
      "source": [
        "accuracy = baseline_dense.evaluate(x_test, y_test)[1]\n",
        "print(f\"Test accuracy: {round(accuracy * 100, 2)}%\")"
      ]
    },
    {
      "cell_type": "code",
      "execution_count": null,
      "metadata": {
        "colab": {
          "base_uri": "https://localhost:8080/"
        },
        "id": "G-IqQYMDFqfa",
        "outputId": "2481d2ab-2693-4819-f944-9d7e976e36f9"
      },
      "outputs": [
        {
          "output_type": "stream",
          "name": "stdout",
          "text": [
            "26/26 [==============================] - 4s 38ms/step\n"
          ]
        }
      ],
      "source": [
        "classifier=baseline_dense\n",
        "y_predict = np.argmax(classifier.predict(x_test), axis=-1)"
      ]
    },
    {
      "cell_type": "code",
      "execution_count": null,
      "metadata": {
        "colab": {
          "base_uri": "https://localhost:8080/",
          "height": 962
        },
        "id": "pIlcljo-H8hE",
        "outputId": "d9c98d9d-e36f-4dc1-bd1d-2057d6f9e148"
      },
      "outputs": [
        {
          "output_type": "stream",
          "name": "stdout",
          "text": [
            "26/26 [==============================] - 1s 34ms/step\n"
          ]
        },
        {
          "output_type": "display_data",
          "data": {
            "text/plain": [
              "<Figure size 1200x1200 with 2 Axes>"
            ],
            "image/png": "[encoded data removed]"
          },
          "metadata": {}
        }
      ],
      "source": [
        "cancer_classes=np.unique(y_test)\n",
        "\n",
        "pred = baseline_dense.predict(x_test)\n",
        "\n",
        "y_pred = np.argmax(pred, axis=1)\n",
        "confusion_mtx = confusion_matrix(y_pred, y_test)\n",
        "f,ax = plt.subplots(figsize=(12, 12))\n",
        "sns.heatmap(confusion_mtx, annot=True, \n",
        "            linewidths=0.01,\n",
        "            linecolor=\"white\", \n",
        "            fmt= '.1f',ax=ax,)\n",
        "sns.color_palette(\"rocket\", as_cmap=True)\n",
        "\n",
        "plt.xlabel(\"Predicted Label\")\n",
        "plt.ylabel(\"True Label\")\n",
        "ax.xaxis.set_ticklabels(cancer_classes)\n",
        "ax.yaxis.set_ticklabels(cancer_classes)\n",
        "plt.title(\"Confusion Matrix\")\n",
        "plt.show()"
      ]
    },
    {
      "cell_type": "code",
      "execution_count": null,
      "metadata": {
        "colab": {
          "base_uri": "https://localhost:8080/",
          "height": 300
        },
        "id": "7KpWM0riH9XJ",
        "outputId": "79572cef-0b76-4f0e-d0de-16aca4285066"
      },
      "outputs": [
        {
          "output_type": "execute_result",
          "data": {
            "text/plain": [
              "              precision    recall  f1-score     support\n",
              "0              0.950311  0.938650  0.944444  163.000000\n",
              "1              0.891304  0.745455  0.811881  165.000000\n",
              "2              0.888235  0.949686  0.917933  159.000000\n",
              "3              0.906433  0.981013  0.942249  158.000000\n",
              "4              0.953488  0.982036  0.967552  167.000000\n",
              "accuracy       0.918719  0.918719  0.918719    0.918719\n",
              "macro avg      0.917954  0.919368  0.916812  812.000000\n",
              "weighted avg   0.918281  0.918719  0.916641  812.000000"
            ],
            "text/html": [
              "\n",
              "  <div id=\"df-4fa972f6-d37a-4324-953a-3f580d763e52\">\n",
              "    <div class=\"colab-df-container\">\n",
              "      <div>\n",
              "<style scoped>\n",
              "    .dataframe tbody tr th:only-of-type {\n",
              "        vertical-align: middle;\n",
              "    }\n",
              "\n",
              "    .dataframe tbody tr th {\n",
              "        vertical-align: top;\n",
              "    }\n",
              "\n",
              "    .dataframe thead th {\n",
              "        text-align: right;\n",
              "    }\n",
              "</style>\n",
              "<table border=\"1\" class=\"dataframe\">\n",
              "  <thead>\n",
              "    <tr style=\"text-align: right;\">\n",
              "      <th></th>\n",
              "      <th>precision</th>\n",
              "      <th>recall</th>\n",
              "      <th>f1-score</th>\n",
              "      <th>support</th>\n",
              "    </tr>\n",
              "  </thead>\n",
              "  <tbody>\n",
              "    <tr>\n",
              "      <th>0</th>\n",
              "      <td>0.950311</td>\n",
              "      <td>0.938650</td>\n",
              "      <td>0.944444</td>\n",
              "      <td>163.000000</td>\n",
              "    </tr>\n",
              "    <tr>\n",
              "      <th>1</th>\n",
              "      <td>0.891304</td>\n",
              "      <td>0.745455</td>\n",
              "      <td>0.811881</td>\n",
              "      <td>165.000000</td>\n",
              "    </tr>\n",
              "    <tr>\n",
              "      <th>2</th>\n",
              "      <td>0.888235</td>\n",
              "      <td>0.949686</td>\n",
              "      <td>0.917933</td>\n",
              "      <td>159.000000</td>\n",
              "    </tr>\n",
              "    <tr>\n",
              "      <th>3</th>\n",
              "      <td>0.906433</td>\n",
              "      <td>0.981013</td>\n",
              "      <td>0.942249</td>\n",
              "      <td>158.000000</td>\n",
              "    </tr>\n",
              "    <tr>\n",
              "      <th>4</th>\n",
              "      <td>0.953488</td>\n",
              "      <td>0.982036</td>\n",
              "      <td>0.967552</td>\n",
              "      <td>167.000000</td>\n",
              "    </tr>\n",
              "    <tr>\n",
              "      <th>accuracy</th>\n",
              "      <td>0.918719</td>\n",
              "      <td>0.918719</td>\n",
              "      <td>0.918719</td>\n",
              "      <td>0.918719</td>\n",
              "    </tr>\n",
              "    <tr>\n",
              "      <th>macro avg</th>\n",
              "      <td>0.917954</td>\n",
              "      <td>0.919368</td>\n",
              "      <td>0.916812</td>\n",
              "      <td>812.000000</td>\n",
              "    </tr>\n",
              "    <tr>\n",
              "      <th>weighted avg</th>\n",
              "      <td>0.918281</td>\n",
              "      <td>0.918719</td>\n",
              "      <td>0.916641</td>\n",
              "      <td>812.000000</td>\n",
              "    </tr>\n",
              "  </tbody>\n",
              "</table>\n",
              "</div>\n",
              "      <button class=\"colab-df-convert\" onclick=\"convertToInteractive('df-4fa972f6-d37a-4324-953a-3f580d763e52')\"\n",
              "              title=\"Convert this dataframe to an interactive table.\"\n",
              "              style=\"display:none;\">\n",
              "        \n",
              "  <svg xmlns=\"http://www.w3.org/2000/svg\" height=\"24px\"viewBox=\"0 0 24 24\"\n",
              "       width=\"24px\">\n",
              "    <path d=\"M0 0h24v24H0V0z\" fill=\"none\"/>\n",
              "    <path d=\"M18.56 5.44l.94 2.06.94-2.06 2.06-.94-2.06-.94-.94-2.06-.94 2.06-2.06.94zm-11 1L8.5 8.5l.94-2.06 2.06-.94-2.06-.94L8.5 2.5l-.94 2.06-2.06.94zm10 10l.94 2.06.94-2.06 2.06-.94-2.06-.94-.94-2.06-.94 2.06-2.06.94z\"/><path d=\"M17.41 7.96l-1.37-1.37c-.4-.4-.92-.59-1.43-.59-.52 0-1.04.2-1.43.59L10.3 9.45l-7.72 7.72c-.78.78-.78 2.05 0 2.83L4 21.41c.39.39.9.59 1.41.59.51 0 1.02-.2 1.41-.59l7.78-7.78 2.81-2.81c.8-.78.8-2.07 0-2.86zM5.41 20L4 18.59l7.72-7.72 1.47 1.35L5.41 20z\"/>\n",
              "  </svg>\n",
              "      </button>\n",
              "      \n",
              "  <style>\n",
              "    .colab-df-container {\n",
              "      display:flex;\n",
              "      flex-wrap:wrap;\n",
              "      gap: 12px;\n",
              "    }\n",
              "\n",
              "    .colab-df-convert {\n",
              "      background-color: #E8F0FE;\n",
              "      border: none;\n",
              "      border-radius: 50%;\n",
              "      cursor: pointer;\n",
              "      display: none;\n",
              "      fill: #1967D2;\n",
              "      height: 32px;\n",
              "      padding: 0 0 0 0;\n",
              "      width: 32px;\n",
              "    }\n",
              "\n",
              "    .colab-df-convert:hover {\n",
              "      background-color: #E2EBFA;\n",
              "      box-shadow: 0px 1px 2px rgba(60, 64, 67, 0.3), 0px 1px 3px 1px rgba(60, 64, 67, 0.15);\n",
              "      fill: #174EA6;\n",
              "    }\n",
              "\n",
              "    [theme=dark] .colab-df-convert {\n",
              "      background-color: #3B4455;\n",
              "      fill: #D2E3FC;\n",
              "    }\n",
              "\n",
              "    [theme=dark] .colab-df-convert:hover {\n",
              "      background-color: #434B5C;\n",
              "      box-shadow: 0px 1px 3px 1px rgba(0, 0, 0, 0.15);\n",
              "      filter: drop-shadow(0px 1px 2px rgba(0, 0, 0, 0.3));\n",
              "      fill: #FFFFFF;\n",
              "    }\n",
              "  </style>\n",
              "\n",
              "      <script>\n",
              "        const buttonEl =\n",
              "          document.querySelector('#df-4fa972f6-d37a-4324-953a-3f580d763e52 button.colab-df-convert');\n",
              "        buttonEl.style.display =\n",
              "          google.colab.kernel.accessAllowed ? 'block' : 'none';\n",
              "\n",
              "        async function convertToInteractive(key) {\n",
              "          const element = document.querySelector('#df-4fa972f6-d37a-4324-953a-3f580d763e52');\n",
              "          const dataTable =\n",
              "            await google.colab.kernel.invokeFunction('convertToInteractive',\n",
              "                                                     [key], {});\n",
              "          if (!dataTable) return;\n",
              "\n",
              "          const docLinkHtml = 'Like what you see? Visit the ' +\n",
              "            '<a target=\"_blank\" href=https://colab.research.google.com/notebooks/data_table.ipynb>data table notebook</a>'\n",
              "            + ' to learn more about interactive tables.';\n",
              "          element.innerHTML = '';\n",
              "          dataTable['output_type'] = 'display_data';\n",
              "          await google.colab.output.renderOutput(dataTable, element);\n",
              "          const docLink = document.createElement('div');\n",
              "          docLink.innerHTML = docLinkHtml;\n",
              "          element.appendChild(docLink);\n",
              "        }\n",
              "      </script>\n",
              "    </div>\n",
              "  </div>\n",
              "  "
            ]
          },
          "metadata": {},
          "execution_count": 23
        }
      ],
      "source": [
        "report_base = classification_report(y_test, y_pred, target_names=cancer_classes, output_dict=True)\n",
        "df12 = pd.DataFrame(report_base).transpose()\n",
        "df12"
      ]
    },
    {
      "cell_type": "markdown",
      "metadata": {
        "id": "MOjZ5lGpIZoq"
      },
      "source": [
        "# N-pair loss"
      ]
    },
    {
      "cell_type": "code",
      "execution_count": null,
      "metadata": {
        "id": "RWkaIH5vFqfb"
      },
      "outputs": [],
      "source": [
        "class SupervisedContrastiveLoss(keras.losses.Loss):\n",
        "    def __init__(self, temperature=1, name=None):\n",
        "        super().__init__(name=name)\n",
        "        self.temperature = temperature\n",
        "\n",
        "    def __call__(self, labels, feature_vectors, sample_weight=None):\n",
        "        # Normalize feature vectors\n",
        "        feature_vectors_normalized = tf.math.l2_normalize(feature_vectors, axis=1)\n",
        "        # Compute logits\n",
        "        logits = tf.divide(\n",
        "            tf.matmul(\n",
        "                feature_vectors_normalized, tf.transpose(feature_vectors_normalized)\n",
        "            ),\n",
        "            self.temperature,\n",
        "        )\n",
        "        return tfa.losses.npairs_loss(tf.squeeze(labels), logits)\n",
        "\n",
        "\n",
        "def add_projection_head(encoder):\n",
        "    inputs = keras.Input(shape=input_shape)\n",
        "    features = encoder(inputs)\n",
        "    outputs = layers.Dense(projection_units, activation=\"relu\")(features)\n",
        "    model = keras.Model(\n",
        "        inputs=inputs, outputs=outputs, name=\"densenet-encoder_with_projection-head\"\n",
        "    )\n",
        "    return model"
      ]
    },
    {
      "cell_type": "code",
      "execution_count": null,
      "metadata": {
        "colab": {
          "base_uri": "https://localhost:8080/"
        },
        "id": "DRrZdo_OFqfc",
        "outputId": "713e67c2-109c-4e41-ba8a-a94022a63926"
      },
      "outputs": [
        {
          "output_type": "stream",
          "name": "stdout",
          "text": [
            "Model: \"densenet-encoder_with_projection-head\"\n",
            "_________________________________________________________________\n",
            " Layer (type)                Output Shape              Param #   \n",
            "=================================================================\n",
            " input_8 (InputLayer)        [(None, 110, 110, 3)]     0         \n",
            "                                                                 \n",
            " densenet-encoder (Functiona  (None, 1664)             12642887  \n",
            " l)                                                              \n",
            "                                                                 \n",
            " dense_2 (Dense)             (None, 128)               213120    \n",
            "                                                                 \n",
            "=================================================================\n",
            "Total params: 12,856,007\n",
            "Trainable params: 12,697,600\n",
            "Non-trainable params: 158,407\n",
            "_________________________________________________________________\n",
            "Epoch 1/50\n",
            "567/567 [==============================] - 199s 154ms/step - loss: 3.1844\n",
            "Epoch 2/50\n",
            "567/567 [==============================] - 87s 154ms/step - loss: 3.0937\n",
            "Epoch 3/50\n",
            "567/567 [==============================] - 89s 158ms/step - loss: 3.0060\n",
            "Epoch 4/50\n",
            "567/567 [==============================] - 88s 154ms/step - loss: 2.9320\n",
            "Epoch 5/50\n",
            "567/567 [==============================] - 88s 156ms/step - loss: 2.8598\n",
            "Epoch 6/50\n",
            "567/567 [==============================] - 88s 155ms/step - loss: 2.8013\n",
            "Epoch 7/50\n",
            "567/567 [==============================] - 87s 153ms/step - loss: 2.7525\n",
            "Epoch 8/50\n",
            "567/567 [==============================] - 89s 158ms/step - loss: 2.7138\n",
            "Epoch 9/50\n",
            "567/567 [==============================] - 88s 156ms/step - loss: 2.6760\n",
            "Epoch 10/50\n",
            "567/567 [==============================] - 88s 155ms/step - loss: 2.6403\n",
            "Epoch 11/50\n",
            "567/567 [==============================] - 89s 156ms/step - loss: 2.6091\n",
            "Epoch 12/50\n",
            "567/567 [==============================] - 88s 156ms/step - loss: 2.5779\n",
            "Epoch 13/50\n",
            "567/567 [==============================] - 88s 156ms/step - loss: 2.5467\n",
            "Epoch 14/50\n",
            "567/567 [==============================] - 89s 157ms/step - loss: 2.5202\n",
            "Epoch 15/50\n",
            "567/567 [==============================] - 88s 156ms/step - loss: 2.4867\n",
            "Epoch 16/50\n",
            "567/567 [==============================] - 89s 156ms/step - loss: 2.4718\n",
            "Epoch 17/50\n",
            "567/567 [==============================] - 88s 155ms/step - loss: 2.4423\n",
            "Epoch 18/50\n",
            "567/567 [==============================] - 88s 154ms/step - loss: 2.4326\n",
            "Epoch 19/50\n",
            "567/567 [==============================] - 88s 155ms/step - loss: 2.4160\n",
            "Epoch 20/50\n",
            "567/567 [==============================] - 88s 156ms/step - loss: 2.3889\n",
            "Epoch 21/50\n",
            "567/567 [==============================] - 87s 153ms/step - loss: 2.3549\n",
            "Epoch 22/50\n",
            "567/567 [==============================] - 89s 156ms/step - loss: 2.3447\n",
            "Epoch 23/50\n",
            "567/567 [==============================] - 88s 155ms/step - loss: 2.3231\n",
            "Epoch 24/50\n",
            "567/567 [==============================] - 89s 157ms/step - loss: 2.3142\n",
            "Epoch 25/50\n",
            "567/567 [==============================] - 87s 153ms/step - loss: 2.3016\n",
            "Epoch 26/50\n",
            "567/567 [==============================] - 89s 157ms/step - loss: 2.2772\n",
            "Epoch 27/50\n",
            "567/567 [==============================] - 88s 155ms/step - loss: 2.2735\n",
            "Epoch 28/50\n",
            "567/567 [==============================] - 88s 156ms/step - loss: 2.2547\n",
            "Epoch 29/50\n",
            "567/567 [==============================] - 88s 155ms/step - loss: 2.2455\n",
            "Epoch 30/50\n",
            "567/567 [==============================] - 88s 156ms/step - loss: 2.2251\n",
            "Epoch 31/50\n",
            "567/567 [==============================] - 88s 154ms/step - loss: 2.2318\n",
            "Epoch 32/50\n",
            "567/567 [==============================] - 90s 158ms/step - loss: 2.2076\n",
            "Epoch 33/50\n",
            "567/567 [==============================] - 89s 157ms/step - loss: 2.1910\n",
            "Epoch 34/50\n",
            "567/567 [==============================] - 89s 156ms/step - loss: 2.2003\n",
            "Epoch 35/50\n",
            "567/567 [==============================] - 89s 157ms/step - loss: 2.1841\n",
            "Epoch 36/50\n",
            "567/567 [==============================] - 88s 156ms/step - loss: 2.1759\n",
            "Epoch 37/50\n",
            "567/567 [==============================] - 90s 159ms/step - loss: 2.1632\n",
            "Epoch 38/50\n",
            "567/567 [==============================] - 89s 156ms/step - loss: 2.1577\n",
            "Epoch 39/50\n",
            "567/567 [==============================] - 88s 155ms/step - loss: 2.1525\n",
            "Epoch 40/50\n",
            "567/567 [==============================] - 91s 160ms/step - loss: 2.1500\n",
            "Epoch 41/50\n",
            "567/567 [==============================] - 88s 155ms/step - loss: 2.1302\n",
            "Epoch 42/50\n",
            "567/567 [==============================] - 88s 155ms/step - loss: 2.1251\n",
            "Epoch 43/50\n",
            "567/567 [==============================] - 90s 158ms/step - loss: 2.1243\n",
            "Epoch 44/50\n",
            "567/567 [==============================] - 87s 153ms/step - loss: 2.1289\n",
            "Epoch 45/50\n",
            "567/567 [==============================] - 88s 156ms/step - loss: 2.1123\n",
            "Epoch 46/50\n",
            "567/567 [==============================] - 87s 154ms/step - loss: 2.1188\n",
            "Epoch 47/50\n",
            "567/567 [==============================] - 87s 153ms/step - loss: 2.1059\n",
            "Epoch 48/50\n",
            "567/567 [==============================] - 88s 155ms/step - loss: 2.0988\n",
            "Epoch 49/50\n",
            "567/567 [==============================] - 87s 154ms/step - loss: 2.0955\n",
            "Epoch 50/50\n",
            "567/567 [==============================] - 88s 156ms/step - loss: 2.0966\n"
          ]
        }
      ],
      "source": [
        "encoder = create_encoder()\n",
        "\n",
        "encoder_with_projection_head = add_projection_head(encoder)\n",
        "encoder_with_projection_head.compile(\n",
        "    optimizer=keras.optimizers.Adam(learning_rate),\n",
        "    loss=SupervisedContrastiveLoss(temperature),\n",
        ")\n",
        "\n",
        "encoder_with_projection_head.summary()\n",
        "\n",
        "history = encoder_with_projection_head.fit(\n",
        "    x=x_train, y=y_train, batch_size=batch_size, epochs=num_epochs\n",
        ")"
      ]
    },
    {
      "cell_type": "code",
      "execution_count": null,
      "metadata": {
        "id": "FukUo3HE9lXC"
      },
      "outputs": [],
      "source": [
        "encoder_with_projection_head.save(save_path + 'Contrastive_npairloss_densent.h5')\n",
        "encoder_with_projection_head.save_weights(save_path1 + \"Weights_Contrastive_npairloss_densenet.h5\")"
      ]
    },
    {
      "cell_type": "code",
      "execution_count": null,
      "metadata": {
        "id": "XCErdBWYFqfc",
        "colab": {
          "base_uri": "https://localhost:8080/"
        },
        "outputId": "fc2302ae-79d9-4666-ec10-177212d9a50b"
      },
      "outputs": [
        {
          "output_type": "stream",
          "name": "stdout",
          "text": [
            "Epoch 1/50\n",
            "567/567 [==============================] - ETA: 0s - loss: 0.1772 - sparse_categorical_accuracy: 0.9438\n",
            "Epoch 1: sparse_categorical_accuracy did not improve from 0.95663\n",
            "567/567 [==============================] - 36s 43ms/step - loss: 0.1772 - sparse_categorical_accuracy: 0.9438 - lr: 1.0000e-04\n",
            "Epoch 2/50\n",
            "566/567 [============================>.] - ETA: 0s - loss: 0.0771 - sparse_categorical_accuracy: 0.9763\n",
            "Epoch 2: sparse_categorical_accuracy improved from 0.95663 to 0.97622, saving model to saved_models/baseline_model_densenet.hdf5\n",
            "567/567 [==============================] - 25s 45ms/step - loss: 0.0772 - sparse_categorical_accuracy: 0.9762 - lr: 1.0000e-04\n",
            "Epoch 3/50\n",
            "567/567 [==============================] - ETA: 0s - loss: 0.0708 - sparse_categorical_accuracy: 0.9781\n",
            "Epoch 3: sparse_categorical_accuracy improved from 0.97622 to 0.97809, saving model to saved_models/baseline_model_densenet.hdf5\n",
            "567/567 [==============================] - 26s 45ms/step - loss: 0.0708 - sparse_categorical_accuracy: 0.9781 - lr: 1.0000e-04\n",
            "Epoch 4/50\n",
            "567/567 [==============================] - ETA: 0s - loss: 0.0656 - sparse_categorical_accuracy: 0.9787\n",
            "Epoch 4: sparse_categorical_accuracy improved from 0.97809 to 0.97870, saving model to saved_models/baseline_model_densenet.hdf5\n",
            "567/567 [==============================] - 26s 45ms/step - loss: 0.0656 - sparse_categorical_accuracy: 0.9787 - lr: 1.0000e-04\n",
            "Epoch 5/50\n",
            "567/567 [==============================] - ETA: 0s - loss: 0.0628 - sparse_categorical_accuracy: 0.9804\n",
            "Epoch 5: sparse_categorical_accuracy improved from 0.97870 to 0.98041, saving model to saved_models/baseline_model_densenet.hdf5\n",
            "567/567 [==============================] - 29s 51ms/step - loss: 0.0628 - sparse_categorical_accuracy: 0.9804 - lr: 1.0000e-04\n",
            "Epoch 6/50\n",
            "567/567 [==============================] - ETA: 0s - loss: 0.0612 - sparse_categorical_accuracy: 0.9801\n",
            "Epoch 6: sparse_categorical_accuracy did not improve from 0.98041\n",
            "567/567 [==============================] - 25s 43ms/step - loss: 0.0612 - sparse_categorical_accuracy: 0.9801 - lr: 1.0000e-04\n",
            "Epoch 7/50\n",
            "567/567 [==============================] - ETA: 0s - loss: 0.0631 - sparse_categorical_accuracy: 0.9801\n",
            "Epoch 7: sparse_categorical_accuracy did not improve from 0.98041\n",
            "567/567 [==============================] - 25s 45ms/step - loss: 0.0631 - sparse_categorical_accuracy: 0.9801 - lr: 1.0000e-04\n",
            "Epoch 8/50\n",
            "567/567 [==============================] - ETA: 0s - loss: 0.0636 - sparse_categorical_accuracy: 0.9793\n",
            "Epoch 8: sparse_categorical_accuracy did not improve from 0.98041\n",
            "567/567 [==============================] - 25s 45ms/step - loss: 0.0636 - sparse_categorical_accuracy: 0.9793 - lr: 1.0000e-04\n",
            "Epoch 9/50\n",
            "567/567 [==============================] - ETA: 0s - loss: 0.0530 - sparse_categorical_accuracy: 0.9818\n",
            "Epoch 9: sparse_categorical_accuracy improved from 0.98041 to 0.98185, saving model to saved_models/baseline_model_densenet.hdf5\n",
            "567/567 [==============================] - 26s 46ms/step - loss: 0.0530 - sparse_categorical_accuracy: 0.9818 - lr: 2.0000e-05\n",
            "Epoch 10/50\n",
            "567/567 [==============================] - ETA: 0s - loss: 0.0519 - sparse_categorical_accuracy: 0.9824\n",
            "Epoch 10: sparse_categorical_accuracy improved from 0.98185 to 0.98240, saving model to saved_models/baseline_model_densenet.hdf5\n",
            "567/567 [==============================] - 26s 46ms/step - loss: 0.0519 - sparse_categorical_accuracy: 0.9824 - lr: 2.0000e-05\n",
            "Epoch 11/50\n",
            "567/567 [==============================] - ETA: 0s - loss: 0.0558 - sparse_categorical_accuracy: 0.9812\n",
            "Epoch 11: sparse_categorical_accuracy did not improve from 0.98240\n",
            "567/567 [==============================] - 25s 44ms/step - loss: 0.0558 - sparse_categorical_accuracy: 0.9812 - lr: 2.0000e-05\n",
            "Epoch 12/50\n",
            "567/567 [==============================] - ETA: 0s - loss: 0.0518 - sparse_categorical_accuracy: 0.9824\n",
            "Epoch 12: sparse_categorical_accuracy did not improve from 0.98240\n",
            "567/567 [==============================] - 25s 44ms/step - loss: 0.0518 - sparse_categorical_accuracy: 0.9824 - lr: 2.0000e-05\n",
            "Epoch 13/50\n",
            "567/567 [==============================] - ETA: 0s - loss: 0.0533 - sparse_categorical_accuracy: 0.9823\n",
            "Epoch 13: sparse_categorical_accuracy did not improve from 0.98240\n",
            "567/567 [==============================] - 27s 47ms/step - loss: 0.0533 - sparse_categorical_accuracy: 0.9823 - lr: 2.0000e-05\n",
            "Epoch 14/50\n",
            "567/567 [==============================] - ETA: 0s - loss: 0.0494 - sparse_categorical_accuracy: 0.9833\n",
            "Epoch 14: sparse_categorical_accuracy improved from 0.98240 to 0.98334, saving model to saved_models/baseline_model_densenet.hdf5\n",
            "567/567 [==============================] - 27s 47ms/step - loss: 0.0494 - sparse_categorical_accuracy: 0.9833 - lr: 2.0000e-05\n",
            "Epoch 15/50\n",
            "567/567 [==============================] - ETA: 0s - loss: 0.0547 - sparse_categorical_accuracy: 0.9822\n",
            "Epoch 15: sparse_categorical_accuracy did not improve from 0.98334\n",
            "567/567 [==============================] - 25s 45ms/step - loss: 0.0547 - sparse_categorical_accuracy: 0.9822 - lr: 2.0000e-05\n",
            "Epoch 16/50\n",
            "567/567 [==============================] - ETA: 0s - loss: 0.0536 - sparse_categorical_accuracy: 0.9819\n",
            "Epoch 16: sparse_categorical_accuracy did not improve from 0.98334\n",
            "567/567 [==============================] - 25s 44ms/step - loss: 0.0536 - sparse_categorical_accuracy: 0.9819 - lr: 2.0000e-05\n",
            "Epoch 17/50\n",
            "567/567 [==============================] - ETA: 0s - loss: 0.0527 - sparse_categorical_accuracy: 0.9811\n",
            "Epoch 17: sparse_categorical_accuracy did not improve from 0.98334\n",
            "567/567 [==============================] - 25s 44ms/step - loss: 0.0527 - sparse_categorical_accuracy: 0.9811 - lr: 1.0000e-05\n",
            "Epoch 17: early stopping\n"
          ]
        }
      ],
      "source": [
        "classifier = create_classifier(encoder, trainable=False)\n",
        "\n",
        "history = classifier.fit(x=x_train, y=y_train, batch_size=batch_size, epochs=num_epochs,callbacks=callbacks)"
      ]
    },
    {
      "cell_type": "code",
      "execution_count": null,
      "metadata": {
        "id": "wubug80UrsGF"
      },
      "outputs": [],
      "source": [
        "classifier.save(save_path + 'Contrastive_npair_densenet.h5')\n",
        "classifier.save_weights(save_path1 + \"Weights_Contrastive_npair_densenet.h5\")"
      ]
    },
    {
      "cell_type": "code",
      "execution_count": null,
      "metadata": {
        "id": "SoaCLSY8Fqfc",
        "colab": {
          "base_uri": "https://localhost:8080/"
        },
        "outputId": "b97eb653-b5ad-44e3-ba52-8d7569e6bbc9"
      },
      "outputs": [
        {
          "output_type": "stream",
          "name": "stdout",
          "text": [
            "26/26 [==============================] - 5s 51ms/step - loss: 0.3704 - sparse_categorical_accuracy: 0.9347\n",
            "Test accuracy: 93.47%\n"
          ]
        }
      ],
      "source": [
        "accuracy = classifier.evaluate(x_test, y_test)[1]\n",
        "print(f\"Test accuracy: {round(accuracy * 100, 2)}%\")"
      ]
    },
    {
      "cell_type": "code",
      "execution_count": null,
      "metadata": {
        "id": "F3fPhCLAFqfc",
        "colab": {
          "base_uri": "https://localhost:8080/"
        },
        "outputId": "dbf8861c-7cf2-4cd1-ab2c-44da48188a47"
      },
      "outputs": [
        {
          "output_type": "stream",
          "name": "stdout",
          "text": [
            "26/26 [==============================] - 4s 38ms/step\n"
          ]
        }
      ],
      "source": [
        "y_predict = np.argmax(classifier.predict(x_test), axis=-1)"
      ]
    },
    {
      "cell_type": "code",
      "execution_count": null,
      "metadata": {
        "id": "fnd6VpCdFqfc",
        "colab": {
          "base_uri": "https://localhost:8080/"
        },
        "outputId": "075bbdd6-6c9a-4f25-f647-395b8a1686df"
      },
      "outputs": [
        {
          "output_type": "execute_result",
          "data": {
            "text/plain": [
              "array([[155,   7,   0,   1,   0],\n",
              "       [  7, 141,   7,   6,   4],\n",
              "       [  0,   6, 147,   4,   2],\n",
              "       [  0,   0,   3, 155,   0],\n",
              "       [  0,   2,   3,   1, 161]])"
            ]
          },
          "metadata": {},
          "execution_count": 31
        }
      ],
      "source": [
        "confusion_matrix(y_test, y_predict)"
      ]
    },
    {
      "cell_type": "code",
      "execution_count": null,
      "metadata": {
        "id": "L7gIONaTFqfc",
        "colab": {
          "base_uri": "https://localhost:8080/",
          "height": 433
        },
        "outputId": "49c4c73d-7e11-4a3f-893b-9b87ff07526e"
      },
      "outputs": [
        {
          "output_type": "display_data",
          "data": {
            "text/plain": [
              "<Figure size 640x480 with 2 Axes>"
            ],
            "image/png": "[encoded data removed]"
          },
          "metadata": {}
        }
      ],
      "source": [
        "cm = confusion_matrix(y_test, y_predict)\n",
        "f = sns.heatmap(cm, annot=True)"
      ]
    },
    {
      "cell_type": "code",
      "execution_count": null,
      "metadata": {
        "id": "jk1UplSXFqfd",
        "colab": {
          "base_uri": "https://localhost:8080/"
        },
        "outputId": "2a3786fe-850c-4c96-ede0-96faf48ded15"
      },
      "outputs": [
        {
          "output_type": "stream",
          "name": "stdout",
          "text": [
            "              precision    recall  f1-score   support\n",
            "\n",
            "           0       0.96      0.95      0.95       163\n",
            "           1       0.90      0.85      0.88       165\n",
            "           2       0.92      0.92      0.92       159\n",
            "           3       0.93      0.98      0.95       158\n",
            "           4       0.96      0.96      0.96       167\n",
            "\n",
            "    accuracy                           0.93       812\n",
            "   macro avg       0.93      0.94      0.93       812\n",
            "weighted avg       0.93      0.93      0.93       812\n",
            "\n"
          ]
        }
      ],
      "source": [
        "print(classification_report(y_test, y_predict))"
      ]
    },
    {
      "cell_type": "code",
      "execution_count": null,
      "metadata": {
        "id": "_F51VeA5LOYO"
      },
      "outputs": [],
      "source": [
        "classifier.save(save_path + 'Contrastive_npair_densenet.h5')\n",
        "classifier.save_weights(save_path1 + \"Weights_Contrastive_npair_densenet.h5\")"
      ]
    },
    {
      "cell_type": "code",
      "execution_count": null,
      "metadata": {
        "id": "hI2NnHiyLYLs"
      },
      "outputs": [],
      "source": [
        "npair_dense=load_model(save_path + 'Contrastive_npair_densenet.h5')"
      ]
    },
    {
      "cell_type": "code",
      "execution_count": null,
      "metadata": {
        "id": "RYzKptWRLekp",
        "colab": {
          "base_uri": "https://localhost:8080/"
        },
        "outputId": "f72a4dce-91db-4a0d-96d0-6ff4d444911e"
      },
      "outputs": [
        {
          "output_type": "stream",
          "name": "stdout",
          "text": [
            "26/26 [==============================] - 4s 43ms/step - loss: 0.3704 - sparse_categorical_accuracy: 0.9347\n",
            "Test accuracy: 93.47%\n"
          ]
        }
      ],
      "source": [
        "accuracy = npair_dense.evaluate(x_test, y_test)[1]\n",
        "print(f\"Test accuracy: {round(accuracy * 100, 2)}%\")"
      ]
    },
    {
      "cell_type": "code",
      "execution_count": null,
      "metadata": {
        "id": "FcFHbLEALpLU",
        "colab": {
          "base_uri": "https://localhost:8080/",
          "height": 962
        },
        "outputId": "82320074-88cf-4e44-9ab8-fdbcaa7c9903"
      },
      "outputs": [
        {
          "output_type": "stream",
          "name": "stdout",
          "text": [
            "26/26 [==============================] - 4s 43ms/step\n"
          ]
        },
        {
          "output_type": "display_data",
          "data": {
            "text/plain": [
              "<Figure size 1200x1200 with 2 Axes>"
            ],
            "image/png": "[encoded data removed]"
          },
          "metadata": {}
        }
      ],
      "source": [
        "pred = npair_dense.predict(x_test)\n",
        "cancer_classes=np.unique(y_test)\n",
        "y_pred = np.argmax(pred, axis=1)\n",
        "confusion_mtx = confusion_matrix(y_pred, y_test)\n",
        "f,ax = plt.subplots(figsize=(12, 12))\n",
        "sns.heatmap(confusion_mtx, annot=True, \n",
        "            linewidths=0.01,\n",
        "            linecolor=\"white\", \n",
        "            fmt= '.1f',ax=ax,)\n",
        "sns.color_palette(\"rocket\", as_cmap=True)\n",
        "\n",
        "plt.xlabel(\"Predicted Label\")\n",
        "plt.ylabel(\"True Label\")\n",
        "ax.xaxis.set_ticklabels(cancer_classes)\n",
        "ax.yaxis.set_ticklabels(cancer_classes)\n",
        "plt.title(\"Confusion Matrix\")\n",
        "plt.show()"
      ]
    },
    {
      "cell_type": "code",
      "execution_count": null,
      "metadata": {
        "id": "EjiPrGDyLrO9",
        "colab": {
          "base_uri": "https://localhost:8080/",
          "height": 300
        },
        "outputId": "e2c23c11-42b7-4e27-ed00-e69299c6cc14"
      },
      "outputs": [
        {
          "output_type": "execute_result",
          "data": {
            "text/plain": [
              "              precision    recall  f1-score     support\n",
              "0              0.956790  0.950920  0.953846  163.000000\n",
              "1              0.903846  0.854545  0.878505  165.000000\n",
              "2              0.918750  0.924528  0.921630  159.000000\n",
              "3              0.928144  0.981013  0.953846  158.000000\n",
              "4              0.964072  0.964072  0.964072  167.000000\n",
              "accuracy       0.934729  0.934729  0.934729    0.934729\n",
              "macro avg      0.934320  0.935016  0.934380  812.000000\n",
              "weighted avg   0.934507  0.934729  0.934331  812.000000"
            ],
            "text/html": [
              "\n",
              "  <div id=\"df-46673f9e-1da2-498d-bedf-aeb765795d4e\">\n",
              "    <div class=\"colab-df-container\">\n",
              "      <div>\n",
              "<style scoped>\n",
              "    .dataframe tbody tr th:only-of-type {\n",
              "        vertical-align: middle;\n",
              "    }\n",
              "\n",
              "    .dataframe tbody tr th {\n",
              "        vertical-align: top;\n",
              "    }\n",
              "\n",
              "    .dataframe thead th {\n",
              "        text-align: right;\n",
              "    }\n",
              "</style>\n",
              "<table border=\"1\" class=\"dataframe\">\n",
              "  <thead>\n",
              "    <tr style=\"text-align: right;\">\n",
              "      <th></th>\n",
              "      <th>precision</th>\n",
              "      <th>recall</th>\n",
              "      <th>f1-score</th>\n",
              "      <th>support</th>\n",
              "    </tr>\n",
              "  </thead>\n",
              "  <tbody>\n",
              "    <tr>\n",
              "      <th>0</th>\n",
              "      <td>0.956790</td>\n",
              "      <td>0.950920</td>\n",
              "      <td>0.953846</td>\n",
              "      <td>163.000000</td>\n",
              "    </tr>\n",
              "    <tr>\n",
              "      <th>1</th>\n",
              "      <td>0.903846</td>\n",
              "      <td>0.854545</td>\n",
              "      <td>0.878505</td>\n",
              "      <td>165.000000</td>\n",
              "    </tr>\n",
              "    <tr>\n",
              "      <th>2</th>\n",
              "      <td>0.918750</td>\n",
              "      <td>0.924528</td>\n",
              "      <td>0.921630</td>\n",
              "      <td>159.000000</td>\n",
              "    </tr>\n",
              "    <tr>\n",
              "      <th>3</th>\n",
              "      <td>0.928144</td>\n",
              "      <td>0.981013</td>\n",
              "      <td>0.953846</td>\n",
              "      <td>158.000000</td>\n",
              "    </tr>\n",
              "    <tr>\n",
              "      <th>4</th>\n",
              "      <td>0.964072</td>\n",
              "      <td>0.964072</td>\n",
              "      <td>0.964072</td>\n",
              "      <td>167.000000</td>\n",
              "    </tr>\n",
              "    <tr>\n",
              "      <th>accuracy</th>\n",
              "      <td>0.934729</td>\n",
              "      <td>0.934729</td>\n",
              "      <td>0.934729</td>\n",
              "      <td>0.934729</td>\n",
              "    </tr>\n",
              "    <tr>\n",
              "      <th>macro avg</th>\n",
              "      <td>0.934320</td>\n",
              "      <td>0.935016</td>\n",
              "      <td>0.934380</td>\n",
              "      <td>812.000000</td>\n",
              "    </tr>\n",
              "    <tr>\n",
              "      <th>weighted avg</th>\n",
              "      <td>0.934507</td>\n",
              "      <td>0.934729</td>\n",
              "      <td>0.934331</td>\n",
              "      <td>812.000000</td>\n",
              "    </tr>\n",
              "  </tbody>\n",
              "</table>\n",
              "</div>\n",
              "      <button class=\"colab-df-convert\" onclick=\"convertToInteractive('df-46673f9e-1da2-498d-bedf-aeb765795d4e')\"\n",
              "              title=\"Convert this dataframe to an interactive table.\"\n",
              "              style=\"display:none;\">\n",
              "        \n",
              "  <svg xmlns=\"http://www.w3.org/2000/svg\" height=\"24px\"viewBox=\"0 0 24 24\"\n",
              "       width=\"24px\">\n",
              "    <path d=\"M0 0h24v24H0V0z\" fill=\"none\"/>\n",
              "    <path d=\"M18.56 5.44l.94 2.06.94-2.06 2.06-.94-2.06-.94-.94-2.06-.94 2.06-2.06.94zm-11 1L8.5 8.5l.94-2.06 2.06-.94-2.06-.94L8.5 2.5l-.94 2.06-2.06.94zm10 10l.94 2.06.94-2.06 2.06-.94-2.06-.94-.94-2.06-.94 2.06-2.06.94z\"/><path d=\"M17.41 7.96l-1.37-1.37c-.4-.4-.92-.59-1.43-.59-.52 0-1.04.2-1.43.59L10.3 9.45l-7.72 7.72c-.78.78-.78 2.05 0 2.83L4 21.41c.39.39.9.59 1.41.59.51 0 1.02-.2 1.41-.59l7.78-7.78 2.81-2.81c.8-.78.8-2.07 0-2.86zM5.41 20L4 18.59l7.72-7.72 1.47 1.35L5.41 20z\"/>\n",
              "  </svg>\n",
              "      </button>\n",
              "      \n",
              "  <style>\n",
              "    .colab-df-container {\n",
              "      display:flex;\n",
              "      flex-wrap:wrap;\n",
              "      gap: 12px;\n",
              "    }\n",
              "\n",
              "    .colab-df-convert {\n",
              "      background-color: #E8F0FE;\n",
              "      border: none;\n",
              "      border-radius: 50%;\n",
              "      cursor: pointer;\n",
              "      display: none;\n",
              "      fill: #1967D2;\n",
              "      height: 32px;\n",
              "      padding: 0 0 0 0;\n",
              "      width: 32px;\n",
              "    }\n",
              "\n",
              "    .colab-df-convert:hover {\n",
              "      background-color: #E2EBFA;\n",
              "      box-shadow: 0px 1px 2px rgba(60, 64, 67, 0.3), 0px 1px 3px 1px rgba(60, 64, 67, 0.15);\n",
              "      fill: #174EA6;\n",
              "    }\n",
              "\n",
              "    [theme=dark] .colab-df-convert {\n",
              "      background-color: #3B4455;\n",
              "      fill: #D2E3FC;\n",
              "    }\n",
              "\n",
              "    [theme=dark] .colab-df-convert:hover {\n",
              "      background-color: #434B5C;\n",
              "      box-shadow: 0px 1px 3px 1px rgba(0, 0, 0, 0.15);\n",
              "      filter: drop-shadow(0px 1px 2px rgba(0, 0, 0, 0.3));\n",
              "      fill: #FFFFFF;\n",
              "    }\n",
              "  </style>\n",
              "\n",
              "      <script>\n",
              "        const buttonEl =\n",
              "          document.querySelector('#df-46673f9e-1da2-498d-bedf-aeb765795d4e button.colab-df-convert');\n",
              "        buttonEl.style.display =\n",
              "          google.colab.kernel.accessAllowed ? 'block' : 'none';\n",
              "\n",
              "        async function convertToInteractive(key) {\n",
              "          const element = document.querySelector('#df-46673f9e-1da2-498d-bedf-aeb765795d4e');\n",
              "          const dataTable =\n",
              "            await google.colab.kernel.invokeFunction('convertToInteractive',\n",
              "                                                     [key], {});\n",
              "          if (!dataTable) return;\n",
              "\n",
              "          const docLinkHtml = 'Like what you see? Visit the ' +\n",
              "            '<a target=\"_blank\" href=https://colab.research.google.com/notebooks/data_table.ipynb>data table notebook</a>'\n",
              "            + ' to learn more about interactive tables.';\n",
              "          element.innerHTML = '';\n",
              "          dataTable['output_type'] = 'display_data';\n",
              "          await google.colab.output.renderOutput(dataTable, element);\n",
              "          const docLink = document.createElement('div');\n",
              "          docLink.innerHTML = docLinkHtml;\n",
              "          element.appendChild(docLink);\n",
              "        }\n",
              "      </script>\n",
              "    </div>\n",
              "  </div>\n",
              "  "
            ]
          },
          "metadata": {},
          "execution_count": 38
        }
      ],
      "source": [
        "report_npair = classification_report(y_test, y_pred, target_names=cancer_classes, output_dict=True)\n",
        "df2 = pd.DataFrame(report_npair).transpose()\n",
        "df2"
      ]
    }
  ],
  "metadata": {
    "accelerator": "GPU",
    "colab": {
      "machine_shape": "hm",
      "provenance": []
    },
    "gpuClass": "standard",
    "kernelspec": {
      "display_name": "Python 3",
      "language": "python",
      "name": "python3"
    },
    "language_info": {
      "codemirror_mode": {
        "name": "ipython",
        "version": 3
      },
      "file_extension": ".py",
      "mimetype": "text/x-python",
      "name": "python",
      "nbconvert_exporter": "python",
      "pygments_lexer": "ipython3",
      "version": "3.10.10"
    }
  },
  "nbformat": 4,
  "nbformat_minor": 0
}