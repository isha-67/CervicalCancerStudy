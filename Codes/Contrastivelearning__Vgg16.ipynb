{
  "cells": [
    {
      "cell_type": "code",
      "execution_count": null,
      "metadata": {
        "colab": {
          "base_uri": "https://localhost:8080/"
        },
        "id": "xpYVPHnrF2Z2",
        "outputId": "66358c2d-cb8a-481d-d403-98240d709d11"
      },
      "outputs": [
        {
          "output_type": "stream",
          "name": "stdout",
          "text": [
            "2.12.0\n"
          ]
        }
      ],
      "source": [
        "import tensorflow as tf\n",
        "print(tf.__version__)"
      ]
    },
    {
      "cell_type": "code",
      "execution_count": null,
      "metadata": {
        "colab": {
          "base_uri": "https://localhost:8080/"
        },
        "id": "O4hKrNSvF23y",
        "outputId": "831b49fa-27ba-4790-8829-817fc3d6b54c"
      },
      "outputs": [
        {
          "output_type": "stream",
          "name": "stdout",
          "text": [
            "Mounted at /content/drive\n"
          ]
        }
      ],
      "source": [
        "from google.colab import drive\n",
        "drive.mount('/content/drive')"
      ]
    },
    {
      "cell_type": "code",
      "execution_count": null,
      "metadata": {
        "colab": {
          "base_uri": "https://localhost:8080/"
        },
        "id": "RmTeqCG9F6V4",
        "outputId": "0e5a5cfb-c238-422d-b4d7-6159e475b175"
      },
      "outputs": [
        {
          "output_type": "stream",
          "name": "stdout",
          "text": [
            "Looking in indexes: https://pypi.org/simple, https://us-python.pkg.dev/colab-wheels/public/simple/\n",
            "Collecting tensorflow-addons\n",
            "  Downloading tensorflow_addons-0.20.0-cp310-cp310-manylinux_2_17_x86_64.manylinux2014_x86_64.whl (591 kB)\n",
            "\u001b[2K     \u001b[90m━━━━━━━━━━━━━━━━━━━━━━━━━━━━━━━━━━━━━━\u001b[0m \u001b[32m591.0/591.0 kB\u001b[0m \u001b[31m12.1 MB/s\u001b[0m eta \u001b[36m0:00:00\u001b[0m\n",
            "\u001b[?25hRequirement already satisfied: packaging in /usr/local/lib/python3.10/dist-packages (from tensorflow-addons) (23.1)\n",
            "Collecting typeguard<3.0.0,>=2.7 (from tensorflow-addons)\n",
            "  Downloading typeguard-2.13.3-py3-none-any.whl (17 kB)\n",
            "Installing collected packages: typeguard, tensorflow-addons\n",
            "Successfully installed tensorflow-addons-0.20.0 typeguard-2.13.3\n"
          ]
        }
      ],
      "source": [
        "pip install tensorflow-addons"
      ]
    },
    {
      "cell_type": "code",
      "execution_count": null,
      "metadata": {
        "id": "UgD0aR8SHPHT"
      },
      "outputs": [],
      "source": [
        "save_path = '/content/drive/MyDrive/ThesisNewApproach/Saved/highepoch/Model/'\n",
        "save_path1 = '/content/drive/MyDrive/ThesisNewApproach/Saved/highepoch/Weight/'"
      ]
    },
    {
      "cell_type": "code",
      "execution_count": null,
      "metadata": {
        "colab": {
          "base_uri": "https://localhost:8080/"
        },
        "id": "W22hw1WAF650",
        "outputId": "b9476caf-449a-49d1-83f6-1216bfdc6205"
      },
      "outputs": [
        {
          "output_type": "stream",
          "name": "stderr",
          "text": [
            "/usr/local/lib/python3.10/dist-packages/tensorflow_addons/utils/tfa_eol_msg.py:23: UserWarning: \n",
            "\n",
            "TensorFlow Addons (TFA) has ended development and introduction of new features.\n",
            "TFA has entered a minimal maintenance and release mode until a planned end of life in May 2024.\n",
            "Please modify downstream libraries to take dependencies from other repositories in our TensorFlow community (e.g. Keras, Keras-CV, and Keras-NLP). \n",
            "\n",
            "For more information see: https://github.com/tensorflow/addons/issues/2807 \n",
            "\n",
            "  warnings.warn(\n"
          ]
        }
      ],
      "source": [
        "from tensorflow.keras.layers import *\n",
        "from tensorflow.keras.models import *\n",
        "import tensorflow_datasets as tfds\n",
        "import matplotlib.pyplot as plt\n",
        "import numpy as np\n",
        "import time\n",
        "import cv2\n",
        "from tqdm.notebook import tqdm\n",
        "from zipfile import ZipFile\n",
        "from imutils import paths\n",
        "tf.random.set_seed(666)\n",
        "np.random.seed(666)\n",
        "\n",
        "tfds.disable_progress_bar()\n",
        "import tensorflow as tf\n",
        "import tensorflow_addons as tfa\n",
        "import numpy as np\n",
        "from tensorflow import keras\n",
        "from tensorflow.keras import layers"
      ]
    },
    {
      "cell_type": "code",
      "execution_count": null,
      "metadata": {
        "id": "w-S0jnxsFqfV"
      },
      "outputs": [],
      "source": [
        "import tensorflow as tf\n",
        "#import tensorflow_addons as tfa\n",
        "import pandas as pd\n",
        "import numpy as np\n",
        "import matplotlib.pyplot as plt\n",
        "import seaborn as sns\n",
        "%matplotlib inline\n",
        "import os\n",
        "import glob\n",
        "import shutil\n",
        "import pathlib\n",
        "import random\n",
        "\n",
        "#model selection\n",
        "from sklearn.model_selection import train_test_split\n",
        "\n",
        "#data augumentation\n",
        "import  cv2\n",
        "import imgaug\n",
        "import imageio\n",
        "from imgaug import augmenters as iaa\n",
        "\n",
        "##\n",
        "from keras.preprocessing.image import ImageDataGenerator\n",
        "from sklearn.metrics import accuracy_score, confusion_matrix, classification_report\n",
        "\n",
        "from keras.applications import vgg16\n",
        "from keras.layers import Dense, GlobalMaxPool2D, BatchNormalization, Dropout\n",
        "from keras.models import Model, Sequential\n",
        "from keras.optimizers import Adam\n",
        "\n",
        "from keras.callbacks import ModelCheckpoint\n",
        "from keras.callbacks import ReduceLROnPlateau\n",
        "from keras.callbacks import EarlyStopping\n",
        "\n",
        "from tensorflow.keras import layers"
      ]
    },
    {
      "cell_type": "code",
      "execution_count": null,
      "metadata": {
        "id": "DiGw53eZFqfW"
      },
      "outputs": [],
      "source": [
        "from tensorflow.keras.layers import *\n",
        "from tensorflow.keras.models import *\n",
        "import tensorflow_datasets as tfds\n",
        "import matplotlib.pyplot as plt\n",
        "import numpy as np\n",
        "import time\n",
        "import cv2\n",
        "from tqdm.notebook import tqdm\n",
        "from zipfile import ZipFile\n",
        "from imutils import paths\n",
        "tf.random.set_seed(666)\n",
        "np.random.seed(666)\n",
        "\n",
        "tfds.disable_progress_bar()\n",
        "import tensorflow as tf\n",
        "import tensorflow_addons as tfa\n",
        "import numpy as np\n",
        "from tensorflow import keras\n",
        "from tensorflow.keras import layers\n",
        "from tensorflow.keras.layers import *\n",
        "from tensorflow.keras.models import *\n",
        "import tensorflow_datasets as tfds\n",
        "import matplotlib.pyplot as plt\n",
        "import numpy as np\n",
        "import time\n",
        "import cv2\n",
        "from tqdm.notebook import tqdm\n",
        "from zipfile import ZipFile\n",
        "from imutils import paths\n",
        "tf.random.set_seed(666)\n",
        "np.random.seed(666)\n",
        "\n",
        "tfds.disable_progress_bar()\n",
        "import tensorflow as tf\n",
        "import tensorflow_addons as tfa\n",
        "import numpy as np\n",
        "from tensorflow import keras\n",
        "from tensorflow.keras import layers"
      ]
    },
    {
      "cell_type": "code",
      "execution_count": null,
      "metadata": {
        "colab": {
          "base_uri": "https://localhost:8080/"
        },
        "id": "A_QkjxyxbF1S",
        "outputId": "6ccb0a13-c0e7-4b31-abcc-b29f4b695420"
      },
      "outputs": [
        {
          "output_type": "stream",
          "name": "stdout",
          "text": [
            "x_train shape: (18123, 110, 110, 3) - y_train shape: (18123,)\n",
            "x_val shape: (648, 110, 110, 3) - y_val shape: (648,)\n",
            "x_test shape: (812, 110, 110, 3) - y_test shape: (812,)\n"
          ]
        }
      ],
      "source": [
        "#Run from here\n",
        "import os\n",
        "x_train = []\n",
        "y_train = []\n",
        "x_train = np.load(\"/content/drive/MyDrive/ThesisNewApproach/Dataset/NewData/TrainData.npy\")\n",
        "y_train = np.load(\"/content/drive/MyDrive/ThesisNewApproach/Dataset/NewData/TrainLabels.npy\")\n",
        "\n",
        "x_val = []\n",
        "y_val = []\n",
        "x_val = np.load(\"/content/drive/MyDrive/ThesisNewApproach/Dataset/NewData/ValData.npy\")\n",
        "y_val = np.load(\"/content/drive/MyDrive/ThesisNewApproach/Dataset/NewData/ValLabels.npy\")\n",
        "\n",
        "x_test = []\n",
        "y_test = []\n",
        "x_test = np.load(\"/content/drive/MyDrive/ThesisNewApproach/Dataset/NewData/TestData.npy\")\n",
        "y_test = np.load(\"/content/drive/MyDrive/ThesisNewApproach/Dataset/NewData/TestLabels.npy\")\n",
        "\n",
        "print(f\"x_train shape: {x_train .shape} - y_train shape: {y_train .shape}\")\n",
        "print(f\"x_val shape: {x_val.shape} - y_val shape: {y_val.shape}\")\n",
        "print(f\"x_test shape: {x_test.shape} - y_test shape: {y_test .shape}\")"
      ]
    },
    {
      "cell_type": "code",
      "execution_count": null,
      "metadata": {
        "id": "pPXr2_ahFqfY"
      },
      "outputs": [],
      "source": [
        "data_augmentation = keras.Sequential(\n",
        "    [\n",
        "        layers.Normalization(),\n",
        "        layers.RandomFlip(\"horizontal\"),\n",
        "        layers.RandomRotation(0.02),\n",
        "        layers.RandomWidth(0.2),\n",
        "        layers.RandomHeight(0.2),\n",
        "    ]\n",
        ")\n",
        "\n",
        "data_augmentation.layers[0].adapt(x_train)"
      ]
    },
    {
      "cell_type": "code",
      "execution_count": null,
      "metadata": {
        "id": "-oE2B6QXFqfZ"
      },
      "outputs": [],
      "source": [
        "img_heigth, img_width = 110,110\n",
        "input_shape = (img_heigth, img_width, 3)\n",
        "num_classes = 5"
      ]
    },
    {
      "cell_type": "code",
      "execution_count": null,
      "metadata": {
        "colab": {
          "base_uri": "https://localhost:8080/"
        },
        "id": "1bSsfFTMFqfZ",
        "outputId": "848c3657-4461-4ba7-912e-a97fc853bf83"
      },
      "outputs": [
        {
          "output_type": "stream",
          "name": "stdout",
          "text": [
            "Model: \"vgg16-encoder\"\n",
            "_________________________________________________________________\n",
            " Layer (type)                Output Shape              Param #   \n",
            "=================================================================\n",
            " input_2 (InputLayer)        [(None, 110, 110, 3)]     0         \n",
            "                                                                 \n",
            " sequential (Sequential)     (None, None, None, 3)     7         \n",
            "                                                                 \n",
            " vgg16 (Functional)          (None, 512)               14714688  \n",
            "                                                                 \n",
            "=================================================================\n",
            "Total params: 14,714,695\n",
            "Trainable params: 14,714,688\n",
            "Non-trainable params: 7\n",
            "_________________________________________________________________\n"
          ]
        }
      ],
      "source": [
        "def create_encoder():\n",
        "    vgg16 = keras.applications.VGG16(\n",
        "        include_top=False, weights=None, input_shape=input_shape, pooling=\"avg\"\n",
        "    )\n",
        "\n",
        "    inputs = keras.Input(shape=input_shape)\n",
        "    augmented = data_augmentation(inputs)\n",
        "    outputs = vgg16(augmented)\n",
        "    model = keras.Model(inputs=inputs, outputs=outputs, name=\"vgg16-encoder\")\n",
        "    return model\n",
        "\n",
        "\n",
        "encoder = create_encoder()\n",
        "encoder.summary()\n",
        "\n",
        "learning_rate = 0.0001\n",
        "batch_size = 32\n",
        "hidden_units = 512\n",
        "projection_units = 128\n",
        "num_epochs = 50\n",
        "dropout_rate = 0.5\n",
        "temperature = 0.05"
      ]
    },
    {
      "cell_type": "code",
      "execution_count": null,
      "metadata": {
        "id": "Szcz8uMcFqfZ"
      },
      "outputs": [],
      "source": [
        "def create_classifier(encoder, trainable=True):\n",
        "\n",
        "    for layer in encoder.layers:\n",
        "        layer.trainable = trainable\n",
        "\n",
        "    inputs = keras.Input(shape=input_shape)\n",
        "    features = encoder(inputs)\n",
        "    features = layers.Dropout(dropout_rate)(features)\n",
        "    features = layers.Dense(hidden_units, activation=\"relu\")(features)\n",
        "    features = layers.Dropout(dropout_rate)(features)\n",
        "    outputs = layers.Dense(num_classes, activation=\"softmax\")(features)\n",
        "\n",
        "    model = keras.Model(inputs=inputs, outputs=outputs, name=\"vgg16-classifier\")\n",
        "    model.compile(\n",
        "        optimizer=keras.optimizers.Adam(learning_rate),\n",
        "        loss=keras.losses.SparseCategoricalCrossentropy(),\n",
        "        metrics=[keras.metrics.SparseCategoricalAccuracy()],\n",
        "    )\n",
        "    return model"
      ]
    },
    {
      "cell_type": "code",
      "execution_count": null,
      "metadata": {
        "id": "jOuGXUszFqfZ"
      },
      "outputs": [],
      "source": [
        "checkpointer = ModelCheckpoint(filepath='saved_models/baseline_model_vgg16.hdf5', \n",
        "                               monitor='sparse_categorical_accuracy', mode='max',\n",
        "                               verbose=1, save_best_only=True)\n",
        "early_stopping = EarlyStopping(monitor='loss', mode='min', verbose=1, patience=3)\n",
        "reduce_lr = ReduceLROnPlateau(monitor='loss', factor=0.2,patience=2, min_lr=1e-5)\n",
        "callbacks=[early_stopping, reduce_lr, checkpointer]"
      ]
    },
    {
      "cell_type": "code",
      "execution_count": null,
      "metadata": {
        "colab": {
          "base_uri": "https://localhost:8080/"
        },
        "id": "05Q7ghwTFqfZ",
        "outputId": "0cb0e5af-ce0a-4f3a-f423-7286f36417e4"
      },
      "outputs": [
        {
          "output_type": "stream",
          "name": "stdout",
          "text": [
            "Model: \"vgg16-classifier\"\n",
            "_________________________________________________________________\n",
            " Layer (type)                Output Shape              Param #   \n",
            "=================================================================\n",
            " input_5 (InputLayer)        [(None, 110, 110, 3)]     0         \n",
            "                                                                 \n",
            " vgg16-encoder (Functional)  (None, 512)               14714695  \n",
            "                                                                 \n",
            " dropout (Dropout)           (None, 512)               0         \n",
            "                                                                 \n",
            " dense (Dense)               (None, 512)               262656    \n",
            "                                                                 \n",
            " dropout_1 (Dropout)         (None, 512)               0         \n",
            "                                                                 \n",
            " dense_1 (Dense)             (None, 5)                 2565      \n",
            "                                                                 \n",
            "=================================================================\n",
            "Total params: 14,979,916\n",
            "Trainable params: 14,979,909\n",
            "Non-trainable params: 7\n",
            "_________________________________________________________________\n",
            "Epoch 1/50\n",
            "567/567 [==============================] - ETA: 0s - loss: 1.4014 - sparse_categorical_accuracy: 0.3643\n",
            "Epoch 1: sparse_categorical_accuracy improved from -inf to 0.36429, saving model to saved_models/baseline_model_vgg16.hdf5\n",
            "567/567 [==============================] - 1005s 2s/step - loss: 1.4014 - sparse_categorical_accuracy: 0.3643 - lr: 1.0000e-04\n",
            "Epoch 2/50\n",
            "567/567 [==============================] - ETA: 0s - loss: 1.2147 - sparse_categorical_accuracy: 0.4930\n",
            "Epoch 2: sparse_categorical_accuracy improved from 0.36429 to 0.49302, saving model to saved_models/baseline_model_vgg16.hdf5\n",
            "567/567 [==============================] - 500s 881ms/step - loss: 1.2147 - sparse_categorical_accuracy: 0.4930 - lr: 1.0000e-04\n",
            "Epoch 3/50\n",
            "567/567 [==============================] - ETA: 0s - loss: 1.0490 - sparse_categorical_accuracy: 0.6100\n",
            "Epoch 3: sparse_categorical_accuracy improved from 0.49302 to 0.61000, saving model to saved_models/baseline_model_vgg16.hdf5\n",
            "567/567 [==============================] - 370s 652ms/step - loss: 1.0490 - sparse_categorical_accuracy: 0.6100 - lr: 1.0000e-04\n",
            "Epoch 4/50\n",
            "567/567 [==============================] - ETA: 0s - loss: 0.8638 - sparse_categorical_accuracy: 0.6893\n",
            "Epoch 4: sparse_categorical_accuracy improved from 0.61000 to 0.68935, saving model to saved_models/baseline_model_vgg16.hdf5\n",
            "567/567 [==============================] - 269s 475ms/step - loss: 0.8638 - sparse_categorical_accuracy: 0.6893 - lr: 1.0000e-04\n",
            "Epoch 5/50\n",
            "567/567 [==============================] - ETA: 0s - loss: 0.7094 - sparse_categorical_accuracy: 0.7429\n",
            "Epoch 5: sparse_categorical_accuracy improved from 0.68935 to 0.74292, saving model to saved_models/baseline_model_vgg16.hdf5\n",
            "567/567 [==============================] - 203s 358ms/step - loss: 0.7094 - sparse_categorical_accuracy: 0.7429 - lr: 1.0000e-04\n",
            "Epoch 6/50\n",
            "567/567 [==============================] - ETA: 0s - loss: 0.6109 - sparse_categorical_accuracy: 0.7762\n",
            "Epoch 6: sparse_categorical_accuracy improved from 0.74292 to 0.77620, saving model to saved_models/baseline_model_vgg16.hdf5\n",
            "567/567 [==============================] - 160s 283ms/step - loss: 0.6109 - sparse_categorical_accuracy: 0.7762 - lr: 1.0000e-04\n",
            "Epoch 7/50\n",
            "567/567 [==============================] - ETA: 0s - loss: 0.5496 - sparse_categorical_accuracy: 0.7996\n",
            "Epoch 7: sparse_categorical_accuracy improved from 0.77620 to 0.79959, saving model to saved_models/baseline_model_vgg16.hdf5\n",
            "567/567 [==============================] - 155s 274ms/step - loss: 0.5496 - sparse_categorical_accuracy: 0.7996 - lr: 1.0000e-04\n",
            "Epoch 8/50\n",
            "567/567 [==============================] - ETA: 0s - loss: 0.5097 - sparse_categorical_accuracy: 0.8136\n",
            "Epoch 8: sparse_categorical_accuracy improved from 0.79959 to 0.81361, saving model to saved_models/baseline_model_vgg16.hdf5\n",
            "567/567 [==============================] - 142s 250ms/step - loss: 0.5097 - sparse_categorical_accuracy: 0.8136 - lr: 1.0000e-04\n",
            "Epoch 9/50\n",
            "567/567 [==============================] - ETA: 0s - loss: 0.4764 - sparse_categorical_accuracy: 0.8245\n",
            "Epoch 9: sparse_categorical_accuracy improved from 0.81361 to 0.82448, saving model to saved_models/baseline_model_vgg16.hdf5\n",
            "567/567 [==============================] - 121s 214ms/step - loss: 0.4764 - sparse_categorical_accuracy: 0.8245 - lr: 1.0000e-04\n",
            "Epoch 10/50\n",
            "567/567 [==============================] - ETA: 0s - loss: 0.4328 - sparse_categorical_accuracy: 0.8405\n",
            "Epoch 10: sparse_categorical_accuracy improved from 0.82448 to 0.84048, saving model to saved_models/baseline_model_vgg16.hdf5\n",
            "567/567 [==============================] - 98s 172ms/step - loss: 0.4328 - sparse_categorical_accuracy: 0.8405 - lr: 1.0000e-04\n",
            "Epoch 11/50\n",
            "567/567 [==============================] - ETA: 0s - loss: 0.4154 - sparse_categorical_accuracy: 0.8495\n",
            "Epoch 11: sparse_categorical_accuracy improved from 0.84048 to 0.84947, saving model to saved_models/baseline_model_vgg16.hdf5\n",
            "567/567 [==============================] - 85s 150ms/step - loss: 0.4154 - sparse_categorical_accuracy: 0.8495 - lr: 1.0000e-04\n",
            "Epoch 12/50\n",
            "567/567 [==============================] - ETA: 0s - loss: 0.3862 - sparse_categorical_accuracy: 0.8574\n",
            "Epoch 12: sparse_categorical_accuracy improved from 0.84947 to 0.85742, saving model to saved_models/baseline_model_vgg16.hdf5\n",
            "567/567 [==============================] - 88s 156ms/step - loss: 0.3862 - sparse_categorical_accuracy: 0.8574 - lr: 1.0000e-04\n",
            "Epoch 13/50\n",
            "567/567 [==============================] - ETA: 0s - loss: 0.3666 - sparse_categorical_accuracy: 0.8664\n",
            "Epoch 13: sparse_categorical_accuracy improved from 0.85742 to 0.86636, saving model to saved_models/baseline_model_vgg16.hdf5\n",
            "567/567 [==============================] - 83s 146ms/step - loss: 0.3666 - sparse_categorical_accuracy: 0.8664 - lr: 1.0000e-04\n",
            "Epoch 14/50\n",
            "567/567 [==============================] - ETA: 0s - loss: 0.3404 - sparse_categorical_accuracy: 0.8785\n",
            "Epoch 14: sparse_categorical_accuracy improved from 0.86636 to 0.87850, saving model to saved_models/baseline_model_vgg16.hdf5\n",
            "567/567 [==============================] - 84s 149ms/step - loss: 0.3404 - sparse_categorical_accuracy: 0.8785 - lr: 1.0000e-04\n",
            "Epoch 15/50\n",
            "567/567 [==============================] - ETA: 0s - loss: 0.3275 - sparse_categorical_accuracy: 0.8790\n",
            "Epoch 15: sparse_categorical_accuracy improved from 0.87850 to 0.87905, saving model to saved_models/baseline_model_vgg16.hdf5\n",
            "567/567 [==============================] - 77s 136ms/step - loss: 0.3275 - sparse_categorical_accuracy: 0.8790 - lr: 1.0000e-04\n",
            "Epoch 16/50\n",
            "567/567 [==============================] - ETA: 0s - loss: 0.3033 - sparse_categorical_accuracy: 0.8912\n",
            "Epoch 16: sparse_categorical_accuracy improved from 0.87905 to 0.89124, saving model to saved_models/baseline_model_vgg16.hdf5\n",
            "567/567 [==============================] - 72s 128ms/step - loss: 0.3033 - sparse_categorical_accuracy: 0.8912 - lr: 1.0000e-04\n",
            "Epoch 17/50\n",
            "567/567 [==============================] - ETA: 0s - loss: 0.2883 - sparse_categorical_accuracy: 0.8948\n",
            "Epoch 17: sparse_categorical_accuracy improved from 0.89124 to 0.89483, saving model to saved_models/baseline_model_vgg16.hdf5\n",
            "567/567 [==============================] - 71s 125ms/step - loss: 0.2883 - sparse_categorical_accuracy: 0.8948 - lr: 1.0000e-04\n",
            "Epoch 18/50\n",
            "567/567 [==============================] - ETA: 0s - loss: 0.2753 - sparse_categorical_accuracy: 0.9026\n",
            "Epoch 18: sparse_categorical_accuracy improved from 0.89483 to 0.90261, saving model to saved_models/baseline_model_vgg16.hdf5\n",
            "567/567 [==============================] - 69s 122ms/step - loss: 0.2753 - sparse_categorical_accuracy: 0.9026 - lr: 1.0000e-04\n",
            "Epoch 19/50\n",
            "567/567 [==============================] - ETA: 0s - loss: 0.2621 - sparse_categorical_accuracy: 0.9047\n",
            "Epoch 19: sparse_categorical_accuracy improved from 0.90261 to 0.90465, saving model to saved_models/baseline_model_vgg16.hdf5\n",
            "567/567 [==============================] - 70s 124ms/step - loss: 0.2621 - sparse_categorical_accuracy: 0.9047 - lr: 1.0000e-04\n",
            "Epoch 20/50\n",
            "567/567 [==============================] - ETA: 0s - loss: 0.2365 - sparse_categorical_accuracy: 0.9149\n",
            "Epoch 20: sparse_categorical_accuracy improved from 0.90465 to 0.91491, saving model to saved_models/baseline_model_vgg16.hdf5\n",
            "567/567 [==============================] - 68s 120ms/step - loss: 0.2365 - sparse_categorical_accuracy: 0.9149 - lr: 1.0000e-04\n",
            "Epoch 21/50\n",
            "567/567 [==============================] - ETA: 0s - loss: 0.2284 - sparse_categorical_accuracy: 0.9167\n",
            "Epoch 21: sparse_categorical_accuracy improved from 0.91491 to 0.91668, saving model to saved_models/baseline_model_vgg16.hdf5\n",
            "567/567 [==============================] - 68s 119ms/step - loss: 0.2284 - sparse_categorical_accuracy: 0.9167 - lr: 1.0000e-04\n",
            "Epoch 22/50\n",
            "567/567 [==============================] - ETA: 0s - loss: 0.2138 - sparse_categorical_accuracy: 0.9227\n",
            "Epoch 22: sparse_categorical_accuracy improved from 0.91668 to 0.92269, saving model to saved_models/baseline_model_vgg16.hdf5\n",
            "567/567 [==============================] - 67s 118ms/step - loss: 0.2138 - sparse_categorical_accuracy: 0.9227 - lr: 1.0000e-04\n",
            "Epoch 23/50\n",
            "567/567 [==============================] - ETA: 0s - loss: 0.2070 - sparse_categorical_accuracy: 0.9220\n",
            "Epoch 23: sparse_categorical_accuracy did not improve from 0.92269\n",
            "567/567 [==============================] - 68s 119ms/step - loss: 0.2070 - sparse_categorical_accuracy: 0.9220 - lr: 1.0000e-04\n",
            "Epoch 24/50\n",
            "567/567 [==============================] - ETA: 0s - loss: 0.1977 - sparse_categorical_accuracy: 0.9284\n",
            "Epoch 24: sparse_categorical_accuracy improved from 0.92269 to 0.92843, saving model to saved_models/baseline_model_vgg16.hdf5\n",
            "567/567 [==============================] - 69s 121ms/step - loss: 0.1977 - sparse_categorical_accuracy: 0.9284 - lr: 1.0000e-04\n",
            "Epoch 25/50\n",
            "567/567 [==============================] - ETA: 0s - loss: 0.1843 - sparse_categorical_accuracy: 0.9342\n",
            "Epoch 25: sparse_categorical_accuracy improved from 0.92843 to 0.93417, saving model to saved_models/baseline_model_vgg16.hdf5\n",
            "567/567 [==============================] - 68s 120ms/step - loss: 0.1843 - sparse_categorical_accuracy: 0.9342 - lr: 1.0000e-04\n",
            "Epoch 26/50\n",
            "567/567 [==============================] - ETA: 0s - loss: 0.1771 - sparse_categorical_accuracy: 0.9360\n",
            "Epoch 26: sparse_categorical_accuracy improved from 0.93417 to 0.93605, saving model to saved_models/baseline_model_vgg16.hdf5\n",
            "567/567 [==============================] - 68s 120ms/step - loss: 0.1771 - sparse_categorical_accuracy: 0.9360 - lr: 1.0000e-04\n",
            "Epoch 27/50\n",
            "567/567 [==============================] - ETA: 0s - loss: 0.1768 - sparse_categorical_accuracy: 0.9371\n",
            "Epoch 27: sparse_categorical_accuracy improved from 0.93605 to 0.93710, saving model to saved_models/baseline_model_vgg16.hdf5\n",
            "567/567 [==============================] - 67s 118ms/step - loss: 0.1768 - sparse_categorical_accuracy: 0.9371 - lr: 1.0000e-04\n",
            "Epoch 28/50\n",
            "567/567 [==============================] - ETA: 0s - loss: 0.1672 - sparse_categorical_accuracy: 0.9402\n",
            "Epoch 28: sparse_categorical_accuracy improved from 0.93710 to 0.94019, saving model to saved_models/baseline_model_vgg16.hdf5\n",
            "567/567 [==============================] - 67s 118ms/step - loss: 0.1672 - sparse_categorical_accuracy: 0.9402 - lr: 1.0000e-04\n",
            "Epoch 29/50\n",
            "567/567 [==============================] - ETA: 0s - loss: 0.1486 - sparse_categorical_accuracy: 0.9444\n",
            "Epoch 29: sparse_categorical_accuracy improved from 0.94019 to 0.94444, saving model to saved_models/baseline_model_vgg16.hdf5\n",
            "567/567 [==============================] - 67s 119ms/step - loss: 0.1486 - sparse_categorical_accuracy: 0.9444 - lr: 1.0000e-04\n",
            "Epoch 30/50\n",
            "567/567 [==============================] - ETA: 0s - loss: 0.1437 - sparse_categorical_accuracy: 0.9485\n",
            "Epoch 30: sparse_categorical_accuracy improved from 0.94444 to 0.94852, saving model to saved_models/baseline_model_vgg16.hdf5\n",
            "567/567 [==============================] - 66s 116ms/step - loss: 0.1437 - sparse_categorical_accuracy: 0.9485 - lr: 1.0000e-04\n",
            "Epoch 31/50\n",
            "567/567 [==============================] - ETA: 0s - loss: 0.1409 - sparse_categorical_accuracy: 0.9508\n",
            "Epoch 31: sparse_categorical_accuracy improved from 0.94852 to 0.95084, saving model to saved_models/baseline_model_vgg16.hdf5\n",
            "567/567 [==============================] - 66s 116ms/step - loss: 0.1409 - sparse_categorical_accuracy: 0.9508 - lr: 1.0000e-04\n",
            "Epoch 32/50\n",
            "567/567 [==============================] - ETA: 0s - loss: 0.1398 - sparse_categorical_accuracy: 0.9514\n",
            "Epoch 32: sparse_categorical_accuracy improved from 0.95084 to 0.95144, saving model to saved_models/baseline_model_vgg16.hdf5\n",
            "567/567 [==============================] - 67s 119ms/step - loss: 0.1398 - sparse_categorical_accuracy: 0.9514 - lr: 1.0000e-04\n",
            "Epoch 33/50\n",
            "567/567 [==============================] - ETA: 0s - loss: 0.1348 - sparse_categorical_accuracy: 0.9511\n",
            "Epoch 33: sparse_categorical_accuracy did not improve from 0.95144\n",
            "567/567 [==============================] - 66s 116ms/step - loss: 0.1348 - sparse_categorical_accuracy: 0.9511 - lr: 1.0000e-04\n",
            "Epoch 34/50\n",
            "567/567 [==============================] - ETA: 0s - loss: 0.1258 - sparse_categorical_accuracy: 0.9553\n",
            "Epoch 34: sparse_categorical_accuracy improved from 0.95144 to 0.95525, saving model to saved_models/baseline_model_vgg16.hdf5\n",
            "567/567 [==============================] - 67s 119ms/step - loss: 0.1258 - sparse_categorical_accuracy: 0.9553 - lr: 1.0000e-04\n",
            "Epoch 35/50\n",
            "567/567 [==============================] - ETA: 0s - loss: 0.1296 - sparse_categorical_accuracy: 0.9531\n",
            "Epoch 35: sparse_categorical_accuracy did not improve from 0.95525\n",
            "567/567 [==============================] - 68s 121ms/step - loss: 0.1296 - sparse_categorical_accuracy: 0.9531 - lr: 1.0000e-04\n",
            "Epoch 36/50\n",
            "567/567 [==============================] - ETA: 0s - loss: 0.1256 - sparse_categorical_accuracy: 0.9555\n",
            "Epoch 36: sparse_categorical_accuracy improved from 0.95525 to 0.95553, saving model to saved_models/baseline_model_vgg16.hdf5\n",
            "567/567 [==============================] - 67s 118ms/step - loss: 0.1256 - sparse_categorical_accuracy: 0.9555 - lr: 1.0000e-04\n",
            "Epoch 37/50\n",
            "567/567 [==============================] - ETA: 0s - loss: 0.1115 - sparse_categorical_accuracy: 0.9612\n",
            "Epoch 37: sparse_categorical_accuracy improved from 0.95553 to 0.96121, saving model to saved_models/baseline_model_vgg16.hdf5\n",
            "567/567 [==============================] - 67s 118ms/step - loss: 0.1115 - sparse_categorical_accuracy: 0.9612 - lr: 1.0000e-04\n",
            "Epoch 38/50\n",
            "567/567 [==============================] - ETA: 0s - loss: 0.1101 - sparse_categorical_accuracy: 0.9612\n",
            "Epoch 38: sparse_categorical_accuracy did not improve from 0.96121\n",
            "567/567 [==============================] - 66s 116ms/step - loss: 0.1101 - sparse_categorical_accuracy: 0.9612 - lr: 1.0000e-04\n",
            "Epoch 39/50\n",
            "567/567 [==============================] - ETA: 0s - loss: 0.1139 - sparse_categorical_accuracy: 0.9614\n",
            "Epoch 39: sparse_categorical_accuracy improved from 0.96121 to 0.96138, saving model to saved_models/baseline_model_vgg16.hdf5\n",
            "567/567 [==============================] - 67s 118ms/step - loss: 0.1139 - sparse_categorical_accuracy: 0.9614 - lr: 1.0000e-04\n",
            "Epoch 40/50\n",
            "567/567 [==============================] - ETA: 0s - loss: 0.0990 - sparse_categorical_accuracy: 0.9649\n",
            "Epoch 40: sparse_categorical_accuracy improved from 0.96138 to 0.96491, saving model to saved_models/baseline_model_vgg16.hdf5\n",
            "567/567 [==============================] - 67s 118ms/step - loss: 0.0990 - sparse_categorical_accuracy: 0.9649 - lr: 1.0000e-04\n",
            "Epoch 41/50\n",
            "567/567 [==============================] - ETA: 0s - loss: 0.1007 - sparse_categorical_accuracy: 0.9646\n",
            "Epoch 41: sparse_categorical_accuracy did not improve from 0.96491\n",
            "567/567 [==============================] - 67s 118ms/step - loss: 0.1007 - sparse_categorical_accuracy: 0.9646 - lr: 1.0000e-04\n",
            "Epoch 42/50\n",
            "567/567 [==============================] - ETA: 0s - loss: 0.0948 - sparse_categorical_accuracy: 0.9666\n",
            "Epoch 42: sparse_categorical_accuracy improved from 0.96491 to 0.96656, saving model to saved_models/baseline_model_vgg16.hdf5\n",
            "567/567 [==============================] - 67s 118ms/step - loss: 0.0948 - sparse_categorical_accuracy: 0.9666 - lr: 1.0000e-04\n",
            "Epoch 43/50\n",
            "567/567 [==============================] - ETA: 0s - loss: 0.1011 - sparse_categorical_accuracy: 0.9645\n",
            "Epoch 43: sparse_categorical_accuracy did not improve from 0.96656\n",
            "567/567 [==============================] - 67s 118ms/step - loss: 0.1011 - sparse_categorical_accuracy: 0.9645 - lr: 1.0000e-04\n",
            "Epoch 44/50\n",
            "567/567 [==============================] - ETA: 0s - loss: 0.0929 - sparse_categorical_accuracy: 0.9667\n",
            "Epoch 44: sparse_categorical_accuracy improved from 0.96656 to 0.96673, saving model to saved_models/baseline_model_vgg16.hdf5\n",
            "567/567 [==============================] - 68s 120ms/step - loss: 0.0929 - sparse_categorical_accuracy: 0.9667 - lr: 1.0000e-04\n",
            "Epoch 45/50\n",
            "567/567 [==============================] - ETA: 0s - loss: 0.0879 - sparse_categorical_accuracy: 0.9688\n",
            "Epoch 45: sparse_categorical_accuracy improved from 0.96673 to 0.96882, saving model to saved_models/baseline_model_vgg16.hdf5\n",
            "567/567 [==============================] - 69s 121ms/step - loss: 0.0879 - sparse_categorical_accuracy: 0.9688 - lr: 1.0000e-04\n",
            "Epoch 46/50\n",
            "567/567 [==============================] - ETA: 0s - loss: 0.0893 - sparse_categorical_accuracy: 0.9684\n",
            "Epoch 46: sparse_categorical_accuracy did not improve from 0.96882\n",
            "567/567 [==============================] - 67s 117ms/step - loss: 0.0893 - sparse_categorical_accuracy: 0.9684 - lr: 1.0000e-04\n",
            "Epoch 47/50\n",
            "567/567 [==============================] - ETA: 0s - loss: 0.0768 - sparse_categorical_accuracy: 0.9733\n",
            "Epoch 47: sparse_categorical_accuracy improved from 0.96882 to 0.97335, saving model to saved_models/baseline_model_vgg16.hdf5\n",
            "567/567 [==============================] - 66s 116ms/step - loss: 0.0768 - sparse_categorical_accuracy: 0.9733 - lr: 1.0000e-04\n",
            "Epoch 48/50\n",
            "567/567 [==============================] - ETA: 0s - loss: 0.0827 - sparse_categorical_accuracy: 0.9712\n",
            "Epoch 48: sparse_categorical_accuracy did not improve from 0.97335\n",
            "567/567 [==============================] - 67s 119ms/step - loss: 0.0827 - sparse_categorical_accuracy: 0.9712 - lr: 1.0000e-04\n",
            "Epoch 49/50\n",
            "567/567 [==============================] - ETA: 0s - loss: 0.0809 - sparse_categorical_accuracy: 0.9710\n",
            "Epoch 49: sparse_categorical_accuracy did not improve from 0.97335\n",
            "567/567 [==============================] - 66s 117ms/step - loss: 0.0809 - sparse_categorical_accuracy: 0.9710 - lr: 1.0000e-04\n",
            "Epoch 50/50\n",
            "567/567 [==============================] - ETA: 0s - loss: 0.0399 - sparse_categorical_accuracy: 0.9863\n",
            "Epoch 50: sparse_categorical_accuracy improved from 0.97335 to 0.98626, saving model to saved_models/baseline_model_vgg16.hdf5\n",
            "567/567 [==============================] - 66s 117ms/step - loss: 0.0399 - sparse_categorical_accuracy: 0.9863 - lr: 2.0000e-05\n"
          ]
        }
      ],
      "source": [
        "encoder = create_encoder()\n",
        "classifier = create_classifier(encoder)\n",
        "classifier.summary()\n",
        "\n",
        "history = classifier.fit(x=x_train, y=y_train, batch_size=batch_size, epochs=num_epochs,callbacks=callbacks)"
      ]
    },
    {
      "cell_type": "code",
      "execution_count": null,
      "metadata": {
        "id": "_u5jXeM5GVSS"
      },
      "outputs": [],
      "source": [
        "classifier.save(save_path + 'Contrastive_Baseline_VGG16.h5')\n",
        "#classifier.save_weights(save_path1 + \"Weights_Contrastive_Baseline_VGG16.h5\")"
      ]
    },
    {
      "cell_type": "code",
      "execution_count": null,
      "metadata": {
        "id": "KncxXdG5HAGa"
      },
      "outputs": [],
      "source": [
        "vgg16_base_trainloss_dict = {}\n",
        "vgg16_base_valloss_dict = {}"
      ]
    },
    {
      "cell_type": "code",
      "execution_count": null,
      "metadata": {
        "id": "FjiP0b-AHAkg"
      },
      "outputs": [],
      "source": [
        "import pickle\n",
        "\n",
        "with open('/content/drive/MyDrive/ThesisNewApproach/Saved/highepoch/Loss/vgg16_base_train_loss.pkl', 'wb') as file:\n",
        "    pickle.dump(vgg16_base_trainloss_dict, file)\n",
        "\n",
        "with open('/content/drive/MyDrive/ThesisNewApproach/Saved/Loss/vgg16_base_val_loss.pkl', 'wb') as file:\n",
        "    pickle.dump(vgg16_base_valloss_dict, file)"
      ]
    },
    {
      "cell_type": "code",
      "execution_count": null,
      "metadata": {
        "colab": {
          "base_uri": "https://localhost:8080/",
          "height": 962
        },
        "id": "xi37cr-JILjA",
        "outputId": "0a50a67d-c03f-4ad1-bc5e-1128a9a7751f"
      },
      "outputs": [
        {
          "output_type": "stream",
          "name": "stdout",
          "text": [
            "26/26 [==============================] - 2s 62ms/step\n"
          ]
        },
        {
          "output_type": "display_data",
          "data": {
            "text/plain": [
              "<Figure size 1200x1200 with 2 Axes>"
            ],
            "image/png": "[encoded data removed]"
          },
          "metadata": {}
        }
      ],
      "source": [
        "pred = classifier.predict(x_test)\n",
        "\n",
        "y_pred = np.argmax(pred, axis=1)\n",
        "confusion_mtx = confusion_matrix(y_pred, y_test)\n",
        "f,ax = plt.subplots(figsize=(12, 12))\n",
        "sns.heatmap(confusion_mtx, annot=True, \n",
        "            linewidths=0.01,\n",
        "            linecolor=\"white\", \n",
        "            fmt= '.1f',ax=ax,)\n",
        "sns.color_palette(\"rocket\", as_cmap=True)\n",
        "\n",
        "plt.xlabel(\"Predicted Label\")\n",
        "plt.ylabel(\"True Label\")\n",
        "#ax.xaxis.set_ticklabels(x_test.class_indices)\n",
        "#ax.yaxis.set_ticklabels(y_test)\n",
        "plt.title(\"Confusion Matrix\")\n",
        "plt.show()"
      ]
    },
    {
      "cell_type": "code",
      "execution_count": null,
      "metadata": {
        "colab": {
          "base_uri": "https://localhost:8080/",
          "height": 300
        },
        "id": "gl0nwfHPITNr",
        "outputId": "1f1e7dc7-277a-47cb-f14b-317d15490c26"
      },
      "outputs": [
        {
          "output_type": "execute_result",
          "data": {
            "text/plain": [
              "              precision    recall  f1-score     support\n",
              "0              0.969697  0.981595  0.975610  163.000000\n",
              "1              0.981366  0.957576  0.969325  165.000000\n",
              "2              0.962963  0.981132  0.971963  159.000000\n",
              "3              0.987421  0.993671  0.990536  158.000000\n",
              "4              0.993939  0.982036  0.987952  167.000000\n",
              "accuracy       0.979064  0.979064  0.979064    0.979064\n",
              "macro avg      0.979077  0.979202  0.979077  812.000000\n",
              "weighted avg   0.979184  0.979064  0.979061  812.000000"
            ],
            "text/html": [
              "\n",
              "  <div id=\"df-157a94b8-f9d2-4423-8664-311a10582f06\">\n",
              "    <div class=\"colab-df-container\">\n",
              "      <div>\n",
              "<style scoped>\n",
              "    .dataframe tbody tr th:only-of-type {\n",
              "        vertical-align: middle;\n",
              "    }\n",
              "\n",
              "    .dataframe tbody tr th {\n",
              "        vertical-align: top;\n",
              "    }\n",
              "\n",
              "    .dataframe thead th {\n",
              "        text-align: right;\n",
              "    }\n",
              "</style>\n",
              "<table border=\"1\" class=\"dataframe\">\n",
              "  <thead>\n",
              "    <tr style=\"text-align: right;\">\n",
              "      <th></th>\n",
              "      <th>precision</th>\n",
              "      <th>recall</th>\n",
              "      <th>f1-score</th>\n",
              "      <th>support</th>\n",
              "    </tr>\n",
              "  </thead>\n",
              "  <tbody>\n",
              "    <tr>\n",
              "      <th>0</th>\n",
              "      <td>0.969697</td>\n",
              "      <td>0.981595</td>\n",
              "      <td>0.975610</td>\n",
              "      <td>163.000000</td>\n",
              "    </tr>\n",
              "    <tr>\n",
              "      <th>1</th>\n",
              "      <td>0.981366</td>\n",
              "      <td>0.957576</td>\n",
              "      <td>0.969325</td>\n",
              "      <td>165.000000</td>\n",
              "    </tr>\n",
              "    <tr>\n",
              "      <th>2</th>\n",
              "      <td>0.962963</td>\n",
              "      <td>0.981132</td>\n",
              "      <td>0.971963</td>\n",
              "      <td>159.000000</td>\n",
              "    </tr>\n",
              "    <tr>\n",
              "      <th>3</th>\n",
              "      <td>0.987421</td>\n",
              "      <td>0.993671</td>\n",
              "      <td>0.990536</td>\n",
              "      <td>158.000000</td>\n",
              "    </tr>\n",
              "    <tr>\n",
              "      <th>4</th>\n",
              "      <td>0.993939</td>\n",
              "      <td>0.982036</td>\n",
              "      <td>0.987952</td>\n",
              "      <td>167.000000</td>\n",
              "    </tr>\n",
              "    <tr>\n",
              "      <th>accuracy</th>\n",
              "      <td>0.979064</td>\n",
              "      <td>0.979064</td>\n",
              "      <td>0.979064</td>\n",
              "      <td>0.979064</td>\n",
              "    </tr>\n",
              "    <tr>\n",
              "      <th>macro avg</th>\n",
              "      <td>0.979077</td>\n",
              "      <td>0.979202</td>\n",
              "      <td>0.979077</td>\n",
              "      <td>812.000000</td>\n",
              "    </tr>\n",
              "    <tr>\n",
              "      <th>weighted avg</th>\n",
              "      <td>0.979184</td>\n",
              "      <td>0.979064</td>\n",
              "      <td>0.979061</td>\n",
              "      <td>812.000000</td>\n",
              "    </tr>\n",
              "  </tbody>\n",
              "</table>\n",
              "</div>\n",
              "      <button class=\"colab-df-convert\" onclick=\"convertToInteractive('df-157a94b8-f9d2-4423-8664-311a10582f06')\"\n",
              "              title=\"Convert this dataframe to an interactive table.\"\n",
              "              style=\"display:none;\">\n",
              "        \n",
              "  <svg xmlns=\"http://www.w3.org/2000/svg\" height=\"24px\"viewBox=\"0 0 24 24\"\n",
              "       width=\"24px\">\n",
              "    <path d=\"M0 0h24v24H0V0z\" fill=\"none\"/>\n",
              "    <path d=\"M18.56 5.44l.94 2.06.94-2.06 2.06-.94-2.06-.94-.94-2.06-.94 2.06-2.06.94zm-11 1L8.5 8.5l.94-2.06 2.06-.94-2.06-.94L8.5 2.5l-.94 2.06-2.06.94zm10 10l.94 2.06.94-2.06 2.06-.94-2.06-.94-.94-2.06-.94 2.06-2.06.94z\"/><path d=\"M17.41 7.96l-1.37-1.37c-.4-.4-.92-.59-1.43-.59-.52 0-1.04.2-1.43.59L10.3 9.45l-7.72 7.72c-.78.78-.78 2.05 0 2.83L4 21.41c.39.39.9.59 1.41.59.51 0 1.02-.2 1.41-.59l7.78-7.78 2.81-2.81c.8-.78.8-2.07 0-2.86zM5.41 20L4 18.59l7.72-7.72 1.47 1.35L5.41 20z\"/>\n",
              "  </svg>\n",
              "      </button>\n",
              "      \n",
              "  <style>\n",
              "    .colab-df-container {\n",
              "      display:flex;\n",
              "      flex-wrap:wrap;\n",
              "      gap: 12px;\n",
              "    }\n",
              "\n",
              "    .colab-df-convert {\n",
              "      background-color: #E8F0FE;\n",
              "      border: none;\n",
              "      border-radius: 50%;\n",
              "      cursor: pointer;\n",
              "      display: none;\n",
              "      fill: #1967D2;\n",
              "      height: 32px;\n",
              "      padding: 0 0 0 0;\n",
              "      width: 32px;\n",
              "    }\n",
              "\n",
              "    .colab-df-convert:hover {\n",
              "      background-color: #E2EBFA;\n",
              "      box-shadow: 0px 1px 2px rgba(60, 64, 67, 0.3), 0px 1px 3px 1px rgba(60, 64, 67, 0.15);\n",
              "      fill: #174EA6;\n",
              "    }\n",
              "\n",
              "    [theme=dark] .colab-df-convert {\n",
              "      background-color: #3B4455;\n",
              "      fill: #D2E3FC;\n",
              "    }\n",
              "\n",
              "    [theme=dark] .colab-df-convert:hover {\n",
              "      background-color: #434B5C;\n",
              "      box-shadow: 0px 1px 3px 1px rgba(0, 0, 0, 0.15);\n",
              "      filter: drop-shadow(0px 1px 2px rgba(0, 0, 0, 0.3));\n",
              "      fill: #FFFFFF;\n",
              "    }\n",
              "  </style>\n",
              "\n",
              "      <script>\n",
              "        const buttonEl =\n",
              "          document.querySelector('#df-157a94b8-f9d2-4423-8664-311a10582f06 button.colab-df-convert');\n",
              "        buttonEl.style.display =\n",
              "          google.colab.kernel.accessAllowed ? 'block' : 'none';\n",
              "\n",
              "        async function convertToInteractive(key) {\n",
              "          const element = document.querySelector('#df-157a94b8-f9d2-4423-8664-311a10582f06');\n",
              "          const dataTable =\n",
              "            await google.colab.kernel.invokeFunction('convertToInteractive',\n",
              "                                                     [key], {});\n",
              "          if (!dataTable) return;\n",
              "\n",
              "          const docLinkHtml = 'Like what you see? Visit the ' +\n",
              "            '<a target=\"_blank\" href=https://colab.research.google.com/notebooks/data_table.ipynb>data table notebook</a>'\n",
              "            + ' to learn more about interactive tables.';\n",
              "          element.innerHTML = '';\n",
              "          dataTable['output_type'] = 'display_data';\n",
              "          await google.colab.output.renderOutput(dataTable, element);\n",
              "          const docLink = document.createElement('div');\n",
              "          docLink.innerHTML = docLinkHtml;\n",
              "          element.appendChild(docLink);\n",
              "        }\n",
              "      </script>\n",
              "    </div>\n",
              "  </div>\n",
              "  "
            ]
          },
          "metadata": {},
          "execution_count": 18
        }
      ],
      "source": [
        "report_base = classification_report(y_test, y_pred, output_dict=True)\n",
        "df12 = pd.DataFrame(report_base).transpose()\n",
        "df12"
      ]
    },
    {
      "cell_type": "code",
      "execution_count": null,
      "metadata": {
        "id": "7Pxwd2MPHeNN"
      },
      "outputs": [],
      "source": [
        "from tensorflow.keras.models import load_model\n",
        "baseline_VGG16=load_model(save_path + 'Contrastive_Baseline_VGG16.h5')\n"
      ]
    },
    {
      "cell_type": "code",
      "execution_count": null,
      "metadata": {
        "colab": {
          "base_uri": "https://localhost:8080/"
        },
        "id": "I8uBVJBeFqfa",
        "outputId": "d9949292-f842-4ffe-a30b-db35f16708f3"
      },
      "outputs": [
        {
          "output_type": "stream",
          "name": "stdout",
          "text": [
            "26/26 [==============================] - 1s 37ms/step - loss: 0.1105 - sparse_categorical_accuracy: 0.9791\n",
            "Test accuracy: 97.91%\n"
          ]
        }
      ],
      "source": [
        "accuracy = baseline_VGG16.evaluate(x_test, y_test)[1]\n",
        "print(f\"Test accuracy: {round(accuracy * 100, 2)}%\")"
      ]
    },
    {
      "cell_type": "code",
      "execution_count": null,
      "metadata": {
        "colab": {
          "base_uri": "https://localhost:8080/"
        },
        "id": "G-IqQYMDFqfa",
        "outputId": "5830213a-9c21-4c0e-9cf1-9e0f89acf7a8"
      },
      "outputs": [
        {
          "output_type": "stream",
          "name": "stdout",
          "text": [
            "26/26 [==============================] - 1s 34ms/step\n"
          ]
        }
      ],
      "source": [
        "classifier=baseline_VGG16\n",
        "y_predict = np.argmax(classifier.predict(x_test), axis=-1)"
      ]
    },
    {
      "cell_type": "code",
      "execution_count": null,
      "metadata": {
        "colab": {
          "base_uri": "https://localhost:8080/",
          "height": 962
        },
        "id": "pIlcljo-H8hE",
        "outputId": "fd830633-b49b-4778-e0d7-b8677048c410"
      },
      "outputs": [
        {
          "output_type": "stream",
          "name": "stdout",
          "text": [
            "26/26 [==============================] - 1s 34ms/step\n"
          ]
        },
        {
          "output_type": "display_data",
          "data": {
            "text/plain": [
              "<Figure size 1200x1200 with 2 Axes>"
            ],
            "image/png": "[encoded data removed]"
          },
          "metadata": {}
        }
      ],
      "source": [
        "cancer_classes=np.unique(y_test)\n",
        "\n",
        "pred = baseline_VGG16.predict(x_test)\n",
        "\n",
        "y_pred = np.argmax(pred, axis=1)\n",
        "confusion_mtx = confusion_matrix(y_pred, y_test)\n",
        "f,ax = plt.subplots(figsize=(12, 12))\n",
        "sns.heatmap(confusion_mtx, annot=True, \n",
        "            linewidths=0.01,\n",
        "            linecolor=\"white\", \n",
        "            fmt= '.1f',ax=ax,)\n",
        "sns.color_palette(\"rocket\", as_cmap=True)\n",
        "\n",
        "plt.xlabel(\"Predicted Label\")\n",
        "plt.ylabel(\"True Label\")\n",
        "ax.xaxis.set_ticklabels(cancer_classes)\n",
        "ax.yaxis.set_ticklabels(cancer_classes)\n",
        "plt.title(\"Confusion Matrix\")\n",
        "plt.show()"
      ]
    },
    {
      "cell_type": "code",
      "execution_count": null,
      "metadata": {
        "colab": {
          "base_uri": "https://localhost:8080/",
          "height": 300
        },
        "id": "7KpWM0riH9XJ",
        "outputId": "3e940dae-44b1-4c4a-dacb-799bfbcaf44e"
      },
      "outputs": [
        {
          "output_type": "execute_result",
          "data": {
            "text/plain": [
              "              precision    recall  f1-score     support\n",
              "0              0.969697  0.981595  0.975610  163.000000\n",
              "1              0.981366  0.957576  0.969325  165.000000\n",
              "2              0.962963  0.981132  0.971963  159.000000\n",
              "3              0.987421  0.993671  0.990536  158.000000\n",
              "4              0.993939  0.982036  0.987952  167.000000\n",
              "accuracy       0.979064  0.979064  0.979064    0.979064\n",
              "macro avg      0.979077  0.979202  0.979077  812.000000\n",
              "weighted avg   0.979184  0.979064  0.979061  812.000000"
            ],
            "text/html": [
              "\n",
              "  <div id=\"df-20d1e790-c82f-4dac-9c79-53a4a45d4f9e\">\n",
              "    <div class=\"colab-df-container\">\n",
              "      <div>\n",
              "<style scoped>\n",
              "    .dataframe tbody tr th:only-of-type {\n",
              "        vertical-align: middle;\n",
              "    }\n",
              "\n",
              "    .dataframe tbody tr th {\n",
              "        vertical-align: top;\n",
              "    }\n",
              "\n",
              "    .dataframe thead th {\n",
              "        text-align: right;\n",
              "    }\n",
              "</style>\n",
              "<table border=\"1\" class=\"dataframe\">\n",
              "  <thead>\n",
              "    <tr style=\"text-align: right;\">\n",
              "      <th></th>\n",
              "      <th>precision</th>\n",
              "      <th>recall</th>\n",
              "      <th>f1-score</th>\n",
              "      <th>support</th>\n",
              "    </tr>\n",
              "  </thead>\n",
              "  <tbody>\n",
              "    <tr>\n",
              "      <th>0</th>\n",
              "      <td>0.969697</td>\n",
              "      <td>0.981595</td>\n",
              "      <td>0.975610</td>\n",
              "      <td>163.000000</td>\n",
              "    </tr>\n",
              "    <tr>\n",
              "      <th>1</th>\n",
              "      <td>0.981366</td>\n",
              "      <td>0.957576</td>\n",
              "      <td>0.969325</td>\n",
              "      <td>165.000000</td>\n",
              "    </tr>\n",
              "    <tr>\n",
              "      <th>2</th>\n",
              "      <td>0.962963</td>\n",
              "      <td>0.981132</td>\n",
              "      <td>0.971963</td>\n",
              "      <td>159.000000</td>\n",
              "    </tr>\n",
              "    <tr>\n",
              "      <th>3</th>\n",
              "      <td>0.987421</td>\n",
              "      <td>0.993671</td>\n",
              "      <td>0.990536</td>\n",
              "      <td>158.000000</td>\n",
              "    </tr>\n",
              "    <tr>\n",
              "      <th>4</th>\n",
              "      <td>0.993939</td>\n",
              "      <td>0.982036</td>\n",
              "      <td>0.987952</td>\n",
              "      <td>167.000000</td>\n",
              "    </tr>\n",
              "    <tr>\n",
              "      <th>accuracy</th>\n",
              "      <td>0.979064</td>\n",
              "      <td>0.979064</td>\n",
              "      <td>0.979064</td>\n",
              "      <td>0.979064</td>\n",
              "    </tr>\n",
              "    <tr>\n",
              "      <th>macro avg</th>\n",
              "      <td>0.979077</td>\n",
              "      <td>0.979202</td>\n",
              "      <td>0.979077</td>\n",
              "      <td>812.000000</td>\n",
              "    </tr>\n",
              "    <tr>\n",
              "      <th>weighted avg</th>\n",
              "      <td>0.979184</td>\n",
              "      <td>0.979064</td>\n",
              "      <td>0.979061</td>\n",
              "      <td>812.000000</td>\n",
              "    </tr>\n",
              "  </tbody>\n",
              "</table>\n",
              "</div>\n",
              "      <button class=\"colab-df-convert\" onclick=\"convertToInteractive('df-20d1e790-c82f-4dac-9c79-53a4a45d4f9e')\"\n",
              "              title=\"Convert this dataframe to an interactive table.\"\n",
              "              style=\"display:none;\">\n",
              "        \n",
              "  <svg xmlns=\"http://www.w3.org/2000/svg\" height=\"24px\"viewBox=\"0 0 24 24\"\n",
              "       width=\"24px\">\n",
              "    <path d=\"M0 0h24v24H0V0z\" fill=\"none\"/>\n",
              "    <path d=\"M18.56 5.44l.94 2.06.94-2.06 2.06-.94-2.06-.94-.94-2.06-.94 2.06-2.06.94zm-11 1L8.5 8.5l.94-2.06 2.06-.94-2.06-.94L8.5 2.5l-.94 2.06-2.06.94zm10 10l.94 2.06.94-2.06 2.06-.94-2.06-.94-.94-2.06-.94 2.06-2.06.94z\"/><path d=\"M17.41 7.96l-1.37-1.37c-.4-.4-.92-.59-1.43-.59-.52 0-1.04.2-1.43.59L10.3 9.45l-7.72 7.72c-.78.78-.78 2.05 0 2.83L4 21.41c.39.39.9.59 1.41.59.51 0 1.02-.2 1.41-.59l7.78-7.78 2.81-2.81c.8-.78.8-2.07 0-2.86zM5.41 20L4 18.59l7.72-7.72 1.47 1.35L5.41 20z\"/>\n",
              "  </svg>\n",
              "      </button>\n",
              "      \n",
              "  <style>\n",
              "    .colab-df-container {\n",
              "      display:flex;\n",
              "      flex-wrap:wrap;\n",
              "      gap: 12px;\n",
              "    }\n",
              "\n",
              "    .colab-df-convert {\n",
              "      background-color: #E8F0FE;\n",
              "      border: none;\n",
              "      border-radius: 50%;\n",
              "      cursor: pointer;\n",
              "      display: none;\n",
              "      fill: #1967D2;\n",
              "      height: 32px;\n",
              "      padding: 0 0 0 0;\n",
              "      width: 32px;\n",
              "    }\n",
              "\n",
              "    .colab-df-convert:hover {\n",
              "      background-color: #E2EBFA;\n",
              "      box-shadow: 0px 1px 2px rgba(60, 64, 67, 0.3), 0px 1px 3px 1px rgba(60, 64, 67, 0.15);\n",
              "      fill: #174EA6;\n",
              "    }\n",
              "\n",
              "    [theme=dark] .colab-df-convert {\n",
              "      background-color: #3B4455;\n",
              "      fill: #D2E3FC;\n",
              "    }\n",
              "\n",
              "    [theme=dark] .colab-df-convert:hover {\n",
              "      background-color: #434B5C;\n",
              "      box-shadow: 0px 1px 3px 1px rgba(0, 0, 0, 0.15);\n",
              "      filter: drop-shadow(0px 1px 2px rgba(0, 0, 0, 0.3));\n",
              "      fill: #FFFFFF;\n",
              "    }\n",
              "  </style>\n",
              "\n",
              "      <script>\n",
              "        const buttonEl =\n",
              "          document.querySelector('#df-20d1e790-c82f-4dac-9c79-53a4a45d4f9e button.colab-df-convert');\n",
              "        buttonEl.style.display =\n",
              "          google.colab.kernel.accessAllowed ? 'block' : 'none';\n",
              "\n",
              "        async function convertToInteractive(key) {\n",
              "          const element = document.querySelector('#df-20d1e790-c82f-4dac-9c79-53a4a45d4f9e');\n",
              "          const dataTable =\n",
              "            await google.colab.kernel.invokeFunction('convertToInteractive',\n",
              "                                                     [key], {});\n",
              "          if (!dataTable) return;\n",
              "\n",
              "          const docLinkHtml = 'Like what you see? Visit the ' +\n",
              "            '<a target=\"_blank\" href=https://colab.research.google.com/notebooks/data_table.ipynb>data table notebook</a>'\n",
              "            + ' to learn more about interactive tables.';\n",
              "          element.innerHTML = '';\n",
              "          dataTable['output_type'] = 'display_data';\n",
              "          await google.colab.output.renderOutput(dataTable, element);\n",
              "          const docLink = document.createElement('div');\n",
              "          docLink.innerHTML = docLinkHtml;\n",
              "          element.appendChild(docLink);\n",
              "        }\n",
              "      </script>\n",
              "    </div>\n",
              "  </div>\n",
              "  "
            ]
          },
          "metadata": {},
          "execution_count": 23
        }
      ],
      "source": [
        "report_base = classification_report(y_test, y_pred, target_names=cancer_classes, output_dict=True)\n",
        "df12 = pd.DataFrame(report_base).transpose()\n",
        "df12"
      ]
    },
    {
      "cell_type": "markdown",
      "metadata": {
        "id": "MOjZ5lGpIZoq"
      },
      "source": [
        "# N-pair loss"
      ]
    },
    {
      "cell_type": "code",
      "execution_count": null,
      "metadata": {
        "id": "RWkaIH5vFqfb"
      },
      "outputs": [],
      "source": [
        "class SupervisedContrastiveLoss(keras.losses.Loss):\n",
        "    def __init__(self, temperature=1, name=None):\n",
        "        super().__init__(name=name)\n",
        "        self.temperature = temperature\n",
        "\n",
        "    def __call__(self, labels, feature_vectors, sample_weight=None):\n",
        "        # Normalize feature vectors\n",
        "        feature_vectors_normalized = tf.math.l2_normalize(feature_vectors, axis=1)\n",
        "        # Compute logits\n",
        "        logits = tf.divide(\n",
        "            tf.matmul(\n",
        "                feature_vectors_normalized, tf.transpose(feature_vectors_normalized)\n",
        "            ),\n",
        "            self.temperature,\n",
        "        )\n",
        "        return tfa.losses.npairs_loss(tf.squeeze(labels), logits)\n",
        "\n",
        "\n",
        "def add_projection_head(encoder):\n",
        "    inputs = keras.Input(shape=input_shape)\n",
        "    features = encoder(inputs)\n",
        "    outputs = layers.Dense(projection_units, activation=\"relu\")(features)\n",
        "    model = keras.Model(\n",
        "        inputs=inputs, outputs=outputs, name=\"vgg16-encoder_with_projection-head\"\n",
        "    )\n",
        "    return model"
      ]
    },
    {
      "cell_type": "code",
      "execution_count": null,
      "metadata": {
        "colab": {
          "base_uri": "https://localhost:8080/"
        },
        "id": "DRrZdo_OFqfc",
        "outputId": "d644a5ff-9284-4920-d3a0-bd2cc2437b57"
      },
      "outputs": [
        {
          "output_type": "stream",
          "name": "stdout",
          "text": [
            "Model: \"vgg16-encoder_with_projection-head\"\n",
            "_________________________________________________________________\n",
            " Layer (type)                Output Shape              Param #   \n",
            "=================================================================\n",
            " input_5 (InputLayer)        [(None, 110, 110, 3)]     0         \n",
            "                                                                 \n",
            " vgg16-encoder (Functional)  (None, 512)               14714695  \n",
            "                                                                 \n",
            " dense (Dense)               (None, 128)               65664     \n",
            "                                                                 \n",
            "=================================================================\n",
            "Total params: 14,780,359\n",
            "Trainable params: 14,780,352\n",
            "Non-trainable params: 7\n",
            "_________________________________________________________________\n",
            "Epoch 1/50\n",
            "567/567 [==============================] - 980s 2s/step - loss: 3.3360\n",
            "Epoch 2/50\n",
            "567/567 [==============================] - 505s 890ms/step - loss: 3.2620\n",
            "Epoch 3/50\n",
            "567/567 [==============================] - 335s 591ms/step - loss: 3.2056\n",
            "Epoch 4/50\n",
            "567/567 [==============================] - 254s 447ms/step - loss: 3.1288\n",
            "Epoch 5/50\n",
            "567/567 [==============================] - 208s 368ms/step - loss: 3.0306\n",
            "Epoch 6/50\n",
            "567/567 [==============================] - 179s 316ms/step - loss: 2.9281\n",
            "Epoch 7/50\n",
            "567/567 [==============================] - 144s 253ms/step - loss: 2.7912\n",
            "Epoch 8/50\n",
            "567/567 [==============================] - 128s 225ms/step - loss: 2.6952\n",
            "Epoch 9/50\n",
            "567/567 [==============================] - 101s 178ms/step - loss: 2.6615\n",
            "Epoch 10/50\n",
            "567/567 [==============================] - 105s 184ms/step - loss: 2.6150\n",
            "Epoch 11/50\n",
            "567/567 [==============================] - 87s 154ms/step - loss: 2.5787\n",
            "Epoch 12/50\n",
            "567/567 [==============================] - 83s 146ms/step - loss: 2.5417\n",
            "Epoch 13/50\n",
            "567/567 [==============================] - 78s 137ms/step - loss: 2.5122\n",
            "Epoch 14/50\n",
            "567/567 [==============================] - 76s 133ms/step - loss: 2.4800\n",
            "Epoch 15/50\n",
            "567/567 [==============================] - 76s 134ms/step - loss: 2.4696\n",
            "Epoch 16/50\n",
            "567/567 [==============================] - 73s 129ms/step - loss: 2.4250\n",
            "Epoch 17/50\n",
            "567/567 [==============================] - 73s 129ms/step - loss: 2.4058\n",
            "Epoch 18/50\n",
            "567/567 [==============================] - 69s 122ms/step - loss: 2.3865\n",
            "Epoch 19/50\n",
            "567/567 [==============================] - 66s 117ms/step - loss: 2.3580\n",
            "Epoch 20/50\n",
            "567/567 [==============================] - 66s 117ms/step - loss: 2.3314\n",
            "Epoch 21/50\n",
            "567/567 [==============================] - 66s 117ms/step - loss: 2.3196\n",
            "Epoch 22/50\n",
            "567/567 [==============================] - 66s 116ms/step - loss: 2.2995\n",
            "Epoch 23/50\n",
            "567/567 [==============================] - 67s 118ms/step - loss: 2.2825\n",
            "Epoch 24/50\n",
            "567/567 [==============================] - 65s 115ms/step - loss: 2.2679\n",
            "Epoch 25/50\n",
            "567/567 [==============================] - 65s 115ms/step - loss: 2.2495\n",
            "Epoch 26/50\n",
            "567/567 [==============================] - 67s 118ms/step - loss: 2.2258\n",
            "Epoch 27/50\n",
            "567/567 [==============================] - 66s 116ms/step - loss: 2.2191\n",
            "Epoch 28/50\n",
            "567/567 [==============================] - 65s 114ms/step - loss: 2.2052\n",
            "Epoch 29/50\n",
            "567/567 [==============================] - 66s 116ms/step - loss: 2.1989\n",
            "Epoch 30/50\n",
            "567/567 [==============================] - 66s 116ms/step - loss: 2.1692\n",
            "Epoch 31/50\n",
            "567/567 [==============================] - 66s 116ms/step - loss: 2.1767\n",
            "Epoch 32/50\n",
            "567/567 [==============================] - 66s 116ms/step - loss: 2.1535\n",
            "Epoch 33/50\n",
            "567/567 [==============================] - 65s 115ms/step - loss: 2.1513\n",
            "Epoch 34/50\n",
            "567/567 [==============================] - 66s 116ms/step - loss: 2.1359\n",
            "Epoch 35/50\n",
            "567/567 [==============================] - 65s 115ms/step - loss: 2.1261\n",
            "Epoch 36/50\n",
            "567/567 [==============================] - 65s 114ms/step - loss: 2.1284\n",
            "Epoch 37/50\n",
            "567/567 [==============================] - 66s 116ms/step - loss: 2.1145\n",
            "Epoch 38/50\n",
            "567/567 [==============================] - 65s 114ms/step - loss: 2.1023\n",
            "Epoch 39/50\n",
            "567/567 [==============================] - 64s 113ms/step - loss: 2.0930\n",
            "Epoch 40/50\n",
            "567/567 [==============================] - 64s 113ms/step - loss: 2.0898\n",
            "Epoch 41/50\n",
            "567/567 [==============================] - 65s 114ms/step - loss: 2.0789\n",
            "Epoch 42/50\n",
            "567/567 [==============================] - 65s 115ms/step - loss: 2.0769\n",
            "Epoch 43/50\n",
            "567/567 [==============================] - 65s 115ms/step - loss: 2.0683\n",
            "Epoch 44/50\n",
            "567/567 [==============================] - 65s 114ms/step - loss: 2.0804\n",
            "Epoch 45/50\n",
            "567/567 [==============================] - 65s 114ms/step - loss: 2.0745\n",
            "Epoch 46/50\n",
            "567/567 [==============================] - 65s 115ms/step - loss: 2.0564\n",
            "Epoch 47/50\n",
            "567/567 [==============================] - 66s 116ms/step - loss: 2.0575\n",
            "Epoch 48/50\n",
            "567/567 [==============================] - 65s 114ms/step - loss: 2.0556\n",
            "Epoch 49/50\n",
            "567/567 [==============================] - 66s 116ms/step - loss: 2.0494\n",
            "Epoch 50/50\n",
            "567/567 [==============================] - 65s 115ms/step - loss: 2.0410\n"
          ]
        }
      ],
      "source": [
        "encoder = create_encoder()\n",
        "\n",
        "encoder_with_projection_head = add_projection_head(encoder)\n",
        "encoder_with_projection_head.compile(\n",
        "    optimizer=keras.optimizers.Adam(learning_rate),\n",
        "    loss=SupervisedContrastiveLoss(temperature),\n",
        ")\n",
        "\n",
        "encoder_with_projection_head.summary()\n",
        "\n",
        "history = encoder_with_projection_head.fit(\n",
        "    x=x_train, y=y_train, batch_size=batch_size, epochs=num_epochs\n",
        ")"
      ]
    },
    {
      "cell_type": "code",
      "execution_count": null,
      "metadata": {
        "id": "FukUo3HE9lXC"
      },
      "outputs": [],
      "source": [
        "encoder_with_projection_head.save(save_path + 'Contrastive_npairloss_VGG16.h5')\n",
        "#encoder_with_projection_head.save_weights(save_path1 + \"Weights_Contrastive_npairloss_VGG16.h5\")"
      ]
    },
    {
      "cell_type": "code",
      "execution_count": null,
      "metadata": {
        "id": "cE7W29fHKzOm"
      },
      "outputs": [],
      "source": [
        "vgg16_npair_trainloss_dict = {}\n",
        "vgg16_npair_valloss_dict = {}"
      ]
    },
    {
      "cell_type": "code",
      "execution_count": null,
      "metadata": {
        "colab": {
          "background_save": true
        },
        "id": "WyFGBuuV9LiY"
      },
      "outputs": [],
      "source": [
        "import pickle\n",
        "\n",
        "with open('/content/drive/MyDrive/ThesisNewApproach/Saved/Loss/vgg16_npair_trainloss_dict.pkl', 'wb') as file:\n",
        "    pickle.dump(vgg16_npair_trainloss_dict, file)\n",
        "\n",
        "with open('/content/drive/MyDrive/ThesisNewApproach/Saved/Loss/vgg16_npair_valloss_dict.pkl', 'wb') as file:\n",
        "    pickle.dump(vgg16_npair_valloss_dict, file)"
      ]
    },
    {
      "cell_type": "code",
      "execution_count": null,
      "metadata": {
        "colab": {
          "base_uri": "https://localhost:8080/"
        },
        "id": "XCErdBWYFqfc",
        "outputId": "65c2ba82-d528-4831-f85e-27178d7ca7d9"
      },
      "outputs": [
        {
          "output_type": "stream",
          "name": "stdout",
          "text": [
            "Epoch 1/50\n",
            "567/567 [==============================] - ETA: 0s - loss: 0.3685 - sparse_categorical_accuracy: 0.9296\n",
            "Epoch 1: sparse_categorical_accuracy improved from -inf to 0.92965, saving model to saved_models/baseline_model_vgg16.hdf5\n",
            "567/567 [==============================] - 23s 38ms/step - loss: 0.3685 - sparse_categorical_accuracy: 0.9296 - lr: 1.0000e-04\n",
            "Epoch 2/50\n",
            "567/567 [==============================] - ETA: 0s - loss: 0.1335 - sparse_categorical_accuracy: 0.9717\n",
            "Epoch 2: sparse_categorical_accuracy improved from 0.92965 to 0.97175, saving model to saved_models/baseline_model_vgg16.hdf5\n",
            "567/567 [==============================] - 21s 38ms/step - loss: 0.1335 - sparse_categorical_accuracy: 0.9717 - lr: 1.0000e-04\n",
            "Epoch 3/50\n",
            "567/567 [==============================] - ETA: 0s - loss: 0.1138 - sparse_categorical_accuracy: 0.9711\n",
            "Epoch 3: sparse_categorical_accuracy did not improve from 0.97175\n",
            "567/567 [==============================] - 21s 37ms/step - loss: 0.1138 - sparse_categorical_accuracy: 0.9711 - lr: 1.0000e-04\n",
            "Epoch 4/50\n",
            "567/567 [==============================] - ETA: 0s - loss: 0.0990 - sparse_categorical_accuracy: 0.9737\n",
            "Epoch 4: sparse_categorical_accuracy improved from 0.97175 to 0.97374, saving model to saved_models/baseline_model_vgg16.hdf5\n",
            "567/567 [==============================] - 21s 37ms/step - loss: 0.0990 - sparse_categorical_accuracy: 0.9737 - lr: 1.0000e-04\n",
            "Epoch 5/50\n",
            "567/567 [==============================] - ETA: 0s - loss: 0.0958 - sparse_categorical_accuracy: 0.9740\n",
            "Epoch 5: sparse_categorical_accuracy improved from 0.97374 to 0.97396, saving model to saved_models/baseline_model_vgg16.hdf5\n",
            "567/567 [==============================] - 21s 37ms/step - loss: 0.0958 - sparse_categorical_accuracy: 0.9740 - lr: 1.0000e-04\n",
            "Epoch 6/50\n",
            "567/567 [==============================] - ETA: 0s - loss: 0.0916 - sparse_categorical_accuracy: 0.9770\n",
            "Epoch 6: sparse_categorical_accuracy improved from 0.97396 to 0.97705, saving model to saved_models/baseline_model_vgg16.hdf5\n",
            "567/567 [==============================] - 22s 38ms/step - loss: 0.0916 - sparse_categorical_accuracy: 0.9770 - lr: 1.0000e-04\n",
            "Epoch 7/50\n",
            "567/567 [==============================] - ETA: 0s - loss: 0.0942 - sparse_categorical_accuracy: 0.9762\n",
            "Epoch 7: sparse_categorical_accuracy did not improve from 0.97705\n",
            "567/567 [==============================] - 21s 37ms/step - loss: 0.0942 - sparse_categorical_accuracy: 0.9762 - lr: 1.0000e-04\n",
            "Epoch 8/50\n",
            "567/567 [==============================] - ETA: 0s - loss: 0.0966 - sparse_categorical_accuracy: 0.9749\n",
            "Epoch 8: sparse_categorical_accuracy did not improve from 0.97705\n",
            "567/567 [==============================] - 21s 37ms/step - loss: 0.0966 - sparse_categorical_accuracy: 0.9749 - lr: 1.0000e-04\n",
            "Epoch 9/50\n",
            "567/567 [==============================] - ETA: 0s - loss: 0.0904 - sparse_categorical_accuracy: 0.9755\n",
            "Epoch 9: sparse_categorical_accuracy did not improve from 0.97705\n",
            "567/567 [==============================] - 21s 37ms/step - loss: 0.0904 - sparse_categorical_accuracy: 0.9755 - lr: 2.0000e-05\n",
            "Epoch 10/50\n",
            "567/567 [==============================] - ETA: 0s - loss: 0.0904 - sparse_categorical_accuracy: 0.9764\n",
            "Epoch 10: sparse_categorical_accuracy did not improve from 0.97705\n",
            "567/567 [==============================] - 21s 37ms/step - loss: 0.0904 - sparse_categorical_accuracy: 0.9764 - lr: 2.0000e-05\n",
            "Epoch 11/50\n",
            "567/567 [==============================] - ETA: 0s - loss: 0.0910 - sparse_categorical_accuracy: 0.9754\n",
            "Epoch 11: sparse_categorical_accuracy did not improve from 0.97705\n",
            "567/567 [==============================] - 21s 37ms/step - loss: 0.0910 - sparse_categorical_accuracy: 0.9754 - lr: 2.0000e-05\n",
            "Epoch 12/50\n",
            "567/567 [==============================] - ETA: 0s - loss: 0.0853 - sparse_categorical_accuracy: 0.9738\n",
            "Epoch 12: sparse_categorical_accuracy did not improve from 0.97705\n",
            "567/567 [==============================] - 21s 36ms/step - loss: 0.0853 - sparse_categorical_accuracy: 0.9738 - lr: 1.0000e-05\n",
            "Epoch 13/50\n",
            "567/567 [==============================] - ETA: 0s - loss: 0.0917 - sparse_categorical_accuracy: 0.9753\n",
            "Epoch 13: sparse_categorical_accuracy did not improve from 0.97705\n",
            "567/567 [==============================] - 21s 37ms/step - loss: 0.0917 - sparse_categorical_accuracy: 0.9753 - lr: 1.0000e-05\n",
            "Epoch 14/50\n",
            "567/567 [==============================] - ETA: 0s - loss: 0.0841 - sparse_categorical_accuracy: 0.9764\n",
            "Epoch 14: sparse_categorical_accuracy did not improve from 0.97705\n",
            "567/567 [==============================] - 21s 37ms/step - loss: 0.0841 - sparse_categorical_accuracy: 0.9764 - lr: 1.0000e-05\n",
            "Epoch 15/50\n",
            "567/567 [==============================] - ETA: 0s - loss: 0.0827 - sparse_categorical_accuracy: 0.9769\n",
            "Epoch 15: sparse_categorical_accuracy did not improve from 0.97705\n",
            "567/567 [==============================] - 21s 37ms/step - loss: 0.0827 - sparse_categorical_accuracy: 0.9769 - lr: 1.0000e-05\n",
            "Epoch 16/50\n",
            "567/567 [==============================] - ETA: 0s - loss: 0.0859 - sparse_categorical_accuracy: 0.9766\n",
            "Epoch 16: sparse_categorical_accuracy did not improve from 0.97705\n",
            "567/567 [==============================] - 21s 37ms/step - loss: 0.0859 - sparse_categorical_accuracy: 0.9766 - lr: 1.0000e-05\n",
            "Epoch 17/50\n",
            "567/567 [==============================] - ETA: 0s - loss: 0.0926 - sparse_categorical_accuracy: 0.9752\n",
            "Epoch 17: sparse_categorical_accuracy did not improve from 0.97705\n",
            "567/567 [==============================] - 21s 37ms/step - loss: 0.0926 - sparse_categorical_accuracy: 0.9752 - lr: 1.0000e-05\n",
            "Epoch 18/50\n",
            "567/567 [==============================] - ETA: 0s - loss: 0.0848 - sparse_categorical_accuracy: 0.9761\n",
            "Epoch 18: sparse_categorical_accuracy did not improve from 0.97705\n",
            "567/567 [==============================] - 22s 38ms/step - loss: 0.0848 - sparse_categorical_accuracy: 0.9761 - lr: 1.0000e-05\n",
            "Epoch 18: early stopping\n"
          ]
        }
      ],
      "source": [
        "classifier = create_classifier(encoder, trainable=False)\n",
        "\n",
        "history = classifier.fit(x=x_train, y=y_train, batch_size=batch_size, epochs=50,callbacks=callbacks)"
      ]
    },
    {
      "cell_type": "code",
      "execution_count": null,
      "metadata": {
        "id": "wubug80UrsGF"
      },
      "outputs": [],
      "source": [
        "classifier.save(save_path + 'Contrastive_npair_VGG16.h5')\n",
        "#classifier.save_weights(save_path1 + \"Weights_Contrastive_npair_VGG16.h5\")"
      ]
    },
    {
      "cell_type": "code",
      "execution_count": null,
      "metadata": {
        "colab": {
          "base_uri": "https://localhost:8080/"
        },
        "id": "SoaCLSY8Fqfc",
        "outputId": "45a3ea6d-dc05-4ffe-f7a1-6452c8e43c3d"
      },
      "outputs": [
        {
          "output_type": "stream",
          "name": "stdout",
          "text": [
            "26/26 [==============================] - 1s 37ms/step - loss: 0.2404 - sparse_categorical_accuracy: 0.9729\n",
            "Test accuracy: 97.29%\n"
          ]
        }
      ],
      "source": [
        "accuracy = classifier.evaluate(x_test, y_test)[1]\n",
        "print(f\"Test accuracy: {round(accuracy * 100, 2)}%\")"
      ]
    },
    {
      "cell_type": "code",
      "execution_count": null,
      "metadata": {
        "colab": {
          "base_uri": "https://localhost:8080/"
        },
        "id": "F3fPhCLAFqfc",
        "outputId": "a7e2d94b-f789-4667-9292-d0be6fe7511f"
      },
      "outputs": [
        {
          "output_type": "stream",
          "name": "stdout",
          "text": [
            "26/26 [==============================] - 1s 36ms/step\n"
          ]
        }
      ],
      "source": [
        "y_predict = np.argmax(classifier.predict(x_test), axis=-1)"
      ]
    },
    {
      "cell_type": "code",
      "execution_count": null,
      "metadata": {
        "colab": {
          "base_uri": "https://localhost:8080/"
        },
        "id": "fnd6VpCdFqfc",
        "outputId": "bca3db3c-d4f3-4a33-9935-c6fb32b38044"
      },
      "outputs": [
        {
          "output_type": "execute_result",
          "data": {
            "text/plain": [
              "array([[160,   2,   0,   0,   1],\n",
              "       [  6, 155,   3,   0,   1],\n",
              "       [  1,   2, 154,   0,   2],\n",
              "       [  1,   0,   1, 156,   0],\n",
              "       [  0,   0,   2,   0, 165]])"
            ]
          },
          "metadata": {},
          "execution_count": 23
        }
      ],
      "source": [
        "confusion_matrix(y_test, y_predict)"
      ]
    },
    {
      "cell_type": "code",
      "execution_count": null,
      "metadata": {
        "colab": {
          "base_uri": "https://localhost:8080/",
          "height": 430
        },
        "id": "L7gIONaTFqfc",
        "outputId": "1fa1c7c7-3150-469d-a2d4-05fe9f1cab28"
      },
      "outputs": [
        {
          "output_type": "display_data",
          "data": {
            "text/plain": [
              "<Figure size 640x480 with 2 Axes>"
            ],
            "image/png": "[encoded data removed]"
          },
          "metadata": {}
        }
      ],
      "source": [
        "cm = confusion_matrix(y_test, y_predict)\n",
        "f = sns.heatmap(cm, annot=True)"
      ]
    },
    {
      "cell_type": "code",
      "execution_count": null,
      "metadata": {
        "colab": {
          "base_uri": "https://localhost:8080/"
        },
        "id": "jk1UplSXFqfd",
        "outputId": "b394de03-96c2-497f-f232-b032c118fb19"
      },
      "outputs": [
        {
          "output_type": "stream",
          "name": "stdout",
          "text": [
            "              precision    recall  f1-score   support\n",
            "\n",
            "           0       0.95      0.98      0.97       163\n",
            "           1       0.97      0.94      0.96       165\n",
            "           2       0.96      0.97      0.97       159\n",
            "           3       1.00      0.99      0.99       158\n",
            "           4       0.98      0.99      0.98       167\n",
            "\n",
            "    accuracy                           0.97       812\n",
            "   macro avg       0.97      0.97      0.97       812\n",
            "weighted avg       0.97      0.97      0.97       812\n",
            "\n"
          ]
        }
      ],
      "source": [
        "print(classification_report(y_test, y_predict))"
      ]
    },
    {
      "cell_type": "code",
      "execution_count": null,
      "metadata": {
        "id": "_F51VeA5LOYO"
      },
      "outputs": [],
      "source": [
        "classifier.save(save_path + 'Contrastive_npair_VGG16.h5')\n",
        "classifier.save_weights(save_path1 + \"Weights_Contrastive_npair_VGG16.h5\")"
      ]
    },
    {
      "cell_type": "code",
      "execution_count": null,
      "metadata": {
        "id": "hI2NnHiyLYLs"
      },
      "outputs": [],
      "source": [
        "npair_VGG16=load_model(save_path + 'Contrastive_npair_VGG16.h5')"
      ]
    },
    {
      "cell_type": "code",
      "execution_count": null,
      "metadata": {
        "colab": {
          "base_uri": "https://localhost:8080/"
        },
        "id": "RYzKptWRLekp",
        "outputId": "da44f328-3c24-42a4-bc76-3de611400efd"
      },
      "outputs": [
        {
          "output_type": "stream",
          "name": "stdout",
          "text": [
            "26/26 [==============================] - 1s 37ms/step - loss: 0.2404 - sparse_categorical_accuracy: 0.9729\n",
            "Test accuracy: 97.29%\n"
          ]
        }
      ],
      "source": [
        "accuracy = npair_VGG16.evaluate(x_test, y_test)[1]\n",
        "print(f\"Test accuracy: {round(accuracy * 100, 2)}%\")"
      ]
    },
    {
      "cell_type": "code",
      "execution_count": null,
      "metadata": {
        "colab": {
          "base_uri": "https://localhost:8080/",
          "height": 962
        },
        "id": "FcFHbLEALpLU",
        "outputId": "09fd34d1-e7ac-4448-9906-932448f2ea62"
      },
      "outputs": [
        {
          "output_type": "stream",
          "name": "stdout",
          "text": [
            "26/26 [==============================] - 1s 33ms/step\n"
          ]
        },
        {
          "output_type": "display_data",
          "data": {
            "text/plain": [
              "<Figure size 1200x1200 with 2 Axes>"
            ],
            "image/png": "[encoded data removed]"
          },
          "metadata": {}
        }
      ],
      "source": [
        "pred = npair_VGG16.predict(x_test)\n",
        "cancer_classes=np.unique(y_test)\n",
        "y_pred = np.argmax(pred, axis=1)\n",
        "confusion_mtx = confusion_matrix(y_pred, y_test)\n",
        "f,ax = plt.subplots(figsize=(12, 12))\n",
        "sns.heatmap(confusion_mtx, annot=True, \n",
        "            linewidths=0.01,\n",
        "            linecolor=\"white\", \n",
        "            fmt= '.1f',ax=ax,)\n",
        "sns.color_palette(\"rocket\", as_cmap=True)\n",
        "\n",
        "plt.xlabel(\"Predicted Label\")\n",
        "plt.ylabel(\"True Label\")\n",
        "ax.xaxis.set_ticklabels(cancer_classes)\n",
        "ax.yaxis.set_ticklabels(cancer_classes)\n",
        "plt.title(\"Confusion Matrix\")\n",
        "plt.show()"
      ]
    },
    {
      "cell_type": "code",
      "execution_count": null,
      "metadata": {
        "colab": {
          "base_uri": "https://localhost:8080/",
          "height": 300
        },
        "id": "EjiPrGDyLrO9",
        "outputId": "4341e3e1-01fd-4086-d056-72fc7606dd42"
      },
      "outputs": [
        {
          "output_type": "execute_result",
          "data": {
            "text/plain": [
              "              precision    recall  f1-score     support\n",
              "0              0.952381  0.981595  0.966767  163.000000\n",
              "1              0.974843  0.939394  0.956790  165.000000\n",
              "2              0.962500  0.968553  0.965517  159.000000\n",
              "3              1.000000  0.987342  0.993631  158.000000\n",
              "4              0.976331  0.988024  0.982143  167.000000\n",
              "accuracy       0.972906  0.972906  0.972906    0.972906\n",
              "macro avg      0.973211  0.972982  0.972970  812.000000\n",
              "weighted avg   0.973118  0.972906  0.972884  812.000000"
            ],
            "text/html": [
              "\n",
              "  <div id=\"df-6bc9c948-a3e4-43fb-95b7-dc394dac08fa\">\n",
              "    <div class=\"colab-df-container\">\n",
              "      <div>\n",
              "<style scoped>\n",
              "    .dataframe tbody tr th:only-of-type {\n",
              "        vertical-align: middle;\n",
              "    }\n",
              "\n",
              "    .dataframe tbody tr th {\n",
              "        vertical-align: top;\n",
              "    }\n",
              "\n",
              "    .dataframe thead th {\n",
              "        text-align: right;\n",
              "    }\n",
              "</style>\n",
              "<table border=\"1\" class=\"dataframe\">\n",
              "  <thead>\n",
              "    <tr style=\"text-align: right;\">\n",
              "      <th></th>\n",
              "      <th>precision</th>\n",
              "      <th>recall</th>\n",
              "      <th>f1-score</th>\n",
              "      <th>support</th>\n",
              "    </tr>\n",
              "  </thead>\n",
              "  <tbody>\n",
              "    <tr>\n",
              "      <th>0</th>\n",
              "      <td>0.952381</td>\n",
              "      <td>0.981595</td>\n",
              "      <td>0.966767</td>\n",
              "      <td>163.000000</td>\n",
              "    </tr>\n",
              "    <tr>\n",
              "      <th>1</th>\n",
              "      <td>0.974843</td>\n",
              "      <td>0.939394</td>\n",
              "      <td>0.956790</td>\n",
              "      <td>165.000000</td>\n",
              "    </tr>\n",
              "    <tr>\n",
              "      <th>2</th>\n",
              "      <td>0.962500</td>\n",
              "      <td>0.968553</td>\n",
              "      <td>0.965517</td>\n",
              "      <td>159.000000</td>\n",
              "    </tr>\n",
              "    <tr>\n",
              "      <th>3</th>\n",
              "      <td>1.000000</td>\n",
              "      <td>0.987342</td>\n",
              "      <td>0.993631</td>\n",
              "      <td>158.000000</td>\n",
              "    </tr>\n",
              "    <tr>\n",
              "      <th>4</th>\n",
              "      <td>0.976331</td>\n",
              "      <td>0.988024</td>\n",
              "      <td>0.982143</td>\n",
              "      <td>167.000000</td>\n",
              "    </tr>\n",
              "    <tr>\n",
              "      <th>accuracy</th>\n",
              "      <td>0.972906</td>\n",
              "      <td>0.972906</td>\n",
              "      <td>0.972906</td>\n",
              "      <td>0.972906</td>\n",
              "    </tr>\n",
              "    <tr>\n",
              "      <th>macro avg</th>\n",
              "      <td>0.973211</td>\n",
              "      <td>0.972982</td>\n",
              "      <td>0.972970</td>\n",
              "      <td>812.000000</td>\n",
              "    </tr>\n",
              "    <tr>\n",
              "      <th>weighted avg</th>\n",
              "      <td>0.973118</td>\n",
              "      <td>0.972906</td>\n",
              "      <td>0.972884</td>\n",
              "      <td>812.000000</td>\n",
              "    </tr>\n",
              "  </tbody>\n",
              "</table>\n",
              "</div>\n",
              "      <button class=\"colab-df-convert\" onclick=\"convertToInteractive('df-6bc9c948-a3e4-43fb-95b7-dc394dac08fa')\"\n",
              "              title=\"Convert this dataframe to an interactive table.\"\n",
              "              style=\"display:none;\">\n",
              "        \n",
              "  <svg xmlns=\"http://www.w3.org/2000/svg\" height=\"24px\"viewBox=\"0 0 24 24\"\n",
              "       width=\"24px\">\n",
              "    <path d=\"M0 0h24v24H0V0z\" fill=\"none\"/>\n",
              "    <path d=\"M18.56 5.44l.94 2.06.94-2.06 2.06-.94-2.06-.94-.94-2.06-.94 2.06-2.06.94zm-11 1L8.5 8.5l.94-2.06 2.06-.94-2.06-.94L8.5 2.5l-.94 2.06-2.06.94zm10 10l.94 2.06.94-2.06 2.06-.94-2.06-.94-.94-2.06-.94 2.06-2.06.94z\"/><path d=\"M17.41 7.96l-1.37-1.37c-.4-.4-.92-.59-1.43-.59-.52 0-1.04.2-1.43.59L10.3 9.45l-7.72 7.72c-.78.78-.78 2.05 0 2.83L4 21.41c.39.39.9.59 1.41.59.51 0 1.02-.2 1.41-.59l7.78-7.78 2.81-2.81c.8-.78.8-2.07 0-2.86zM5.41 20L4 18.59l7.72-7.72 1.47 1.35L5.41 20z\"/>\n",
              "  </svg>\n",
              "      </button>\n",
              "      \n",
              "  <style>\n",
              "    .colab-df-container {\n",
              "      display:flex;\n",
              "      flex-wrap:wrap;\n",
              "      gap: 12px;\n",
              "    }\n",
              "\n",
              "    .colab-df-convert {\n",
              "      background-color: #E8F0FE;\n",
              "      border: none;\n",
              "      border-radius: 50%;\n",
              "      cursor: pointer;\n",
              "      display: none;\n",
              "      fill: #1967D2;\n",
              "      height: 32px;\n",
              "      padding: 0 0 0 0;\n",
              "      width: 32px;\n",
              "    }\n",
              "\n",
              "    .colab-df-convert:hover {\n",
              "      background-color: #E2EBFA;\n",
              "      box-shadow: 0px 1px 2px rgba(60, 64, 67, 0.3), 0px 1px 3px 1px rgba(60, 64, 67, 0.15);\n",
              "      fill: #174EA6;\n",
              "    }\n",
              "\n",
              "    [theme=dark] .colab-df-convert {\n",
              "      background-color: #3B4455;\n",
              "      fill: #D2E3FC;\n",
              "    }\n",
              "\n",
              "    [theme=dark] .colab-df-convert:hover {\n",
              "      background-color: #434B5C;\n",
              "      box-shadow: 0px 1px 3px 1px rgba(0, 0, 0, 0.15);\n",
              "      filter: drop-shadow(0px 1px 2px rgba(0, 0, 0, 0.3));\n",
              "      fill: #FFFFFF;\n",
              "    }\n",
              "  </style>\n",
              "\n",
              "      <script>\n",
              "        const buttonEl =\n",
              "          document.querySelector('#df-6bc9c948-a3e4-43fb-95b7-dc394dac08fa button.colab-df-convert');\n",
              "        buttonEl.style.display =\n",
              "          google.colab.kernel.accessAllowed ? 'block' : 'none';\n",
              "\n",
              "        async function convertToInteractive(key) {\n",
              "          const element = document.querySelector('#df-6bc9c948-a3e4-43fb-95b7-dc394dac08fa');\n",
              "          const dataTable =\n",
              "            await google.colab.kernel.invokeFunction('convertToInteractive',\n",
              "                                                     [key], {});\n",
              "          if (!dataTable) return;\n",
              "\n",
              "          const docLinkHtml = 'Like what you see? Visit the ' +\n",
              "            '<a target=\"_blank\" href=https://colab.research.google.com/notebooks/data_table.ipynb>data table notebook</a>'\n",
              "            + ' to learn more about interactive tables.';\n",
              "          element.innerHTML = '';\n",
              "          dataTable['output_type'] = 'display_data';\n",
              "          await google.colab.output.renderOutput(dataTable, element);\n",
              "          const docLink = document.createElement('div');\n",
              "          docLink.innerHTML = docLinkHtml;\n",
              "          element.appendChild(docLink);\n",
              "        }\n",
              "      </script>\n",
              "    </div>\n",
              "  </div>\n",
              "  "
            ]
          },
          "metadata": {},
          "execution_count": 29
        }
      ],
      "source": [
        "report_npair = classification_report(y_test, y_pred, target_names=cancer_classes, output_dict=True)\n",
        "df2 = pd.DataFrame(report_npair).transpose()\n",
        "df2"
      ]
    }
  ],
  "metadata": {
    "accelerator": "GPU",
    "colab": {
      "machine_shape": "hm",
      "provenance": []
    },
    "gpuClass": "standard",
    "kernelspec": {
      "display_name": "Python 3",
      "language": "python",
      "name": "python3"
    },
    "language_info": {
      "codemirror_mode": {
        "name": "ipython",
        "version": 3
      },
      "file_extension": ".py",
      "mimetype": "text/x-python",
      "name": "python",
      "nbconvert_exporter": "python",
      "pygments_lexer": "ipython3",
      "version": "3.10.10"
    }
  },
  "nbformat": 4,
  "nbformat_minor": 0
}